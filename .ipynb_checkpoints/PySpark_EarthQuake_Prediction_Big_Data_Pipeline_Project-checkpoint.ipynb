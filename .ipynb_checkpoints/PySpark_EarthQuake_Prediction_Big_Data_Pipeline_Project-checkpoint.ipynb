{
 "cells": [
  {
   "cell_type": "code",
   "execution_count": 1,
   "id": "2973b363",
   "metadata": {},
   "outputs": [],
   "source": [
    "import findspark\n",
    "findspark.init()"
   ]
  },
  {
   "cell_type": "code",
   "execution_count": 2,
   "id": "71697807",
   "metadata": {},
   "outputs": [],
   "source": [
    "import pyspark\n",
    "from pyspark.sql import SparkSession\n",
    "from pyspark.sql.types import *\n",
    "from pyspark.sql.functions import *\n",
    "\n",
    "# configure spark session\n",
    "spark = SparkSession\\\n",
    "        .builder\\\n",
    "        .master('local[2]')\\\n",
    "        .appName('quake_etl')\\\n",
    "        .config('spark.jars.packages','org.mongodb.spark:mongo-spark-connector_2.12:2.4.1')\\\n",
    "        .getOrCreate()"
   ]
  },
  {
   "cell_type": "code",
   "execution_count": 3,
   "id": "11d34751",
   "metadata": {},
   "outputs": [],
   "source": [
    "# spark = SparkSession.builder.getOrCreate()\n",
    "\n",
    "# df = spark.sql(\"select 'spark' as hello \")\n",
    "# df.show()"
   ]
  },
  {
   "cell_type": "markdown",
   "id": "4a42e854",
   "metadata": {},
   "source": [
    "Data Extraction"
   ]
  },
  {
   "cell_type": "code",
   "execution_count": 4,
   "id": "9b36ef9a",
   "metadata": {},
   "outputs": [
    {
     "data": {
      "text/plain": [
       "[Row(Date='01/02/1965', Time='13:44:18', Latitude='19.246', Longitude='145.616', Type='Earthquake', Depth='131.6', Depth Error=None, Depth Seismic Stations=None, Magnitude='6', Magnitude Type='MW', Magnitude Error=None, Magnitude Seismic Stations=None, Azimuthal Gap=None, Horizontal Distance=None, Horizontal Error=None, Root Mean Square=None, ID='ISCGEM860706', Source='ISCGEM', Location Source='ISCGEM', Magnitude Source='ISCGEM', Status='Automatic')]"
      ]
     },
     "execution_count": 4,
     "metadata": {},
     "output_type": "execute_result"
    }
   ],
   "source": [
    "#load the dataset\n",
    "df_load = spark.read.csv(r\"C:\\Users\\Shashank\\Documents\\My_Jupyter_Notebooks\\database.csv\",header=True)\n",
    "#preview df_load\n",
    "df_load.take(1)"
   ]
  },
  {
   "cell_type": "code",
   "execution_count": 5,
   "id": "ae34ac84",
   "metadata": {},
   "outputs": [
    {
     "name": "stdout",
     "output_type": "stream",
     "text": [
      "+----------+--------+---------+----------+-----+---------+--------------+--------------------+\n",
      "|      Date|Latitude|Longitude|      Type|Depth|Magnitude|Magnitude Type|                  ID|\n",
      "+----------+--------+---------+----------+-----+---------+--------------+--------------------+\n",
      "|01/02/1965|  19.246|  145.616|Earthquake|131.6|        6|            MW|        ISCGEM860706|\n",
      "|01/04/1965|   1.863|  127.352|Earthquake|   80|      5.8|            MW|        ISCGEM860737|\n",
      "|01/05/1965| -20.579| -173.972|Earthquake|   20|      6.2|            MW|        ISCGEM860762|\n",
      "|01/08/1965| -59.076|  -23.557|Earthquake|   15|      5.8|            MW|        ISCGEM860856|\n",
      "|01/09/1965|  11.938|  126.427|Earthquake|   15|      5.8|            MW|        ISCGEM860890|\n",
      "|01/10/1965| -13.405|  166.629|Earthquake|   35|      6.7|            MW|        ISCGEM860922|\n",
      "|01/12/1965|  27.357|   87.867|Earthquake|   20|      5.9|            MW|        ISCGEM861007|\n",
      "|01/15/1965| -13.309|  166.212|Earthquake|   35|        6|            MW|        ISCGEM861111|\n",
      "|01/16/1965| -56.452|  -27.043|Earthquake|   95|        6|            MW|     ISCGEMSUP861125|\n",
      "|01/17/1965| -24.563|  178.487|Earthquake|  565|      5.8|            MW|        ISCGEM861148|\n",
      "|01/17/1965|  -6.807|  108.988|Earthquake|227.9|      5.9|            MW|        ISCGEM861155|\n",
      "|01/24/1965|  -2.608|  125.952|Earthquake|   20|      8.2|            MW|        ISCGEM861299|\n",
      "|01/29/1965|  54.636|  161.703|Earthquake|   55|      5.5|            MW|        ISCGEM861461|\n",
      "|02/01/1965| -18.697| -177.864|Earthquake|482.9|      5.6|            MW|        ISCGEM859136|\n",
      "|02/02/1965|  37.523|   73.251|Earthquake|   15|        6|            MW|        ISCGEM859164|\n",
      "|02/04/1965|  -51.84|  139.741|Earthquake|   10|      6.1|            MW|        ISCGEM859200|\n",
      "|02/04/1965|  51.251|  178.715|Earthquake| 30.3|      8.7|            MW|OFFICIAL196502040...|\n",
      "|02/04/1965|  51.639|  175.055|Earthquake|   30|        6|            MW|     ISCGEMSUP859215|\n",
      "|02/04/1965|  52.528|  172.007|Earthquake|   25|      5.7|            MW|        ISCGEM859221|\n",
      "|02/04/1965|  51.626|  175.746|Earthquake|   25|      5.8|            MW|        ISCGEM859222|\n",
      "+----------+--------+---------+----------+-----+---------+--------------+--------------------+\n",
      "only showing top 20 rows\n",
      "\n"
     ]
    }
   ],
   "source": [
    "#drop fields we don't need from df_load\n",
    "lst_dropped_columns = ['Depth Error', 'Time', 'Depth Seismic Stations','Magnitude Error','Magnitude Seismic Stations','Azimuthal Gap', 'Horizontal Distance','Horizontal Error',\n",
    "    'Root Mean Square','Source','Location Source','Magnitude Source','Status']\n",
    "\n",
    "df_load = df_load.drop(*lst_dropped_columns)\n",
    "#preview of df_load\n",
    "df_load.show()"
   ]
  },
  {
   "cell_type": "code",
   "execution_count": 6,
   "id": "9ea380d7",
   "metadata": {},
   "outputs": [
    {
     "name": "stdout",
     "output_type": "stream",
     "text": [
      "+----------+--------+---------+----------+-----+---------+--------------+------------+----+\n",
      "|      Date|Latitude|Longitude|      Type|Depth|Magnitude|Magnitude Type|          ID|Year|\n",
      "+----------+--------+---------+----------+-----+---------+--------------+------------+----+\n",
      "|01/02/1965|  19.246|  145.616|Earthquake|131.6|        6|            MW|ISCGEM860706|1965|\n",
      "|01/04/1965|   1.863|  127.352|Earthquake|   80|      5.8|            MW|ISCGEM860737|1965|\n",
      "|01/05/1965| -20.579| -173.972|Earthquake|   20|      6.2|            MW|ISCGEM860762|1965|\n",
      "|01/08/1965| -59.076|  -23.557|Earthquake|   15|      5.8|            MW|ISCGEM860856|1965|\n",
      "|01/09/1965|  11.938|  126.427|Earthquake|   15|      5.8|            MW|ISCGEM860890|1965|\n",
      "+----------+--------+---------+----------+-----+---------+--------------+------------+----+\n",
      "only showing top 5 rows\n",
      "\n"
     ]
    }
   ],
   "source": [
    "# Create a year field and add it to the dataframe\n",
    "df_load = df_load.withColumn('Year',year(to_timestamp('Date','dd/MM/yyyy')))\n",
    "# Preview df_load\n",
    "df_load.show(5)"
   ]
  },
  {
   "cell_type": "code",
   "execution_count": 7,
   "id": "94d27ce1",
   "metadata": {},
   "outputs": [
    {
     "name": "stdout",
     "output_type": "stream",
     "text": [
      "+----+------+\n",
      "|Year|Counts|\n",
      "+----+------+\n",
      "|1990|   196|\n",
      "|1975|   150|\n",
      "|1977|   148|\n",
      "|2003|   187|\n",
      "|2007|   211|\n",
      "+----+------+\n",
      "only showing top 5 rows\n",
      "\n"
     ]
    }
   ],
   "source": [
    "# Build the quakes frequency dataframe using the year field and counts for each year\n",
    "df_quake_freq = df_load.groupBy('Year').count().withColumnRenamed('count', 'Counts')\n",
    "# Preview df_quake_freq\n",
    "df_quake_freq.show(5)"
   ]
  },
  {
   "cell_type": "markdown",
   "id": "0bb6b793",
   "metadata": {},
   "source": [
    "Data Transformation"
   ]
  },
  {
   "cell_type": "code",
   "execution_count": 8,
   "id": "634e7c9e",
   "metadata": {},
   "outputs": [
    {
     "name": "stdout",
     "output_type": "stream",
     "text": [
      "root\n",
      " |-- Date: string (nullable = true)\n",
      " |-- Latitude: string (nullable = true)\n",
      " |-- Longitude: string (nullable = true)\n",
      " |-- Type: string (nullable = true)\n",
      " |-- Depth: string (nullable = true)\n",
      " |-- Magnitude: string (nullable = true)\n",
      " |-- Magnitude Type: string (nullable = true)\n",
      " |-- ID: string (nullable = true)\n",
      " |-- Year: integer (nullable = true)\n",
      "\n"
     ]
    }
   ],
   "source": [
    "# Preview df_load schema\n",
    "df_load.printSchema()"
   ]
  },
  {
   "cell_type": "code",
   "execution_count": 9,
   "id": "cc10b4ed",
   "metadata": {},
   "outputs": [
    {
     "name": "stdout",
     "output_type": "stream",
     "text": [
      "+----------+--------+---------+----------+-----+---------+--------------+------------+----+\n",
      "|      Date|Latitude|Longitude|      Type|Depth|Magnitude|Magnitude Type|          ID|Year|\n",
      "+----------+--------+---------+----------+-----+---------+--------------+------------+----+\n",
      "|01/02/1965|  19.246|  145.616|Earthquake|131.6|      6.0|            MW|ISCGEM860706|1965|\n",
      "|01/04/1965|   1.863|  127.352|Earthquake| 80.0|      5.8|            MW|ISCGEM860737|1965|\n",
      "|01/05/1965| -20.579| -173.972|Earthquake| 20.0|      6.2|            MW|ISCGEM860762|1965|\n",
      "|01/08/1965| -59.076|  -23.557|Earthquake| 15.0|      5.8|            MW|ISCGEM860856|1965|\n",
      "|01/09/1965|  11.938|  126.427|Earthquake| 15.0|      5.8|            MW|ISCGEM860890|1965|\n",
      "+----------+--------+---------+----------+-----+---------+--------------+------------+----+\n",
      "only showing top 5 rows\n",
      "\n"
     ]
    }
   ],
   "source": [
    "# Cast some fields from string into numeric types\n",
    "df_load = df_load.withColumn('Latitude', df_load['Latitude'].cast(DoubleType()))\\\n",
    "    .withColumn('Longitude', df_load['Longitude'].cast(DoubleType()))\\\n",
    "    .withColumn('Depth', df_load['Depth'].cast(DoubleType()))\\\n",
    "    .withColumn('Magnitude', df_load['Magnitude'].cast(DoubleType()))\n",
    "\n",
    "# Preview df_load\n",
    "df_load.show(5)"
   ]
  },
  {
   "cell_type": "code",
   "execution_count": 10,
   "id": "e7636401",
   "metadata": {},
   "outputs": [
    {
     "name": "stdout",
     "output_type": "stream",
     "text": [
      "root\n",
      " |-- Date: string (nullable = true)\n",
      " |-- Latitude: double (nullable = true)\n",
      " |-- Longitude: double (nullable = true)\n",
      " |-- Type: string (nullable = true)\n",
      " |-- Depth: double (nullable = true)\n",
      " |-- Magnitude: double (nullable = true)\n",
      " |-- Magnitude Type: string (nullable = true)\n",
      " |-- ID: string (nullable = true)\n",
      " |-- Year: integer (nullable = true)\n",
      "\n"
     ]
    }
   ],
   "source": [
    "# Preview df_load schema\n",
    "df_load.printSchema()"
   ]
  },
  {
   "cell_type": "code",
   "execution_count": 11,
   "id": "359fc2d3",
   "metadata": {},
   "outputs": [],
   "source": [
    "# Create avg magnitude and max magnitude fields and add to df_quake_freq\n",
    "df_max = df_load.groupBy('Year').max('Magnitude').withColumnRenamed('max(Magnitude)', 'Max_Magnitude')\n",
    "df_avg = df_load.groupBy('Year').avg('Magnitude').withColumnRenamed('avg(Magnitude)', 'Avg_Magnitude')"
   ]
  },
  {
   "cell_type": "code",
   "execution_count": 12,
   "id": "41df66aa",
   "metadata": {},
   "outputs": [
    {
     "name": "stdout",
     "output_type": "stream",
     "text": [
      "+----+------+-----------------+-------------+\n",
      "|Year|Counts|    Avg_Magnitude|Max_Magnitude|\n",
      "+----+------+-----------------+-------------+\n",
      "|1990|   196|5.858163265306125|          7.6|\n",
      "|1975|   150| 5.84866666666667|          7.8|\n",
      "|1977|   148|5.757432432432437|          7.6|\n",
      "|2003|   187|5.850802139037435|          7.6|\n",
      "|2007|   211| 5.89099526066351|          8.4|\n",
      "+----+------+-----------------+-------------+\n",
      "only showing top 5 rows\n",
      "\n"
     ]
    }
   ],
   "source": [
    "# Join df_max, and df_avg dataframes to create a complete df_quake_freq dataframe\n",
    "df_quake_freq = df_quake_freq.join(df_avg, ['Year']).join(df_max, ['Year'])\n",
    "# Preview df_quake_freq\n",
    "df_quake_freq.show(5)"
   ]
  },
  {
   "cell_type": "code",
   "execution_count": 13,
   "id": "cae75410",
   "metadata": {},
   "outputs": [
    {
     "data": {
      "text/plain": [
       "DataFrame[Year: int, Counts: bigint, Avg_Magnitude: double, Max_Magnitude: double]"
      ]
     },
     "execution_count": 13,
     "metadata": {},
     "output_type": "execute_result"
    }
   ],
   "source": [
    "# Remove all the null values\n",
    "df_load.dropna()\n",
    "df_quake_freq.dropna()"
   ]
  },
  {
   "cell_type": "code",
   "execution_count": 14,
   "id": "222fd3fe",
   "metadata": {},
   "outputs": [
    {
     "name": "stdout",
     "output_type": "stream",
     "text": [
      "+----------+--------+---------+----------+-----+---------+--------------+------------+----+\n",
      "|      Date|Latitude|Longitude|      Type|Depth|Magnitude|Magnitude Type|          ID|Year|\n",
      "+----------+--------+---------+----------+-----+---------+--------------+------------+----+\n",
      "|01/02/1965|  19.246|  145.616|Earthquake|131.6|      6.0|            MW|ISCGEM860706|1965|\n",
      "|01/04/1965|   1.863|  127.352|Earthquake| 80.0|      5.8|            MW|ISCGEM860737|1965|\n",
      "|01/05/1965| -20.579| -173.972|Earthquake| 20.0|      6.2|            MW|ISCGEM860762|1965|\n",
      "|01/08/1965| -59.076|  -23.557|Earthquake| 15.0|      5.8|            MW|ISCGEM860856|1965|\n",
      "|01/09/1965|  11.938|  126.427|Earthquake| 15.0|      5.8|            MW|ISCGEM860890|1965|\n",
      "+----------+--------+---------+----------+-----+---------+--------------+------------+----+\n",
      "only showing top 5 rows\n",
      "\n"
     ]
    }
   ],
   "source": [
    "# Preview dataframes after removing the null values\n",
    "df_load.show(5)"
   ]
  },
  {
   "cell_type": "code",
   "execution_count": 15,
   "id": "da5926b2",
   "metadata": {},
   "outputs": [
    {
     "name": "stdout",
     "output_type": "stream",
     "text": [
      "+----+------+-----------------+-------------+\n",
      "|Year|Counts|    Avg_Magnitude|Max_Magnitude|\n",
      "+----+------+-----------------+-------------+\n",
      "|1990|   196|5.858163265306125|          7.6|\n",
      "|1975|   150| 5.84866666666667|          7.8|\n",
      "|1977|   148|5.757432432432437|          7.6|\n",
      "|2003|   187|5.850802139037435|          7.6|\n",
      "|2007|   211| 5.89099526066351|          8.4|\n",
      "+----+------+-----------------+-------------+\n",
      "only showing top 5 rows\n",
      "\n"
     ]
    }
   ],
   "source": [
    "df_quake_freq.show(5)"
   ]
  },
  {
   "cell_type": "code",
   "execution_count": 16,
   "id": "2002f10c",
   "metadata": {},
   "outputs": [
    {
     "name": "stdout",
     "output_type": "stream",
     "text": [
      "+----------+--------+---------+----------+-----+---------+--------------+------------+----+\n",
      "|      Date|Latitude|Longitude|      Type|Depth|Magnitude|Magnitude Type|          ID|Year|\n",
      "+----------+--------+---------+----------+-----+---------+--------------+------------+----+\n",
      "|01/02/1965|  19.246|  145.616|Earthquake|131.6|      6.0|            MW|ISCGEM860706|1965|\n",
      "|01/04/1965|   1.863|  127.352|Earthquake| 80.0|      5.8|            MW|ISCGEM860737|1965|\n",
      "|01/05/1965| -20.579| -173.972|Earthquake| 20.0|      6.2|            MW|ISCGEM860762|1965|\n",
      "|01/08/1965| -59.076|  -23.557|Earthquake| 15.0|      5.8|            MW|ISCGEM860856|1965|\n",
      "|01/09/1965|  11.938|  126.427|Earthquake| 15.0|      5.8|            MW|ISCGEM860890|1965|\n",
      "+----------+--------+---------+----------+-----+---------+--------------+------------+----+\n",
      "only showing top 5 rows\n",
      "\n"
     ]
    }
   ],
   "source": [
    "#preview dataframes\n",
    "df_load.show(5)"
   ]
  },
  {
   "cell_type": "code",
   "execution_count": 17,
   "id": "0c8f0385",
   "metadata": {},
   "outputs": [],
   "source": [
    "# Build the tables/collections in mongodb\n",
    "# Write df_load to mongodb\n",
    "df_load.write.format('mongo')\\\n",
    "    .mode('overwrite')\\\n",
    "    .option('spark.mongodb.output.uri', 'mongodb://127.0.0.1:27017/Quake.quakes').save()"
   ]
  },
  {
   "cell_type": "code",
   "execution_count": 18,
   "id": "03f223ae",
   "metadata": {},
   "outputs": [],
   "source": [
    "# Write df_quake_freq to mongodb\n",
    "df_quake_freq.write.format('mongo')\\\n",
    "    .mode('overwrite')\\\n",
    "    .option('spark.mongodb.output.uri', 'mongodb://127.0.0.1:27017/Quake.quake_freq').save()"
   ]
  },
  {
   "cell_type": "markdown",
   "id": "636e5ab1",
   "metadata": {},
   "source": [
    "# \"\"\"Section: Machine Learning with Spark\"\"\""
   ]
  },
  {
   "cell_type": "markdown",
   "id": "cbb6dfed",
   "metadata": {},
   "source": [
    "Data Preprocessing"
   ]
  },
  {
   "cell_type": "code",
   "execution_count": 19,
   "id": "1286dd55",
   "metadata": {},
   "outputs": [
    {
     "data": {
      "text/plain": [
       "[Row(time='2017-01-02T00:13:06.300Z', latitude='-36.0365', longitude='51.9288', depth='10', mag='5.7', magType='mwb', nst=None, gap='26', dmin='14.685', rms='1.37', net='us', id='us10007p5d', updated='2017-03-27T23:53:17.040Z', place='Southwest Indian Ridge', type='earthquake', horizontalError='10.3', depthError='1.7', magError='0.068', magNst='21', status='reviewed', locationSource='us', magSource='us')]"
      ]
     },
     "execution_count": 19,
     "metadata": {},
     "output_type": "execute_result"
    }
   ],
   "source": [
    "# Load the test data file into a dataframe\n",
    "df_test = spark.read.csv(r\"query.csv\", header=True)\n",
    "# Preview df_test\n",
    "df_test.take(1)"
   ]
  },
  {
   "cell_type": "code",
   "execution_count": 20,
   "id": "413efc1b",
   "metadata": {},
   "outputs": [
    {
     "name": "stdout",
     "output_type": "stream",
     "text": [
      "+----------+-----+------------+--------+---------+---------+--------------+----------+----+--------------------+\n",
      "|      Date|Depth|          ID|Latitude|Longitude|Magnitude|Magnitude Type|      Type|Year|                 _id|\n",
      "+----------+-----+------------+--------+---------+---------+--------------+----------+----+--------------------+\n",
      "|01/02/1965|131.6|ISCGEM860706|  19.246|  145.616|      6.0|            MW|Earthquake|1965|{65214a8b56c72d49...|\n",
      "|01/04/1965| 80.0|ISCGEM860737|   1.863|  127.352|      5.8|            MW|Earthquake|1965|{65214a8b56c72d49...|\n",
      "|01/05/1965| 20.0|ISCGEM860762| -20.579| -173.972|      6.2|            MW|Earthquake|1965|{65214a8b56c72d49...|\n",
      "|01/08/1965| 15.0|ISCGEM860856| -59.076|  -23.557|      5.8|            MW|Earthquake|1965|{65214a8b56c72d49...|\n",
      "|01/09/1965| 15.0|ISCGEM860890|  11.938|  126.427|      5.8|            MW|Earthquake|1965|{65214a8b56c72d49...|\n",
      "+----------+-----+------------+--------+---------+---------+--------------+----------+----+--------------------+\n",
      "only showing top 5 rows\n",
      "\n"
     ]
    }
   ],
   "source": [
    "# Load the training data from mongodb into a dataframe\n",
    "df_train = spark.read.format('mongo')\\\n",
    "    .option('spark.mongodb.input.uri', 'mongodb://127.0.0.1:27017/Quake.quakes').load()\n",
    "\n",
    "# Preview df_train\n",
    "df_train.show(5)"
   ]
  },
  {
   "cell_type": "code",
   "execution_count": 21,
   "id": "982cd6b9",
   "metadata": {},
   "outputs": [
    {
     "name": "stdout",
     "output_type": "stream",
     "text": [
      "+--------------------+--------+---------+---+------+\n",
      "|                time|latitude|longitude|mag| depth|\n",
      "+--------------------+--------+---------+---+------+\n",
      "|2017-01-02T00:13:...|-36.0365|  51.9288|5.7|    10|\n",
      "|2017-01-02T13:13:...|  -4.895| -76.3675|5.9|   106|\n",
      "|2017-01-02T13:14:...|-23.2513| 179.2383|6.3|551.62|\n",
      "|2017-01-03T09:09:...| 24.0151|  92.0177|5.7|    32|\n",
      "|2017-01-03T21:19:...|-43.3527| -74.5017|5.5| 10.26|\n",
      "+--------------------+--------+---------+---+------+\n",
      "only showing top 5 rows\n",
      "\n"
     ]
    }
   ],
   "source": [
    "# For test data: Select fields that we will use and discard fields we don't need\n",
    "df_test_clean = df_test['time', 'latitude', 'longitude', 'mag', 'depth']\n",
    "# Preview df_test_clean\n",
    "df_test_clean.show(5)"
   ]
  },
  {
   "cell_type": "code",
   "execution_count": 22,
   "id": "b0ecd60c",
   "metadata": {},
   "outputs": [
    {
     "name": "stdout",
     "output_type": "stream",
     "text": [
      "+--------------------+--------+---------+---------+------+\n",
      "|                Date|Latitude|Longitude|Magnitude| Depth|\n",
      "+--------------------+--------+---------+---------+------+\n",
      "|2017-01-02T00:13:...|-36.0365|  51.9288|      5.7|    10|\n",
      "|2017-01-02T13:13:...|  -4.895| -76.3675|      5.9|   106|\n",
      "|2017-01-02T13:14:...|-23.2513| 179.2383|      6.3|551.62|\n",
      "|2017-01-03T09:09:...| 24.0151|  92.0177|      5.7|    32|\n",
      "|2017-01-03T21:19:...|-43.3527| -74.5017|      5.5| 10.26|\n",
      "+--------------------+--------+---------+---------+------+\n",
      "only showing top 5 rows\n",
      "\n"
     ]
    }
   ],
   "source": [
    "# Rename fields of df_test data to match the names with those in df_train_data\n",
    "df_test_clean = df_test_clean.withColumnRenamed('time', 'Date')\\\n",
    "    .withColumnRenamed('latitude', 'Latitude')\\\n",
    "    .withColumnRenamed('longitude', 'Longitude')\\\n",
    "    .withColumnRenamed('mag', 'Magnitude')\\\n",
    "    .withColumnRenamed('depth', 'Depth')\n",
    "\n",
    "# Preview df_test_clean\n",
    "df_test_clean.show(5)"
   ]
  },
  {
   "cell_type": "code",
   "execution_count": 23,
   "id": "22b7ba14",
   "metadata": {},
   "outputs": [
    {
     "name": "stdout",
     "output_type": "stream",
     "text": [
      "root\n",
      " |-- Date: string (nullable = true)\n",
      " |-- Latitude: string (nullable = true)\n",
      " |-- Longitude: string (nullable = true)\n",
      " |-- Magnitude: string (nullable = true)\n",
      " |-- Depth: string (nullable = true)\n",
      "\n"
     ]
    }
   ],
   "source": [
    "# Preview Schema\n",
    "df_test_clean.printSchema()"
   ]
  },
  {
   "cell_type": "code",
   "execution_count": 24,
   "id": "36dab4f5",
   "metadata": {},
   "outputs": [],
   "source": [
    "# Cast some string fields into numeric fields in df_test_clean data\n",
    "df_test_clean = df_test_clean.withColumn('Latitude', df_test_clean['Latitude'].cast(DoubleType()))\\\n",
    "    .withColumn('Longitude', df_test_clean['Longitude'].cast(DoubleType()))\\\n",
    "    .withColumn('Depth', df_test_clean['Depth'].cast(DoubleType()))\\\n",
    "    .withColumn('Magnitude', df_test_clean['Magnitude'].cast(DoubleType()))"
   ]
  },
  {
   "cell_type": "code",
   "execution_count": 25,
   "id": "da5c60ec",
   "metadata": {},
   "outputs": [
    {
     "name": "stdout",
     "output_type": "stream",
     "text": [
      "root\n",
      " |-- Date: string (nullable = true)\n",
      " |-- Latitude: double (nullable = true)\n",
      " |-- Longitude: double (nullable = true)\n",
      " |-- Magnitude: double (nullable = true)\n",
      " |-- Depth: double (nullable = true)\n",
      "\n"
     ]
    }
   ],
   "source": [
    "df_test_clean.printSchema()"
   ]
  },
  {
   "cell_type": "code",
   "execution_count": 26,
   "id": "55cb23bd",
   "metadata": {},
   "outputs": [],
   "source": [
    "# Create training and testing dataframes\n",
    "df_testing = df_test_clean['Latitude', 'Longitude', 'Magnitude', 'Depth']\n",
    "df_training = df_train['Latitude', 'Longitude', 'Magnitude', 'Depth']"
   ]
  },
  {
   "cell_type": "code",
   "execution_count": 27,
   "id": "b9cc9630",
   "metadata": {},
   "outputs": [
    {
     "name": "stdout",
     "output_type": "stream",
     "text": [
      "+--------+---------+---------+-----+\n",
      "|Latitude|Longitude|Magnitude|Depth|\n",
      "+--------+---------+---------+-----+\n",
      "|  19.246|  145.616|      6.0|131.6|\n",
      "|   1.863|  127.352|      5.8| 80.0|\n",
      "| -20.579| -173.972|      6.2| 20.0|\n",
      "| -59.076|  -23.557|      5.8| 15.0|\n",
      "|  11.938|  126.427|      5.8| 15.0|\n",
      "+--------+---------+---------+-----+\n",
      "only showing top 5 rows\n",
      "\n"
     ]
    }
   ],
   "source": [
    "# Preview df_training data\n",
    "df_training.show(5)"
   ]
  },
  {
   "cell_type": "code",
   "execution_count": 28,
   "id": "aef37cc3",
   "metadata": {},
   "outputs": [
    {
     "name": "stdout",
     "output_type": "stream",
     "text": [
      "+--------+---------+---------+------+\n",
      "|Latitude|Longitude|Magnitude| Depth|\n",
      "+--------+---------+---------+------+\n",
      "|-36.0365|  51.9288|      5.7|  10.0|\n",
      "|  -4.895| -76.3675|      5.9| 106.0|\n",
      "|-23.2513| 179.2383|      6.3|551.62|\n",
      "| 24.0151|  92.0177|      5.7|  32.0|\n",
      "|-43.3527| -74.5017|      5.5| 10.26|\n",
      "+--------+---------+---------+------+\n",
      "only showing top 5 rows\n",
      "\n"
     ]
    }
   ],
   "source": [
    "# Preview df_testing data\n",
    "df_testing.show(5)"
   ]
  },
  {
   "cell_type": "code",
   "execution_count": 29,
   "id": "0e51b3eb",
   "metadata": {},
   "outputs": [],
   "source": [
    "# Drop records with null values from our testing and training dataframes\n",
    "df_testing = df_testing.dropna()\n",
    "df_training = df_training.dropna()"
   ]
  },
  {
   "cell_type": "code",
   "execution_count": 33,
   "id": "fcffaf39",
   "metadata": {},
   "outputs": [],
   "source": [
    "from pyspark.ml import Pipeline #to create pipeline of steps we use in our ml model\n",
    "from pyspark.ml.regression import RandomForestRegressor #use randomforest regressor model\n",
    "from pyspark.ml.feature import VectorAssembler #allow us to create a single feature containing all of our feature in the single list\n",
    "from pyspark.ml.evaluation import RegressionEvaluator #to evaluate the performance and accuracy of our model"
   ]
  },
  {
   "cell_type": "code",
   "execution_count": 34,
   "id": "305c0170",
   "metadata": {},
   "outputs": [],
   "source": [
    "# Select features to parse into our model and then create the feature vector\n",
    "assembler = VectorAssembler(inputCols=['Latitude', 'Longitude', 'Depth'], outputCol='features')\n",
    "\n",
    "# Create the Model\n",
    "model_reg = RandomForestRegressor(featuresCol='features', labelCol='Magnitude')\n",
    "\n",
    "# Chain the assembler with the model in a pipeline\n",
    "pipeline = Pipeline(stages=[assembler, model_reg])\n",
    "\n",
    "# Train the Model\n",
    "model = pipeline.fit(df_training)\n",
    "\n",
    "# Make the prediction\n",
    "pred_results = model.transform(df_testing)"
   ]
  },
  {
   "cell_type": "code",
   "execution_count": 35,
   "id": "a6cbafac",
   "metadata": {},
   "outputs": [
    {
     "name": "stdout",
     "output_type": "stream",
     "text": [
      "+--------+---------+---------+------+--------------------+------------------+\n",
      "|Latitude|Longitude|Magnitude| Depth|            features|        prediction|\n",
      "+--------+---------+---------+------+--------------------+------------------+\n",
      "|-36.0365|  51.9288|      5.7|  10.0|[-36.0365,51.9288...| 5.831047958456975|\n",
      "|  -4.895| -76.3675|      5.9| 106.0|[-4.895,-76.3675,...|  5.90329179800919|\n",
      "|-23.2513| 179.2383|      6.3|551.62|[-23.2513,179.238...|5.9310048083766524|\n",
      "| 24.0151|  92.0177|      5.7|  32.0|[24.0151,92.0177,...| 5.855918313428821|\n",
      "|-43.3527| -74.5017|      5.5| 10.26|[-43.3527,-74.501...| 5.945000474597924|\n",
      "+--------+---------+---------+------+--------------------+------------------+\n",
      "only showing top 5 rows\n",
      "\n"
     ]
    }
   ],
   "source": [
    "# Preview pred_results dataframe\n",
    "pred_results.show(5)"
   ]
  },
  {
   "cell_type": "code",
   "execution_count": 36,
   "id": "21c3970e",
   "metadata": {},
   "outputs": [
    {
     "name": "stdout",
     "output_type": "stream",
     "text": [
      "Root Mean Squared Error (RMSE) on test data = 0.401376\n"
     ]
    }
   ],
   "source": [
    "# Evaluate the model\n",
    "# rmse should be less than 0.5 for the model to be useful\n",
    "evaluator = RegressionEvaluator(labelCol='Magnitude', predictionCol='prediction', metricName='rmse')\n",
    "rmse = evaluator.evaluate(pred_results)\n",
    "print('Root Mean Squared Error (RMSE) on test data = %g' % rmse)"
   ]
  },
  {
   "cell_type": "markdown",
   "id": "0f5755cb",
   "metadata": {},
   "source": [
    "# \"\"\"Create the prediction dataset\"\"\""
   ]
  },
  {
   "cell_type": "code",
   "execution_count": 37,
   "id": "919b529d",
   "metadata": {},
   "outputs": [
    {
     "name": "stdout",
     "output_type": "stream",
     "text": [
      "+--------+---------+------------------+----+------------------+\n",
      "|Latitude|Longitude|    Pred_Magnitude|Year|              RMSE|\n",
      "+--------+---------+------------------+----+------------------+\n",
      "|-36.0365|  51.9288| 5.831047958456975|2017|0.4013760453787636|\n",
      "|  -4.895| -76.3675|  5.90329179800919|2017|0.4013760453787636|\n",
      "|-23.2513| 179.2383|5.9310048083766524|2017|0.4013760453787636|\n",
      "| 24.0151|  92.0177| 5.855918313428821|2017|0.4013760453787636|\n",
      "|-43.3527| -74.5017| 5.945000474597924|2017|0.4013760453787636|\n",
      "+--------+---------+------------------+----+------------------+\n",
      "only showing top 5 rows\n",
      "\n"
     ]
    }
   ],
   "source": [
    "# Create the prediction dataset\n",
    "df_pred_results = pred_results['Latitude', 'Longitude', 'prediction']\n",
    "\n",
    "# Rename the prediction field\n",
    "df_pred_results = df_pred_results.withColumnRenamed('prediction', 'Pred_Magnitude')\n",
    "\n",
    "# Add more columns to our prediction dataset\n",
    "df_pred_results = df_pred_results.withColumn('Year', lit(2017))\\\n",
    "    .withColumn('RMSE', lit(rmse))\n",
    "\n",
    "# Preview df_pred_results\n",
    "df_pred_results.show(5)"
   ]
  },
  {
   "cell_type": "code",
   "execution_count": 38,
   "id": "099f1724",
   "metadata": {},
   "outputs": [],
   "source": [
    "# Load the prediction dataset into mongodb\n",
    "# Write df_pred_results\n",
    "df_pred_results.write.format('mongo')\\\n",
    "    .mode('overwrite')\\\n",
    "    .option('spark.mongodb.output.uri', 'mongodb://127.0.0.1:27017/Quake.pred_results').save()"
   ]
  },
  {
   "cell_type": "markdown",
   "id": "33328001",
   "metadata": {},
   "source": [
    "# \"\"\"Section: Data visulization\"\"\""
   ]
  },
  {
   "cell_type": "code",
   "execution_count": 39,
   "id": "616495bc",
   "metadata": {},
   "outputs": [
    {
     "name": "stderr",
     "output_type": "stream",
     "text": [
      "BokehDeprecationWarning: 'tile_providers module' was deprecated in Bokeh 3.0.0 and will be removed, use 'add_tile directly' instead.\n"
     ]
    }
   ],
   "source": [
    "import pandas as pd\n",
    "from bokeh.io import output_notebook, output_file\n",
    "from bokeh.plotting import figure, show, ColumnDataSource\n",
    "from bokeh.models.tools import HoverTool\n",
    "import math\n",
    "from math import pi\n",
    "from bokeh.palettes import Category20c\n",
    "from bokeh.transform import cumsum\n",
    "from bokeh.tile_providers import CARTODBPOSITRON\n",
    "from bokeh.themes import built_in_themes\n",
    "from bokeh.io import curdoc\n",
    "from pymongo import MongoClient"
   ]
  },
  {
   "cell_type": "code",
   "execution_count": 40,
   "id": "4c426e91",
   "metadata": {},
   "outputs": [],
   "source": [
    "# Create a custom read function to read data from mongodb into a dataframe\n",
    "def read_mongo(host='127.0.0.1', port=27017, username=None, password=None, db='Quake', collection='pred_results'):\n",
    "    \n",
    "    mongo_uri = 'mongodb://{}:{}/{}.{}'.format(host, port, db, collection)\n",
    "    \n",
    "    # Connect to mongodb\n",
    "    conn = MongoClient(mongo_uri)\n",
    "    db = conn[db]\n",
    "    \n",
    "    # Select all records from the collection\n",
    "    cursor = db[collection].find()\n",
    "    \n",
    "    # Create the dataframe\n",
    "    df = pd.DataFrame(list(cursor))\n",
    "    \n",
    "    # Delete the _id field\n",
    "    del df['_id']\n",
    "    \n",
    "    return df\n"
   ]
  },
  {
   "cell_type": "code",
   "execution_count": 73,
   "id": "9761baa2",
   "metadata": {},
   "outputs": [],
   "source": [
    "# Load the datasets from mongodb\n",
    "df_quakes = read_mongo(collection='quakes')\n",
    "df_quake_freq = read_mongo(collection='quake_freq')\n",
    "df_quake_pred = read_mongo(collection='pred_results')"
   ]
  },
  {
   "cell_type": "code",
   "execution_count": 74,
   "id": "3f94740a",
   "metadata": {},
   "outputs": [
    {
     "data": {
      "text/html": [
       "<div>\n",
       "<style scoped>\n",
       "    .dataframe tbody tr th:only-of-type {\n",
       "        vertical-align: middle;\n",
       "    }\n",
       "\n",
       "    .dataframe tbody tr th {\n",
       "        vertical-align: top;\n",
       "    }\n",
       "\n",
       "    .dataframe thead th {\n",
       "        text-align: right;\n",
       "    }\n",
       "</style>\n",
       "<table border=\"1\" class=\"dataframe\">\n",
       "  <thead>\n",
       "    <tr style=\"text-align: right;\">\n",
       "      <th></th>\n",
       "      <th>Date</th>\n",
       "      <th>Latitude</th>\n",
       "      <th>Longitude</th>\n",
       "      <th>Type</th>\n",
       "      <th>Depth</th>\n",
       "      <th>Magnitude</th>\n",
       "      <th>Magnitude Type</th>\n",
       "      <th>ID</th>\n",
       "      <th>Year</th>\n",
       "    </tr>\n",
       "  </thead>\n",
       "  <tbody>\n",
       "    <tr>\n",
       "      <th>22943</th>\n",
       "      <td>01/01/2016</td>\n",
       "      <td>-50.5575</td>\n",
       "      <td>139.4489</td>\n",
       "      <td>Earthquake</td>\n",
       "      <td>10.00</td>\n",
       "      <td>6.3</td>\n",
       "      <td>MWW</td>\n",
       "      <td>US10004ANT</td>\n",
       "      <td>2016.0</td>\n",
       "    </tr>\n",
       "    <tr>\n",
       "      <th>22944</th>\n",
       "      <td>01/01/2016</td>\n",
       "      <td>-28.6278</td>\n",
       "      <td>-177.2810</td>\n",
       "      <td>Earthquake</td>\n",
       "      <td>34.00</td>\n",
       "      <td>5.8</td>\n",
       "      <td>MWW</td>\n",
       "      <td>US10004AQY</td>\n",
       "      <td>2016.0</td>\n",
       "    </tr>\n",
       "    <tr>\n",
       "      <th>22945</th>\n",
       "      <td>01/02/2016</td>\n",
       "      <td>44.8069</td>\n",
       "      <td>129.9406</td>\n",
       "      <td>Earthquake</td>\n",
       "      <td>585.47</td>\n",
       "      <td>5.8</td>\n",
       "      <td>MWW</td>\n",
       "      <td>US10004ATB</td>\n",
       "      <td>2016.0</td>\n",
       "    </tr>\n",
       "    <tr>\n",
       "      <th>22946</th>\n",
       "      <td>01/03/2016</td>\n",
       "      <td>24.8036</td>\n",
       "      <td>93.6505</td>\n",
       "      <td>Earthquake</td>\n",
       "      <td>55.00</td>\n",
       "      <td>6.7</td>\n",
       "      <td>MWW</td>\n",
       "      <td>US10004B2N</td>\n",
       "      <td>2016.0</td>\n",
       "    </tr>\n",
       "    <tr>\n",
       "      <th>22947</th>\n",
       "      <td>01/05/2016</td>\n",
       "      <td>30.6132</td>\n",
       "      <td>132.7337</td>\n",
       "      <td>Earthquake</td>\n",
       "      <td>4.71</td>\n",
       "      <td>5.8</td>\n",
       "      <td>MWW</td>\n",
       "      <td>US10004BEN</td>\n",
       "      <td>2016.0</td>\n",
       "    </tr>\n",
       "  </tbody>\n",
       "</table>\n",
       "</div>"
      ],
      "text/plain": [
       "             Date  Latitude  Longitude        Type   Depth  Magnitude  \\\n",
       "22943  01/01/2016  -50.5575   139.4489  Earthquake   10.00        6.3   \n",
       "22944  01/01/2016  -28.6278  -177.2810  Earthquake   34.00        5.8   \n",
       "22945  01/02/2016   44.8069   129.9406  Earthquake  585.47        5.8   \n",
       "22946  01/03/2016   24.8036    93.6505  Earthquake   55.00        6.7   \n",
       "22947  01/05/2016   30.6132   132.7337  Earthquake    4.71        5.8   \n",
       "\n",
       "      Magnitude Type          ID    Year  \n",
       "22943            MWW  US10004ANT  2016.0  \n",
       "22944            MWW  US10004AQY  2016.0  \n",
       "22945            MWW  US10004ATB  2016.0  \n",
       "22946            MWW  US10004B2N  2016.0  \n",
       "22947            MWW  US10004BEN  2016.0  "
      ]
     },
     "execution_count": 74,
     "metadata": {},
     "output_type": "execute_result"
    }
   ],
   "source": [
    "df_quakes_2016 = df_quakes[df_quakes['Year'] == 2016]\n",
    "# Preview df_quakes_2016\n",
    "df_quakes_2016.head()"
   ]
  },
  {
   "cell_type": "code",
   "execution_count": 75,
   "id": "ae7ef09f",
   "metadata": {},
   "outputs": [
    {
     "data": {
      "text/html": [
       "<style>\n",
       "        .bk-notebook-logo {\n",
       "            display: block;\n",
       "            width: 20px;\n",
       "            height: 20px;\n",
       "            background-image: url(data:image/png;base64,iVBORw0KGgoAAAANSUhEUgAAABQAAAAUCAYAAACNiR0NAAAABHNCSVQICAgIfAhkiAAAAAlwSFlzAAALEgAACxIB0t1+/AAAABx0RVh0U29mdHdhcmUAQWRvYmUgRmlyZXdvcmtzIENTNui8sowAAAOkSURBVDiNjZRtaJVlGMd/1/08zzln5zjP1LWcU9N0NkN8m2CYjpgQYQXqSs0I84OLIC0hkEKoPtiH3gmKoiJDU7QpLgoLjLIQCpEsNJ1vqUOdO7ppbuec5+V+rj4ctwzd8IIbbi6u+8f1539dt3A78eXC7QizUF7gyV1fD1Yqg4JWz84yffhm0qkFqBogB9rM8tZdtwVsPUhWhGcFJngGeWrPzHm5oaMmkfEg1usvLFyc8jLRqDOMru7AyC8saQr7GG7f5fvDeH7Ej8CM66nIF+8yngt6HWaKh7k49Soy9nXurCi1o3qUbS3zWfrYeQDTB/Qj6kX6Ybhw4B+bOYoLKCC9H3Nu/leUTZ1JdRWkkn2ldcCamzrcf47KKXdAJllSlxAOkRgyHsGC/zRday5Qld9DyoM4/q/rUoy/CXh3jzOu3bHUVZeU+DEn8FInkPBFlu3+nW3Nw0mk6vCDiWg8CeJaxEwuHS3+z5RgY+YBR6V1Z1nxSOfoaPa4LASWxxdNp+VWTk7+4vzaou8v8PN+xo+KY2xsw6une2frhw05CTYOmQvsEhjhWjn0bmXPjpE1+kplmmkP3suftwTubK9Vq22qKmrBhpY4jvd5afdRA3wGjFAgcnTK2s4hY0/GPNIb0nErGMCRxWOOX64Z8RAC4oCXdklmEvcL8o0BfkNK4lUg9HTl+oPlQxdNo3Mg4Nv175e/1LDGzZen30MEjRUtmXSfiTVu1kK8W4txyV6BMKlbgk3lMwYCiusNy9fVfvvwMxv8Ynl6vxoByANLTWplvuj/nF9m2+PDtt1eiHPBr1oIfhCChQMBw6Aw0UulqTKZdfVvfG7VcfIqLG9bcldL/+pdWTLxLUy8Qq38heUIjh4XlzZxzQm19lLFlr8vdQ97rjZVOLf8nclzckbcD4wxXMidpX30sFd37Fv/GtwwhzhxGVAprjbg0gCAEeIgwCZyTV2Z1REEW8O4py0wsjeloKoMr6iCY6dP92H6Vw/oTyICIthibxjm/DfN9lVz8IqtqKYLUXfoKVMVQVVJOElGjrnnUt9T9wbgp8AyYKaGlqingHZU/uG2NTZSVqwHQTWkx9hxjkpWDaCg6Ckj5qebgBVbT3V3NNXMSiWSDdGV3hrtzla7J+duwPOToIg42ChPQOQjspnSlp1V+Gjdged7+8UN5CRAV7a5EdFNwCjEaBR27b3W890TE7g24NAP/mMDXRWrGoFPQI9ls/MWO2dWFAar/xcOIImbbpA3zgAAAABJRU5ErkJggg==);\n",
       "        }\n",
       "    </style>\n",
       "    <div>\n",
       "        <a href=\"https://bokeh.org\" target=\"_blank\" class=\"bk-notebook-logo\"></a>\n",
       "        <span id=\"b6816b84-5e0f-43cf-8070-48956bc27456\">Loading BokehJS ...</span>\n",
       "    </div>\n"
      ]
     },
     "metadata": {},
     "output_type": "display_data"
    },
    {
     "data": {
      "application/javascript": [
       "(function(root) {\n",
       "  function now() {\n",
       "    return new Date();\n",
       "  }\n",
       "\n",
       "  const force = true;\n",
       "\n",
       "  if (typeof root._bokeh_onload_callbacks === \"undefined\" || force === true) {\n",
       "    root._bokeh_onload_callbacks = [];\n",
       "    root._bokeh_is_loading = undefined;\n",
       "  }\n",
       "\n",
       "const JS_MIME_TYPE = 'application/javascript';\n",
       "  const HTML_MIME_TYPE = 'text/html';\n",
       "  const EXEC_MIME_TYPE = 'application/vnd.bokehjs_exec.v0+json';\n",
       "  const CLASS_NAME = 'output_bokeh rendered_html';\n",
       "\n",
       "  /**\n",
       "   * Render data to the DOM node\n",
       "   */\n",
       "  function render(props, node) {\n",
       "    const script = document.createElement(\"script\");\n",
       "    node.appendChild(script);\n",
       "  }\n",
       "\n",
       "  /**\n",
       "   * Handle when an output is cleared or removed\n",
       "   */\n",
       "  function handleClearOutput(event, handle) {\n",
       "    const cell = handle.cell;\n",
       "\n",
       "    const id = cell.output_area._bokeh_element_id;\n",
       "    const server_id = cell.output_area._bokeh_server_id;\n",
       "    // Clean up Bokeh references\n",
       "    if (id != null && id in Bokeh.index) {\n",
       "      Bokeh.index[id].model.document.clear();\n",
       "      delete Bokeh.index[id];\n",
       "    }\n",
       "\n",
       "    if (server_id !== undefined) {\n",
       "      // Clean up Bokeh references\n",
       "      const cmd_clean = \"from bokeh.io.state import curstate; print(curstate().uuid_to_server['\" + server_id + \"'].get_sessions()[0].document.roots[0]._id)\";\n",
       "      cell.notebook.kernel.execute(cmd_clean, {\n",
       "        iopub: {\n",
       "          output: function(msg) {\n",
       "            const id = msg.content.text.trim();\n",
       "            if (id in Bokeh.index) {\n",
       "              Bokeh.index[id].model.document.clear();\n",
       "              delete Bokeh.index[id];\n",
       "            }\n",
       "          }\n",
       "        }\n",
       "      });\n",
       "      // Destroy server and session\n",
       "      const cmd_destroy = \"import bokeh.io.notebook as ion; ion.destroy_server('\" + server_id + \"')\";\n",
       "      cell.notebook.kernel.execute(cmd_destroy);\n",
       "    }\n",
       "  }\n",
       "\n",
       "  /**\n",
       "   * Handle when a new output is added\n",
       "   */\n",
       "  function handleAddOutput(event, handle) {\n",
       "    const output_area = handle.output_area;\n",
       "    const output = handle.output;\n",
       "\n",
       "    // limit handleAddOutput to display_data with EXEC_MIME_TYPE content only\n",
       "    if ((output.output_type != \"display_data\") || (!Object.prototype.hasOwnProperty.call(output.data, EXEC_MIME_TYPE))) {\n",
       "      return\n",
       "    }\n",
       "\n",
       "    const toinsert = output_area.element.find(\".\" + CLASS_NAME.split(' ')[0]);\n",
       "\n",
       "    if (output.metadata[EXEC_MIME_TYPE][\"id\"] !== undefined) {\n",
       "      toinsert[toinsert.length - 1].firstChild.textContent = output.data[JS_MIME_TYPE];\n",
       "      // store reference to embed id on output_area\n",
       "      output_area._bokeh_element_id = output.metadata[EXEC_MIME_TYPE][\"id\"];\n",
       "    }\n",
       "    if (output.metadata[EXEC_MIME_TYPE][\"server_id\"] !== undefined) {\n",
       "      const bk_div = document.createElement(\"div\");\n",
       "      bk_div.innerHTML = output.data[HTML_MIME_TYPE];\n",
       "      const script_attrs = bk_div.children[0].attributes;\n",
       "      for (let i = 0; i < script_attrs.length; i++) {\n",
       "        toinsert[toinsert.length - 1].firstChild.setAttribute(script_attrs[i].name, script_attrs[i].value);\n",
       "        toinsert[toinsert.length - 1].firstChild.textContent = bk_div.children[0].textContent\n",
       "      }\n",
       "      // store reference to server id on output_area\n",
       "      output_area._bokeh_server_id = output.metadata[EXEC_MIME_TYPE][\"server_id\"];\n",
       "    }\n",
       "  }\n",
       "\n",
       "  function register_renderer(events, OutputArea) {\n",
       "\n",
       "    function append_mime(data, metadata, element) {\n",
       "      // create a DOM node to render to\n",
       "      const toinsert = this.create_output_subarea(\n",
       "        metadata,\n",
       "        CLASS_NAME,\n",
       "        EXEC_MIME_TYPE\n",
       "      );\n",
       "      this.keyboard_manager.register_events(toinsert);\n",
       "      // Render to node\n",
       "      const props = {data: data, metadata: metadata[EXEC_MIME_TYPE]};\n",
       "      render(props, toinsert[toinsert.length - 1]);\n",
       "      element.append(toinsert);\n",
       "      return toinsert\n",
       "    }\n",
       "\n",
       "    /* Handle when an output is cleared or removed */\n",
       "    events.on('clear_output.CodeCell', handleClearOutput);\n",
       "    events.on('delete.Cell', handleClearOutput);\n",
       "\n",
       "    /* Handle when a new output is added */\n",
       "    events.on('output_added.OutputArea', handleAddOutput);\n",
       "\n",
       "    /**\n",
       "     * Register the mime type and append_mime function with output_area\n",
       "     */\n",
       "    OutputArea.prototype.register_mime_type(EXEC_MIME_TYPE, append_mime, {\n",
       "      /* Is output safe? */\n",
       "      safe: true,\n",
       "      /* Index of renderer in `output_area.display_order` */\n",
       "      index: 0\n",
       "    });\n",
       "  }\n",
       "\n",
       "  // register the mime type if in Jupyter Notebook environment and previously unregistered\n",
       "  if (root.Jupyter !== undefined) {\n",
       "    const events = require('base/js/events');\n",
       "    const OutputArea = require('notebook/js/outputarea').OutputArea;\n",
       "\n",
       "    if (OutputArea.prototype.mime_types().indexOf(EXEC_MIME_TYPE) == -1) {\n",
       "      register_renderer(events, OutputArea);\n",
       "    }\n",
       "  }\n",
       "  if (typeof (root._bokeh_timeout) === \"undefined\" || force === true) {\n",
       "    root._bokeh_timeout = Date.now() + 5000;\n",
       "    root._bokeh_failed_load = false;\n",
       "  }\n",
       "\n",
       "  const NB_LOAD_WARNING = {'data': {'text/html':\n",
       "     \"<div style='background-color: #fdd'>\\n\"+\n",
       "     \"<p>\\n\"+\n",
       "     \"BokehJS does not appear to have successfully loaded. If loading BokehJS from CDN, this \\n\"+\n",
       "     \"may be due to a slow or bad network connection. Possible fixes:\\n\"+\n",
       "     \"</p>\\n\"+\n",
       "     \"<ul>\\n\"+\n",
       "     \"<li>re-rerun `output_notebook()` to attempt to load from CDN again, or</li>\\n\"+\n",
       "     \"<li>use INLINE resources instead, as so:</li>\\n\"+\n",
       "     \"</ul>\\n\"+\n",
       "     \"<code>\\n\"+\n",
       "     \"from bokeh.resources import INLINE\\n\"+\n",
       "     \"output_notebook(resources=INLINE)\\n\"+\n",
       "     \"</code>\\n\"+\n",
       "     \"</div>\"}};\n",
       "\n",
       "  function display_loaded() {\n",
       "    const el = document.getElementById(\"b6816b84-5e0f-43cf-8070-48956bc27456\");\n",
       "    if (el != null) {\n",
       "      el.textContent = \"BokehJS is loading...\";\n",
       "    }\n",
       "    if (root.Bokeh !== undefined) {\n",
       "      if (el != null) {\n",
       "        el.textContent = \"BokehJS \" + root.Bokeh.version + \" successfully loaded.\";\n",
       "      }\n",
       "    } else if (Date.now() < root._bokeh_timeout) {\n",
       "      setTimeout(display_loaded, 100)\n",
       "    }\n",
       "  }\n",
       "\n",
       "  function run_callbacks() {\n",
       "    try {\n",
       "      root._bokeh_onload_callbacks.forEach(function(callback) {\n",
       "        if (callback != null)\n",
       "          callback();\n",
       "      });\n",
       "    } finally {\n",
       "      delete root._bokeh_onload_callbacks\n",
       "    }\n",
       "    console.debug(\"Bokeh: all callbacks have finished\");\n",
       "  }\n",
       "\n",
       "  function load_libs(css_urls, js_urls, callback) {\n",
       "    if (css_urls == null) css_urls = [];\n",
       "    if (js_urls == null) js_urls = [];\n",
       "\n",
       "    root._bokeh_onload_callbacks.push(callback);\n",
       "    if (root._bokeh_is_loading > 0) {\n",
       "      console.debug(\"Bokeh: BokehJS is being loaded, scheduling callback at\", now());\n",
       "      return null;\n",
       "    }\n",
       "    if (js_urls == null || js_urls.length === 0) {\n",
       "      run_callbacks();\n",
       "      return null;\n",
       "    }\n",
       "    console.debug(\"Bokeh: BokehJS not loaded, scheduling load and callback at\", now());\n",
       "    root._bokeh_is_loading = css_urls.length + js_urls.length;\n",
       "\n",
       "    function on_load() {\n",
       "      root._bokeh_is_loading--;\n",
       "      if (root._bokeh_is_loading === 0) {\n",
       "        console.debug(\"Bokeh: all BokehJS libraries/stylesheets loaded\");\n",
       "        run_callbacks()\n",
       "      }\n",
       "    }\n",
       "\n",
       "    function on_error(url) {\n",
       "      console.error(\"failed to load \" + url);\n",
       "    }\n",
       "\n",
       "    for (let i = 0; i < css_urls.length; i++) {\n",
       "      const url = css_urls[i];\n",
       "      const element = document.createElement(\"link\");\n",
       "      element.onload = on_load;\n",
       "      element.onerror = on_error.bind(null, url);\n",
       "      element.rel = \"stylesheet\";\n",
       "      element.type = \"text/css\";\n",
       "      element.href = url;\n",
       "      console.debug(\"Bokeh: injecting link tag for BokehJS stylesheet: \", url);\n",
       "      document.body.appendChild(element);\n",
       "    }\n",
       "\n",
       "    for (let i = 0; i < js_urls.length; i++) {\n",
       "      const url = js_urls[i];\n",
       "      const element = document.createElement('script');\n",
       "      element.onload = on_load;\n",
       "      element.onerror = on_error.bind(null, url);\n",
       "      element.async = false;\n",
       "      element.src = url;\n",
       "      console.debug(\"Bokeh: injecting script tag for BokehJS library: \", url);\n",
       "      document.head.appendChild(element);\n",
       "    }\n",
       "  };\n",
       "\n",
       "  function inject_raw_css(css) {\n",
       "    const element = document.createElement(\"style\");\n",
       "    element.appendChild(document.createTextNode(css));\n",
       "    document.body.appendChild(element);\n",
       "  }\n",
       "\n",
       "  const js_urls = [\"https://cdn.bokeh.org/bokeh/release/bokeh-3.2.1.min.js\", \"https://cdn.bokeh.org/bokeh/release/bokeh-gl-3.2.1.min.js\", \"https://cdn.bokeh.org/bokeh/release/bokeh-widgets-3.2.1.min.js\", \"https://cdn.bokeh.org/bokeh/release/bokeh-tables-3.2.1.min.js\", \"https://cdn.bokeh.org/bokeh/release/bokeh-mathjax-3.2.1.min.js\"];\n",
       "  const css_urls = [];\n",
       "\n",
       "  const inline_js = [    function(Bokeh) {\n",
       "      Bokeh.set_log_level(\"info\");\n",
       "    },\n",
       "function(Bokeh) {\n",
       "    }\n",
       "  ];\n",
       "\n",
       "  function run_inline_js() {\n",
       "    if (root.Bokeh !== undefined || force === true) {\n",
       "          for (let i = 0; i < inline_js.length; i++) {\n",
       "      inline_js[i].call(root, root.Bokeh);\n",
       "    }\n",
       "if (force === true) {\n",
       "        display_loaded();\n",
       "      }} else if (Date.now() < root._bokeh_timeout) {\n",
       "      setTimeout(run_inline_js, 100);\n",
       "    } else if (!root._bokeh_failed_load) {\n",
       "      console.log(\"Bokeh: BokehJS failed to load within specified timeout.\");\n",
       "      root._bokeh_failed_load = true;\n",
       "    } else if (force !== true) {\n",
       "      const cell = $(document.getElementById(\"b6816b84-5e0f-43cf-8070-48956bc27456\")).parents('.cell').data().cell;\n",
       "      cell.output_area.append_execute_result(NB_LOAD_WARNING)\n",
       "    }\n",
       "  }\n",
       "\n",
       "  if (root._bokeh_is_loading === 0) {\n",
       "    console.debug(\"Bokeh: BokehJS loaded, going straight to plotting\");\n",
       "    run_inline_js();\n",
       "  } else {\n",
       "    load_libs(css_urls, js_urls, function() {\n",
       "      console.debug(\"Bokeh: BokehJS plotting callback run at\", now());\n",
       "      run_inline_js();\n",
       "    });\n",
       "  }\n",
       "}(window));"
      ],
      "application/vnd.bokehjs_load.v0+json": "(function(root) {\n  function now() {\n    return new Date();\n  }\n\n  const force = true;\n\n  if (typeof root._bokeh_onload_callbacks === \"undefined\" || force === true) {\n    root._bokeh_onload_callbacks = [];\n    root._bokeh_is_loading = undefined;\n  }\n\n\n  if (typeof (root._bokeh_timeout) === \"undefined\" || force === true) {\n    root._bokeh_timeout = Date.now() + 5000;\n    root._bokeh_failed_load = false;\n  }\n\n  const NB_LOAD_WARNING = {'data': {'text/html':\n     \"<div style='background-color: #fdd'>\\n\"+\n     \"<p>\\n\"+\n     \"BokehJS does not appear to have successfully loaded. If loading BokehJS from CDN, this \\n\"+\n     \"may be due to a slow or bad network connection. Possible fixes:\\n\"+\n     \"</p>\\n\"+\n     \"<ul>\\n\"+\n     \"<li>re-rerun `output_notebook()` to attempt to load from CDN again, or</li>\\n\"+\n     \"<li>use INLINE resources instead, as so:</li>\\n\"+\n     \"</ul>\\n\"+\n     \"<code>\\n\"+\n     \"from bokeh.resources import INLINE\\n\"+\n     \"output_notebook(resources=INLINE)\\n\"+\n     \"</code>\\n\"+\n     \"</div>\"}};\n\n  function display_loaded() {\n    const el = document.getElementById(\"b6816b84-5e0f-43cf-8070-48956bc27456\");\n    if (el != null) {\n      el.textContent = \"BokehJS is loading...\";\n    }\n    if (root.Bokeh !== undefined) {\n      if (el != null) {\n        el.textContent = \"BokehJS \" + root.Bokeh.version + \" successfully loaded.\";\n      }\n    } else if (Date.now() < root._bokeh_timeout) {\n      setTimeout(display_loaded, 100)\n    }\n  }\n\n  function run_callbacks() {\n    try {\n      root._bokeh_onload_callbacks.forEach(function(callback) {\n        if (callback != null)\n          callback();\n      });\n    } finally {\n      delete root._bokeh_onload_callbacks\n    }\n    console.debug(\"Bokeh: all callbacks have finished\");\n  }\n\n  function load_libs(css_urls, js_urls, callback) {\n    if (css_urls == null) css_urls = [];\n    if (js_urls == null) js_urls = [];\n\n    root._bokeh_onload_callbacks.push(callback);\n    if (root._bokeh_is_loading > 0) {\n      console.debug(\"Bokeh: BokehJS is being loaded, scheduling callback at\", now());\n      return null;\n    }\n    if (js_urls == null || js_urls.length === 0) {\n      run_callbacks();\n      return null;\n    }\n    console.debug(\"Bokeh: BokehJS not loaded, scheduling load and callback at\", now());\n    root._bokeh_is_loading = css_urls.length + js_urls.length;\n\n    function on_load() {\n      root._bokeh_is_loading--;\n      if (root._bokeh_is_loading === 0) {\n        console.debug(\"Bokeh: all BokehJS libraries/stylesheets loaded\");\n        run_callbacks()\n      }\n    }\n\n    function on_error(url) {\n      console.error(\"failed to load \" + url);\n    }\n\n    for (let i = 0; i < css_urls.length; i++) {\n      const url = css_urls[i];\n      const element = document.createElement(\"link\");\n      element.onload = on_load;\n      element.onerror = on_error.bind(null, url);\n      element.rel = \"stylesheet\";\n      element.type = \"text/css\";\n      element.href = url;\n      console.debug(\"Bokeh: injecting link tag for BokehJS stylesheet: \", url);\n      document.body.appendChild(element);\n    }\n\n    for (let i = 0; i < js_urls.length; i++) {\n      const url = js_urls[i];\n      const element = document.createElement('script');\n      element.onload = on_load;\n      element.onerror = on_error.bind(null, url);\n      element.async = false;\n      element.src = url;\n      console.debug(\"Bokeh: injecting script tag for BokehJS library: \", url);\n      document.head.appendChild(element);\n    }\n  };\n\n  function inject_raw_css(css) {\n    const element = document.createElement(\"style\");\n    element.appendChild(document.createTextNode(css));\n    document.body.appendChild(element);\n  }\n\n  const js_urls = [\"https://cdn.bokeh.org/bokeh/release/bokeh-3.2.1.min.js\", \"https://cdn.bokeh.org/bokeh/release/bokeh-gl-3.2.1.min.js\", \"https://cdn.bokeh.org/bokeh/release/bokeh-widgets-3.2.1.min.js\", \"https://cdn.bokeh.org/bokeh/release/bokeh-tables-3.2.1.min.js\", \"https://cdn.bokeh.org/bokeh/release/bokeh-mathjax-3.2.1.min.js\"];\n  const css_urls = [];\n\n  const inline_js = [    function(Bokeh) {\n      Bokeh.set_log_level(\"info\");\n    },\nfunction(Bokeh) {\n    }\n  ];\n\n  function run_inline_js() {\n    if (root.Bokeh !== undefined || force === true) {\n          for (let i = 0; i < inline_js.length; i++) {\n      inline_js[i].call(root, root.Bokeh);\n    }\nif (force === true) {\n        display_loaded();\n      }} else if (Date.now() < root._bokeh_timeout) {\n      setTimeout(run_inline_js, 100);\n    } else if (!root._bokeh_failed_load) {\n      console.log(\"Bokeh: BokehJS failed to load within specified timeout.\");\n      root._bokeh_failed_load = true;\n    } else if (force !== true) {\n      const cell = $(document.getElementById(\"b6816b84-5e0f-43cf-8070-48956bc27456\")).parents('.cell').data().cell;\n      cell.output_area.append_execute_result(NB_LOAD_WARNING)\n    }\n  }\n\n  if (root._bokeh_is_loading === 0) {\n    console.debug(\"Bokeh: BokehJS loaded, going straight to plotting\");\n    run_inline_js();\n  } else {\n    load_libs(css_urls, js_urls, function() {\n      console.debug(\"Bokeh: BokehJS plotting callback run at\", now());\n      run_inline_js();\n    });\n  }\n}(window));"
     },
     "metadata": {},
     "output_type": "display_data"
    }
   ],
   "source": [
    "# Show plots embedded in jupyter notebook\n",
    "output_notebook()"
   ]
  },
  {
   "cell_type": "code",
   "execution_count": 76,
   "id": "008a4631",
   "metadata": {},
   "outputs": [],
   "source": [
    "# Create custom style function to style our plots\n",
    "def style(p):\n",
    "    # Title\n",
    "    p.title.align='center'\n",
    "    p.title.text_font_size='20pt'\n",
    "    p.title.text_font='serif'\n",
    "    \n",
    "    # Axis titles\n",
    "    p.xaxis.axis_label_text_font_size='14pt'\n",
    "    p.xaxis.axis_label_text_font_style='bold'\n",
    "    p.yaxis.axis_label_text_font_size='14pt'\n",
    "    p.yaxis.axis_label_text_font_style='bold'\n",
    "    \n",
    "    # Tick labels\n",
    "    p.xaxis.major_label_text_font_size='12pt'\n",
    "    p.yaxis.major_label_text_font_size='12pt'\n",
    "    \n",
    "    # Plot the legend in the top left corner\n",
    "    p.legend.location='top_left'\n",
    "    \n",
    "    return p"
   ]
  },
  {
   "cell_type": "code",
   "execution_count": 77,
   "id": "e5dbee2c",
   "metadata": {},
   "outputs": [
    {
     "name": "stderr",
     "output_type": "stream",
     "text": [
      "C:\\Users\\Shashank\\AppData\\Local\\Temp\\ipykernel_20128\\980228965.py:42: SettingWithCopyWarning: \n",
      "A value is trying to be set on a copy of a slice from a DataFrame.\n",
      "Try using .loc[row_indexer,col_indexer] = value instead\n",
      "\n",
      "See the caveats in the documentation: https://pandas.pydata.org/pandas-docs/stable/user_guide/indexing.html#returning-a-view-versus-a-copy\n",
      "  df_quakes_2016['coords_x'] = lst_lat\n",
      "C:\\Users\\Shashank\\AppData\\Local\\Temp\\ipykernel_20128\\980228965.py:43: SettingWithCopyWarning: \n",
      "A value is trying to be set on a copy of a slice from a DataFrame.\n",
      "Try using .loc[row_indexer,col_indexer] = value instead\n",
      "\n",
      "See the caveats in the documentation: https://pandas.pydata.org/pandas-docs/stable/user_guide/indexing.html#returning-a-view-versus-a-copy\n",
      "  df_quakes_2016['coords_y'] = lst_lon\n",
      "C:\\Users\\Shashank\\AppData\\Local\\Temp\\ipykernel_20128\\980228965.py:48: SettingWithCopyWarning: \n",
      "A value is trying to be set on a copy of a slice from a DataFrame.\n",
      "Try using .loc[row_indexer,col_indexer] = value instead\n",
      "\n",
      "See the caveats in the documentation: https://pandas.pydata.org/pandas-docs/stable/user_guide/indexing.html#returning-a-view-versus-a-copy\n",
      "  df_quakes_2016['Mag_Size'] = df_quakes_2016['Magnitude'] * 4\n"
     ]
    },
    {
     "data": {
      "text/html": [
       "\n",
       "  <div id=\"b5caf9ac-8b8b-4a53-8a53-fa283f2429d2\" data-root-id=\"p2071\" style=\"display: contents;\"></div>\n"
      ]
     },
     "metadata": {},
     "output_type": "display_data"
    },
    {
     "data": {
      "application/javascript": [
       "(function(root) {\n",
       "  function embed_document(root) {\n",
       "  const docs_json = {\"c2e253fc-111c-4844-991e-86b9ab07db78\":{\"version\":\"3.2.1\",\"title\":\"Bokeh Application\",\"roots\":[{\"type\":\"object\",\"name\":\"Figure\",\"id\":\"p2071\",\"attributes\":{\"width\":2300,\"height\":450,\"x_range\":{\"type\":\"object\",\"name\":\"Range1d\",\"id\":\"p2081\",\"attributes\":{\"start\":-2000000,\"end\":6000000}},\"y_range\":{\"type\":\"object\",\"name\":\"Range1d\",\"id\":\"p2082\",\"attributes\":{\"start\":-1000000,\"end\":7000000}},\"x_scale\":{\"type\":\"object\",\"name\":\"LinearScale\",\"id\":\"p2083\"},\"y_scale\":{\"type\":\"object\",\"name\":\"LinearScale\",\"id\":\"p2084\"},\"title\":{\"type\":\"object\",\"name\":\"Title\",\"id\":\"p2074\",\"attributes\":{\"text\":\"Earthquake Map\",\"text_color\":\"#E0E0E0\",\"text_font\":\"serif\",\"text_font_size\":\"20pt\",\"align\":\"center\"}},\"outline_line_color\":\"#E0E0E0\",\"outline_line_alpha\":0.25,\"renderers\":[{\"type\":\"object\",\"name\":\"GlyphRenderer\",\"id\":\"p2109\",\"attributes\":{\"data_source\":{\"type\":\"object\",\"name\":\"ColumnDataSource\",\"id\":\"p2065\",\"attributes\":{\"selected\":{\"type\":\"object\",\"name\":\"Selection\",\"id\":\"p2066\",\"attributes\":{\"indices\":[],\"line_indices\":[]}},\"selection_policy\":{\"type\":\"object\",\"name\":\"UnionRenderers\",\"id\":\"p2067\"},\"data\":{\"type\":\"map\",\"entries\":[[\"lat\",[-6543390.724483237,-3328358.0702136224,5591172.898038173,2851640.5215679468,3582617.0285600303,-7225385.693391577,2519559.275530917,-3589189.5968190334,-7895731.329585679,434091.130985274,5539417.811527147,-3676788.280848081,4383206.456763607,-3600829.447882163,2946475.6765804114,2624462.067661116,-1919649.3727256414,-1714752.0518279816,-738658.6098666815,-3577327.8402285944,-1077518.9345580437,-3886984.5412093443,-551952.8806289821,-534289.4164623911,-1092279.3816380876,-370880.47196445666,-345125.133793962,-3890327.522750172,-1701661.4348117206,6701229.281034023,6721815.015535953,3945945.23053972,-374080.791003844,7761753.97926687,-1611357.202772603,468775.96792111447,-1591614.9794630976,-1582053.595071207,-1597470.6170010692,-916356.9030152019,-672409.5786799104,-1571979.4590359947,-462257.586109796,1811174.038604051,4365832.938958695,6643310.475927785,6773859.823305286,-418505.0455930204,-7410479.387446073,-560233.0274267893,-677928.4070738676,5418424.9975573495,-7511617.038765008,-1672495.0545528778,1548060.141959909,-999439.4980835484,2081535.6065417049,1852333.4820856596,-8997877.969353518,2838365.246911671,2836895.013382633,-3532220.974959881,-233455.68729851866,2040088.6479005006,-3419298.4832275123,-511168.83740093646,-1996283.2379809062,-3506570.907184386,-3509116.8698924873,-5645608.880689954,2080163.2375550573,2096579.1308771288,142378.32007136501,-452447.43496013916,-1260322.1273079962,1440522.2984627502,-969486.3282046615,-832620.1045632168,-1860667.204540434,-1189867.89525655,-7713171.987908111,-45318.54601658557,-4274618.876232512,-1692473.3553627734,-1698767.4525167744,-1645353.0122122725,65390.214373085604,64699.99763943559,-718310.979350528,-2749095.058186247,-8126461.540002937,-2551709.5517699746,2868953.7923551914,-2744089.018216976,-2568831.740902209,-2897353.1892552385,-4489209.573341354,-4500545.7623202745,-4470697.205647996,-4441532.400450267,-4446385.293838093,-4442926.682361412,-4471340.325008444,61594.03159729839,-4483469.075802989,-7426079.75738785,-2213915.801501731,4912675.02068954,4359273.23933069,2306420.320560517,938327.8076290637,-4456823.764446551,7249204.8093854645,-1219510.091862458,-7287232.027312336,-3681872.3599156886,-621364.074218154,-115277.60839181444,-3344525.2231373596,-2714535.8476083255,3230314.566706101,797189.2654855343,2586827.7678902973,-450405.18369439204,-4304433.519025345,-4456418.872302224,197100.25765049175,-1732109.4437709805,-603705.6005118577,-680771.976234633,-4176730.7437068527,-905830.9111608852,-7991177.156025094,-4380392.084819088,-528290.8084284626,-6454454.065666398,-2323743.5323901074,4649917.791428913,-2871569.0678798584,681925.11549967,-4191379.7565639713,-1725206.5409805682,6846037.379623727,-2588190.6188395876,502022.99706885614,-816613.0848425829,1235690.5297297353,588980.6922978276,5438076.329098564,4932064.174315522,-1195690.063706147,-1144151.1386994515,-1217265.6283307744,-1214148.5648662208,-1203654.6642516751,-1240091.3303174912,-1228920.328684846,-1227026.7319589504,-1163431.2025315375,-1156222.5862376215,-1218829.9356544984,-631017.2840090224,-1019965.3263767234,-1228024.5420570814]],[\"lon\",[15523380.539682128,-19734830.64732233,14464921.425372442,10425125.972535465,14775847.895107137,-15168427.211338695,15986681.128414653,-7974739.077295771,-16469562.815577714,14122224.37296535,15705699.601703351,6477859.280445858,7898151.267629998,-20031986.896045897,13742123.971651718,13425286.436955903,19474109.267935403,-19302254.23804875,17225811.77628182,-7968672.165047537,13291691.916054895,-19857794.15685258,10500756.434580415,10509684.257742038,13950113.30824987,16567067.557563543,16568659.426281884,-19839560.024260644,-19305927.781244926,-19366530.112032786,-19363168.263410825,15182876.481243663,16128747.062565029,-17580920.951912362,18574224.76826074,14098780.48820429,18557092.698627654,18548554.493683815,18550179.758249395,11954121.442479238,14519356.656370355,18545192.645061854,11378076.473471284,-10715202.301644579,7918277.831565422,19986234.58532986,19667348.77200345,-11570180.518733237,16272037.51111413,11647035.495176913,-11929341.723828655,16420326.20479985,-16019486.98235143,18583019.00803341,5762820.795233425,-12049121.495922217,-11726072.333640138,-10891677.090399155,18406009.885723025,13579185.632977603,13586888.9417405,-19809804.324371602,11206021.0685012,-11781364.724717155,-7999351.816710162,13984666.878192104,-19217272.938777164,-19796601.83276352,-7955291.562254186,18571230.273958404,-11707815.93715004,-11711155.521873841,14067577.634934934,-11638797.852858212,12942772.10411246,-9680710.273702689,17873346.12227721,-1513978.4706357587,-19727394.505337343,18364176.02108291,-15816250.988010151,-8995449.752277454,-11493859.875845369,-19244512.81817428,-19280658.256834853,18633290.890075654,-8865016.704914976,-8865261.60779472,16415327.95966323,9190147.54167489,-2844146.1980736633,-7347954.684384244,15808937.297465034,9176510.904052714,19271262.891811904,-19741765.851598755,19942452.629600868,19981191.812396925,19936541.56463974,19914021.631652266,19918296.30009873,19928181.470881168,19881972.75025288,10977715.924833277,19894440.53322173,-3441764.884397353,-19336852.3357873,-13991487.056038685,-10790098.055050293,16407992.005219955,14013721.265289148,19892637.157470874,18761953.95753452,18476820.213816624,17667805.814476512,-7327650.009263551,-8566435.566709256,3519710.791850803,-12501768.809385827,-19472684.37845325,15801156.065058582,-3821998.8690999374,13518193.683971971,-11567976.39281553,-11244292.709435929,19886113.83531039,14187557.782111922,-19460851.116581924,17088142.96201778,16548621.9179391,-7908771.147051676,11670746.546715882,16496580.055993244,-8188695.138600441,16683596.80052594,12732912.600068979,-19839693.6076496,15759032.769742409,19902288.557322655,-9193943.53631094,6013690.399685146,-7884425.574415187,19388493.4475663,-19629867.499453355,14230438.049965493,13734621.037972253,-6779412.649055758,10705350.526709374,9611892.564494286,-14047807.293370048,17958216.102058005,17931254.52138787,17948063.764497656,17957358.941978898,17937087.66270544,17973066.122129828,17956935.92791388,17962412.84686091,17959062.130188033,17961410.97144377,17953485.023699287,17195900.229105666,-12228357.008048467,17986146.162298035]],[\"mag\",[6.3,5.8,5.8,6.7,5.8,6.0,5.7,5.7,5.6,6.5,6.2,5.9,5.7,6.2,5.7,6.4,5.7,5.8,6.4,6.3,6.3,5.6,7.8,5.6,5.6,5.9,5.6,5.5,5.9,5.6,6.3,5.9,6.2,5.9,6.9,5.9,5.8,6.7,5.9,6.1,5.5,6.7,5.7,5.5,6.6,5.6,5.6,5.8,5.5,5.7,5.6,5.7,5.5,5.7,5.5,5.6,5.6,5.8,5.5,5.8,5.7,5.5,6.6,5.8,5.8,6.3,5.6,6.1,5.5,5.5,6.3,5.5,6.3,5.9,6.1,6.1,6.2,5.5,5.8,5.9,5.8,5.5,5.6,5.8,6.0,5.6,5.9,6.3,5.6,5.6,5.6,6.2,6.3,5.5,7.2,6.1,7.0,5.5,5.5,5.7,6.1,5.5,5.5,5.5,5.5,5.5,5.5,5.64,5.8,5.5,5.8,5.9,6.1,5.6,6.1,5.6,6.1,5.9,5.8,5.6,5.7,5.5,5.8,5.6,5.6,5.8,5.8,5.6,5.6,6.0,6.3,5.8,5.7,6.0,5.9,5.7,5.6,6.1,5.9,5.6,5.5,6.2,5.9,5.5,5.7,6.3,5.9,6.5,6.0,6.6,7.8,5.7,5.5,6.5,6.9,5.5,5.5,5.8,5.5,5.6,5.8,6.0,5.8,5.5]],[\"year\",[2016.0,2016.0,2016.0,2016.0,2016.0,2016.0,2016.0,2016.0,2016.0,2016.0,2016.0,2016.0,2016.0,2016.0,2016.0,2016.0,2016.0,2016.0,2016.0,2016.0,2016.0,2016.0,2016.0,2016.0,2016.0,2016.0,2016.0,2016.0,2016.0,2016.0,2016.0,2016.0,2016.0,2016.0,2016.0,2016.0,2016.0,2016.0,2016.0,2016.0,2016.0,2016.0,2016.0,2016.0,2016.0,2016.0,2016.0,2016.0,2016.0,2016.0,2016.0,2016.0,2016.0,2016.0,2016.0,2016.0,2016.0,2016.0,2016.0,2016.0,2016.0,2016.0,2016.0,2016.0,2016.0,2016.0,2016.0,2016.0,2016.0,2016.0,2016.0,2016.0,2016.0,2016.0,2016.0,2016.0,2016.0,2016.0,2016.0,2016.0,2016.0,2016.0,2016.0,2016.0,2016.0,2016.0,2016.0,2016.0,2016.0,2016.0,2016.0,2016.0,2016.0,2016.0,2016.0,2016.0,2016.0,2016.0,2016.0,2016.0,2016.0,2016.0,2016.0,2016.0,2016.0,2016.0,2016.0,2016.0,2016.0,2016.0,2016.0,2016.0,2016.0,2016.0,2016.0,2016.0,2016.0,2016.0,2016.0,2016.0,2016.0,2016.0,2016.0,2016.0,2016.0,2016.0,2016.0,2016.0,2016.0,2016.0,2016.0,2016.0,2016.0,2016.0,2016.0,2016.0,2016.0,2016.0,2016.0,2016.0,2016.0,2016.0,2016.0,2016.0,2016.0,2016.0,2016.0,2016.0,2016.0,2016.0,2016.0,2016.0,2016.0,2016.0,2016.0,2016.0,2016.0,2016.0,2016.0,2016.0,2016.0,2016.0,2016.0,2016.0]],[\"mag_s\",[25.2,23.2,23.2,26.8,23.2,24.0,22.8,22.8,22.4,26.0,24.8,23.6,22.8,24.8,22.8,25.6,22.8,23.2,25.6,25.2,25.2,22.4,31.2,22.4,22.4,23.6,22.4,22.0,23.6,22.4,25.2,23.6,24.8,23.6,27.6,23.6,23.2,26.8,23.6,24.4,22.0,26.8,22.8,22.0,26.4,22.4,22.4,23.2,22.0,22.8,22.4,22.8,22.0,22.8,22.0,22.4,22.4,23.2,22.0,23.2,22.8,22.0,26.4,23.2,23.2,25.2,22.4,24.4,22.0,22.0,25.2,22.0,25.2,23.6,24.4,24.4,24.8,22.0,23.2,23.6,23.2,22.0,22.4,23.2,24.0,22.4,23.6,25.2,22.4,22.4,22.4,24.8,25.2,22.0,28.8,24.4,28.0,22.0,22.0,22.8,24.4,22.0,22.0,22.0,22.0,22.0,22.0,22.56,23.2,22.0,23.2,23.6,24.4,22.4,24.4,22.4,24.4,23.6,23.2,22.4,22.8,22.0,23.2,22.4,22.4,23.2,23.2,22.4,22.4,24.0,25.2,23.2,22.8,24.0,23.6,22.8,22.4,24.4,23.6,22.4,22.0,24.8,23.6,22.0,22.8,25.2,23.6,26.0,24.0,26.4,31.2,22.8,22.0,26.0,27.6,22.0,22.0,23.2,22.0,22.4,23.2,24.0,23.2,22.0]]]}}},\"view\":{\"type\":\"object\",\"name\":\"CDSView\",\"id\":\"p2110\",\"attributes\":{\"filter\":{\"type\":\"object\",\"name\":\"AllIndices\",\"id\":\"p2111\"}}},\"glyph\":{\"type\":\"object\",\"name\":\"Circle\",\"id\":\"p2106\",\"attributes\":{\"x\":{\"type\":\"field\",\"field\":\"lon\"},\"y\":{\"type\":\"field\",\"field\":\"lat\"},\"size\":{\"type\":\"field\",\"field\":\"mag_s\"},\"line_color\":{\"type\":\"value\",\"value\":\"#1f77b4\"},\"fill_color\":{\"type\":\"value\",\"value\":\"#cc0000\"},\"fill_alpha\":{\"type\":\"value\",\"value\":0.7}}},\"nonselection_glyph\":{\"type\":\"object\",\"name\":\"Circle\",\"id\":\"p2107\",\"attributes\":{\"x\":{\"type\":\"field\",\"field\":\"lon\"},\"y\":{\"type\":\"field\",\"field\":\"lat\"},\"size\":{\"type\":\"field\",\"field\":\"mag_s\"},\"line_color\":{\"type\":\"value\",\"value\":\"#1f77b4\"},\"line_alpha\":{\"type\":\"value\",\"value\":0.1},\"fill_color\":{\"type\":\"value\",\"value\":\"#cc0000\"},\"fill_alpha\":{\"type\":\"value\",\"value\":0.1},\"hatch_alpha\":{\"type\":\"value\",\"value\":0.1}}},\"muted_glyph\":{\"type\":\"object\",\"name\":\"Circle\",\"id\":\"p2108\",\"attributes\":{\"x\":{\"type\":\"field\",\"field\":\"lon\"},\"y\":{\"type\":\"field\",\"field\":\"lat\"},\"size\":{\"type\":\"field\",\"field\":\"mag_s\"},\"line_color\":{\"type\":\"value\",\"value\":\"#1f77b4\"},\"line_alpha\":{\"type\":\"value\",\"value\":0.2},\"fill_color\":{\"type\":\"value\",\"value\":\"#cc0000\"},\"fill_alpha\":{\"type\":\"value\",\"value\":0.2},\"hatch_alpha\":{\"type\":\"value\",\"value\":0.2}}}}},{\"type\":\"object\",\"name\":\"GlyphRenderer\",\"id\":\"p2120\",\"attributes\":{\"data_source\":{\"type\":\"object\",\"name\":\"ColumnDataSource\",\"id\":\"p2068\",\"attributes\":{\"selected\":{\"type\":\"object\",\"name\":\"Selection\",\"id\":\"p2069\",\"attributes\":{\"indices\":[],\"line_indices\":[]}},\"selection_policy\":{\"type\":\"object\",\"name\":\"UnionRenderers\",\"id\":\"p2070\"},\"data\":{\"type\":\"map\",\"entries\":[[\"pred_lat\",[-4305644.878725946,-545572.9963252052,-2662437.544199333,2755248.2180776442,-5365811.401172721,-2198935.6254887776,-2201815.0661135376,-2169151.5511257183,-2151981.0195756736,-2022267.689426525,-2130721.2189970976,-2549699.865701337,-694543.9332678925,-7232331.040247741,12673256.347779717,499019.2775873914,1653476.4320984208,-1131687.975289045,-2610385.9209709303,-2291994.7871158165,-587136.108265621,3372.9807282539505,-2110306.486492369,-1702145.7202415739,-2114300.813983417,-1533175.837365457,369430.8808398337,-1523097.209169454,2255613.0303128827,5251466.08195597,5249092.034354799,-1158542.31074942,314783.38479557785,-696727.5869158688,-751615.0630744306,1355850.2420601917,-3515612.666032386,-1663110.5734038544,78148.23778704347,1358742.0221909478,1697280.2399914016,384206.4656621807,2899247.571116649,1108390.3548526065,-2736515.995592676,-1686526.5676896854,-2188094.3838645956,-2423170.738547443,-942997.9000432289,-2663406.851823695,-2033417.1551428244,-2109578.1952632125,4518380.554022869,-5588992.228074327,-7820139.622008823,8306487.562006566,4525320.617361077,-817948.6770221533,1099802.996351176,-7397288.521822361,-668525.4304657294,-698418.5745860382,5088588.534926192,-1691850.9498408462,-8433232.08722776,-3570322.1306225546,1618757.24354095,685451.8444193258,-2393392.991688738,-1766434.174267657,6635262.103856747,-1293287.889404825,-908799.531326025,-948748.992832175,-339539.992015826,6938469.688544394,7747885.474860748,2963540.901167296,34353.36095726692,6922941.295510339,-2593172.612202951,-7482427.682112884,6654349.953489209,4269774.326043047,-2157361.3814672176,1540382.0671977927,1547853.8366059961,-6832047.59130031,1464599.6400086829,632818.3313257238,636331.0777585702,857123.4469409954,862313.1988759948,638680.4740663961,-2064241.1614338474,-2664133.870717765,-822977.1091850322,-1504450.120204938,1973247.8774015973,-2047816.2328304106,-301988.9644560258,-4340474.349688632,-2337314.354431834,-3900003.6645173165,-3897255.305117063,-3900282.5196553133,-7337411.688928481,6658187.08326438,-1866135.711318369,-3924408.758540344,-3912532.1501572262,613680.5528100671,-1081459.7614575624,3608746.6061610063,8359970.740134858,8361875.379767513,8350300.101798156,8348464.775425542,-1312938.1458496503,4792667.472756803,4790503.900218573,-8586207.569116628,6625734.82365355,6629257.565175177,6752243.306047916,2808339.2316463753,6627150.819317838,-1641809.9026616956,6756972.061558729,-7641276.689954517,-7637796.156257059,-7675664.015505834,-3208248.7246229313,1450445.4558200159,4546886.706747683,-2371464.574741726,3151660.834632129,-448095.1517515751,1049075.6774900411,1977857.613992557,1926809.1237635878,5453657.620247199,-310681.9021402735,-1121049.0407249308,6858557.903920932,-2549170.4076041034,7104842.120234905,-143870.3768323784,-4487249.0510882195,-8100499.685198234,2164321.5495230677,7176067.416283686,-527676.4522642265,-8997805.451620065,-453675.0399595397,-1902394.1145143113,-7227922.704199101,1610771.2655774383,-929517.8827989912,-3697894.4979751343,4711592.3876203345,-2075577.6191125002,1591959.3923035788,1678726.4619239368,1726499.241972048,-3569999.0833416884,-7445379.231640741,-9036901.844784355,1266349.5260567088,-2764708.0832564547,-2361950.752767476,1541814.3773614864,-2207988.437418792,-5047525.047991203,-1736970.3674071126,-1066974.4236178973,-2220022.200725581,-2850083.1727469866,5434235.246962346,-3543498.6991029233,-3649032.4471866395,-509717.04716724897,3994117.608229388,-31715.053620725674,-3169524.199447897,-3178313.99124862,-4232681.143815502,5922688.114774268,1246500.756029532,-745752.8974622741,-2578074.42083684,-7572383.258442905,1230893.4115588807,-4321997.7203316195,-6357337.283314072,-4217157.9086806,4990992.382834879,-532580.2680479435,45619.11627917563,-2318066.2695521857,-2317341.8919830867,7280814.093520289,7254582.226507023,-1852960.1451625917,-7754111.940643026,-1969234.135804802,4497391.699737972,4429256.6953345,-2043834.993375725,34464.6820680013,4871567.652741578,3110671.5547305616,-396363.01566563087,1505010.8360824403,7227731.923012483,5800306.867275992,-3317861.212150935,681981.0936987327,-1145282.3105185104,-5989276.000660639,-605897.2791313904,-376534.060890135,-372999.13958976517,3920896.384432669,5512343.6078667715,6873195.893977935,6885703.918075628,-2876874.679370592,1574962.2867086118,-1839328.3396986248,-3534591.685046523,-419776.828952932,-1200527.5166430902,-7355095.6786795445,-1665850.7073915948,3334180.5471230606,-123795.04571138619,-698004.2220956333,-2032972.4655502085,-5985748.279869394,-161708.8821725821,-129028.0895611599,8062469.851229396,7771982.62055044,1576029.3031772126,5061494.911955777,-7912625.714267072,-1832961.9011957513,3221629.9168965113,1691758.742954441,1709872.5242152764,1698536.8710225923,1735030.4984869228,5128275.333156286,7787187.344932034,2747669.8187303916,1678530.6267919843,2118248.9355914155,-7448440.212338019,1815089.6939157222,-703995.8215343215,-2101533.516183289,-3739915.568881679,1718917.152009302,1701303.9921897436,2102014.9316169075,-6569926.986643506,4576798.589796728,-2129686.461762279,-566748.298184276,-681600.442976885,2698450.1605495107,4925775.566875482,1745701.721099107,1877309.0836236048,844230.1342541707,1725356.5830811297,-695092.6385978509,-2702494.352232406,4914743.655082393,3349465.5891309045,438911.39930979925,1512186.7203117542,-2557126.0721197636,106415.23801256623,4509494.443295251,4452482.453741789,-4206130.0392036885,-2153793.9305472,-8799329.294446291,6871116.152136846,-2104551.359970118,-7220161.650973685,-7219284.962370067,-3631956.9676027764,1831095.2137202795,-2735164.9224374145,-2720870.1036247457,-2343223.557681384,-26527.511136182584,-620133.7559040728,3289163.7310350225,-6862547.445647728,-805503.2306815294,-541126.3941315995,22972492.920816742,23017578.89083119,23070653.714063987,-961120.3823463281,-2475197.087909239,-2442723.714941221,-1746464.1334434794,-426236.4080493929,-419832.6093060029,-417177.49998489686,-425488.90432073775,-2478875.5770178144,-2469363.43797136,-2488321.031005311,-2480205.777766392,-2490671.2143681957,2114911.7816435685,-1726072.1813098392,-2420053.3593098465,-1707473.4933615183,-2113725.1115881503,1308391.019937781,-2472753.18361226,-2000220.328516855,-472794.39156972774,-2496656.043696367,3831869.552869018,-5081425.444171707,-1316405.7714694205,4151779.3925998537,4570289.9003546275,1064073.4976731613,-2054574.397347699,-2111410.720620923,1471113.6276090278,-8187111.827621816,4310739.577394617,-2456660.792872055,3792263.2916084253,3482140.0594611526,-330287.73264516547,274464.949188219,-2468081.975861971,-2451922.130950162,-2416088.7546149213,-2430626.024760267,-2449780.5835856874,-1657447.0457099949,-6795732.894736507,-4380114.846842927,3140736.139320978,-2347731.0651551904,-509784.05228970014,11972630.390174912,-2954956.4261257593,-1621239.7221826883,5653346.910651668,-751603.8537432499,-488869.975569843,-120254.43798601728,3599857.9663209543,-684209.0685570824,-6237394.496044554,-52320.747453207616,-3861757.15764775,-1566014.8139201794,-70121.559796827,1132049.8215287544,-3575065.421551152,1120201.224843237,-1818009.4917290597,1129381.2901968637,-2371952.904337748,-1612529.117119659,-2238506.885499229,3598666.3855736377,3610366.9396063318,-7211722.819822231,-2418106.7702445276,-836403.7278979729,-1959937.7578399326,-8316409.16625335,-2494688.855133488,3582901.595867437,3412595.806500549,7143535.427905174,-1731128.1413604217,-3234457.453569088,454601.3348356274,-7670127.402271534,-6999959.447355698,-605248.7137534146]],[\"pred_long\",[5780687.573505744,-8501191.21315532,19952716.286652006,10243363.50796821,-8293491.307233229,19597996.729239237,19587020.627447024,19613102.784139886,19624201.33737198,18604102.919589657,19620806.092902783,-7546904.878329982,16417053.411770526,-15123699.039937956,-10287657.533354852,13649673.134547904,16067855.301101107,17925454.77591754,-7770467.811690112,5192709.155084753,11435127.712502839,13923507.949950278,19618557.43918876,-19288127.794667084,19602182.34209307,18537177.64172474,10961585.730617331,18525444.56739513,-8526405.077819996,1472400.640824471,1468348.6113595958,17959785.70687819,14272093.803420337,17273645.761475686,17098918.688726567,16281210.237155495,-19753988.731687855,18607910.046174783,-8869591.935986578,15699053.828102991,-6737656.708059201,-8312393.356769928,7042560.793341977,13965208.231201438,-7420468.200686982,-19634654.237557467,-7113838.66329691,19411291.67928076,3342979.968267402,-19904325.70400417,-19863671.825966466,18857978.150292795,15733306.835420081,-9005435.110601611,-15876597.283969184,-16993432.33925086,4278063.6909309,17337788.05207077,13970161.94854174,-14379951.258049939,16626890.651915848,11375438.201539483,15796480.646445265,18719775.002472945,16731252.674534539,-19761447.137571003,16164992.688767318,10275278.80597864,18931883.16023045,-19717030.66074449,19934649.133296255,12754285.942301288,17895008.895185582,12837731.032599926,15235864.558861258,19176073.595234573,18121265.76022291,-12247782.259191895,13422926.463751087,-3597701.22710057,2800330.846497431,-3339729.4391362383,-19634220.09154337,6727738.14142952,18877414.533385303,13461921.68137597,13462467.146880858,15547347.626049919,13955200.608979123,14159983.944242429,14148139.550422024,13893997.152940981,13899607.655276963,14170982.309932806,-19833604.431503203,-7538834.215247469,9258653.55630907,18545404.152094364,-6806329.70192957,-19855946.253305417,-8382747.274951275,-10956943.707851252,-19325252.84484664,-8018298.394043178,-8027849.60635324,-8021871.749697642,-14504840.594770912,19885512.71006011,-19330217.69413602,-8011596.960697423,-7992717.175058885,13922261.171653392,12451029.385482254,14629017.486750808,-15218643.43363554,-15217841.933301827,-15209492.971492331,-15215348.37670806,-1551548.7987784883,7953087.436336478,7950694.067284424,-4231921.761997088,-19704841.176502623,-19702080.45313095,-19880269.562043745,14061588.646330256,-19708436.796055246,18632289.01465851,-19868358.376528863,-2865719.9153894004,-2870606.8410352245,-2876918.6561632035,-19658409.81689275,-10025555.79228209,6368120.52642185,-7648873.53189662,14476454.124618625,16973784.44912585,13798462.765942194,-11724480.464921793,-10473828.249757523,16444048.388287898,13594113.576692982,18028581.15218843,-18553163.120602652,-19628954.67962885,-17921024.26018397,13406350.991571967,-7980449.767173465,-2921234.945448006,16234411.523226002,19026682.83859,16156499.011619791,17347361.528278995,-8945445.037013115,-19783221.22997017,-16323778.810434842,-10354349.040289104,11828697.772202456,-7988286.659325312,2934938.3747646576,18782715.042567465,-10382156.649089262,-10242417.292296467,-10817538.309530836,-19821136.648534358,-13887941.372641826,-17932690.542819105,-9646423.870538358,19993436.956384186,-19652576.675575186,-10126934.452547526,3839208.862376577,8976614.494435232,-8169236.491609777,7366010.705790913,-19617444.244280823,-19727572.61652261,16461325.17325901,-19777221.10941641,20029237.304623302,17035678.086006906,-4290754.112881334,-8960406.37657573,-19638350.044651803,-19616453.500812765,-8163681.649019193,-12531825.07190001,13873592.290278576,16446909.299201284,19269426.120213814,-3066028.2071228167,13890891.33914785,-11201334.517938806,18258144.206102323,-8155822.492969188,14656736.039958334,17055359.37197916,13579241.292722998,-19309590.192492027,-19299949.924589332,18773854.01110032,18797075.256879795,-8197088.628206255,-15741678.061127735,7400920.498103682,15761270.291507354,3051701.3886577226,18832207.68817415,13381003.543518338,15972988.831047077,14491972.06163521,14035684.600822661,-5490934.070919933,18846512.24274109,16817848.10642263,-7669278.394559028,13961133.937838405,17976171.935922958,11117154.71900093,16873975.3936806,16348847.95976149,16340409.942359356,11561107.980233584,9220782.665541198,-18818515.390806578,-18828678.860316005,-1513956.2067375998,13440615.130838137,-8179132.7943413,-8032792.191744462,11312598.348986682,-8300671.414389395,-14446186.355071936,-19271218.364015583,14237840.796103245,-1520679.9039815138,14254382.872435123,-19908444.52516352,17814458.11164757,16484190.196667952,11097228.530148936,-17104406.739622675,-3792777.5027667037,16318858.48894178,14363520.501208851,-2851237.2496371954,18699236.556421585,15562921.222811898,-10452822.261844832,-10497105.155282399,-10470811.491557026,-10523287.499516975,15906798.261821399,-3746156.9000224797,15844915.75688942,-10465579.475489743,16224448.428800004,-3157232.2659297455,-10590758.24288678,16572221.649987271,-1413334.5190095599,-8029040.724904728,-10527105.758051185,-10479995.349547472,-10963711.932891482,18104078.030844428,16103488.670104034,18823524.76789228,16456026.365497254,12581774.127418952,-12115011.502522757,-14118940.44798695,-10511754.800270792,-10584012.281744706,13886304.976127166,-10482978.71190073,17000879.61318493,-19685415.925359197,15845483.486292463,15643995.20795664,14304365.323801303,-5491635.38371193,-7627299.814580885,-2839637.7586965365,16032244.19599634,15704630.934591737,-1731262.9847151493,-19543906.58866279,17209826.297403906,19677846.199985255,-7764823.913506894,958304.9684429747,927981.539150887,-7304629.138567501,-10560390.285798375,-19577959.220896453,-19556986.628831,-19347572.402750693,13686642.337440351,16384136.238342956,14606319.44257806,1868063.5069510029,13700479.350145955,14592938.839784708,6028117.405691953,5923410.2926518,6144858.15568686,13245249.424495943,18829524.888446037,18804589.322508343,-19287994.211278133,14217825.551658614,14211881.090850255,14221254.191975046,14223180.019165771,18805669.121569037,18797242.236115985,18810967.929330796,18794114.158424694,18796396.207985956,-11862683.612741644,-19276995.84558776,18808697.011718616,-19301107.647293583,-19786471.75910133,-6810348.335547209,18774644.379484948,-19875772.254615694,15972632.608676542,-19968746.293326236,15744806.138819026,-9371976.797936622,-1571185.556954422,5116154.741266219,16133622.856261773,-9404994.158905908,-19815515.014249295,-19093797.359589268,15997913.265035696,-1903663.4801066918,14391383.769754406,18758402.86577821,15645943.299045524,10573548.249610139,-8872942.652659455,14265381.238125501,18776581.338624753,18768288.036560655,18766718.431740474,18776425.491337646,18791709.65742356,-19486309.884126347,15551076.828991493,19760311.67876491,14511408.444727717,19207922.10155053,17057140.48383185,364526.8045516536,-1543366.8162051828,-8478025.62712124,16286175.086444875,14447221.626336314,16008065.60259604,-2608471.704115224,6379386.058890129,16437035.260367919,11891749.131787766,-8940079.43755688,-19900696.688604306,18968629.72414131,13766669.919371633,15609185.603185581,-19869683.078469306,15605556.58778572,-19360374.14419192,15607170.720402226,-19338555.52399644,18639658.36494903,-7910262.828228306,6376324.772893313,6378406.4473711485,240761.79468769205,18871904.218591034,12041907.992918814,-19763306.17306725,-16822913.143253725,-12725977.395792559,14702844.573044907,15879447.062933493,17878344.36741383,-19250691.049913306,8238176.652258052,14114409.744711664,-15826770.679890113,-13070077.073783645,16791877.269220557]],[\"pred_mag\",[5.831047958456975,5.90329179800919,5.9310048083766524,5.855918313428821,5.945000474597924,5.988223771584147,5.891133639917654,5.891133639917654,5.9873689773266054,6.0294297649154425,5.914121852765171,5.886643823790755,5.846080275034415,5.800101562371729,5.93183189084289,5.956358377809961,5.888545413855178,6.026262886892703,5.866886366891406,5.853163258235563,5.9546847860412875,5.84117048008481,5.914121852765171,5.844120461693921,5.914121852765171,6.0322845241958385,5.874418815185012,6.0314297299382975,5.959320961053804,5.881942869797702,5.8611860687690935,5.872624585637528,5.84117048008481,5.871455486796349,5.896269210026195,5.890550877633822,5.942330353274635,5.884735125349021,5.848255278770148,5.906932916715416,5.865672357809897,5.893032685026952,5.953216916467012,5.9496508074924535,5.886643823790755,5.858870763036771,5.980467085034486,5.8962609049236345,5.934768695441141,5.840830183819492,5.844463039996301,5.928151383458801,5.846874363833243,5.811747748181858,5.906416195269432,5.857311155335849,5.858494189756838,5.986964374727291,5.949462150085046,5.800101562371729,5.867318938550136,5.861199582122182,5.846874363833243,5.913619841196953,5.867211340659816,5.925077445363833,5.840330279223843,5.847861068335255,5.898506239126546,5.868729231200314,5.987129241454613,5.863142454179378,5.929496199721138,5.842072105160857,5.843002840121671,5.987615864864763,6.010982552884237,5.975816824182426,5.84117048008481,5.853578427662036,5.935122642057738,6.007316435258378,5.954975829301268,5.957756212846224,5.928151383458801,5.949462150085046,5.952467209608856,5.8608341443769785,5.871994388408205,5.952467209608856,5.952467209608856,5.898560410066311,5.871994388408205,5.8763016379159705,5.85086138867712,5.876066042549406,5.84839304238329,6.0314297299382975,5.959625135937437,5.844463039996301,5.976140907720582,5.800106683918919,5.900709033588373,5.972366885323935,5.972366885323935,5.962396866469932,5.800101562371729,5.987129241454613,5.817179794707916,5.972366885323935,5.962396866469932,5.9496508074924535,5.863142454179378,5.912662856706385,5.872012029662401,5.897916070896057,5.897916070896057,5.872012029662401,5.839101299097923,5.949852735032815,5.8611860687690935,6.018974224024166,5.984964605142902,5.984964605142902,6.128881411230986,5.889744367973411,5.984964605142902,5.914534683643654,6.100182292958765,6.017343201020987,5.8401112765890195,6.017343201020987,5.798288386652587,5.962583027783661,5.8792509907854456,5.870082897506847,5.882039881583757,5.915738953341746,5.922483575446437,5.854668252360044,5.889290645099619,5.846022076017237,5.887133678402367,5.872624585637528,5.880541509730916,5.813270105026325,5.974610551200812,5.964255034976739,5.863740798649819,5.824612413702914,5.84204885108083,5.919059645146646,5.900138296470358,5.861393779979419,5.899930585194544,5.857446072546103,5.800101562371729,5.833698968331835,5.881673410186777,5.962396866469932,5.968920786943479,5.992063716772195,5.833698968331835,5.881801575333755,5.965399429900064,5.829406211846978,5.80984506899604,5.799343685166633,5.893032685026952,5.914708225596,5.852091671560234,5.881801575333755,5.933124003151949,5.833057008652395,5.881396612793017,5.839101299097923,5.828634603777242,5.836296929701528,5.846022076017237,5.925077445363833,5.92120725208766,5.872603159241866,5.851806372138846,5.976140907720582,5.9127682134356805,5.9127682134356805,5.975247681609037,5.9823771860256665,5.898560410066311,5.846080275034415,5.956951922818953,5.8262434367060925,5.890538851255722,5.800106683918919,5.901798475719984,5.841584770143665,5.997649654882762,5.872603159241866,5.8434724248028225,5.914429736436536,5.823350883069546,5.9270812039572345,5.908758213309815,5.887260078659484,5.799343685166633,5.828490321872076,5.930079910419865,5.8792509907854456,5.916366529613972,5.847387368388377,5.896493055511609,5.9556466350139,5.960095265833021,5.839184170094192,5.908758213309815,5.848691453364962,5.862526593396871,5.84117048008481,5.872624585637528,5.8438089571952085,5.985600389609345,5.9148108482490365,5.9148108482490365,5.905510603219997,5.966104384827077,5.976880728012974,5.976880728012974,5.82361044832816,5.884193943110615,5.887260078659484,5.868885063314321,5.950363361431194,5.885257806854695,5.800101562371729,5.844120461693921,5.9112814250181405,5.867908520154667,5.953833693691402,5.844463039996301,5.901798475719984,5.934283416189263,5.862077595887639,5.857311155335849,5.837846569099055,5.965831574198687,5.904674850429526,6.003874072252729,5.913446730611371,5.96173101307556,5.881801575333755,5.881801575333755,5.962583027783661,5.962583027783661,5.848023033871643,5.837846569099055,5.841693905766597,5.962583027783661,5.91614530347201,5.862150679302757,5.884370104019638,5.989091190500522,5.829835256226562,5.972366885323935,5.833698968331835,5.933829674553122,5.884370104019638,5.918615301116746,5.964325906650234,5.9106075851624995,5.911717453260399,5.95744715900827,5.854668252360044,5.9823771860256665,5.884370104019638,5.854668252360044,5.898560410066311,5.881801575333755,5.896269210026195,5.821007769531657,5.846874363833243,5.877074378713112,5.8780981378429065,5.839184170094192,5.866886366891406,5.845782587752016,5.926551633328804,5.846874363833243,5.831047958456975,5.828634603777242,5.861393779979419,5.866827623815684,5.8677659306671845,5.860519656299578,5.833305253412632,5.886748552964642,5.884370104019638,5.896205055136198,5.813089285582237,5.809148550083847,5.84117048008481,5.897044901481721,5.9556466350139,5.833305253412632,5.960730069064156,5.846962979786761,5.8406964225989215,5.8406964225989215,5.8406964225989215,5.842072105160857,5.985460602765712,5.898505581772436,5.829588124269189,5.917672783742319,5.925694342552907,5.917672783742319,5.960095265833021,5.974480393054123,6.000722040997475,5.898505581772436,5.898505581772436,5.905109612215943,5.854668252360044,5.829588124269189,5.898505581772436,5.829588124269189,5.85086138867712,5.867732232710837,5.898505581772436,5.85313067611658,5.855113879504924,5.838369989155734,5.954228653373969,5.802009363104737,5.839101299097923,5.954939810729821,5.964325906650234,5.970996402759317,5.845204663397922,5.810089659577248,5.851170544311225,5.8401112765890195,5.8858778457018825,5.898505581772436,5.844146715409538,5.877422076862741,5.896633192533204,5.896642600690423,5.998760433138615,5.998760433138615,5.905109612215943,5.898505581772436,5.898505581772436,5.86689232184736,5.8608341443769785,5.993848127040747,5.944848242002777,5.977075321815655,5.872603159241866,5.837846569099055,5.821047867337298,5.963302917087923,5.926937089967967,5.84797361157871,5.855113879504924,5.848428699909158,5.883434585477909,5.846080275034415,5.849216527796577,5.97332450560418,5.8296012445635,5.895743504849426,5.961438632860338,5.94750170673821,5.899050710895681,5.898911357904828,5.835007948981051,5.88036689505731,5.811649487271852,5.914534683643654,5.9533230747564385,5.957756212846224,5.875413026667321,6.005685412255199,6.000722040997475,5.838710892346211,5.858940446708821,5.799343685166633,5.822463019906135,5.877074378713112,5.8907275773022505,5.856516219141211,5.81320042638913,5.821047867337298,5.951869833217496,5.799343685166633,5.80984506899604,5.867318938550136]],[\"year\",[2017,2017,2017,2017,2017,2017,2017,2017,2017,2017,2017,2017,2017,2017,2017,2017,2017,2017,2017,2017,2017,2017,2017,2017,2017,2017,2017,2017,2017,2017,2017,2017,2017,2017,2017,2017,2017,2017,2017,2017,2017,2017,2017,2017,2017,2017,2017,2017,2017,2017,2017,2017,2017,2017,2017,2017,2017,2017,2017,2017,2017,2017,2017,2017,2017,2017,2017,2017,2017,2017,2017,2017,2017,2017,2017,2017,2017,2017,2017,2017,2017,2017,2017,2017,2017,2017,2017,2017,2017,2017,2017,2017,2017,2017,2017,2017,2017,2017,2017,2017,2017,2017,2017,2017,2017,2017,2017,2017,2017,2017,2017,2017,2017,2017,2017,2017,2017,2017,2017,2017,2017,2017,2017,2017,2017,2017,2017,2017,2017,2017,2017,2017,2017,2017,2017,2017,2017,2017,2017,2017,2017,2017,2017,2017,2017,2017,2017,2017,2017,2017,2017,2017,2017,2017,2017,2017,2017,2017,2017,2017,2017,2017,2017,2017,2017,2017,2017,2017,2017,2017,2017,2017,2017,2017,2017,2017,2017,2017,2017,2017,2017,2017,2017,2017,2017,2017,2017,2017,2017,2017,2017,2017,2017,2017,2017,2017,2017,2017,2017,2017,2017,2017,2017,2017,2017,2017,2017,2017,2017,2017,2017,2017,2017,2017,2017,2017,2017,2017,2017,2017,2017,2017,2017,2017,2017,2017,2017,2017,2017,2017,2017,2017,2017,2017,2017,2017,2017,2017,2017,2017,2017,2017,2017,2017,2017,2017,2017,2017,2017,2017,2017,2017,2017,2017,2017,2017,2017,2017,2017,2017,2017,2017,2017,2017,2017,2017,2017,2017,2017,2017,2017,2017,2017,2017,2017,2017,2017,2017,2017,2017,2017,2017,2017,2017,2017,2017,2017,2017,2017,2017,2017,2017,2017,2017,2017,2017,2017,2017,2017,2017,2017,2017,2017,2017,2017,2017,2017,2017,2017,2017,2017,2017,2017,2017,2017,2017,2017,2017,2017,2017,2017,2017,2017,2017,2017,2017,2017,2017,2017,2017,2017,2017,2017,2017,2017,2017,2017,2017,2017,2017,2017,2017,2017,2017,2017,2017,2017,2017,2017,2017,2017,2017,2017,2017,2017,2017,2017,2017,2017,2017,2017,2017,2017,2017,2017,2017,2017,2017,2017,2017,2017,2017,2017,2017,2017,2017,2017,2017,2017,2017,2017,2017,2017,2017,2017,2017,2017,2017,2017,2017,2017,2017,2017,2017,2017,2017,2017]],[\"pred_mag_s\",[23.3241918338279,23.61316719203676,23.72401923350661,23.423673253715283,23.780001898391696,23.95289508633659,23.564534559670616,23.564534559670616,23.949475909306422,24.11771905966177,23.656487411060684,23.54657529516302,23.38432110013766,23.200406249486917,23.72732756337156,23.825433511239844,23.554181655420713,24.105051547570813,23.467545467565625,23.412653032942252,23.81873914416515,23.36468192033924,23.656487411060684,23.376481846775683,23.656487411060684,24.129138096783354,23.49767526074005,24.12571891975319,23.837283844215214,23.527771479190807,23.444744275076374,23.49049834255011,23.36468192033924,23.485821947185396,23.58507684010478,23.562203510535287,23.76932141309854,23.538940501396084,23.393021115080593,23.627731666861663,23.46268943123959,23.57213074010781,23.812867665868048,23.798603229969814,23.54657529516302,23.435483052147084,23.921868340137944,23.585043619694538,23.739074781764565,23.363320735277966,23.377852159985203,23.712605533835205,23.387497455332973,23.246990992727433,23.625664781077727,23.429244621343397,23.433976759027352,23.947857498909165,23.797848600340185,23.200406249486917,23.469275754200545,23.444798328488726,23.387497455332973,23.65447936478781,23.468845362639264,23.70030978145533,23.361321116895372,23.39144427334102,23.594024956506185,23.474916924801256,23.948516965818452,23.452569816717514,23.71798479888455,23.368288420643427,23.372011360486685,23.95046345945905,24.04393021153695,23.903267296729705,23.36468192033924,23.414313710648145,23.740490568230953,24.029265741033512,23.81990331720507,23.831024851384896,23.712605533835205,23.797848600340185,23.809868838435424,23.443336577507914,23.48797755363282,23.809868838435424,23.809868838435424,23.594241640265246,23.48797755363282,23.505206551663882,23.40344555470848,23.504264170197622,23.39357216953316,24.12571891975319,23.83850054374975,23.377852159985203,23.90456363088233,23.200426735675677,23.602836134353492,23.88946754129574,23.88946754129574,23.84958746587973,23.200406249486917,23.948516965818452,23.268719178831663,23.88946754129574,23.84958746587973,23.798603229969814,23.452569816717514,23.65065142682554,23.488048118649605,23.59166428358423,23.59166428358423,23.488048118649605,23.35640519639169,23.79941094013126,23.444744275076374,24.075896896096666,23.939858420571607,23.939858420571607,24.515525644923944,23.558977471893645,23.939858420571607,23.658138734574617,24.40072917183506,24.069372804083947,23.360445106356078,24.069372804083947,23.193153546610347,23.850332111134644,23.517003963141782,23.480331590027387,23.528159526335028,23.662955813366985,23.689934301785748,23.418673009440177,23.557162580398476,23.384088304068946,23.548534713609467,23.49049834255011,23.522166038923665,23.2530804201053,23.89844220480325,23.857020139906957,23.454963194599276,23.298449654811655,23.36819540432332,23.676238580586585,23.60055318588143,23.445575119917677,23.599722340778175,23.42978429018441,23.200406249486917,23.33479587332734,23.52669364074711,23.84958746587973,23.875683147773916,23.96825486708878,23.33479587332734,23.52720630133502,23.861597719600255,23.31762484738791,23.23938027598416,23.197374740666532,23.57213074010781,23.658832902384,23.408366686240935,23.52720630133502,23.732496012607797,23.33222803460958,23.525586451172067,23.35640519639169,23.314538415108967,23.345187718806113,23.384088304068946,23.70030978145533,23.68482900835064,23.490412636967463,23.407225488555383,23.90456363088233,23.651072853742722,23.651072853742722,23.90099072643615,23.929508744102666,23.594241640265246,23.38432110013766,23.82780769127581,23.30497374682437,23.56215540502289,23.200426735675677,23.607193902879935,23.36633908057466,23.99059861953105,23.490412636967463,23.37388969921129,23.657718945746144,23.293403532278184,23.708324815828938,23.63503285323926,23.549040314637935,23.197374740666532,23.313961287488304,23.72031964167946,23.517003963141782,23.66546611845589,23.389549473553508,23.585972222046436,23.8225865400556,23.840381063332085,23.35673668037677,23.63503285323926,23.39476581345985,23.450106373587484,23.36468192033924,23.49049834255011,23.375235828780834,23.94240155843738,23.659243392996146,23.659243392996146,23.62204241287999,23.86441753930831,23.907522912051896,23.907522912051896,23.29444179331264,23.53677577244246,23.549040314637935,23.475540253257282,23.801453445724775,23.54103122741878,23.200406249486917,23.376481846775683,23.645125700072562,23.471634080618667,23.815334774765606,23.377852159985203,23.607193902879935,23.737133664757053,23.448310383550556,23.429244621343397,23.35138627639622,23.86332629679475,23.618699401718104,24.015496289010915,23.653786922445484,23.84692405230224,23.52720630133502,23.52720630133502,23.850332111134644,23.850332111134644,23.39209213548657,23.35138627639622,23.36677562306639,23.850332111134644,23.66458121388804,23.448602717211028,23.53748041607855,23.95636476200209,23.319341024906247,23.88946754129574,23.33479587332734,23.735318698212488,23.53748041607855,23.674461204466983,23.857303626600935,23.642430340649998,23.646869813041597,23.82978863603308,23.418673009440177,23.929508744102666,23.53748041607855,23.418673009440177,23.594241640265246,23.52720630133502,23.58507684010478,23.284031078126628,23.387497455332973,23.508297514852448,23.512392551371626,23.35673668037677,23.467545467565625,23.383130351008063,23.706206533315218,23.387497455332973,23.3241918338279,23.314538415108967,23.445575119917677,23.467310495262737,23.471063722668738,23.442078625198313,23.33322101365053,23.546994211858568,23.53748041607855,23.584820220544792,23.252357142328947,23.23659420033539,23.36468192033924,23.588179605926882,23.8225865400556,23.33322101365053,23.842920276256624,23.387851919147042,23.362785690395686,23.362785690395686,23.362785690395686,23.368288420643427,23.941842411062847,23.594022327089743,23.318352497076756,23.670691134969275,23.702777370211628,23.670691134969275,23.840381063332085,23.897921572216493,24.0028881639899,23.594022327089743,23.594022327089743,23.620438448863773,23.418673009440177,23.318352497076756,23.594022327089743,23.318352497076756,23.40344555470848,23.47092893084335,23.594022327089743,23.41252270446632,23.420455518019697,23.353479956622937,23.816914613495875,23.20803745241895,23.35640519639169,23.819759242919282,23.857303626600935,23.883985611037268,23.38081865359169,23.240358638308994,23.4046821772449,23.360445106356078,23.54351138280753,23.594022327089743,23.376586861638152,23.509688307450965,23.586532770132816,23.58657040276169,23.99504173255446,23.99504173255446,23.620438448863773,23.594022327089743,23.594022327089743,23.46756928738944,23.443336577507914,23.975392508162987,23.77939296801111,23.90830128726262,23.490412636967463,23.35138627639622,23.284191469349192,23.85321166835169,23.707748359871868,23.39189444631484,23.420455518019697,23.393714799636633,23.533738341911636,23.38432110013766,23.39686611118631,23.89329802241672,23.318404978254,23.582974019397703,23.84575453144135,23.79000682695284,23.596202843582724,23.59564543161931,23.340031795924205,23.52146758022924,23.24659794908741,23.658138734574617,23.813292299025754,23.831024851384896,23.501652106669283,24.022741649020794,24.0028881639899,23.354843569384844,23.435761786835283,23.197374740666532,23.28985207962454,23.508297514852448,23.562910309209002,23.426064876564844,23.25280170555652,23.284191469349192,23.807479332869985,23.197374740666532,23.23938027598416,23.469275754200545]]]}}},\"view\":{\"type\":\"object\",\"name\":\"CDSView\",\"id\":\"p2121\",\"attributes\":{\"filter\":{\"type\":\"object\",\"name\":\"AllIndices\",\"id\":\"p2122\"}}},\"glyph\":{\"type\":\"object\",\"name\":\"Circle\",\"id\":\"p2117\",\"attributes\":{\"x\":{\"type\":\"field\",\"field\":\"pred_long\"},\"y\":{\"type\":\"field\",\"field\":\"pred_lat\"},\"size\":{\"type\":\"field\",\"field\":\"pred_mag_s\"},\"line_color\":{\"type\":\"value\",\"value\":\"#1f77b4\"},\"fill_color\":{\"type\":\"value\",\"value\":\"#ccff33\"},\"fill_alpha\":{\"type\":\"value\",\"value\":7.0}}},\"nonselection_glyph\":{\"type\":\"object\",\"name\":\"Circle\",\"id\":\"p2118\",\"attributes\":{\"x\":{\"type\":\"field\",\"field\":\"pred_long\"},\"y\":{\"type\":\"field\",\"field\":\"pred_lat\"},\"size\":{\"type\":\"field\",\"field\":\"pred_mag_s\"},\"line_color\":{\"type\":\"value\",\"value\":\"#1f77b4\"},\"line_alpha\":{\"type\":\"value\",\"value\":0.1},\"fill_color\":{\"type\":\"value\",\"value\":\"#ccff33\"},\"fill_alpha\":{\"type\":\"value\",\"value\":0.1},\"hatch_alpha\":{\"type\":\"value\",\"value\":0.1}}},\"muted_glyph\":{\"type\":\"object\",\"name\":\"Circle\",\"id\":\"p2119\",\"attributes\":{\"x\":{\"type\":\"field\",\"field\":\"pred_long\"},\"y\":{\"type\":\"field\",\"field\":\"pred_lat\"},\"size\":{\"type\":\"field\",\"field\":\"pred_mag_s\"},\"line_color\":{\"type\":\"value\",\"value\":\"#1f77b4\"},\"line_alpha\":{\"type\":\"value\",\"value\":0.2},\"fill_color\":{\"type\":\"value\",\"value\":\"#ccff33\"},\"fill_alpha\":{\"type\":\"value\",\"value\":0.2},\"hatch_alpha\":{\"type\":\"value\",\"value\":0.2}}}}},{\"type\":\"object\",\"name\":\"TileRenderer\",\"id\":\"p2125\",\"attributes\":{\"tile_source\":{\"type\":\"object\",\"name\":\"WMTSTileSource\",\"id\":\"p2124\",\"attributes\":{\"url\":\"https://a.basemaps.cartocdn.com/light_all/{z}/{x}/{y}.png\",\"max_zoom\":20,\"attribution\":\"&copy; <a href=\\\"https://www.openstreetmap.org/copyright\\\">OpenStreetMap</a> contributors &copy; <a href=\\\"https://carto.com/attributions\\\">CARTO</a>\"}}}}],\"toolbar\":{\"type\":\"object\",\"name\":\"Toolbar\",\"id\":\"p2080\",\"attributes\":{\"tools\":[{\"type\":\"object\",\"name\":\"PanTool\",\"id\":\"p2095\"},{\"type\":\"object\",\"name\":\"WheelZoomTool\",\"id\":\"p2096\"},{\"type\":\"object\",\"name\":\"BoxZoomTool\",\"id\":\"p2097\",\"attributes\":{\"overlay\":{\"type\":\"object\",\"name\":\"BoxAnnotation\",\"id\":\"p2098\",\"attributes\":{\"syncable\":false,\"level\":\"overlay\",\"visible\":false,\"left_units\":\"canvas\",\"right_units\":\"canvas\",\"bottom_units\":\"canvas\",\"top_units\":\"canvas\",\"line_color\":\"black\",\"line_alpha\":1.0,\"line_width\":2,\"line_dash\":[4,4],\"fill_color\":\"lightgrey\",\"fill_alpha\":0.5}}}},{\"type\":\"object\",\"name\":\"SaveTool\",\"id\":\"p2099\"},{\"type\":\"object\",\"name\":\"ResetTool\",\"id\":\"p2100\"},{\"type\":\"object\",\"name\":\"HelpTool\",\"id\":\"p2101\"},{\"type\":\"object\",\"name\":\"HoverTool\",\"id\":\"p2102\",\"attributes\":{\"renderers\":\"auto\",\"tooltips\":[[\"Year\",\" @year\"],[\"Magnitude\",\" @mag\"],[\"Predicted Magnitude\",\" @pred_mag\"]]}}]}},\"left\":[{\"type\":\"object\",\"name\":\"LinearAxis\",\"id\":\"p2090\",\"attributes\":{\"visible\":false,\"ticker\":{\"type\":\"object\",\"name\":\"BasicTicker\",\"id\":\"p2091\",\"attributes\":{\"mantissas\":[1,2,5]}},\"formatter\":{\"type\":\"object\",\"name\":\"BasicTickFormatter\",\"id\":\"p2092\"},\"axis_label_standoff\":10,\"axis_label_text_color\":\"#E0E0E0\",\"axis_label_text_font\":\"Helvetica\",\"axis_label_text_font_size\":\"1.25em\",\"axis_label_text_font_style\":\"normal\",\"major_label_policy\":{\"type\":\"object\",\"name\":\"AllLabels\",\"id\":\"p2093\"},\"major_label_text_color\":\"#E0E0E0\",\"major_label_text_font\":\"Helvetica\",\"major_label_text_font_size\":\"1.025em\",\"axis_line_color\":\"#E0E0E0\",\"axis_line_alpha\":0,\"major_tick_line_color\":\"#E0E0E0\",\"major_tick_line_alpha\":0,\"minor_tick_line_color\":\"#E0E0E0\",\"minor_tick_line_alpha\":0}}],\"below\":[{\"type\":\"object\",\"name\":\"LinearAxis\",\"id\":\"p2085\",\"attributes\":{\"visible\":false,\"ticker\":{\"type\":\"object\",\"name\":\"BasicTicker\",\"id\":\"p2086\",\"attributes\":{\"mantissas\":[1,2,5]}},\"formatter\":{\"type\":\"object\",\"name\":\"BasicTickFormatter\",\"id\":\"p2087\"},\"axis_label_standoff\":10,\"axis_label_text_color\":\"#E0E0E0\",\"axis_label_text_font\":\"Helvetica\",\"axis_label_text_font_size\":\"1.25em\",\"axis_label_text_font_style\":\"normal\",\"major_label_policy\":{\"type\":\"object\",\"name\":\"AllLabels\",\"id\":\"p2088\"},\"major_label_text_color\":\"#E0E0E0\",\"major_label_text_font\":\"Helvetica\",\"major_label_text_font_size\":\"1.025em\",\"axis_line_color\":\"#E0E0E0\",\"axis_line_alpha\":0,\"major_tick_line_color\":\"#E0E0E0\",\"major_tick_line_alpha\":0,\"minor_tick_line_color\":\"#E0E0E0\",\"minor_tick_line_alpha\":0}}],\"center\":[{\"type\":\"object\",\"name\":\"Grid\",\"id\":\"p2089\",\"attributes\":{\"axis\":{\"id\":\"p2085\"},\"grid_line_color\":null,\"grid_line_alpha\":0.25}},{\"type\":\"object\",\"name\":\"Grid\",\"id\":\"p2094\",\"attributes\":{\"dimension\":1,\"axis\":{\"id\":\"p2090\"},\"grid_line_color\":null,\"grid_line_alpha\":0.25}},{\"type\":\"object\",\"name\":\"Legend\",\"id\":\"p2112\",\"attributes\":{\"location\":\"bottom_right\",\"border_line_alpha\":0,\"background_fill_color\":\"black\",\"background_fill_alpha\":0.8,\"click_policy\":\"hide\",\"label_text_color\":\"white\",\"label_text_font\":\"Helvetica\",\"label_text_font_size\":\"1.025em\",\"label_standoff\":8,\"glyph_width\":15,\"spacing\":8,\"items\":[{\"type\":\"object\",\"name\":\"LegendItem\",\"id\":\"p2113\",\"attributes\":{\"label\":{\"type\":\"value\",\"value\":\"Quakes 2016\"},\"renderers\":[{\"id\":\"p2109\"}]}},{\"type\":\"object\",\"name\":\"LegendItem\",\"id\":\"p2123\",\"attributes\":{\"label\":{\"type\":\"value\",\"value\":\"Predicted Quakes 2017\"},\"renderers\":[{\"id\":\"p2120\"}]}}]}}],\"background_fill_color\":\"#20262B\",\"border_fill_color\":\"#15191C\"}}]}};\n",
       "  const render_items = [{\"docid\":\"c2e253fc-111c-4844-991e-86b9ab07db78\",\"roots\":{\"p2071\":\"b5caf9ac-8b8b-4a53-8a53-fa283f2429d2\"},\"root_ids\":[\"p2071\"]}];\n",
       "  root.Bokeh.embed.embed_items_notebook(docs_json, render_items);\n",
       "  }\n",
       "  if (root.Bokeh !== undefined) {\n",
       "    embed_document(root);\n",
       "  } else {\n",
       "    let attempts = 0;\n",
       "    const timer = setInterval(function(root) {\n",
       "      if (root.Bokeh !== undefined) {\n",
       "        clearInterval(timer);\n",
       "        embed_document(root);\n",
       "      } else {\n",
       "        attempts++;\n",
       "        if (attempts > 100) {\n",
       "          clearInterval(timer);\n",
       "          console.log(\"Bokeh: ERROR: Unable to run BokehJS code because BokehJS library is missing\");\n",
       "        }\n",
       "      }\n",
       "    }, 10, root)\n",
       "  }\n",
       "})(window);"
      ],
      "application/vnd.bokehjs_exec.v0+json": ""
     },
     "metadata": {
      "application/vnd.bokehjs_exec.v0+json": {
       "id": "p2071"
      }
     },
     "output_type": "display_data"
    },
    {
     "data": {
      "text/html": [
       "<div style=\"display: table;\"><div style=\"display: table-row;\"><div style=\"display: table-cell;\"><b title=\"bokeh.plotting._figure.figure\">figure</b>(</div><div style=\"display: table-cell;\">id&nbsp;=&nbsp;'p2071', <span id=\"p2129\" style=\"cursor: pointer;\">&hellip;)</span></div></div><div class=\"p2128\" style=\"display: none;\"><div style=\"display: table-cell;\"></div><div style=\"display: table-cell;\">above&nbsp;=&nbsp;[],</div></div><div class=\"p2128\" style=\"display: none;\"><div style=\"display: table-cell;\"></div><div style=\"display: table-cell;\">align&nbsp;=&nbsp;'auto',</div></div><div class=\"p2128\" style=\"display: none;\"><div style=\"display: table-cell;\"></div><div style=\"display: table-cell;\">aspect_ratio&nbsp;=&nbsp;None,</div></div><div class=\"p2128\" style=\"display: none;\"><div style=\"display: table-cell;\"></div><div style=\"display: table-cell;\">aspect_scale&nbsp;=&nbsp;1,</div></div><div class=\"p2128\" style=\"display: none;\"><div style=\"display: table-cell;\"></div><div style=\"display: table-cell;\">background_fill_alpha&nbsp;=&nbsp;1.0,</div></div><div class=\"p2128\" style=\"display: none;\"><div style=\"display: table-cell;\"></div><div style=\"display: table-cell;\">background_fill_color&nbsp;=&nbsp;'#ffffff',</div></div><div class=\"p2128\" style=\"display: none;\"><div style=\"display: table-cell;\"></div><div style=\"display: table-cell;\">below&nbsp;=&nbsp;[LinearAxis(id='p2085', ...)],</div></div><div class=\"p2128\" style=\"display: none;\"><div style=\"display: table-cell;\"></div><div style=\"display: table-cell;\">border_fill_alpha&nbsp;=&nbsp;1.0,</div></div><div class=\"p2128\" style=\"display: none;\"><div style=\"display: table-cell;\"></div><div style=\"display: table-cell;\">border_fill_color&nbsp;=&nbsp;'#ffffff',</div></div><div class=\"p2128\" style=\"display: none;\"><div style=\"display: table-cell;\"></div><div style=\"display: table-cell;\">center&nbsp;=&nbsp;[Grid(id='p2089', ...), Grid(id='p2094', ...), Legend(id='p2112', ...)],</div></div><div class=\"p2128\" style=\"display: none;\"><div style=\"display: table-cell;\"></div><div style=\"display: table-cell;\">context_menu&nbsp;=&nbsp;None,</div></div><div class=\"p2128\" style=\"display: none;\"><div style=\"display: table-cell;\"></div><div style=\"display: table-cell;\">css_classes&nbsp;=&nbsp;[],</div></div><div class=\"p2128\" style=\"display: none;\"><div style=\"display: table-cell;\"></div><div style=\"display: table-cell;\">disabled&nbsp;=&nbsp;False,</div></div><div class=\"p2128\" style=\"display: none;\"><div style=\"display: table-cell;\"></div><div style=\"display: table-cell;\">extra_x_ranges&nbsp;=&nbsp;{},</div></div><div class=\"p2128\" style=\"display: none;\"><div style=\"display: table-cell;\"></div><div style=\"display: table-cell;\">extra_x_scales&nbsp;=&nbsp;{},</div></div><div class=\"p2128\" style=\"display: none;\"><div style=\"display: table-cell;\"></div><div style=\"display: table-cell;\">extra_y_ranges&nbsp;=&nbsp;{},</div></div><div class=\"p2128\" style=\"display: none;\"><div style=\"display: table-cell;\"></div><div style=\"display: table-cell;\">extra_y_scales&nbsp;=&nbsp;{},</div></div><div class=\"p2128\" style=\"display: none;\"><div style=\"display: table-cell;\"></div><div style=\"display: table-cell;\">flow_mode&nbsp;=&nbsp;'block',</div></div><div class=\"p2128\" style=\"display: none;\"><div style=\"display: table-cell;\"></div><div style=\"display: table-cell;\">frame_align&nbsp;=&nbsp;True,</div></div><div class=\"p2128\" style=\"display: none;\"><div style=\"display: table-cell;\"></div><div style=\"display: table-cell;\">frame_height&nbsp;=&nbsp;None,</div></div><div class=\"p2128\" style=\"display: none;\"><div style=\"display: table-cell;\"></div><div style=\"display: table-cell;\">frame_width&nbsp;=&nbsp;None,</div></div><div class=\"p2128\" style=\"display: none;\"><div style=\"display: table-cell;\"></div><div style=\"display: table-cell;\">height&nbsp;=&nbsp;450,</div></div><div class=\"p2128\" style=\"display: none;\"><div style=\"display: table-cell;\"></div><div style=\"display: table-cell;\">height_policy&nbsp;=&nbsp;'auto',</div></div><div class=\"p2128\" style=\"display: none;\"><div style=\"display: table-cell;\"></div><div style=\"display: table-cell;\">hidpi&nbsp;=&nbsp;True,</div></div><div class=\"p2128\" style=\"display: none;\"><div style=\"display: table-cell;\"></div><div style=\"display: table-cell;\">hold_render&nbsp;=&nbsp;False,</div></div><div class=\"p2128\" style=\"display: none;\"><div style=\"display: table-cell;\"></div><div style=\"display: table-cell;\">js_event_callbacks&nbsp;=&nbsp;{},</div></div><div class=\"p2128\" style=\"display: none;\"><div style=\"display: table-cell;\"></div><div style=\"display: table-cell;\">js_property_callbacks&nbsp;=&nbsp;{},</div></div><div class=\"p2128\" style=\"display: none;\"><div style=\"display: table-cell;\"></div><div style=\"display: table-cell;\">left&nbsp;=&nbsp;[LinearAxis(id='p2090', ...)],</div></div><div class=\"p2128\" style=\"display: none;\"><div style=\"display: table-cell;\"></div><div style=\"display: table-cell;\">lod_factor&nbsp;=&nbsp;10,</div></div><div class=\"p2128\" style=\"display: none;\"><div style=\"display: table-cell;\"></div><div style=\"display: table-cell;\">lod_interval&nbsp;=&nbsp;300,</div></div><div class=\"p2128\" style=\"display: none;\"><div style=\"display: table-cell;\"></div><div style=\"display: table-cell;\">lod_threshold&nbsp;=&nbsp;2000,</div></div><div class=\"p2128\" style=\"display: none;\"><div style=\"display: table-cell;\"></div><div style=\"display: table-cell;\">lod_timeout&nbsp;=&nbsp;500,</div></div><div class=\"p2128\" style=\"display: none;\"><div style=\"display: table-cell;\"></div><div style=\"display: table-cell;\">margin&nbsp;=&nbsp;None,</div></div><div class=\"p2128\" style=\"display: none;\"><div style=\"display: table-cell;\"></div><div style=\"display: table-cell;\">match_aspect&nbsp;=&nbsp;False,</div></div><div class=\"p2128\" style=\"display: none;\"><div style=\"display: table-cell;\"></div><div style=\"display: table-cell;\">max_height&nbsp;=&nbsp;None,</div></div><div class=\"p2128\" style=\"display: none;\"><div style=\"display: table-cell;\"></div><div style=\"display: table-cell;\">max_width&nbsp;=&nbsp;None,</div></div><div class=\"p2128\" style=\"display: none;\"><div style=\"display: table-cell;\"></div><div style=\"display: table-cell;\">min_border&nbsp;=&nbsp;5,</div></div><div class=\"p2128\" style=\"display: none;\"><div style=\"display: table-cell;\"></div><div style=\"display: table-cell;\">min_border_bottom&nbsp;=&nbsp;None,</div></div><div class=\"p2128\" style=\"display: none;\"><div style=\"display: table-cell;\"></div><div style=\"display: table-cell;\">min_border_left&nbsp;=&nbsp;None,</div></div><div class=\"p2128\" style=\"display: none;\"><div style=\"display: table-cell;\"></div><div style=\"display: table-cell;\">min_border_right&nbsp;=&nbsp;None,</div></div><div class=\"p2128\" style=\"display: none;\"><div style=\"display: table-cell;\"></div><div style=\"display: table-cell;\">min_border_top&nbsp;=&nbsp;None,</div></div><div class=\"p2128\" style=\"display: none;\"><div style=\"display: table-cell;\"></div><div style=\"display: table-cell;\">min_height&nbsp;=&nbsp;None,</div></div><div class=\"p2128\" style=\"display: none;\"><div style=\"display: table-cell;\"></div><div style=\"display: table-cell;\">min_width&nbsp;=&nbsp;None,</div></div><div class=\"p2128\" style=\"display: none;\"><div style=\"display: table-cell;\"></div><div style=\"display: table-cell;\">name&nbsp;=&nbsp;None,</div></div><div class=\"p2128\" style=\"display: none;\"><div style=\"display: table-cell;\"></div><div style=\"display: table-cell;\">outline_line_alpha&nbsp;=&nbsp;1.0,</div></div><div class=\"p2128\" style=\"display: none;\"><div style=\"display: table-cell;\"></div><div style=\"display: table-cell;\">outline_line_cap&nbsp;=&nbsp;'butt',</div></div><div class=\"p2128\" style=\"display: none;\"><div style=\"display: table-cell;\"></div><div style=\"display: table-cell;\">outline_line_color&nbsp;=&nbsp;'#e5e5e5',</div></div><div class=\"p2128\" style=\"display: none;\"><div style=\"display: table-cell;\"></div><div style=\"display: table-cell;\">outline_line_dash&nbsp;=&nbsp;[],</div></div><div class=\"p2128\" style=\"display: none;\"><div style=\"display: table-cell;\"></div><div style=\"display: table-cell;\">outline_line_dash_offset&nbsp;=&nbsp;0,</div></div><div class=\"p2128\" style=\"display: none;\"><div style=\"display: table-cell;\"></div><div style=\"display: table-cell;\">outline_line_join&nbsp;=&nbsp;'bevel',</div></div><div class=\"p2128\" style=\"display: none;\"><div style=\"display: table-cell;\"></div><div style=\"display: table-cell;\">outline_line_width&nbsp;=&nbsp;1,</div></div><div class=\"p2128\" style=\"display: none;\"><div style=\"display: table-cell;\"></div><div style=\"display: table-cell;\">output_backend&nbsp;=&nbsp;'canvas',</div></div><div class=\"p2128\" style=\"display: none;\"><div style=\"display: table-cell;\"></div><div style=\"display: table-cell;\">renderers&nbsp;=&nbsp;[GlyphRenderer(id='p2109', ...), GlyphRenderer(id='p2120', ...), TileRenderer(id='p2125', ...)],</div></div><div class=\"p2128\" style=\"display: none;\"><div style=\"display: table-cell;\"></div><div style=\"display: table-cell;\">reset_policy&nbsp;=&nbsp;'standard',</div></div><div class=\"p2128\" style=\"display: none;\"><div style=\"display: table-cell;\"></div><div style=\"display: table-cell;\">resizable&nbsp;=&nbsp;False,</div></div><div class=\"p2128\" style=\"display: none;\"><div style=\"display: table-cell;\"></div><div style=\"display: table-cell;\">right&nbsp;=&nbsp;[],</div></div><div class=\"p2128\" style=\"display: none;\"><div style=\"display: table-cell;\"></div><div style=\"display: table-cell;\">sizing_mode&nbsp;=&nbsp;None,</div></div><div class=\"p2128\" style=\"display: none;\"><div style=\"display: table-cell;\"></div><div style=\"display: table-cell;\">styles&nbsp;=&nbsp;{},</div></div><div class=\"p2128\" style=\"display: none;\"><div style=\"display: table-cell;\"></div><div style=\"display: table-cell;\">stylesheets&nbsp;=&nbsp;[],</div></div><div class=\"p2128\" style=\"display: none;\"><div style=\"display: table-cell;\"></div><div style=\"display: table-cell;\">subscribed_events&nbsp;=&nbsp;PropertyValueSet(),</div></div><div class=\"p2128\" style=\"display: none;\"><div style=\"display: table-cell;\"></div><div style=\"display: table-cell;\">syncable&nbsp;=&nbsp;True,</div></div><div class=\"p2128\" style=\"display: none;\"><div style=\"display: table-cell;\"></div><div style=\"display: table-cell;\">tags&nbsp;=&nbsp;[],</div></div><div class=\"p2128\" style=\"display: none;\"><div style=\"display: table-cell;\"></div><div style=\"display: table-cell;\">title&nbsp;=&nbsp;Title(id='p2074', ...),</div></div><div class=\"p2128\" style=\"display: none;\"><div style=\"display: table-cell;\"></div><div style=\"display: table-cell;\">title_location&nbsp;=&nbsp;'above',</div></div><div class=\"p2128\" style=\"display: none;\"><div style=\"display: table-cell;\"></div><div style=\"display: table-cell;\">toolbar&nbsp;=&nbsp;Toolbar(id='p2080', ...),</div></div><div class=\"p2128\" style=\"display: none;\"><div style=\"display: table-cell;\"></div><div style=\"display: table-cell;\">toolbar_inner&nbsp;=&nbsp;False,</div></div><div class=\"p2128\" style=\"display: none;\"><div style=\"display: table-cell;\"></div><div style=\"display: table-cell;\">toolbar_location&nbsp;=&nbsp;'right',</div></div><div class=\"p2128\" style=\"display: none;\"><div style=\"display: table-cell;\"></div><div style=\"display: table-cell;\">toolbar_sticky&nbsp;=&nbsp;True,</div></div><div class=\"p2128\" style=\"display: none;\"><div style=\"display: table-cell;\"></div><div style=\"display: table-cell;\">visible&nbsp;=&nbsp;True,</div></div><div class=\"p2128\" style=\"display: none;\"><div style=\"display: table-cell;\"></div><div style=\"display: table-cell;\">width&nbsp;=&nbsp;2300,</div></div><div class=\"p2128\" style=\"display: none;\"><div style=\"display: table-cell;\"></div><div style=\"display: table-cell;\">width_policy&nbsp;=&nbsp;'auto',</div></div><div class=\"p2128\" style=\"display: none;\"><div style=\"display: table-cell;\"></div><div style=\"display: table-cell;\">x_range&nbsp;=&nbsp;Range1d(id='p2081', ...),</div></div><div class=\"p2128\" style=\"display: none;\"><div style=\"display: table-cell;\"></div><div style=\"display: table-cell;\">x_scale&nbsp;=&nbsp;LinearScale(id='p2083', ...),</div></div><div class=\"p2128\" style=\"display: none;\"><div style=\"display: table-cell;\"></div><div style=\"display: table-cell;\">y_range&nbsp;=&nbsp;Range1d(id='p2082', ...),</div></div><div class=\"p2128\" style=\"display: none;\"><div style=\"display: table-cell;\"></div><div style=\"display: table-cell;\">y_scale&nbsp;=&nbsp;LinearScale(id='p2084', ...))</div></div></div>\n",
       "<script>\n",
       "(function() {\n",
       "  let expanded = false;\n",
       "  const ellipsis = document.getElementById(\"p2129\");\n",
       "  ellipsis.addEventListener(\"click\", function() {\n",
       "    const rows = document.getElementsByClassName(\"p2128\");\n",
       "    for (let i = 0; i < rows.length; i++) {\n",
       "      const el = rows[i];\n",
       "      el.style.display = expanded ? \"none\" : \"table-row\";\n",
       "    }\n",
       "    ellipsis.innerHTML = expanded ? \"&hellip;)\" : \"&lsaquo;&lsaquo;&lsaquo;\";\n",
       "    expanded = !expanded;\n",
       "  });\n",
       "})();\n",
       "</script>\n"
      ],
      "text/plain": [
       "figure(id='p2071', ...)"
      ]
     },
     "execution_count": 77,
     "metadata": {},
     "output_type": "execute_result"
    }
   ],
   "source": [
    "# Create the Geo Map plot\n",
    "def plotMap():\n",
    "    lat = df_quakes_2016['Latitude'].values.tolist()\n",
    "    lon = df_quakes_2016['Longitude'].values.tolist()\n",
    "    \n",
    "    pred_lat = df_quake_pred['Latitude'].values.tolist()\n",
    "    pred_lon = df_quake_pred['Longitude'].values.tolist()\n",
    "    \n",
    "    lst_lat = []\n",
    "    lst_lon = []\n",
    "    lst_pred_lat = []\n",
    "    lst_pred_lon = []\n",
    "    \n",
    "    i=0\n",
    "    j=0\n",
    "    \n",
    "    # Convert Lat and Long values into merc_projection format\n",
    "    for i in range(len(lon)):\n",
    "        r_major = 6378137.000\n",
    "        x = r_major * math.radians(lon[i])\n",
    "        scale = x/lon[i]\n",
    "        y = 180.0/math.pi * math.log(math.tan(math.pi/4.0 +\n",
    "            lat[i] * (math.pi/180.0)/2.0)) * scale\n",
    "        \n",
    "        lst_lon.append(x)\n",
    "        lst_lat.append(y)\n",
    "        i += 1\n",
    "        \n",
    "    # Convert predicted lat and long values into merc_projection format\n",
    "    for j in range(len(pred_lon)):\n",
    "        r_major = 6378137.000\n",
    "        x = r_major * math.radians(pred_lon[j])\n",
    "        scale = x/pred_lon[j]\n",
    "        y = 180.0/math.pi * math.log(math.tan(math.pi/4.0 +\n",
    "            pred_lat[j] * (math.pi/180.0)/2.0)) * scale\n",
    "        \n",
    "        lst_pred_lon.append(x)\n",
    "        lst_pred_lat.append(y)\n",
    "        j += 1\n",
    "    \n",
    "    \n",
    "    df_quakes_2016['coords_x'] = lst_lat\n",
    "    df_quakes_2016['coords_y'] = lst_lon\n",
    "    df_quake_pred['coords_x'] = lst_pred_lat\n",
    "    df_quake_pred['coords_y'] = lst_pred_lon\n",
    "    \n",
    "    # Scale the circles\n",
    "    df_quakes_2016['Mag_Size'] = df_quakes_2016['Magnitude'] * 4\n",
    "    df_quake_pred['Mag_Size'] = df_quake_pred['Pred_Magnitude'] * 4\n",
    "    \n",
    "    # create datasources for our ColumnDataSource object\n",
    "    lats = df_quakes_2016['coords_x'].tolist()\n",
    "    longs = df_quakes_2016['coords_y'].tolist()\n",
    "    mags = df_quakes_2016['Magnitude'].tolist()\n",
    "    years = df_quakes_2016['Year'].tolist()\n",
    "    mag_size = df_quakes_2016['Mag_Size'].tolist()\n",
    "    \n",
    "    pred_lats = df_quake_pred['coords_x'].tolist()\n",
    "    pred_longs = df_quake_pred['coords_y'].tolist()\n",
    "    pred_mags = df_quake_pred['Pred_Magnitude'].tolist()\n",
    "    pred_year = df_quake_pred['Year'].tolist()\n",
    "    pred_mag_size = df_quake_pred['Mag_Size'].tolist()\n",
    "    \n",
    "    # Create column datasource\n",
    "    cds = ColumnDataSource(\n",
    "        data=dict(\n",
    "            lat=lats,\n",
    "            lon=longs,\n",
    "            mag=mags,\n",
    "            year=years,\n",
    "            mag_s=mag_size\n",
    "        )\n",
    "    )\n",
    "    \n",
    "    pred_cds = ColumnDataSource(\n",
    "        data=dict(\n",
    "            pred_lat=pred_lats,\n",
    "            pred_long=pred_longs,\n",
    "            pred_mag=pred_mags,\n",
    "            year=pred_year,\n",
    "            pred_mag_s=pred_mag_size\n",
    "        )\n",
    "    )\n",
    "    \n",
    "    # Tooltips\n",
    "    TOOLTIPS = [\n",
    "        (\"Year\", \" @year\"),\n",
    "        (\"Magnitude\", \" @mag\"),\n",
    "        (\"Predicted Magnitude\", \" @pred_mag\")\n",
    "    ]\n",
    "    \n",
    "    # Create figure\n",
    "    p = figure(title='Earthquake Map',\n",
    "              width=2300, height=450,  # Use width and height instead of plot_width and plot_height\n",
    "              x_range=(-2000000, 6000000),\n",
    "              y_range=(-1000000, 7000000),\n",
    "              tooltips=TOOLTIPS)\n",
    "    \n",
    "    p.circle(x='lon', y='lat', size='mag_s', fill_color='#cc0000', fill_alpha=0.7,\n",
    "            source=cds, legend_label='Quakes 2016')  # Use legend_label instead of legend\n",
    "    \n",
    "    # Add circles for our predicted earthquakes\n",
    "    p.circle(x='pred_long', y='pred_lat', size='pred_mag_s', fill_color='#ccff33', fill_alpha=7.0,\n",
    "            source=pred_cds, legend_label='Predicted Quakes 2017')  # Use legend_label instead of legend\n",
    "    \n",
    "    p.add_tile(CARTODBPOSITRON)\n",
    "    \n",
    "    # Style the map plot\n",
    "    # Title\n",
    "    p.title.align='center'\n",
    "    p.title.text_font_size='20pt'\n",
    "    p.title.text_font='serif'\n",
    "    \n",
    "    # Legend\n",
    "    p.legend.location='bottom_right'\n",
    "    p.legend.background_fill_color='black'\n",
    "    p.legend.background_fill_alpha=0.8\n",
    "    p.legend.click_policy='hide'\n",
    "    p.legend.label_text_color='white'\n",
    "    p.xaxis.visible=False\n",
    "    p.yaxis.visible=False\n",
    "    p.axis.axis_label=None\n",
    "    p.axis.visible=False\n",
    "    p.grid.grid_line_color=None\n",
    "    \n",
    "    show(p)\n",
    "    \n",
    "    return p\n",
    "    \n",
    "plotMap()\n"
   ]
  },
  {
   "cell_type": "code",
   "execution_count": 78,
   "id": "7327f484",
   "metadata": {},
   "outputs": [
    {
     "data": {
      "text/html": [
       "\n",
       "  <div id=\"d149c197-c6e1-45f4-9324-85c0992bec01\" data-root-id=\"p2133\" style=\"display: contents;\"></div>\n"
      ]
     },
     "metadata": {},
     "output_type": "display_data"
    },
    {
     "data": {
      "application/javascript": [
       "(function(root) {\n",
       "  function embed_document(root) {\n",
       "  const docs_json = {\"a6a38e63-6b74-45a4-bff3-d226b2a6ea88\":{\"version\":\"3.2.1\",\"title\":\"Bokeh Application\",\"roots\":[{\"type\":\"object\",\"name\":\"Figure\",\"id\":\"p2133\",\"attributes\":{\"width\":1150,\"height\":400,\"x_range\":{\"type\":\"object\",\"name\":\"DataRange1d\",\"id\":\"p2135\"},\"y_range\":{\"type\":\"object\",\"name\":\"Range1d\",\"id\":\"p2143\",\"attributes\":{\"end\":460}},\"x_scale\":{\"type\":\"object\",\"name\":\"LinearScale\",\"id\":\"p2144\"},\"y_scale\":{\"type\":\"object\",\"name\":\"LinearScale\",\"id\":\"p2145\"},\"title\":{\"type\":\"object\",\"name\":\"Title\",\"id\":\"p2136\",\"attributes\":{\"text\":\"Frequency of Earthquakes by Year\",\"text_color\":\"#E0E0E0\",\"text_font\":\"serif\",\"text_font_size\":\"20pt\",\"align\":\"center\"}},\"outline_line_color\":\"#E0E0E0\",\"outline_line_alpha\":0.25,\"renderers\":[{\"type\":\"object\",\"name\":\"GlyphRenderer\",\"id\":\"p2170\",\"attributes\":{\"data_source\":{\"type\":\"object\",\"name\":\"ColumnDataSource\",\"id\":\"p2130\",\"attributes\":{\"selected\":{\"type\":\"object\",\"name\":\"Selection\",\"id\":\"p2131\",\"attributes\":{\"indices\":[],\"line_indices\":[]}},\"selection_policy\":{\"type\":\"object\",\"name\":\"UnionRenderers\",\"id\":\"p2132\"},\"data\":{\"type\":\"map\",\"entries\":[[\"yrs\",[1990,1975,1977,2003,2007,1974,2015,2006,1978,2013,1988,1997,1994,1968,2014,1973,1979,1971,1966,2004,1991,1967,1969,1982,1989,1996,1998,1965,1985,1970,2012,1987,2009,2016,1995,1980,2001,1972,1992,1983,2005,1984,2000,1981,2010,1986,2011,1976,2008,1999,2002,1993]],[\"numQuakes\",[196,150,148,187,211,147,175,176,158,202,196,183,215,106,198,144,118,148,98,227,168,103,114,135,177,242,154,156,210,142,182,213,228,164,205,120,157,178,190,177,230,161,213,117,211,175,360,173,214,170,182,197]]]}}},\"view\":{\"type\":\"object\",\"name\":\"CDSView\",\"id\":\"p2171\",\"attributes\":{\"filter\":{\"type\":\"object\",\"name\":\"AllIndices\",\"id\":\"p2172\"}}},\"glyph\":{\"type\":\"object\",\"name\":\"VBar\",\"id\":\"p2167\",\"attributes\":{\"x\":{\"type\":\"field\",\"field\":\"yrs\"},\"width\":{\"type\":\"value\",\"value\":0.75},\"top\":{\"type\":\"field\",\"field\":\"numQuakes\"},\"line_color\":{\"type\":\"value\",\"value\":\"#cc0000\"},\"fill_color\":{\"type\":\"value\",\"value\":\"#cc0000\"},\"hatch_color\":{\"type\":\"value\",\"value\":\"#cc0000\"}}},\"nonselection_glyph\":{\"type\":\"object\",\"name\":\"VBar\",\"id\":\"p2168\",\"attributes\":{\"x\":{\"type\":\"field\",\"field\":\"yrs\"},\"width\":{\"type\":\"value\",\"value\":0.75},\"top\":{\"type\":\"field\",\"field\":\"numQuakes\"},\"line_color\":{\"type\":\"value\",\"value\":\"#cc0000\"},\"line_alpha\":{\"type\":\"value\",\"value\":0.1},\"fill_color\":{\"type\":\"value\",\"value\":\"#cc0000\"},\"fill_alpha\":{\"type\":\"value\",\"value\":0.1},\"hatch_color\":{\"type\":\"value\",\"value\":\"#cc0000\"},\"hatch_alpha\":{\"type\":\"value\",\"value\":0.1}}},\"muted_glyph\":{\"type\":\"object\",\"name\":\"VBar\",\"id\":\"p2169\",\"attributes\":{\"x\":{\"type\":\"field\",\"field\":\"yrs\"},\"width\":{\"type\":\"value\",\"value\":0.75},\"top\":{\"type\":\"field\",\"field\":\"numQuakes\"},\"line_color\":{\"type\":\"value\",\"value\":\"#cc0000\"},\"line_alpha\":{\"type\":\"value\",\"value\":0.2},\"fill_color\":{\"type\":\"value\",\"value\":\"#cc0000\"},\"fill_alpha\":{\"type\":\"value\",\"value\":0.2},\"hatch_color\":{\"type\":\"value\",\"value\":\"#cc0000\"},\"hatch_alpha\":{\"type\":\"value\",\"value\":0.2}}}}}],\"toolbar\":{\"type\":\"object\",\"name\":\"Toolbar\",\"id\":\"p2142\",\"attributes\":{\"tools\":[{\"type\":\"object\",\"name\":\"PanTool\",\"id\":\"p2156\"},{\"type\":\"object\",\"name\":\"WheelZoomTool\",\"id\":\"p2157\"},{\"type\":\"object\",\"name\":\"BoxZoomTool\",\"id\":\"p2158\",\"attributes\":{\"overlay\":{\"type\":\"object\",\"name\":\"BoxAnnotation\",\"id\":\"p2159\",\"attributes\":{\"syncable\":false,\"level\":\"overlay\",\"visible\":false,\"left_units\":\"canvas\",\"right_units\":\"canvas\",\"bottom_units\":\"canvas\",\"top_units\":\"canvas\",\"line_color\":\"black\",\"line_alpha\":1.0,\"line_width\":2,\"line_dash\":[4,4],\"fill_color\":\"lightgrey\",\"fill_alpha\":0.5}}}},{\"type\":\"object\",\"name\":\"SaveTool\",\"id\":\"p2160\"},{\"type\":\"object\",\"name\":\"ResetTool\",\"id\":\"p2161\"},{\"type\":\"object\",\"name\":\"HelpTool\",\"id\":\"p2162\"},{\"type\":\"object\",\"name\":\"HoverTool\",\"id\":\"p2163\",\"attributes\":{\"renderers\":\"auto\",\"tooltips\":[[\"Year\",\" @yrs\"],[\"Number of earthquakes\",\" @numQuakes\"]]}}]}},\"toolbar_location\":null,\"left\":[{\"type\":\"object\",\"name\":\"LinearAxis\",\"id\":\"p2151\",\"attributes\":{\"ticker\":{\"type\":\"object\",\"name\":\"BasicTicker\",\"id\":\"p2152\",\"attributes\":{\"mantissas\":[1,2,5]}},\"formatter\":{\"type\":\"object\",\"name\":\"BasicTickFormatter\",\"id\":\"p2153\"},\"axis_label\":\"Number of Occurrences\",\"axis_label_standoff\":10,\"axis_label_text_color\":\"#E0E0E0\",\"axis_label_text_font\":\"Helvetica\",\"axis_label_text_font_size\":\"14pt\",\"axis_label_text_font_style\":\"bold\",\"major_label_policy\":{\"type\":\"object\",\"name\":\"AllLabels\",\"id\":\"p2154\"},\"major_label_text_color\":\"#E0E0E0\",\"major_label_text_font\":\"Helvetica\",\"major_label_text_font_size\":\"12pt\",\"axis_line_color\":\"#E0E0E0\",\"axis_line_alpha\":0,\"major_tick_line_color\":\"#E0E0E0\",\"major_tick_line_alpha\":0,\"minor_tick_line_color\":\"#E0E0E0\",\"minor_tick_line_alpha\":0}}],\"below\":[{\"type\":\"object\",\"name\":\"LinearAxis\",\"id\":\"p2146\",\"attributes\":{\"ticker\":{\"type\":\"object\",\"name\":\"BasicTicker\",\"id\":\"p2147\",\"attributes\":{\"num_minor_ticks\":2,\"mantissas\":[1,2,5]}},\"formatter\":{\"type\":\"object\",\"name\":\"BasicTickFormatter\",\"id\":\"p2148\"},\"axis_label\":\"Years\",\"axis_label_standoff\":10,\"axis_label_text_color\":\"#E0E0E0\",\"axis_label_text_font\":\"Helvetica\",\"axis_label_text_font_size\":\"14pt\",\"axis_label_text_font_style\":\"bold\",\"major_label_policy\":{\"type\":\"object\",\"name\":\"AllLabels\",\"id\":\"p2149\"},\"major_label_text_color\":\"#E0E0E0\",\"major_label_text_font\":\"Helvetica\",\"major_label_text_font_size\":\"12pt\",\"axis_line_color\":\"#E0E0E0\",\"axis_line_alpha\":0,\"major_tick_line_color\":\"#E0E0E0\",\"major_tick_line_alpha\":0,\"minor_tick_line_color\":\"#E0E0E0\",\"minor_tick_line_alpha\":0}}],\"center\":[{\"type\":\"object\",\"name\":\"Grid\",\"id\":\"p2150\",\"attributes\":{\"axis\":{\"id\":\"p2146\"},\"grid_line_color\":\"#E0E0E0\",\"grid_line_alpha\":0.25}},{\"type\":\"object\",\"name\":\"Grid\",\"id\":\"p2155\",\"attributes\":{\"dimension\":1,\"axis\":{\"id\":\"p2151\"},\"grid_line_color\":\"#E0E0E0\",\"grid_line_alpha\":0.25}},{\"type\":\"object\",\"name\":\"Legend\",\"id\":\"p2173\",\"attributes\":{\"location\":\"top_left\",\"border_line_alpha\":0,\"background_fill_color\":\"#20262B\",\"background_fill_alpha\":0.25,\"label_text_color\":\"#E0E0E0\",\"label_text_font\":\"Helvetica\",\"label_text_font_size\":\"1.025em\",\"label_standoff\":8,\"glyph_width\":15,\"spacing\":8,\"items\":[{\"type\":\"object\",\"name\":\"LegendItem\",\"id\":\"p2174\",\"attributes\":{\"label\":{\"type\":\"value\",\"value\":\"Year\"},\"renderers\":[{\"id\":\"p2170\"}]}}]}}],\"background_fill_color\":\"#20262B\",\"border_fill_color\":\"#15191C\"}}]}};\n",
       "  const render_items = [{\"docid\":\"a6a38e63-6b74-45a4-bff3-d226b2a6ea88\",\"roots\":{\"p2133\":\"d149c197-c6e1-45f4-9324-85c0992bec01\"},\"root_ids\":[\"p2133\"]}];\n",
       "  root.Bokeh.embed.embed_items_notebook(docs_json, render_items);\n",
       "  }\n",
       "  if (root.Bokeh !== undefined) {\n",
       "    embed_document(root);\n",
       "  } else {\n",
       "    let attempts = 0;\n",
       "    const timer = setInterval(function(root) {\n",
       "      if (root.Bokeh !== undefined) {\n",
       "        clearInterval(timer);\n",
       "        embed_document(root);\n",
       "      } else {\n",
       "        attempts++;\n",
       "        if (attempts > 100) {\n",
       "          clearInterval(timer);\n",
       "          console.log(\"Bokeh: ERROR: Unable to run BokehJS code because BokehJS library is missing\");\n",
       "        }\n",
       "      }\n",
       "    }, 10, root)\n",
       "  }\n",
       "})(window);"
      ],
      "application/vnd.bokehjs_exec.v0+json": ""
     },
     "metadata": {
      "application/vnd.bokehjs_exec.v0+json": {
       "id": "p2133"
      }
     },
     "output_type": "display_data"
    },
    {
     "data": {
      "text/html": [
       "<div style=\"display: table;\"><div style=\"display: table-row;\"><div style=\"display: table-cell;\"><b title=\"bokeh.plotting._figure.figure\">figure</b>(</div><div style=\"display: table-cell;\">id&nbsp;=&nbsp;'p2133', <span id=\"p2177\" style=\"cursor: pointer;\">&hellip;)</span></div></div><div class=\"p2176\" style=\"display: none;\"><div style=\"display: table-cell;\"></div><div style=\"display: table-cell;\">above&nbsp;=&nbsp;[],</div></div><div class=\"p2176\" style=\"display: none;\"><div style=\"display: table-cell;\"></div><div style=\"display: table-cell;\">align&nbsp;=&nbsp;'auto',</div></div><div class=\"p2176\" style=\"display: none;\"><div style=\"display: table-cell;\"></div><div style=\"display: table-cell;\">aspect_ratio&nbsp;=&nbsp;None,</div></div><div class=\"p2176\" style=\"display: none;\"><div style=\"display: table-cell;\"></div><div style=\"display: table-cell;\">aspect_scale&nbsp;=&nbsp;1,</div></div><div class=\"p2176\" style=\"display: none;\"><div style=\"display: table-cell;\"></div><div style=\"display: table-cell;\">background_fill_alpha&nbsp;=&nbsp;1.0,</div></div><div class=\"p2176\" style=\"display: none;\"><div style=\"display: table-cell;\"></div><div style=\"display: table-cell;\">background_fill_color&nbsp;=&nbsp;'#ffffff',</div></div><div class=\"p2176\" style=\"display: none;\"><div style=\"display: table-cell;\"></div><div style=\"display: table-cell;\">below&nbsp;=&nbsp;[LinearAxis(id='p2146', ...)],</div></div><div class=\"p2176\" style=\"display: none;\"><div style=\"display: table-cell;\"></div><div style=\"display: table-cell;\">border_fill_alpha&nbsp;=&nbsp;1.0,</div></div><div class=\"p2176\" style=\"display: none;\"><div style=\"display: table-cell;\"></div><div style=\"display: table-cell;\">border_fill_color&nbsp;=&nbsp;'#ffffff',</div></div><div class=\"p2176\" style=\"display: none;\"><div style=\"display: table-cell;\"></div><div style=\"display: table-cell;\">center&nbsp;=&nbsp;[Grid(id='p2150', ...), Grid(id='p2155', ...), Legend(id='p2173', ...)],</div></div><div class=\"p2176\" style=\"display: none;\"><div style=\"display: table-cell;\"></div><div style=\"display: table-cell;\">context_menu&nbsp;=&nbsp;None,</div></div><div class=\"p2176\" style=\"display: none;\"><div style=\"display: table-cell;\"></div><div style=\"display: table-cell;\">css_classes&nbsp;=&nbsp;[],</div></div><div class=\"p2176\" style=\"display: none;\"><div style=\"display: table-cell;\"></div><div style=\"display: table-cell;\">disabled&nbsp;=&nbsp;False,</div></div><div class=\"p2176\" style=\"display: none;\"><div style=\"display: table-cell;\"></div><div style=\"display: table-cell;\">extra_x_ranges&nbsp;=&nbsp;{},</div></div><div class=\"p2176\" style=\"display: none;\"><div style=\"display: table-cell;\"></div><div style=\"display: table-cell;\">extra_x_scales&nbsp;=&nbsp;{},</div></div><div class=\"p2176\" style=\"display: none;\"><div style=\"display: table-cell;\"></div><div style=\"display: table-cell;\">extra_y_ranges&nbsp;=&nbsp;{},</div></div><div class=\"p2176\" style=\"display: none;\"><div style=\"display: table-cell;\"></div><div style=\"display: table-cell;\">extra_y_scales&nbsp;=&nbsp;{},</div></div><div class=\"p2176\" style=\"display: none;\"><div style=\"display: table-cell;\"></div><div style=\"display: table-cell;\">flow_mode&nbsp;=&nbsp;'block',</div></div><div class=\"p2176\" style=\"display: none;\"><div style=\"display: table-cell;\"></div><div style=\"display: table-cell;\">frame_align&nbsp;=&nbsp;True,</div></div><div class=\"p2176\" style=\"display: none;\"><div style=\"display: table-cell;\"></div><div style=\"display: table-cell;\">frame_height&nbsp;=&nbsp;None,</div></div><div class=\"p2176\" style=\"display: none;\"><div style=\"display: table-cell;\"></div><div style=\"display: table-cell;\">frame_width&nbsp;=&nbsp;None,</div></div><div class=\"p2176\" style=\"display: none;\"><div style=\"display: table-cell;\"></div><div style=\"display: table-cell;\">height&nbsp;=&nbsp;400,</div></div><div class=\"p2176\" style=\"display: none;\"><div style=\"display: table-cell;\"></div><div style=\"display: table-cell;\">height_policy&nbsp;=&nbsp;'auto',</div></div><div class=\"p2176\" style=\"display: none;\"><div style=\"display: table-cell;\"></div><div style=\"display: table-cell;\">hidpi&nbsp;=&nbsp;True,</div></div><div class=\"p2176\" style=\"display: none;\"><div style=\"display: table-cell;\"></div><div style=\"display: table-cell;\">hold_render&nbsp;=&nbsp;False,</div></div><div class=\"p2176\" style=\"display: none;\"><div style=\"display: table-cell;\"></div><div style=\"display: table-cell;\">js_event_callbacks&nbsp;=&nbsp;{},</div></div><div class=\"p2176\" style=\"display: none;\"><div style=\"display: table-cell;\"></div><div style=\"display: table-cell;\">js_property_callbacks&nbsp;=&nbsp;{},</div></div><div class=\"p2176\" style=\"display: none;\"><div style=\"display: table-cell;\"></div><div style=\"display: table-cell;\">left&nbsp;=&nbsp;[LinearAxis(id='p2151', ...)],</div></div><div class=\"p2176\" style=\"display: none;\"><div style=\"display: table-cell;\"></div><div style=\"display: table-cell;\">lod_factor&nbsp;=&nbsp;10,</div></div><div class=\"p2176\" style=\"display: none;\"><div style=\"display: table-cell;\"></div><div style=\"display: table-cell;\">lod_interval&nbsp;=&nbsp;300,</div></div><div class=\"p2176\" style=\"display: none;\"><div style=\"display: table-cell;\"></div><div style=\"display: table-cell;\">lod_threshold&nbsp;=&nbsp;2000,</div></div><div class=\"p2176\" style=\"display: none;\"><div style=\"display: table-cell;\"></div><div style=\"display: table-cell;\">lod_timeout&nbsp;=&nbsp;500,</div></div><div class=\"p2176\" style=\"display: none;\"><div style=\"display: table-cell;\"></div><div style=\"display: table-cell;\">margin&nbsp;=&nbsp;None,</div></div><div class=\"p2176\" style=\"display: none;\"><div style=\"display: table-cell;\"></div><div style=\"display: table-cell;\">match_aspect&nbsp;=&nbsp;False,</div></div><div class=\"p2176\" style=\"display: none;\"><div style=\"display: table-cell;\"></div><div style=\"display: table-cell;\">max_height&nbsp;=&nbsp;None,</div></div><div class=\"p2176\" style=\"display: none;\"><div style=\"display: table-cell;\"></div><div style=\"display: table-cell;\">max_width&nbsp;=&nbsp;None,</div></div><div class=\"p2176\" style=\"display: none;\"><div style=\"display: table-cell;\"></div><div style=\"display: table-cell;\">min_border&nbsp;=&nbsp;5,</div></div><div class=\"p2176\" style=\"display: none;\"><div style=\"display: table-cell;\"></div><div style=\"display: table-cell;\">min_border_bottom&nbsp;=&nbsp;None,</div></div><div class=\"p2176\" style=\"display: none;\"><div style=\"display: table-cell;\"></div><div style=\"display: table-cell;\">min_border_left&nbsp;=&nbsp;None,</div></div><div class=\"p2176\" style=\"display: none;\"><div style=\"display: table-cell;\"></div><div style=\"display: table-cell;\">min_border_right&nbsp;=&nbsp;None,</div></div><div class=\"p2176\" style=\"display: none;\"><div style=\"display: table-cell;\"></div><div style=\"display: table-cell;\">min_border_top&nbsp;=&nbsp;None,</div></div><div class=\"p2176\" style=\"display: none;\"><div style=\"display: table-cell;\"></div><div style=\"display: table-cell;\">min_height&nbsp;=&nbsp;None,</div></div><div class=\"p2176\" style=\"display: none;\"><div style=\"display: table-cell;\"></div><div style=\"display: table-cell;\">min_width&nbsp;=&nbsp;None,</div></div><div class=\"p2176\" style=\"display: none;\"><div style=\"display: table-cell;\"></div><div style=\"display: table-cell;\">name&nbsp;=&nbsp;None,</div></div><div class=\"p2176\" style=\"display: none;\"><div style=\"display: table-cell;\"></div><div style=\"display: table-cell;\">outline_line_alpha&nbsp;=&nbsp;1.0,</div></div><div class=\"p2176\" style=\"display: none;\"><div style=\"display: table-cell;\"></div><div style=\"display: table-cell;\">outline_line_cap&nbsp;=&nbsp;'butt',</div></div><div class=\"p2176\" style=\"display: none;\"><div style=\"display: table-cell;\"></div><div style=\"display: table-cell;\">outline_line_color&nbsp;=&nbsp;'#e5e5e5',</div></div><div class=\"p2176\" style=\"display: none;\"><div style=\"display: table-cell;\"></div><div style=\"display: table-cell;\">outline_line_dash&nbsp;=&nbsp;[],</div></div><div class=\"p2176\" style=\"display: none;\"><div style=\"display: table-cell;\"></div><div style=\"display: table-cell;\">outline_line_dash_offset&nbsp;=&nbsp;0,</div></div><div class=\"p2176\" style=\"display: none;\"><div style=\"display: table-cell;\"></div><div style=\"display: table-cell;\">outline_line_join&nbsp;=&nbsp;'bevel',</div></div><div class=\"p2176\" style=\"display: none;\"><div style=\"display: table-cell;\"></div><div style=\"display: table-cell;\">outline_line_width&nbsp;=&nbsp;1,</div></div><div class=\"p2176\" style=\"display: none;\"><div style=\"display: table-cell;\"></div><div style=\"display: table-cell;\">output_backend&nbsp;=&nbsp;'canvas',</div></div><div class=\"p2176\" style=\"display: none;\"><div style=\"display: table-cell;\"></div><div style=\"display: table-cell;\">renderers&nbsp;=&nbsp;[GlyphRenderer(id='p2170', ...)],</div></div><div class=\"p2176\" style=\"display: none;\"><div style=\"display: table-cell;\"></div><div style=\"display: table-cell;\">reset_policy&nbsp;=&nbsp;'standard',</div></div><div class=\"p2176\" style=\"display: none;\"><div style=\"display: table-cell;\"></div><div style=\"display: table-cell;\">resizable&nbsp;=&nbsp;False,</div></div><div class=\"p2176\" style=\"display: none;\"><div style=\"display: table-cell;\"></div><div style=\"display: table-cell;\">right&nbsp;=&nbsp;[],</div></div><div class=\"p2176\" style=\"display: none;\"><div style=\"display: table-cell;\"></div><div style=\"display: table-cell;\">sizing_mode&nbsp;=&nbsp;None,</div></div><div class=\"p2176\" style=\"display: none;\"><div style=\"display: table-cell;\"></div><div style=\"display: table-cell;\">styles&nbsp;=&nbsp;{},</div></div><div class=\"p2176\" style=\"display: none;\"><div style=\"display: table-cell;\"></div><div style=\"display: table-cell;\">stylesheets&nbsp;=&nbsp;[],</div></div><div class=\"p2176\" style=\"display: none;\"><div style=\"display: table-cell;\"></div><div style=\"display: table-cell;\">subscribed_events&nbsp;=&nbsp;PropertyValueSet(),</div></div><div class=\"p2176\" style=\"display: none;\"><div style=\"display: table-cell;\"></div><div style=\"display: table-cell;\">syncable&nbsp;=&nbsp;True,</div></div><div class=\"p2176\" style=\"display: none;\"><div style=\"display: table-cell;\"></div><div style=\"display: table-cell;\">tags&nbsp;=&nbsp;[],</div></div><div class=\"p2176\" style=\"display: none;\"><div style=\"display: table-cell;\"></div><div style=\"display: table-cell;\">title&nbsp;=&nbsp;Title(id='p2136', ...),</div></div><div class=\"p2176\" style=\"display: none;\"><div style=\"display: table-cell;\"></div><div style=\"display: table-cell;\">title_location&nbsp;=&nbsp;'above',</div></div><div class=\"p2176\" style=\"display: none;\"><div style=\"display: table-cell;\"></div><div style=\"display: table-cell;\">toolbar&nbsp;=&nbsp;Toolbar(id='p2142', ...),</div></div><div class=\"p2176\" style=\"display: none;\"><div style=\"display: table-cell;\"></div><div style=\"display: table-cell;\">toolbar_inner&nbsp;=&nbsp;False,</div></div><div class=\"p2176\" style=\"display: none;\"><div style=\"display: table-cell;\"></div><div style=\"display: table-cell;\">toolbar_location&nbsp;=&nbsp;None,</div></div><div class=\"p2176\" style=\"display: none;\"><div style=\"display: table-cell;\"></div><div style=\"display: table-cell;\">toolbar_sticky&nbsp;=&nbsp;True,</div></div><div class=\"p2176\" style=\"display: none;\"><div style=\"display: table-cell;\"></div><div style=\"display: table-cell;\">visible&nbsp;=&nbsp;True,</div></div><div class=\"p2176\" style=\"display: none;\"><div style=\"display: table-cell;\"></div><div style=\"display: table-cell;\">width&nbsp;=&nbsp;1150,</div></div><div class=\"p2176\" style=\"display: none;\"><div style=\"display: table-cell;\"></div><div style=\"display: table-cell;\">width_policy&nbsp;=&nbsp;'auto',</div></div><div class=\"p2176\" style=\"display: none;\"><div style=\"display: table-cell;\"></div><div style=\"display: table-cell;\">x_range&nbsp;=&nbsp;DataRange1d(id='p2135', ...),</div></div><div class=\"p2176\" style=\"display: none;\"><div style=\"display: table-cell;\"></div><div style=\"display: table-cell;\">x_scale&nbsp;=&nbsp;LinearScale(id='p2144', ...),</div></div><div class=\"p2176\" style=\"display: none;\"><div style=\"display: table-cell;\"></div><div style=\"display: table-cell;\">y_range&nbsp;=&nbsp;Range1d(id='p2143', ...),</div></div><div class=\"p2176\" style=\"display: none;\"><div style=\"display: table-cell;\"></div><div style=\"display: table-cell;\">y_scale&nbsp;=&nbsp;LinearScale(id='p2145', ...))</div></div></div>\n",
       "<script>\n",
       "(function() {\n",
       "  let expanded = false;\n",
       "  const ellipsis = document.getElementById(\"p2177\");\n",
       "  ellipsis.addEventListener(\"click\", function() {\n",
       "    const rows = document.getElementsByClassName(\"p2176\");\n",
       "    for (let i = 0; i < rows.length; i++) {\n",
       "      const el = rows[i];\n",
       "      el.style.display = expanded ? \"none\" : \"table-row\";\n",
       "    }\n",
       "    ellipsis.innerHTML = expanded ? \"&hellip;)\" : \"&lsaquo;&lsaquo;&lsaquo;\";\n",
       "    expanded = !expanded;\n",
       "  });\n",
       "})();\n",
       "</script>\n"
      ],
      "text/plain": [
       "figure(id='p2133', ...)"
      ]
     },
     "execution_count": 78,
     "metadata": {},
     "output_type": "execute_result"
    }
   ],
   "source": [
    "# Create the Bar Chart\n",
    "def plotBar():\n",
    "    # Load the datasource \n",
    "    cds = ColumnDataSource(data=dict(\n",
    "        yrs = df_quake_freq['Year'].values.tolist(),\n",
    "        numQuakes = df_quake_freq['Counts'].values.tolist()\n",
    "    ))\n",
    "    \n",
    "    # Tooltip\n",
    "    TOOLTIPS = [\n",
    "        ('Year', ' @yrs'),\n",
    "        ('Number of earthquakes', ' @numQuakes')\n",
    "    ]\n",
    "    \n",
    "    # Create a figure\n",
    "    barChart = figure(title='Frequency of Earthquakes by Year',\n",
    "                     height=400,  # Use height instead of plot_height\n",
    "                     width=1150,   # Use width instead of plot_width\n",
    "                     x_axis_label='Years',\n",
    "                     y_axis_label='Number of Occurrences',\n",
    "                     x_minor_ticks=2,\n",
    "                     y_range=(0, df_quake_freq['Counts'].max() + 100),\n",
    "                     toolbar_location=None,\n",
    "                     tooltips=TOOLTIPS)\n",
    "    \n",
    "    # Create a vertical bar \n",
    "    barChart.vbar(x='yrs', bottom=0, top='numQuakes',\n",
    "                 color='#cc0000', width=0.75,\n",
    "                 legend_label='Year', source=cds)  # Use legend_label instead of legend\n",
    "    \n",
    "    # Style the bar chart\n",
    "    barChart = style(barChart)\n",
    "    \n",
    "    show(barChart)\n",
    "    \n",
    "    return barChart\n",
    "    \n",
    "plotBar()\n"
   ]
  },
  {
   "cell_type": "code",
   "execution_count": 79,
   "id": "69da06aa",
   "metadata": {},
   "outputs": [
    {
     "data": {
      "text/html": [
       "<div>\n",
       "<style scoped>\n",
       "    .dataframe tbody tr th:only-of-type {\n",
       "        vertical-align: middle;\n",
       "    }\n",
       "\n",
       "    .dataframe tbody tr th {\n",
       "        vertical-align: top;\n",
       "    }\n",
       "\n",
       "    .dataframe thead th {\n",
       "        text-align: right;\n",
       "    }\n",
       "</style>\n",
       "<table border=\"1\" class=\"dataframe\">\n",
       "  <thead>\n",
       "    <tr style=\"text-align: right;\">\n",
       "      <th></th>\n",
       "      <th>Year</th>\n",
       "      <th>Counts</th>\n",
       "      <th>Avg_Magnitude</th>\n",
       "      <th>Max_Magnitude</th>\n",
       "    </tr>\n",
       "  </thead>\n",
       "  <tbody>\n",
       "    <tr>\n",
       "      <th>0</th>\n",
       "      <td>1990</td>\n",
       "      <td>196</td>\n",
       "      <td>5.858163</td>\n",
       "      <td>7.6</td>\n",
       "    </tr>\n",
       "    <tr>\n",
       "      <th>1</th>\n",
       "      <td>1975</td>\n",
       "      <td>150</td>\n",
       "      <td>5.848667</td>\n",
       "      <td>7.8</td>\n",
       "    </tr>\n",
       "    <tr>\n",
       "      <th>2</th>\n",
       "      <td>1977</td>\n",
       "      <td>148</td>\n",
       "      <td>5.757432</td>\n",
       "      <td>7.6</td>\n",
       "    </tr>\n",
       "    <tr>\n",
       "      <th>3</th>\n",
       "      <td>2003</td>\n",
       "      <td>187</td>\n",
       "      <td>5.850802</td>\n",
       "      <td>7.6</td>\n",
       "    </tr>\n",
       "    <tr>\n",
       "      <th>4</th>\n",
       "      <td>2007</td>\n",
       "      <td>211</td>\n",
       "      <td>5.890995</td>\n",
       "      <td>8.4</td>\n",
       "    </tr>\n",
       "  </tbody>\n",
       "</table>\n",
       "</div>"
      ],
      "text/plain": [
       "   Year  Counts  Avg_Magnitude  Max_Magnitude\n",
       "0  1990     196       5.858163            7.6\n",
       "1  1975     150       5.848667            7.8\n",
       "2  1977     148       5.757432            7.6\n",
       "3  2003     187       5.850802            7.6\n",
       "4  2007     211       5.890995            8.4"
      ]
     },
     "execution_count": 79,
     "metadata": {},
     "output_type": "execute_result"
    }
   ],
   "source": [
    "df_quake_freq.head()"
   ]
  },
  {
   "cell_type": "code",
   "execution_count": 80,
   "id": "1b75d86a",
   "metadata": {},
   "outputs": [
    {
     "data": {
      "text/html": [
       "\n",
       "  <div id=\"ab9c49b0-3919-474e-96cc-5e640a072852\" data-root-id=\"p2181\" style=\"display: contents;\"></div>\n"
      ]
     },
     "metadata": {},
     "output_type": "display_data"
    },
    {
     "data": {
      "application/javascript": [
       "(function(root) {\n",
       "  function embed_document(root) {\n",
       "  const docs_json = {\"83257fa2-87e9-4da5-9ad3-c0cbcf57ecb2\":{\"version\":\"3.2.1\",\"title\":\"Bokeh Application\",\"roots\":[{\"type\":\"object\",\"name\":\"Figure\",\"id\":\"p2181\",\"attributes\":{\"width\":1150,\"height\":400,\"x_range\":{\"type\":\"object\",\"name\":\"DataRange1d\",\"id\":\"p2183\"},\"y_range\":{\"type\":\"object\",\"name\":\"Range1d\",\"id\":\"p2191\",\"attributes\":{\"start\":5,\"end\":10.1}},\"x_scale\":{\"type\":\"object\",\"name\":\"LinearScale\",\"id\":\"p2192\"},\"y_scale\":{\"type\":\"object\",\"name\":\"LinearScale\",\"id\":\"p2193\"},\"title\":{\"type\":\"object\",\"name\":\"Title\",\"id\":\"p2184\",\"attributes\":{\"text\":\"Maximum and Average Magnitude by Year\",\"text_color\":\"#E0E0E0\",\"text_font\":\"serif\",\"text_font_size\":\"20pt\",\"align\":\"center\"}},\"outline_line_color\":\"#E0E0E0\",\"outline_line_alpha\":0.25,\"renderers\":[{\"type\":\"object\",\"name\":\"GlyphRenderer\",\"id\":\"p2218\",\"attributes\":{\"data_source\":{\"type\":\"object\",\"name\":\"ColumnDataSource\",\"id\":\"p2178\",\"attributes\":{\"selected\":{\"type\":\"object\",\"name\":\"Selection\",\"id\":\"p2179\",\"attributes\":{\"indices\":[],\"line_indices\":[]}},\"selection_policy\":{\"type\":\"object\",\"name\":\"UnionRenderers\",\"id\":\"p2180\"},\"data\":{\"type\":\"map\",\"entries\":[[\"yrs\",[1990,1975,1977,2003,2007,1974,2015,2006,1978,2013,1988,1997,1994,1968,2014,1973,1979,1971,1966,2004,1991,1967,1969,1982,1989,1996,1998,1965,1985,1970,2012,1987,2009,2016,1995,1980,2001,1972,1992,1983,2005,1984,2000,1981,2010,1986,2011,1976,2008,1999,2002,1993]],[\"avg_mag\",[5.9,5.8,5.8,5.9,5.9,5.9,5.8,5.8,5.8,5.9,5.9,5.8,5.9,6.1,5.9,5.8,5.8,6.0,6.1,5.9,5.9,6.0,6.0,5.8,5.8,5.9,5.9,6.0,5.9,6.0,5.9,5.9,5.9,5.9,5.9,5.8,5.9,5.9,5.9,5.9,5.9,5.8,5.9,5.8,5.9,5.8,5.9,5.8,5.9,5.9,5.9,5.9]],[\"max_mag\",[7.6,7.8,7.6,7.6,8.4,7.6,7.5,8.0,7.7,8.0,7.8,7.8,8.3,7.6,8.2,7.4,7.9,7.8,7.7,7.5,7.1,7.2,7.5,7.1,7.4,7.9,7.5,8.7,8.0,7.4,8.6,7.6,7.8,7.8,8.0,7.5,7.6,8.0,7.8,7.4,7.6,7.6,7.9,7.7,7.8,8.0,9.1,7.5,7.9,7.4,7.9,7.8]]]}}},\"view\":{\"type\":\"object\",\"name\":\"CDSView\",\"id\":\"p2219\",\"attributes\":{\"filter\":{\"type\":\"object\",\"name\":\"AllIndices\",\"id\":\"p2220\"}}},\"glyph\":{\"type\":\"object\",\"name\":\"Line\",\"id\":\"p2215\",\"attributes\":{\"x\":{\"type\":\"field\",\"field\":\"yrs\"},\"y\":{\"type\":\"field\",\"field\":\"max_mag\"},\"line_color\":\"#cc0000\",\"line_width\":2}},\"nonselection_glyph\":{\"type\":\"object\",\"name\":\"Line\",\"id\":\"p2216\",\"attributes\":{\"x\":{\"type\":\"field\",\"field\":\"yrs\"},\"y\":{\"type\":\"field\",\"field\":\"max_mag\"},\"line_color\":\"#cc0000\",\"line_alpha\":0.1,\"line_width\":2}},\"muted_glyph\":{\"type\":\"object\",\"name\":\"Line\",\"id\":\"p2217\",\"attributes\":{\"x\":{\"type\":\"field\",\"field\":\"yrs\"},\"y\":{\"type\":\"field\",\"field\":\"max_mag\"},\"line_color\":\"#cc0000\",\"line_alpha\":0.2,\"line_width\":2}}}},{\"type\":\"object\",\"name\":\"GlyphRenderer\",\"id\":\"p2229\",\"attributes\":{\"data_source\":{\"id\":\"p2178\"},\"view\":{\"type\":\"object\",\"name\":\"CDSView\",\"id\":\"p2230\",\"attributes\":{\"filter\":{\"type\":\"object\",\"name\":\"AllIndices\",\"id\":\"p2231\"}}},\"glyph\":{\"type\":\"object\",\"name\":\"Circle\",\"id\":\"p2226\",\"attributes\":{\"x\":{\"type\":\"field\",\"field\":\"yrs\"},\"y\":{\"type\":\"field\",\"field\":\"max_mag\"},\"size\":{\"type\":\"value\",\"value\":8},\"line_color\":{\"type\":\"value\",\"value\":\"#cc0000\"},\"fill_color\":{\"type\":\"value\",\"value\":\"#cc0000\"},\"hatch_color\":{\"type\":\"value\",\"value\":\"#cc0000\"}}},\"nonselection_glyph\":{\"type\":\"object\",\"name\":\"Circle\",\"id\":\"p2227\",\"attributes\":{\"x\":{\"type\":\"field\",\"field\":\"yrs\"},\"y\":{\"type\":\"field\",\"field\":\"max_mag\"},\"size\":{\"type\":\"value\",\"value\":8},\"line_color\":{\"type\":\"value\",\"value\":\"#cc0000\"},\"line_alpha\":{\"type\":\"value\",\"value\":0.1},\"fill_color\":{\"type\":\"value\",\"value\":\"#cc0000\"},\"fill_alpha\":{\"type\":\"value\",\"value\":0.1},\"hatch_color\":{\"type\":\"value\",\"value\":\"#cc0000\"},\"hatch_alpha\":{\"type\":\"value\",\"value\":0.1}}},\"muted_glyph\":{\"type\":\"object\",\"name\":\"Circle\",\"id\":\"p2228\",\"attributes\":{\"x\":{\"type\":\"field\",\"field\":\"yrs\"},\"y\":{\"type\":\"field\",\"field\":\"max_mag\"},\"size\":{\"type\":\"value\",\"value\":8},\"line_color\":{\"type\":\"value\",\"value\":\"#cc0000\"},\"line_alpha\":{\"type\":\"value\",\"value\":0.2},\"fill_color\":{\"type\":\"value\",\"value\":\"#cc0000\"},\"fill_alpha\":{\"type\":\"value\",\"value\":0.2},\"hatch_color\":{\"type\":\"value\",\"value\":\"#cc0000\"},\"hatch_alpha\":{\"type\":\"value\",\"value\":0.2}}}}},{\"type\":\"object\",\"name\":\"GlyphRenderer\",\"id\":\"p2238\",\"attributes\":{\"data_source\":{\"id\":\"p2178\"},\"view\":{\"type\":\"object\",\"name\":\"CDSView\",\"id\":\"p2239\",\"attributes\":{\"filter\":{\"type\":\"object\",\"name\":\"AllIndices\",\"id\":\"p2240\"}}},\"glyph\":{\"type\":\"object\",\"name\":\"Line\",\"id\":\"p2235\",\"attributes\":{\"x\":{\"type\":\"field\",\"field\":\"yrs\"},\"y\":{\"type\":\"field\",\"field\":\"avg_mag\"},\"line_color\":\"yellow\",\"line_width\":2}},\"nonselection_glyph\":{\"type\":\"object\",\"name\":\"Line\",\"id\":\"p2236\",\"attributes\":{\"x\":{\"type\":\"field\",\"field\":\"yrs\"},\"y\":{\"type\":\"field\",\"field\":\"avg_mag\"},\"line_color\":\"yellow\",\"line_alpha\":0.1,\"line_width\":2}},\"muted_glyph\":{\"type\":\"object\",\"name\":\"Line\",\"id\":\"p2237\",\"attributes\":{\"x\":{\"type\":\"field\",\"field\":\"yrs\"},\"y\":{\"type\":\"field\",\"field\":\"avg_mag\"},\"line_color\":\"yellow\",\"line_alpha\":0.2,\"line_width\":2}}}},{\"type\":\"object\",\"name\":\"GlyphRenderer\",\"id\":\"p2248\",\"attributes\":{\"data_source\":{\"id\":\"p2178\"},\"view\":{\"type\":\"object\",\"name\":\"CDSView\",\"id\":\"p2249\",\"attributes\":{\"filter\":{\"type\":\"object\",\"name\":\"AllIndices\",\"id\":\"p2250\"}}},\"glyph\":{\"type\":\"object\",\"name\":\"Circle\",\"id\":\"p2245\",\"attributes\":{\"x\":{\"type\":\"field\",\"field\":\"yrs\"},\"y\":{\"type\":\"field\",\"field\":\"avg_mag\"},\"size\":{\"type\":\"value\",\"value\":8},\"line_color\":{\"type\":\"value\",\"value\":\"yellow\"},\"fill_color\":{\"type\":\"value\",\"value\":\"yellow\"},\"hatch_color\":{\"type\":\"value\",\"value\":\"yellow\"}}},\"nonselection_glyph\":{\"type\":\"object\",\"name\":\"Circle\",\"id\":\"p2246\",\"attributes\":{\"x\":{\"type\":\"field\",\"field\":\"yrs\"},\"y\":{\"type\":\"field\",\"field\":\"avg_mag\"},\"size\":{\"type\":\"value\",\"value\":8},\"line_color\":{\"type\":\"value\",\"value\":\"yellow\"},\"line_alpha\":{\"type\":\"value\",\"value\":0.1},\"fill_color\":{\"type\":\"value\",\"value\":\"yellow\"},\"fill_alpha\":{\"type\":\"value\",\"value\":0.1},\"hatch_color\":{\"type\":\"value\",\"value\":\"yellow\"},\"hatch_alpha\":{\"type\":\"value\",\"value\":0.1}}},\"muted_glyph\":{\"type\":\"object\",\"name\":\"Circle\",\"id\":\"p2247\",\"attributes\":{\"x\":{\"type\":\"field\",\"field\":\"yrs\"},\"y\":{\"type\":\"field\",\"field\":\"avg_mag\"},\"size\":{\"type\":\"value\",\"value\":8},\"line_color\":{\"type\":\"value\",\"value\":\"yellow\"},\"line_alpha\":{\"type\":\"value\",\"value\":0.2},\"fill_color\":{\"type\":\"value\",\"value\":\"yellow\"},\"fill_alpha\":{\"type\":\"value\",\"value\":0.2},\"hatch_color\":{\"type\":\"value\",\"value\":\"yellow\"},\"hatch_alpha\":{\"type\":\"value\",\"value\":0.2}}}}}],\"toolbar\":{\"type\":\"object\",\"name\":\"Toolbar\",\"id\":\"p2190\",\"attributes\":{\"tools\":[{\"type\":\"object\",\"name\":\"PanTool\",\"id\":\"p2204\"},{\"type\":\"object\",\"name\":\"WheelZoomTool\",\"id\":\"p2205\"},{\"type\":\"object\",\"name\":\"BoxZoomTool\",\"id\":\"p2206\",\"attributes\":{\"overlay\":{\"type\":\"object\",\"name\":\"BoxAnnotation\",\"id\":\"p2207\",\"attributes\":{\"syncable\":false,\"level\":\"overlay\",\"visible\":false,\"left_units\":\"canvas\",\"right_units\":\"canvas\",\"bottom_units\":\"canvas\",\"top_units\":\"canvas\",\"line_color\":\"black\",\"line_alpha\":1.0,\"line_width\":2,\"line_dash\":[4,4],\"fill_color\":\"lightgrey\",\"fill_alpha\":0.5}}}},{\"type\":\"object\",\"name\":\"SaveTool\",\"id\":\"p2208\"},{\"type\":\"object\",\"name\":\"ResetTool\",\"id\":\"p2209\"},{\"type\":\"object\",\"name\":\"HelpTool\",\"id\":\"p2210\"},{\"type\":\"object\",\"name\":\"HoverTool\",\"id\":\"p2211\",\"attributes\":{\"renderers\":\"auto\",\"tooltips\":[[\"Year\",\" @yrs\"],[\"Average Magnitude\",\" @avg_mag\"],[\"Maximum Magnitude\",\" @max_mag\"]]}}]}},\"toolbar_location\":null,\"left\":[{\"type\":\"object\",\"name\":\"LinearAxis\",\"id\":\"p2199\",\"attributes\":{\"ticker\":{\"type\":\"object\",\"name\":\"BasicTicker\",\"id\":\"p2200\",\"attributes\":{\"mantissas\":[1,2,5]}},\"formatter\":{\"type\":\"object\",\"name\":\"BasicTickFormatter\",\"id\":\"p2201\"},\"axis_label\":\"Magnitude\",\"axis_label_standoff\":10,\"axis_label_text_color\":\"#E0E0E0\",\"axis_label_text_font\":\"Helvetica\",\"axis_label_text_font_size\":\"14pt\",\"axis_label_text_font_style\":\"bold\",\"major_label_policy\":{\"type\":\"object\",\"name\":\"AllLabels\",\"id\":\"p2202\"},\"major_label_text_color\":\"#E0E0E0\",\"major_label_text_font\":\"Helvetica\",\"major_label_text_font_size\":\"12pt\",\"axis_line_color\":\"#E0E0E0\",\"axis_line_alpha\":0,\"major_tick_line_color\":\"#E0E0E0\",\"major_tick_line_alpha\":0,\"minor_tick_line_color\":\"#E0E0E0\",\"minor_tick_line_alpha\":0}}],\"below\":[{\"type\":\"object\",\"name\":\"LinearAxis\",\"id\":\"p2194\",\"attributes\":{\"ticker\":{\"type\":\"object\",\"name\":\"BasicTicker\",\"id\":\"p2195\",\"attributes\":{\"num_minor_ticks\":2,\"mantissas\":[1,2,5]}},\"formatter\":{\"type\":\"object\",\"name\":\"BasicTickFormatter\",\"id\":\"p2196\"},\"axis_label\":\"Years\",\"axis_label_standoff\":10,\"axis_label_text_color\":\"#E0E0E0\",\"axis_label_text_font\":\"Helvetica\",\"axis_label_text_font_size\":\"14pt\",\"axis_label_text_font_style\":\"bold\",\"major_label_policy\":{\"type\":\"object\",\"name\":\"AllLabels\",\"id\":\"p2197\"},\"major_label_text_color\":\"#E0E0E0\",\"major_label_text_font\":\"Helvetica\",\"major_label_text_font_size\":\"12pt\",\"axis_line_color\":\"#E0E0E0\",\"axis_line_alpha\":0,\"major_tick_line_color\":\"#E0E0E0\",\"major_tick_line_alpha\":0,\"minor_tick_line_color\":\"#E0E0E0\",\"minor_tick_line_alpha\":0}}],\"center\":[{\"type\":\"object\",\"name\":\"Grid\",\"id\":\"p2198\",\"attributes\":{\"axis\":{\"id\":\"p2194\"},\"grid_line_color\":\"#E0E0E0\",\"grid_line_alpha\":0.25}},{\"type\":\"object\",\"name\":\"Grid\",\"id\":\"p2203\",\"attributes\":{\"dimension\":1,\"axis\":{\"id\":\"p2199\"},\"grid_line_color\":\"#E0E0E0\",\"grid_line_alpha\":0.25}},{\"type\":\"object\",\"name\":\"Legend\",\"id\":\"p2221\",\"attributes\":{\"location\":\"top_left\",\"border_line_alpha\":0,\"background_fill_color\":\"#20262B\",\"background_fill_alpha\":0.25,\"label_text_color\":\"#E0E0E0\",\"label_text_font\":\"Helvetica\",\"label_text_font_size\":\"1.025em\",\"label_standoff\":8,\"glyph_width\":15,\"spacing\":8,\"items\":[{\"type\":\"object\",\"name\":\"LegendItem\",\"id\":\"p2222\",\"attributes\":{\"label\":{\"type\":\"value\",\"value\":\"Max Magnitude\"},\"renderers\":[{\"id\":\"p2218\"}]}},{\"type\":\"object\",\"name\":\"LegendItem\",\"id\":\"p2241\",\"attributes\":{\"label\":{\"type\":\"value\",\"value\":\"Avg Magnitude\"},\"renderers\":[{\"id\":\"p2238\"}]}}]}}],\"background_fill_color\":\"#20262B\",\"border_fill_color\":\"#15191C\"}}]}};\n",
       "  const render_items = [{\"docid\":\"83257fa2-87e9-4da5-9ad3-c0cbcf57ecb2\",\"roots\":{\"p2181\":\"ab9c49b0-3919-474e-96cc-5e640a072852\"},\"root_ids\":[\"p2181\"]}];\n",
       "  root.Bokeh.embed.embed_items_notebook(docs_json, render_items);\n",
       "  }\n",
       "  if (root.Bokeh !== undefined) {\n",
       "    embed_document(root);\n",
       "  } else {\n",
       "    let attempts = 0;\n",
       "    const timer = setInterval(function(root) {\n",
       "      if (root.Bokeh !== undefined) {\n",
       "        clearInterval(timer);\n",
       "        embed_document(root);\n",
       "      } else {\n",
       "        attempts++;\n",
       "        if (attempts > 100) {\n",
       "          clearInterval(timer);\n",
       "          console.log(\"Bokeh: ERROR: Unable to run BokehJS code because BokehJS library is missing\");\n",
       "        }\n",
       "      }\n",
       "    }, 10, root)\n",
       "  }\n",
       "})(window);"
      ],
      "application/vnd.bokehjs_exec.v0+json": ""
     },
     "metadata": {
      "application/vnd.bokehjs_exec.v0+json": {
       "id": "p2181"
      }
     },
     "output_type": "display_data"
    },
    {
     "data": {
      "text/html": [
       "<div style=\"display: table;\"><div style=\"display: table-row;\"><div style=\"display: table-cell;\"><b title=\"bokeh.plotting._figure.figure\">figure</b>(</div><div style=\"display: table-cell;\">id&nbsp;=&nbsp;'p2181', <span id=\"p2253\" style=\"cursor: pointer;\">&hellip;)</span></div></div><div class=\"p2252\" style=\"display: none;\"><div style=\"display: table-cell;\"></div><div style=\"display: table-cell;\">above&nbsp;=&nbsp;[],</div></div><div class=\"p2252\" style=\"display: none;\"><div style=\"display: table-cell;\"></div><div style=\"display: table-cell;\">align&nbsp;=&nbsp;'auto',</div></div><div class=\"p2252\" style=\"display: none;\"><div style=\"display: table-cell;\"></div><div style=\"display: table-cell;\">aspect_ratio&nbsp;=&nbsp;None,</div></div><div class=\"p2252\" style=\"display: none;\"><div style=\"display: table-cell;\"></div><div style=\"display: table-cell;\">aspect_scale&nbsp;=&nbsp;1,</div></div><div class=\"p2252\" style=\"display: none;\"><div style=\"display: table-cell;\"></div><div style=\"display: table-cell;\">background_fill_alpha&nbsp;=&nbsp;1.0,</div></div><div class=\"p2252\" style=\"display: none;\"><div style=\"display: table-cell;\"></div><div style=\"display: table-cell;\">background_fill_color&nbsp;=&nbsp;'#ffffff',</div></div><div class=\"p2252\" style=\"display: none;\"><div style=\"display: table-cell;\"></div><div style=\"display: table-cell;\">below&nbsp;=&nbsp;[LinearAxis(id='p2194', ...)],</div></div><div class=\"p2252\" style=\"display: none;\"><div style=\"display: table-cell;\"></div><div style=\"display: table-cell;\">border_fill_alpha&nbsp;=&nbsp;1.0,</div></div><div class=\"p2252\" style=\"display: none;\"><div style=\"display: table-cell;\"></div><div style=\"display: table-cell;\">border_fill_color&nbsp;=&nbsp;'#ffffff',</div></div><div class=\"p2252\" style=\"display: none;\"><div style=\"display: table-cell;\"></div><div style=\"display: table-cell;\">center&nbsp;=&nbsp;[Grid(id='p2198', ...), Grid(id='p2203', ...), Legend(id='p2221', ...)],</div></div><div class=\"p2252\" style=\"display: none;\"><div style=\"display: table-cell;\"></div><div style=\"display: table-cell;\">context_menu&nbsp;=&nbsp;None,</div></div><div class=\"p2252\" style=\"display: none;\"><div style=\"display: table-cell;\"></div><div style=\"display: table-cell;\">css_classes&nbsp;=&nbsp;[],</div></div><div class=\"p2252\" style=\"display: none;\"><div style=\"display: table-cell;\"></div><div style=\"display: table-cell;\">disabled&nbsp;=&nbsp;False,</div></div><div class=\"p2252\" style=\"display: none;\"><div style=\"display: table-cell;\"></div><div style=\"display: table-cell;\">extra_x_ranges&nbsp;=&nbsp;{},</div></div><div class=\"p2252\" style=\"display: none;\"><div style=\"display: table-cell;\"></div><div style=\"display: table-cell;\">extra_x_scales&nbsp;=&nbsp;{},</div></div><div class=\"p2252\" style=\"display: none;\"><div style=\"display: table-cell;\"></div><div style=\"display: table-cell;\">extra_y_ranges&nbsp;=&nbsp;{},</div></div><div class=\"p2252\" style=\"display: none;\"><div style=\"display: table-cell;\"></div><div style=\"display: table-cell;\">extra_y_scales&nbsp;=&nbsp;{},</div></div><div class=\"p2252\" style=\"display: none;\"><div style=\"display: table-cell;\"></div><div style=\"display: table-cell;\">flow_mode&nbsp;=&nbsp;'block',</div></div><div class=\"p2252\" style=\"display: none;\"><div style=\"display: table-cell;\"></div><div style=\"display: table-cell;\">frame_align&nbsp;=&nbsp;True,</div></div><div class=\"p2252\" style=\"display: none;\"><div style=\"display: table-cell;\"></div><div style=\"display: table-cell;\">frame_height&nbsp;=&nbsp;None,</div></div><div class=\"p2252\" style=\"display: none;\"><div style=\"display: table-cell;\"></div><div style=\"display: table-cell;\">frame_width&nbsp;=&nbsp;None,</div></div><div class=\"p2252\" style=\"display: none;\"><div style=\"display: table-cell;\"></div><div style=\"display: table-cell;\">height&nbsp;=&nbsp;400,</div></div><div class=\"p2252\" style=\"display: none;\"><div style=\"display: table-cell;\"></div><div style=\"display: table-cell;\">height_policy&nbsp;=&nbsp;'auto',</div></div><div class=\"p2252\" style=\"display: none;\"><div style=\"display: table-cell;\"></div><div style=\"display: table-cell;\">hidpi&nbsp;=&nbsp;True,</div></div><div class=\"p2252\" style=\"display: none;\"><div style=\"display: table-cell;\"></div><div style=\"display: table-cell;\">hold_render&nbsp;=&nbsp;False,</div></div><div class=\"p2252\" style=\"display: none;\"><div style=\"display: table-cell;\"></div><div style=\"display: table-cell;\">js_event_callbacks&nbsp;=&nbsp;{},</div></div><div class=\"p2252\" style=\"display: none;\"><div style=\"display: table-cell;\"></div><div style=\"display: table-cell;\">js_property_callbacks&nbsp;=&nbsp;{},</div></div><div class=\"p2252\" style=\"display: none;\"><div style=\"display: table-cell;\"></div><div style=\"display: table-cell;\">left&nbsp;=&nbsp;[LinearAxis(id='p2199', ...)],</div></div><div class=\"p2252\" style=\"display: none;\"><div style=\"display: table-cell;\"></div><div style=\"display: table-cell;\">lod_factor&nbsp;=&nbsp;10,</div></div><div class=\"p2252\" style=\"display: none;\"><div style=\"display: table-cell;\"></div><div style=\"display: table-cell;\">lod_interval&nbsp;=&nbsp;300,</div></div><div class=\"p2252\" style=\"display: none;\"><div style=\"display: table-cell;\"></div><div style=\"display: table-cell;\">lod_threshold&nbsp;=&nbsp;2000,</div></div><div class=\"p2252\" style=\"display: none;\"><div style=\"display: table-cell;\"></div><div style=\"display: table-cell;\">lod_timeout&nbsp;=&nbsp;500,</div></div><div class=\"p2252\" style=\"display: none;\"><div style=\"display: table-cell;\"></div><div style=\"display: table-cell;\">margin&nbsp;=&nbsp;None,</div></div><div class=\"p2252\" style=\"display: none;\"><div style=\"display: table-cell;\"></div><div style=\"display: table-cell;\">match_aspect&nbsp;=&nbsp;False,</div></div><div class=\"p2252\" style=\"display: none;\"><div style=\"display: table-cell;\"></div><div style=\"display: table-cell;\">max_height&nbsp;=&nbsp;None,</div></div><div class=\"p2252\" style=\"display: none;\"><div style=\"display: table-cell;\"></div><div style=\"display: table-cell;\">max_width&nbsp;=&nbsp;None,</div></div><div class=\"p2252\" style=\"display: none;\"><div style=\"display: table-cell;\"></div><div style=\"display: table-cell;\">min_border&nbsp;=&nbsp;5,</div></div><div class=\"p2252\" style=\"display: none;\"><div style=\"display: table-cell;\"></div><div style=\"display: table-cell;\">min_border_bottom&nbsp;=&nbsp;None,</div></div><div class=\"p2252\" style=\"display: none;\"><div style=\"display: table-cell;\"></div><div style=\"display: table-cell;\">min_border_left&nbsp;=&nbsp;None,</div></div><div class=\"p2252\" style=\"display: none;\"><div style=\"display: table-cell;\"></div><div style=\"display: table-cell;\">min_border_right&nbsp;=&nbsp;None,</div></div><div class=\"p2252\" style=\"display: none;\"><div style=\"display: table-cell;\"></div><div style=\"display: table-cell;\">min_border_top&nbsp;=&nbsp;None,</div></div><div class=\"p2252\" style=\"display: none;\"><div style=\"display: table-cell;\"></div><div style=\"display: table-cell;\">min_height&nbsp;=&nbsp;None,</div></div><div class=\"p2252\" style=\"display: none;\"><div style=\"display: table-cell;\"></div><div style=\"display: table-cell;\">min_width&nbsp;=&nbsp;None,</div></div><div class=\"p2252\" style=\"display: none;\"><div style=\"display: table-cell;\"></div><div style=\"display: table-cell;\">name&nbsp;=&nbsp;None,</div></div><div class=\"p2252\" style=\"display: none;\"><div style=\"display: table-cell;\"></div><div style=\"display: table-cell;\">outline_line_alpha&nbsp;=&nbsp;1.0,</div></div><div class=\"p2252\" style=\"display: none;\"><div style=\"display: table-cell;\"></div><div style=\"display: table-cell;\">outline_line_cap&nbsp;=&nbsp;'butt',</div></div><div class=\"p2252\" style=\"display: none;\"><div style=\"display: table-cell;\"></div><div style=\"display: table-cell;\">outline_line_color&nbsp;=&nbsp;'#e5e5e5',</div></div><div class=\"p2252\" style=\"display: none;\"><div style=\"display: table-cell;\"></div><div style=\"display: table-cell;\">outline_line_dash&nbsp;=&nbsp;[],</div></div><div class=\"p2252\" style=\"display: none;\"><div style=\"display: table-cell;\"></div><div style=\"display: table-cell;\">outline_line_dash_offset&nbsp;=&nbsp;0,</div></div><div class=\"p2252\" style=\"display: none;\"><div style=\"display: table-cell;\"></div><div style=\"display: table-cell;\">outline_line_join&nbsp;=&nbsp;'bevel',</div></div><div class=\"p2252\" style=\"display: none;\"><div style=\"display: table-cell;\"></div><div style=\"display: table-cell;\">outline_line_width&nbsp;=&nbsp;1,</div></div><div class=\"p2252\" style=\"display: none;\"><div style=\"display: table-cell;\"></div><div style=\"display: table-cell;\">output_backend&nbsp;=&nbsp;'canvas',</div></div><div class=\"p2252\" style=\"display: none;\"><div style=\"display: table-cell;\"></div><div style=\"display: table-cell;\">renderers&nbsp;=&nbsp;[GlyphRenderer(id='p2218', ...), GlyphRenderer(id='p2229', ...), GlyphRenderer(id='p2238', ...), GlyphRenderer(id='p2248', ...)],</div></div><div class=\"p2252\" style=\"display: none;\"><div style=\"display: table-cell;\"></div><div style=\"display: table-cell;\">reset_policy&nbsp;=&nbsp;'standard',</div></div><div class=\"p2252\" style=\"display: none;\"><div style=\"display: table-cell;\"></div><div style=\"display: table-cell;\">resizable&nbsp;=&nbsp;False,</div></div><div class=\"p2252\" style=\"display: none;\"><div style=\"display: table-cell;\"></div><div style=\"display: table-cell;\">right&nbsp;=&nbsp;[],</div></div><div class=\"p2252\" style=\"display: none;\"><div style=\"display: table-cell;\"></div><div style=\"display: table-cell;\">sizing_mode&nbsp;=&nbsp;None,</div></div><div class=\"p2252\" style=\"display: none;\"><div style=\"display: table-cell;\"></div><div style=\"display: table-cell;\">styles&nbsp;=&nbsp;{},</div></div><div class=\"p2252\" style=\"display: none;\"><div style=\"display: table-cell;\"></div><div style=\"display: table-cell;\">stylesheets&nbsp;=&nbsp;[],</div></div><div class=\"p2252\" style=\"display: none;\"><div style=\"display: table-cell;\"></div><div style=\"display: table-cell;\">subscribed_events&nbsp;=&nbsp;PropertyValueSet(),</div></div><div class=\"p2252\" style=\"display: none;\"><div style=\"display: table-cell;\"></div><div style=\"display: table-cell;\">syncable&nbsp;=&nbsp;True,</div></div><div class=\"p2252\" style=\"display: none;\"><div style=\"display: table-cell;\"></div><div style=\"display: table-cell;\">tags&nbsp;=&nbsp;[],</div></div><div class=\"p2252\" style=\"display: none;\"><div style=\"display: table-cell;\"></div><div style=\"display: table-cell;\">title&nbsp;=&nbsp;Title(id='p2184', ...),</div></div><div class=\"p2252\" style=\"display: none;\"><div style=\"display: table-cell;\"></div><div style=\"display: table-cell;\">title_location&nbsp;=&nbsp;'above',</div></div><div class=\"p2252\" style=\"display: none;\"><div style=\"display: table-cell;\"></div><div style=\"display: table-cell;\">toolbar&nbsp;=&nbsp;Toolbar(id='p2190', ...),</div></div><div class=\"p2252\" style=\"display: none;\"><div style=\"display: table-cell;\"></div><div style=\"display: table-cell;\">toolbar_inner&nbsp;=&nbsp;False,</div></div><div class=\"p2252\" style=\"display: none;\"><div style=\"display: table-cell;\"></div><div style=\"display: table-cell;\">toolbar_location&nbsp;=&nbsp;None,</div></div><div class=\"p2252\" style=\"display: none;\"><div style=\"display: table-cell;\"></div><div style=\"display: table-cell;\">toolbar_sticky&nbsp;=&nbsp;True,</div></div><div class=\"p2252\" style=\"display: none;\"><div style=\"display: table-cell;\"></div><div style=\"display: table-cell;\">visible&nbsp;=&nbsp;True,</div></div><div class=\"p2252\" style=\"display: none;\"><div style=\"display: table-cell;\"></div><div style=\"display: table-cell;\">width&nbsp;=&nbsp;1150,</div></div><div class=\"p2252\" style=\"display: none;\"><div style=\"display: table-cell;\"></div><div style=\"display: table-cell;\">width_policy&nbsp;=&nbsp;'auto',</div></div><div class=\"p2252\" style=\"display: none;\"><div style=\"display: table-cell;\"></div><div style=\"display: table-cell;\">x_range&nbsp;=&nbsp;DataRange1d(id='p2183', ...),</div></div><div class=\"p2252\" style=\"display: none;\"><div style=\"display: table-cell;\"></div><div style=\"display: table-cell;\">x_scale&nbsp;=&nbsp;LinearScale(id='p2192', ...),</div></div><div class=\"p2252\" style=\"display: none;\"><div style=\"display: table-cell;\"></div><div style=\"display: table-cell;\">y_range&nbsp;=&nbsp;Range1d(id='p2191', ...),</div></div><div class=\"p2252\" style=\"display: none;\"><div style=\"display: table-cell;\"></div><div style=\"display: table-cell;\">y_scale&nbsp;=&nbsp;LinearScale(id='p2193', ...))</div></div></div>\n",
       "<script>\n",
       "(function() {\n",
       "  let expanded = false;\n",
       "  const ellipsis = document.getElementById(\"p2253\");\n",
       "  ellipsis.addEventListener(\"click\", function() {\n",
       "    const rows = document.getElementsByClassName(\"p2252\");\n",
       "    for (let i = 0; i < rows.length; i++) {\n",
       "      const el = rows[i];\n",
       "      el.style.display = expanded ? \"none\" : \"table-row\";\n",
       "    }\n",
       "    ellipsis.innerHTML = expanded ? \"&hellip;)\" : \"&lsaquo;&lsaquo;&lsaquo;\";\n",
       "    expanded = !expanded;\n",
       "  });\n",
       "})();\n",
       "</script>\n"
      ],
      "text/plain": [
       "figure(id='p2181', ...)"
      ]
     },
     "execution_count": 80,
     "metadata": {},
     "output_type": "execute_result"
    }
   ],
   "source": [
    "# Create a magnitude plot\n",
    "def plotMagnitude():\n",
    "    # Load the datasource\n",
    "    cds = ColumnDataSource(data=dict(\n",
    "        yrs = df_quake_freq['Year'].values.tolist(),\n",
    "        avg_mag = df_quake_freq['Avg_Magnitude'].round(1).values.tolist(),\n",
    "        max_mag = df_quake_freq['Max_Magnitude'].values.tolist()\n",
    "    ))\n",
    "    \n",
    "    # Tooltip\n",
    "    TOOLTIPS = [\n",
    "        ('Year', ' @yrs'),\n",
    "        ('Average Magnitude', ' @avg_mag'),\n",
    "        ('Maximum Magnitude', ' @max_mag')\n",
    "    ]\n",
    "    \n",
    "    # Create the figure\n",
    "    mp = figure(title='Maximum and Average Magnitude by Year',\n",
    "               width=1150,  \n",
    "               height=400,  \n",
    "               x_axis_label='Years',\n",
    "               y_axis_label='Magnitude',\n",
    "               x_minor_ticks=2,\n",
    "               y_range=(5, df_quake_freq['Max_Magnitude'].max() + 1),\n",
    "               toolbar_location=None,\n",
    "               tooltips=TOOLTIPS)\n",
    "    \n",
    "    # Max Magnitude\n",
    "    mp.line(x='yrs', y='max_mag', color='#cc0000', line_width=2, legend_label='Max Magnitude', source=cds)  # Use legend_label instead of legend\n",
    "    mp.circle(x='yrs', y='max_mag', color='#cc0000', size=8, fill_color='#cc0000', source=cds)\n",
    "    \n",
    "    # Average Magnitude \n",
    "    mp.line(x='yrs', y='avg_mag', color='yellow', line_width=2, legend_label='Avg Magnitude', source=cds)  # Use legend_label instead of legend\n",
    "    mp.circle(x='yrs', y='avg_mag', color='yellow', size=8, fill_color='yellow', source=cds)\n",
    "    \n",
    "    mp = style(mp)\n",
    "    \n",
    "    show(mp)\n",
    "    \n",
    "    return mp\n",
    "\n",
    "plotMagnitude()\n"
   ]
  },
  {
   "cell_type": "code",
   "execution_count": 81,
   "id": "1c090db1",
   "metadata": {},
   "outputs": [],
   "source": [
    "# Display the visuals directly in the browser\n",
    "output_file('dashboard.html')\n",
    "# Change to a dark theme\n",
    "curdoc().theme = 'dark_minimal'"
   ]
  },
  {
   "cell_type": "code",
   "execution_count": 84,
   "id": "2c17c58c",
   "metadata": {},
   "outputs": [
    {
     "name": "stderr",
     "output_type": "stream",
     "text": [
      "C:\\Users\\Shashank\\AppData\\Local\\Temp\\ipykernel_20128\\980228965.py:42: SettingWithCopyWarning: \n",
      "A value is trying to be set on a copy of a slice from a DataFrame.\n",
      "Try using .loc[row_indexer,col_indexer] = value instead\n",
      "\n",
      "See the caveats in the documentation: https://pandas.pydata.org/pandas-docs/stable/user_guide/indexing.html#returning-a-view-versus-a-copy\n",
      "  df_quakes_2016['coords_x'] = lst_lat\n",
      "C:\\Users\\Shashank\\AppData\\Local\\Temp\\ipykernel_20128\\980228965.py:43: SettingWithCopyWarning: \n",
      "A value is trying to be set on a copy of a slice from a DataFrame.\n",
      "Try using .loc[row_indexer,col_indexer] = value instead\n",
      "\n",
      "See the caveats in the documentation: https://pandas.pydata.org/pandas-docs/stable/user_guide/indexing.html#returning-a-view-versus-a-copy\n",
      "  df_quakes_2016['coords_y'] = lst_lon\n",
      "C:\\Users\\Shashank\\AppData\\Local\\Temp\\ipykernel_20128\\980228965.py:48: SettingWithCopyWarning: \n",
      "A value is trying to be set on a copy of a slice from a DataFrame.\n",
      "Try using .loc[row_indexer,col_indexer] = value instead\n",
      "\n",
      "See the caveats in the documentation: https://pandas.pydata.org/pandas-docs/stable/user_guide/indexing.html#returning-a-view-versus-a-copy\n",
      "  df_quakes_2016['Mag_Size'] = df_quakes_2016['Magnitude'] * 4\n"
     ]
    },
    {
     "data": {
      "text/html": [
       "\n",
       "  <div id=\"d0c9c87f-156c-4bbe-939d-4213fed19a2f\" data-root-id=\"p2646\" style=\"display: contents;\"></div>\n"
      ]
     },
     "metadata": {},
     "output_type": "display_data"
    },
    {
     "data": {
      "application/javascript": [
       "(function(root) {\n",
       "  function embed_document(root) {\n",
       "  const docs_json = {\"97f228b8-251c-4863-a6ec-c59bc8b0b536\":{\"version\":\"3.2.1\",\"title\":\"Bokeh Application\",\"roots\":[{\"type\":\"object\",\"name\":\"Figure\",\"id\":\"p2646\",\"attributes\":{\"width\":2300,\"height\":450,\"x_range\":{\"type\":\"object\",\"name\":\"Range1d\",\"id\":\"p2656\",\"attributes\":{\"start\":-2000000,\"end\":6000000}},\"y_range\":{\"type\":\"object\",\"name\":\"Range1d\",\"id\":\"p2657\",\"attributes\":{\"start\":-1000000,\"end\":7000000}},\"x_scale\":{\"type\":\"object\",\"name\":\"LinearScale\",\"id\":\"p2658\"},\"y_scale\":{\"type\":\"object\",\"name\":\"LinearScale\",\"id\":\"p2659\"},\"title\":{\"type\":\"object\",\"name\":\"Title\",\"id\":\"p2649\",\"attributes\":{\"text\":\"Earthquake Map\",\"text_color\":\"#E0E0E0\",\"text_font\":\"serif\",\"text_font_size\":\"20pt\",\"align\":\"center\"}},\"outline_line_color\":\"#E0E0E0\",\"outline_line_alpha\":0.25,\"renderers\":[{\"type\":\"object\",\"name\":\"GlyphRenderer\",\"id\":\"p2684\",\"attributes\":{\"data_source\":{\"type\":\"object\",\"name\":\"ColumnDataSource\",\"id\":\"p2640\",\"attributes\":{\"selected\":{\"type\":\"object\",\"name\":\"Selection\",\"id\":\"p2641\",\"attributes\":{\"indices\":[],\"line_indices\":[]}},\"selection_policy\":{\"type\":\"object\",\"name\":\"UnionRenderers\",\"id\":\"p2642\"},\"data\":{\"type\":\"map\",\"entries\":[[\"lat\",[-6543390.724483237,-3328358.0702136224,5591172.898038173,2851640.5215679468,3582617.0285600303,-7225385.693391577,2519559.275530917,-3589189.5968190334,-7895731.329585679,434091.130985274,5539417.811527147,-3676788.280848081,4383206.456763607,-3600829.447882163,2946475.6765804114,2624462.067661116,-1919649.3727256414,-1714752.0518279816,-738658.6098666815,-3577327.8402285944,-1077518.9345580437,-3886984.5412093443,-551952.8806289821,-534289.4164623911,-1092279.3816380876,-370880.47196445666,-345125.133793962,-3890327.522750172,-1701661.4348117206,6701229.281034023,6721815.015535953,3945945.23053972,-374080.791003844,7761753.97926687,-1611357.202772603,468775.96792111447,-1591614.9794630976,-1582053.595071207,-1597470.6170010692,-916356.9030152019,-672409.5786799104,-1571979.4590359947,-462257.586109796,1811174.038604051,4365832.938958695,6643310.475927785,6773859.823305286,-418505.0455930204,-7410479.387446073,-560233.0274267893,-677928.4070738676,5418424.9975573495,-7511617.038765008,-1672495.0545528778,1548060.141959909,-999439.4980835484,2081535.6065417049,1852333.4820856596,-8997877.969353518,2838365.246911671,2836895.013382633,-3532220.974959881,-233455.68729851866,2040088.6479005006,-3419298.4832275123,-511168.83740093646,-1996283.2379809062,-3506570.907184386,-3509116.8698924873,-5645608.880689954,2080163.2375550573,2096579.1308771288,142378.32007136501,-452447.43496013916,-1260322.1273079962,1440522.2984627502,-969486.3282046615,-832620.1045632168,-1860667.204540434,-1189867.89525655,-7713171.987908111,-45318.54601658557,-4274618.876232512,-1692473.3553627734,-1698767.4525167744,-1645353.0122122725,65390.214373085604,64699.99763943559,-718310.979350528,-2749095.058186247,-8126461.540002937,-2551709.5517699746,2868953.7923551914,-2744089.018216976,-2568831.740902209,-2897353.1892552385,-4489209.573341354,-4500545.7623202745,-4470697.205647996,-4441532.400450267,-4446385.293838093,-4442926.682361412,-4471340.325008444,61594.03159729839,-4483469.075802989,-7426079.75738785,-2213915.801501731,4912675.02068954,4359273.23933069,2306420.320560517,938327.8076290637,-4456823.764446551,7249204.8093854645,-1219510.091862458,-7287232.027312336,-3681872.3599156886,-621364.074218154,-115277.60839181444,-3344525.2231373596,-2714535.8476083255,3230314.566706101,797189.2654855343,2586827.7678902973,-450405.18369439204,-4304433.519025345,-4456418.872302224,197100.25765049175,-1732109.4437709805,-603705.6005118577,-680771.976234633,-4176730.7437068527,-905830.9111608852,-7991177.156025094,-4380392.084819088,-528290.8084284626,-6454454.065666398,-2323743.5323901074,4649917.791428913,-2871569.0678798584,681925.11549967,-4191379.7565639713,-1725206.5409805682,6846037.379623727,-2588190.6188395876,502022.99706885614,-816613.0848425829,1235690.5297297353,588980.6922978276,5438076.329098564,4932064.174315522,-1195690.063706147,-1144151.1386994515,-1217265.6283307744,-1214148.5648662208,-1203654.6642516751,-1240091.3303174912,-1228920.328684846,-1227026.7319589504,-1163431.2025315375,-1156222.5862376215,-1218829.9356544984,-631017.2840090224,-1019965.3263767234,-1228024.5420570814]],[\"lon\",[15523380.539682128,-19734830.64732233,14464921.425372442,10425125.972535465,14775847.895107137,-15168427.211338695,15986681.128414653,-7974739.077295771,-16469562.815577714,14122224.37296535,15705699.601703351,6477859.280445858,7898151.267629998,-20031986.896045897,13742123.971651718,13425286.436955903,19474109.267935403,-19302254.23804875,17225811.77628182,-7968672.165047537,13291691.916054895,-19857794.15685258,10500756.434580415,10509684.257742038,13950113.30824987,16567067.557563543,16568659.426281884,-19839560.024260644,-19305927.781244926,-19366530.112032786,-19363168.263410825,15182876.481243663,16128747.062565029,-17580920.951912362,18574224.76826074,14098780.48820429,18557092.698627654,18548554.493683815,18550179.758249395,11954121.442479238,14519356.656370355,18545192.645061854,11378076.473471284,-10715202.301644579,7918277.831565422,19986234.58532986,19667348.77200345,-11570180.518733237,16272037.51111413,11647035.495176913,-11929341.723828655,16420326.20479985,-16019486.98235143,18583019.00803341,5762820.795233425,-12049121.495922217,-11726072.333640138,-10891677.090399155,18406009.885723025,13579185.632977603,13586888.9417405,-19809804.324371602,11206021.0685012,-11781364.724717155,-7999351.816710162,13984666.878192104,-19217272.938777164,-19796601.83276352,-7955291.562254186,18571230.273958404,-11707815.93715004,-11711155.521873841,14067577.634934934,-11638797.852858212,12942772.10411246,-9680710.273702689,17873346.12227721,-1513978.4706357587,-19727394.505337343,18364176.02108291,-15816250.988010151,-8995449.752277454,-11493859.875845369,-19244512.81817428,-19280658.256834853,18633290.890075654,-8865016.704914976,-8865261.60779472,16415327.95966323,9190147.54167489,-2844146.1980736633,-7347954.684384244,15808937.297465034,9176510.904052714,19271262.891811904,-19741765.851598755,19942452.629600868,19981191.812396925,19936541.56463974,19914021.631652266,19918296.30009873,19928181.470881168,19881972.75025288,10977715.924833277,19894440.53322173,-3441764.884397353,-19336852.3357873,-13991487.056038685,-10790098.055050293,16407992.005219955,14013721.265289148,19892637.157470874,18761953.95753452,18476820.213816624,17667805.814476512,-7327650.009263551,-8566435.566709256,3519710.791850803,-12501768.809385827,-19472684.37845325,15801156.065058582,-3821998.8690999374,13518193.683971971,-11567976.39281553,-11244292.709435929,19886113.83531039,14187557.782111922,-19460851.116581924,17088142.96201778,16548621.9179391,-7908771.147051676,11670746.546715882,16496580.055993244,-8188695.138600441,16683596.80052594,12732912.600068979,-19839693.6076496,15759032.769742409,19902288.557322655,-9193943.53631094,6013690.399685146,-7884425.574415187,19388493.4475663,-19629867.499453355,14230438.049965493,13734621.037972253,-6779412.649055758,10705350.526709374,9611892.564494286,-14047807.293370048,17958216.102058005,17931254.52138787,17948063.764497656,17957358.941978898,17937087.66270544,17973066.122129828,17956935.92791388,17962412.84686091,17959062.130188033,17961410.97144377,17953485.023699287,17195900.229105666,-12228357.008048467,17986146.162298035]],[\"mag\",[6.3,5.8,5.8,6.7,5.8,6.0,5.7,5.7,5.6,6.5,6.2,5.9,5.7,6.2,5.7,6.4,5.7,5.8,6.4,6.3,6.3,5.6,7.8,5.6,5.6,5.9,5.6,5.5,5.9,5.6,6.3,5.9,6.2,5.9,6.9,5.9,5.8,6.7,5.9,6.1,5.5,6.7,5.7,5.5,6.6,5.6,5.6,5.8,5.5,5.7,5.6,5.7,5.5,5.7,5.5,5.6,5.6,5.8,5.5,5.8,5.7,5.5,6.6,5.8,5.8,6.3,5.6,6.1,5.5,5.5,6.3,5.5,6.3,5.9,6.1,6.1,6.2,5.5,5.8,5.9,5.8,5.5,5.6,5.8,6.0,5.6,5.9,6.3,5.6,5.6,5.6,6.2,6.3,5.5,7.2,6.1,7.0,5.5,5.5,5.7,6.1,5.5,5.5,5.5,5.5,5.5,5.5,5.64,5.8,5.5,5.8,5.9,6.1,5.6,6.1,5.6,6.1,5.9,5.8,5.6,5.7,5.5,5.8,5.6,5.6,5.8,5.8,5.6,5.6,6.0,6.3,5.8,5.7,6.0,5.9,5.7,5.6,6.1,5.9,5.6,5.5,6.2,5.9,5.5,5.7,6.3,5.9,6.5,6.0,6.6,7.8,5.7,5.5,6.5,6.9,5.5,5.5,5.8,5.5,5.6,5.8,6.0,5.8,5.5]],[\"year\",[2016.0,2016.0,2016.0,2016.0,2016.0,2016.0,2016.0,2016.0,2016.0,2016.0,2016.0,2016.0,2016.0,2016.0,2016.0,2016.0,2016.0,2016.0,2016.0,2016.0,2016.0,2016.0,2016.0,2016.0,2016.0,2016.0,2016.0,2016.0,2016.0,2016.0,2016.0,2016.0,2016.0,2016.0,2016.0,2016.0,2016.0,2016.0,2016.0,2016.0,2016.0,2016.0,2016.0,2016.0,2016.0,2016.0,2016.0,2016.0,2016.0,2016.0,2016.0,2016.0,2016.0,2016.0,2016.0,2016.0,2016.0,2016.0,2016.0,2016.0,2016.0,2016.0,2016.0,2016.0,2016.0,2016.0,2016.0,2016.0,2016.0,2016.0,2016.0,2016.0,2016.0,2016.0,2016.0,2016.0,2016.0,2016.0,2016.0,2016.0,2016.0,2016.0,2016.0,2016.0,2016.0,2016.0,2016.0,2016.0,2016.0,2016.0,2016.0,2016.0,2016.0,2016.0,2016.0,2016.0,2016.0,2016.0,2016.0,2016.0,2016.0,2016.0,2016.0,2016.0,2016.0,2016.0,2016.0,2016.0,2016.0,2016.0,2016.0,2016.0,2016.0,2016.0,2016.0,2016.0,2016.0,2016.0,2016.0,2016.0,2016.0,2016.0,2016.0,2016.0,2016.0,2016.0,2016.0,2016.0,2016.0,2016.0,2016.0,2016.0,2016.0,2016.0,2016.0,2016.0,2016.0,2016.0,2016.0,2016.0,2016.0,2016.0,2016.0,2016.0,2016.0,2016.0,2016.0,2016.0,2016.0,2016.0,2016.0,2016.0,2016.0,2016.0,2016.0,2016.0,2016.0,2016.0,2016.0,2016.0,2016.0,2016.0,2016.0,2016.0]],[\"mag_s\",[25.2,23.2,23.2,26.8,23.2,24.0,22.8,22.8,22.4,26.0,24.8,23.6,22.8,24.8,22.8,25.6,22.8,23.2,25.6,25.2,25.2,22.4,31.2,22.4,22.4,23.6,22.4,22.0,23.6,22.4,25.2,23.6,24.8,23.6,27.6,23.6,23.2,26.8,23.6,24.4,22.0,26.8,22.8,22.0,26.4,22.4,22.4,23.2,22.0,22.8,22.4,22.8,22.0,22.8,22.0,22.4,22.4,23.2,22.0,23.2,22.8,22.0,26.4,23.2,23.2,25.2,22.4,24.4,22.0,22.0,25.2,22.0,25.2,23.6,24.4,24.4,24.8,22.0,23.2,23.6,23.2,22.0,22.4,23.2,24.0,22.4,23.6,25.2,22.4,22.4,22.4,24.8,25.2,22.0,28.8,24.4,28.0,22.0,22.0,22.8,24.4,22.0,22.0,22.0,22.0,22.0,22.0,22.56,23.2,22.0,23.2,23.6,24.4,22.4,24.4,22.4,24.4,23.6,23.2,22.4,22.8,22.0,23.2,22.4,22.4,23.2,23.2,22.4,22.4,24.0,25.2,23.2,22.8,24.0,23.6,22.8,22.4,24.4,23.6,22.4,22.0,24.8,23.6,22.0,22.8,25.2,23.6,26.0,24.0,26.4,31.2,22.8,22.0,26.0,27.6,22.0,22.0,23.2,22.0,22.4,23.2,24.0,23.2,22.0]]]}}},\"view\":{\"type\":\"object\",\"name\":\"CDSView\",\"id\":\"p2685\",\"attributes\":{\"filter\":{\"type\":\"object\",\"name\":\"AllIndices\",\"id\":\"p2686\"}}},\"glyph\":{\"type\":\"object\",\"name\":\"Circle\",\"id\":\"p2681\",\"attributes\":{\"x\":{\"type\":\"field\",\"field\":\"lon\"},\"y\":{\"type\":\"field\",\"field\":\"lat\"},\"size\":{\"type\":\"field\",\"field\":\"mag_s\"},\"line_color\":{\"type\":\"value\",\"value\":\"#1f77b4\"},\"fill_color\":{\"type\":\"value\",\"value\":\"#cc0000\"},\"fill_alpha\":{\"type\":\"value\",\"value\":0.7}}},\"nonselection_glyph\":{\"type\":\"object\",\"name\":\"Circle\",\"id\":\"p2682\",\"attributes\":{\"x\":{\"type\":\"field\",\"field\":\"lon\"},\"y\":{\"type\":\"field\",\"field\":\"lat\"},\"size\":{\"type\":\"field\",\"field\":\"mag_s\"},\"line_color\":{\"type\":\"value\",\"value\":\"#1f77b4\"},\"line_alpha\":{\"type\":\"value\",\"value\":0.1},\"fill_color\":{\"type\":\"value\",\"value\":\"#cc0000\"},\"fill_alpha\":{\"type\":\"value\",\"value\":0.1},\"hatch_alpha\":{\"type\":\"value\",\"value\":0.1}}},\"muted_glyph\":{\"type\":\"object\",\"name\":\"Circle\",\"id\":\"p2683\",\"attributes\":{\"x\":{\"type\":\"field\",\"field\":\"lon\"},\"y\":{\"type\":\"field\",\"field\":\"lat\"},\"size\":{\"type\":\"field\",\"field\":\"mag_s\"},\"line_color\":{\"type\":\"value\",\"value\":\"#1f77b4\"},\"line_alpha\":{\"type\":\"value\",\"value\":0.2},\"fill_color\":{\"type\":\"value\",\"value\":\"#cc0000\"},\"fill_alpha\":{\"type\":\"value\",\"value\":0.2},\"hatch_alpha\":{\"type\":\"value\",\"value\":0.2}}}}},{\"type\":\"object\",\"name\":\"GlyphRenderer\",\"id\":\"p2695\",\"attributes\":{\"data_source\":{\"type\":\"object\",\"name\":\"ColumnDataSource\",\"id\":\"p2643\",\"attributes\":{\"selected\":{\"type\":\"object\",\"name\":\"Selection\",\"id\":\"p2644\",\"attributes\":{\"indices\":[],\"line_indices\":[]}},\"selection_policy\":{\"type\":\"object\",\"name\":\"UnionRenderers\",\"id\":\"p2645\"},\"data\":{\"type\":\"map\",\"entries\":[[\"pred_lat\",[-4305644.878725946,-545572.9963252052,-2662437.544199333,2755248.2180776442,-5365811.401172721,-2198935.6254887776,-2201815.0661135376,-2169151.5511257183,-2151981.0195756736,-2022267.689426525,-2130721.2189970976,-2549699.865701337,-694543.9332678925,-7232331.040247741,12673256.347779717,499019.2775873914,1653476.4320984208,-1131687.975289045,-2610385.9209709303,-2291994.7871158165,-587136.108265621,3372.9807282539505,-2110306.486492369,-1702145.7202415739,-2114300.813983417,-1533175.837365457,369430.8808398337,-1523097.209169454,2255613.0303128827,5251466.08195597,5249092.034354799,-1158542.31074942,314783.38479557785,-696727.5869158688,-751615.0630744306,1355850.2420601917,-3515612.666032386,-1663110.5734038544,78148.23778704347,1358742.0221909478,1697280.2399914016,384206.4656621807,2899247.571116649,1108390.3548526065,-2736515.995592676,-1686526.5676896854,-2188094.3838645956,-2423170.738547443,-942997.9000432289,-2663406.851823695,-2033417.1551428244,-2109578.1952632125,4518380.554022869,-5588992.228074327,-7820139.622008823,8306487.562006566,4525320.617361077,-817948.6770221533,1099802.996351176,-7397288.521822361,-668525.4304657294,-698418.5745860382,5088588.534926192,-1691850.9498408462,-8433232.08722776,-3570322.1306225546,1618757.24354095,685451.8444193258,-2393392.991688738,-1766434.174267657,6635262.103856747,-1293287.889404825,-908799.531326025,-948748.992832175,-339539.992015826,6938469.688544394,7747885.474860748,2963540.901167296,34353.36095726692,6922941.295510339,-2593172.612202951,-7482427.682112884,6654349.953489209,4269774.326043047,-2157361.3814672176,1540382.0671977927,1547853.8366059961,-6832047.59130031,1464599.6400086829,632818.3313257238,636331.0777585702,857123.4469409954,862313.1988759948,638680.4740663961,-2064241.1614338474,-2664133.870717765,-822977.1091850322,-1504450.120204938,1973247.8774015973,-2047816.2328304106,-301988.9644560258,-4340474.349688632,-2337314.354431834,-3900003.6645173165,-3897255.305117063,-3900282.5196553133,-7337411.688928481,6658187.08326438,-1866135.711318369,-3924408.758540344,-3912532.1501572262,613680.5528100671,-1081459.7614575624,3608746.6061610063,8359970.740134858,8361875.379767513,8350300.101798156,8348464.775425542,-1312938.1458496503,4792667.472756803,4790503.900218573,-8586207.569116628,6625734.82365355,6629257.565175177,6752243.306047916,2808339.2316463753,6627150.819317838,-1641809.9026616956,6756972.061558729,-7641276.689954517,-7637796.156257059,-7675664.015505834,-3208248.7246229313,1450445.4558200159,4546886.706747683,-2371464.574741726,3151660.834632129,-448095.1517515751,1049075.6774900411,1977857.613992557,1926809.1237635878,5453657.620247199,-310681.9021402735,-1121049.0407249308,6858557.903920932,-2549170.4076041034,7104842.120234905,-143870.3768323784,-4487249.0510882195,-8100499.685198234,2164321.5495230677,7176067.416283686,-527676.4522642265,-8997805.451620065,-453675.0399595397,-1902394.1145143113,-7227922.704199101,1610771.2655774383,-929517.8827989912,-3697894.4979751343,4711592.3876203345,-2075577.6191125002,1591959.3923035788,1678726.4619239368,1726499.241972048,-3569999.0833416884,-7445379.231640741,-9036901.844784355,1266349.5260567088,-2764708.0832564547,-2361950.752767476,1541814.3773614864,-2207988.437418792,-5047525.047991203,-1736970.3674071126,-1066974.4236178973,-2220022.200725581,-2850083.1727469866,5434235.246962346,-3543498.6991029233,-3649032.4471866395,-509717.04716724897,3994117.608229388,-31715.053620725674,-3169524.199447897,-3178313.99124862,-4232681.143815502,5922688.114774268,1246500.756029532,-745752.8974622741,-2578074.42083684,-7572383.258442905,1230893.4115588807,-4321997.7203316195,-6357337.283314072,-4217157.9086806,4990992.382834879,-532580.2680479435,45619.11627917563,-2318066.2695521857,-2317341.8919830867,7280814.093520289,7254582.226507023,-1852960.1451625917,-7754111.940643026,-1969234.135804802,4497391.699737972,4429256.6953345,-2043834.993375725,34464.6820680013,4871567.652741578,3110671.5547305616,-396363.01566563087,1505010.8360824403,7227731.923012483,5800306.867275992,-3317861.212150935,681981.0936987327,-1145282.3105185104,-5989276.000660639,-605897.2791313904,-376534.060890135,-372999.13958976517,3920896.384432669,5512343.6078667715,6873195.893977935,6885703.918075628,-2876874.679370592,1574962.2867086118,-1839328.3396986248,-3534591.685046523,-419776.828952932,-1200527.5166430902,-7355095.6786795445,-1665850.7073915948,3334180.5471230606,-123795.04571138619,-698004.2220956333,-2032972.4655502085,-5985748.279869394,-161708.8821725821,-129028.0895611599,8062469.851229396,7771982.62055044,1576029.3031772126,5061494.911955777,-7912625.714267072,-1832961.9011957513,3221629.9168965113,1691758.742954441,1709872.5242152764,1698536.8710225923,1735030.4984869228,5128275.333156286,7787187.344932034,2747669.8187303916,1678530.6267919843,2118248.9355914155,-7448440.212338019,1815089.6939157222,-703995.8215343215,-2101533.516183289,-3739915.568881679,1718917.152009302,1701303.9921897436,2102014.9316169075,-6569926.986643506,4576798.589796728,-2129686.461762279,-566748.298184276,-681600.442976885,2698450.1605495107,4925775.566875482,1745701.721099107,1877309.0836236048,844230.1342541707,1725356.5830811297,-695092.6385978509,-2702494.352232406,4914743.655082393,3349465.5891309045,438911.39930979925,1512186.7203117542,-2557126.0721197636,106415.23801256623,4509494.443295251,4452482.453741789,-4206130.0392036885,-2153793.9305472,-8799329.294446291,6871116.152136846,-2104551.359970118,-7220161.650973685,-7219284.962370067,-3631956.9676027764,1831095.2137202795,-2735164.9224374145,-2720870.1036247457,-2343223.557681384,-26527.511136182584,-620133.7559040728,3289163.7310350225,-6862547.445647728,-805503.2306815294,-541126.3941315995,22972492.920816742,23017578.89083119,23070653.714063987,-961120.3823463281,-2475197.087909239,-2442723.714941221,-1746464.1334434794,-426236.4080493929,-419832.6093060029,-417177.49998489686,-425488.90432073775,-2478875.5770178144,-2469363.43797136,-2488321.031005311,-2480205.777766392,-2490671.2143681957,2114911.7816435685,-1726072.1813098392,-2420053.3593098465,-1707473.4933615183,-2113725.1115881503,1308391.019937781,-2472753.18361226,-2000220.328516855,-472794.39156972774,-2496656.043696367,3831869.552869018,-5081425.444171707,-1316405.7714694205,4151779.3925998537,4570289.9003546275,1064073.4976731613,-2054574.397347699,-2111410.720620923,1471113.6276090278,-8187111.827621816,4310739.577394617,-2456660.792872055,3792263.2916084253,3482140.0594611526,-330287.73264516547,274464.949188219,-2468081.975861971,-2451922.130950162,-2416088.7546149213,-2430626.024760267,-2449780.5835856874,-1657447.0457099949,-6795732.894736507,-4380114.846842927,3140736.139320978,-2347731.0651551904,-509784.05228970014,11972630.390174912,-2954956.4261257593,-1621239.7221826883,5653346.910651668,-751603.8537432499,-488869.975569843,-120254.43798601728,3599857.9663209543,-684209.0685570824,-6237394.496044554,-52320.747453207616,-3861757.15764775,-1566014.8139201794,-70121.559796827,1132049.8215287544,-3575065.421551152,1120201.224843237,-1818009.4917290597,1129381.2901968637,-2371952.904337748,-1612529.117119659,-2238506.885499229,3598666.3855736377,3610366.9396063318,-7211722.819822231,-2418106.7702445276,-836403.7278979729,-1959937.7578399326,-8316409.16625335,-2494688.855133488,3582901.595867437,3412595.806500549,7143535.427905174,-1731128.1413604217,-3234457.453569088,454601.3348356274,-7670127.402271534,-6999959.447355698,-605248.7137534146]],[\"pred_long\",[5780687.573505744,-8501191.21315532,19952716.286652006,10243363.50796821,-8293491.307233229,19597996.729239237,19587020.627447024,19613102.784139886,19624201.33737198,18604102.919589657,19620806.092902783,-7546904.878329982,16417053.411770526,-15123699.039937956,-10287657.533354852,13649673.134547904,16067855.301101107,17925454.77591754,-7770467.811690112,5192709.155084753,11435127.712502839,13923507.949950278,19618557.43918876,-19288127.794667084,19602182.34209307,18537177.64172474,10961585.730617331,18525444.56739513,-8526405.077819996,1472400.640824471,1468348.6113595958,17959785.70687819,14272093.803420337,17273645.761475686,17098918.688726567,16281210.237155495,-19753988.731687855,18607910.046174783,-8869591.935986578,15699053.828102991,-6737656.708059201,-8312393.356769928,7042560.793341977,13965208.231201438,-7420468.200686982,-19634654.237557467,-7113838.66329691,19411291.67928076,3342979.968267402,-19904325.70400417,-19863671.825966466,18857978.150292795,15733306.835420081,-9005435.110601611,-15876597.283969184,-16993432.33925086,4278063.6909309,17337788.05207077,13970161.94854174,-14379951.258049939,16626890.651915848,11375438.201539483,15796480.646445265,18719775.002472945,16731252.674534539,-19761447.137571003,16164992.688767318,10275278.80597864,18931883.16023045,-19717030.66074449,19934649.133296255,12754285.942301288,17895008.895185582,12837731.032599926,15235864.558861258,19176073.595234573,18121265.76022291,-12247782.259191895,13422926.463751087,-3597701.22710057,2800330.846497431,-3339729.4391362383,-19634220.09154337,6727738.14142952,18877414.533385303,13461921.68137597,13462467.146880858,15547347.626049919,13955200.608979123,14159983.944242429,14148139.550422024,13893997.152940981,13899607.655276963,14170982.309932806,-19833604.431503203,-7538834.215247469,9258653.55630907,18545404.152094364,-6806329.70192957,-19855946.253305417,-8382747.274951275,-10956943.707851252,-19325252.84484664,-8018298.394043178,-8027849.60635324,-8021871.749697642,-14504840.594770912,19885512.71006011,-19330217.69413602,-8011596.960697423,-7992717.175058885,13922261.171653392,12451029.385482254,14629017.486750808,-15218643.43363554,-15217841.933301827,-15209492.971492331,-15215348.37670806,-1551548.7987784883,7953087.436336478,7950694.067284424,-4231921.761997088,-19704841.176502623,-19702080.45313095,-19880269.562043745,14061588.646330256,-19708436.796055246,18632289.01465851,-19868358.376528863,-2865719.9153894004,-2870606.8410352245,-2876918.6561632035,-19658409.81689275,-10025555.79228209,6368120.52642185,-7648873.53189662,14476454.124618625,16973784.44912585,13798462.765942194,-11724480.464921793,-10473828.249757523,16444048.388287898,13594113.576692982,18028581.15218843,-18553163.120602652,-19628954.67962885,-17921024.26018397,13406350.991571967,-7980449.767173465,-2921234.945448006,16234411.523226002,19026682.83859,16156499.011619791,17347361.528278995,-8945445.037013115,-19783221.22997017,-16323778.810434842,-10354349.040289104,11828697.772202456,-7988286.659325312,2934938.3747646576,18782715.042567465,-10382156.649089262,-10242417.292296467,-10817538.309530836,-19821136.648534358,-13887941.372641826,-17932690.542819105,-9646423.870538358,19993436.956384186,-19652576.675575186,-10126934.452547526,3839208.862376577,8976614.494435232,-8169236.491609777,7366010.705790913,-19617444.244280823,-19727572.61652261,16461325.17325901,-19777221.10941641,20029237.304623302,17035678.086006906,-4290754.112881334,-8960406.37657573,-19638350.044651803,-19616453.500812765,-8163681.649019193,-12531825.07190001,13873592.290278576,16446909.299201284,19269426.120213814,-3066028.2071228167,13890891.33914785,-11201334.517938806,18258144.206102323,-8155822.492969188,14656736.039958334,17055359.37197916,13579241.292722998,-19309590.192492027,-19299949.924589332,18773854.01110032,18797075.256879795,-8197088.628206255,-15741678.061127735,7400920.498103682,15761270.291507354,3051701.3886577226,18832207.68817415,13381003.543518338,15972988.831047077,14491972.06163521,14035684.600822661,-5490934.070919933,18846512.24274109,16817848.10642263,-7669278.394559028,13961133.937838405,17976171.935922958,11117154.71900093,16873975.3936806,16348847.95976149,16340409.942359356,11561107.980233584,9220782.665541198,-18818515.390806578,-18828678.860316005,-1513956.2067375998,13440615.130838137,-8179132.7943413,-8032792.191744462,11312598.348986682,-8300671.414389395,-14446186.355071936,-19271218.364015583,14237840.796103245,-1520679.9039815138,14254382.872435123,-19908444.52516352,17814458.11164757,16484190.196667952,11097228.530148936,-17104406.739622675,-3792777.5027667037,16318858.48894178,14363520.501208851,-2851237.2496371954,18699236.556421585,15562921.222811898,-10452822.261844832,-10497105.155282399,-10470811.491557026,-10523287.499516975,15906798.261821399,-3746156.9000224797,15844915.75688942,-10465579.475489743,16224448.428800004,-3157232.2659297455,-10590758.24288678,16572221.649987271,-1413334.5190095599,-8029040.724904728,-10527105.758051185,-10479995.349547472,-10963711.932891482,18104078.030844428,16103488.670104034,18823524.76789228,16456026.365497254,12581774.127418952,-12115011.502522757,-14118940.44798695,-10511754.800270792,-10584012.281744706,13886304.976127166,-10482978.71190073,17000879.61318493,-19685415.925359197,15845483.486292463,15643995.20795664,14304365.323801303,-5491635.38371193,-7627299.814580885,-2839637.7586965365,16032244.19599634,15704630.934591737,-1731262.9847151493,-19543906.58866279,17209826.297403906,19677846.199985255,-7764823.913506894,958304.9684429747,927981.539150887,-7304629.138567501,-10560390.285798375,-19577959.220896453,-19556986.628831,-19347572.402750693,13686642.337440351,16384136.238342956,14606319.44257806,1868063.5069510029,13700479.350145955,14592938.839784708,6028117.405691953,5923410.2926518,6144858.15568686,13245249.424495943,18829524.888446037,18804589.322508343,-19287994.211278133,14217825.551658614,14211881.090850255,14221254.191975046,14223180.019165771,18805669.121569037,18797242.236115985,18810967.929330796,18794114.158424694,18796396.207985956,-11862683.612741644,-19276995.84558776,18808697.011718616,-19301107.647293583,-19786471.75910133,-6810348.335547209,18774644.379484948,-19875772.254615694,15972632.608676542,-19968746.293326236,15744806.138819026,-9371976.797936622,-1571185.556954422,5116154.741266219,16133622.856261773,-9404994.158905908,-19815515.014249295,-19093797.359589268,15997913.265035696,-1903663.4801066918,14391383.769754406,18758402.86577821,15645943.299045524,10573548.249610139,-8872942.652659455,14265381.238125501,18776581.338624753,18768288.036560655,18766718.431740474,18776425.491337646,18791709.65742356,-19486309.884126347,15551076.828991493,19760311.67876491,14511408.444727717,19207922.10155053,17057140.48383185,364526.8045516536,-1543366.8162051828,-8478025.62712124,16286175.086444875,14447221.626336314,16008065.60259604,-2608471.704115224,6379386.058890129,16437035.260367919,11891749.131787766,-8940079.43755688,-19900696.688604306,18968629.72414131,13766669.919371633,15609185.603185581,-19869683.078469306,15605556.58778572,-19360374.14419192,15607170.720402226,-19338555.52399644,18639658.36494903,-7910262.828228306,6376324.772893313,6378406.4473711485,240761.79468769205,18871904.218591034,12041907.992918814,-19763306.17306725,-16822913.143253725,-12725977.395792559,14702844.573044907,15879447.062933493,17878344.36741383,-19250691.049913306,8238176.652258052,14114409.744711664,-15826770.679890113,-13070077.073783645,16791877.269220557]],[\"pred_mag\",[5.831047958456975,5.90329179800919,5.9310048083766524,5.855918313428821,5.945000474597924,5.988223771584147,5.891133639917654,5.891133639917654,5.9873689773266054,6.0294297649154425,5.914121852765171,5.886643823790755,5.846080275034415,5.800101562371729,5.93183189084289,5.956358377809961,5.888545413855178,6.026262886892703,5.866886366891406,5.853163258235563,5.9546847860412875,5.84117048008481,5.914121852765171,5.844120461693921,5.914121852765171,6.0322845241958385,5.874418815185012,6.0314297299382975,5.959320961053804,5.881942869797702,5.8611860687690935,5.872624585637528,5.84117048008481,5.871455486796349,5.896269210026195,5.890550877633822,5.942330353274635,5.884735125349021,5.848255278770148,5.906932916715416,5.865672357809897,5.893032685026952,5.953216916467012,5.9496508074924535,5.886643823790755,5.858870763036771,5.980467085034486,5.8962609049236345,5.934768695441141,5.840830183819492,5.844463039996301,5.928151383458801,5.846874363833243,5.811747748181858,5.906416195269432,5.857311155335849,5.858494189756838,5.986964374727291,5.949462150085046,5.800101562371729,5.867318938550136,5.861199582122182,5.846874363833243,5.913619841196953,5.867211340659816,5.925077445363833,5.840330279223843,5.847861068335255,5.898506239126546,5.868729231200314,5.987129241454613,5.863142454179378,5.929496199721138,5.842072105160857,5.843002840121671,5.987615864864763,6.010982552884237,5.975816824182426,5.84117048008481,5.853578427662036,5.935122642057738,6.007316435258378,5.954975829301268,5.957756212846224,5.928151383458801,5.949462150085046,5.952467209608856,5.8608341443769785,5.871994388408205,5.952467209608856,5.952467209608856,5.898560410066311,5.871994388408205,5.8763016379159705,5.85086138867712,5.876066042549406,5.84839304238329,6.0314297299382975,5.959625135937437,5.844463039996301,5.976140907720582,5.800106683918919,5.900709033588373,5.972366885323935,5.972366885323935,5.962396866469932,5.800101562371729,5.987129241454613,5.817179794707916,5.972366885323935,5.962396866469932,5.9496508074924535,5.863142454179378,5.912662856706385,5.872012029662401,5.897916070896057,5.897916070896057,5.872012029662401,5.839101299097923,5.949852735032815,5.8611860687690935,6.018974224024166,5.984964605142902,5.984964605142902,6.128881411230986,5.889744367973411,5.984964605142902,5.914534683643654,6.100182292958765,6.017343201020987,5.8401112765890195,6.017343201020987,5.798288386652587,5.962583027783661,5.8792509907854456,5.870082897506847,5.882039881583757,5.915738953341746,5.922483575446437,5.854668252360044,5.889290645099619,5.846022076017237,5.887133678402367,5.872624585637528,5.880541509730916,5.813270105026325,5.974610551200812,5.964255034976739,5.863740798649819,5.824612413702914,5.84204885108083,5.919059645146646,5.900138296470358,5.861393779979419,5.899930585194544,5.857446072546103,5.800101562371729,5.833698968331835,5.881673410186777,5.962396866469932,5.968920786943479,5.992063716772195,5.833698968331835,5.881801575333755,5.965399429900064,5.829406211846978,5.80984506899604,5.799343685166633,5.893032685026952,5.914708225596,5.852091671560234,5.881801575333755,5.933124003151949,5.833057008652395,5.881396612793017,5.839101299097923,5.828634603777242,5.836296929701528,5.846022076017237,5.925077445363833,5.92120725208766,5.872603159241866,5.851806372138846,5.976140907720582,5.9127682134356805,5.9127682134356805,5.975247681609037,5.9823771860256665,5.898560410066311,5.846080275034415,5.956951922818953,5.8262434367060925,5.890538851255722,5.800106683918919,5.901798475719984,5.841584770143665,5.997649654882762,5.872603159241866,5.8434724248028225,5.914429736436536,5.823350883069546,5.9270812039572345,5.908758213309815,5.887260078659484,5.799343685166633,5.828490321872076,5.930079910419865,5.8792509907854456,5.916366529613972,5.847387368388377,5.896493055511609,5.9556466350139,5.960095265833021,5.839184170094192,5.908758213309815,5.848691453364962,5.862526593396871,5.84117048008481,5.872624585637528,5.8438089571952085,5.985600389609345,5.9148108482490365,5.9148108482490365,5.905510603219997,5.966104384827077,5.976880728012974,5.976880728012974,5.82361044832816,5.884193943110615,5.887260078659484,5.868885063314321,5.950363361431194,5.885257806854695,5.800101562371729,5.844120461693921,5.9112814250181405,5.867908520154667,5.953833693691402,5.844463039996301,5.901798475719984,5.934283416189263,5.862077595887639,5.857311155335849,5.837846569099055,5.965831574198687,5.904674850429526,6.003874072252729,5.913446730611371,5.96173101307556,5.881801575333755,5.881801575333755,5.962583027783661,5.962583027783661,5.848023033871643,5.837846569099055,5.841693905766597,5.962583027783661,5.91614530347201,5.862150679302757,5.884370104019638,5.989091190500522,5.829835256226562,5.972366885323935,5.833698968331835,5.933829674553122,5.884370104019638,5.918615301116746,5.964325906650234,5.9106075851624995,5.911717453260399,5.95744715900827,5.854668252360044,5.9823771860256665,5.884370104019638,5.854668252360044,5.898560410066311,5.881801575333755,5.896269210026195,5.821007769531657,5.846874363833243,5.877074378713112,5.8780981378429065,5.839184170094192,5.866886366891406,5.845782587752016,5.926551633328804,5.846874363833243,5.831047958456975,5.828634603777242,5.861393779979419,5.866827623815684,5.8677659306671845,5.860519656299578,5.833305253412632,5.886748552964642,5.884370104019638,5.896205055136198,5.813089285582237,5.809148550083847,5.84117048008481,5.897044901481721,5.9556466350139,5.833305253412632,5.960730069064156,5.846962979786761,5.8406964225989215,5.8406964225989215,5.8406964225989215,5.842072105160857,5.985460602765712,5.898505581772436,5.829588124269189,5.917672783742319,5.925694342552907,5.917672783742319,5.960095265833021,5.974480393054123,6.000722040997475,5.898505581772436,5.898505581772436,5.905109612215943,5.854668252360044,5.829588124269189,5.898505581772436,5.829588124269189,5.85086138867712,5.867732232710837,5.898505581772436,5.85313067611658,5.855113879504924,5.838369989155734,5.954228653373969,5.802009363104737,5.839101299097923,5.954939810729821,5.964325906650234,5.970996402759317,5.845204663397922,5.810089659577248,5.851170544311225,5.8401112765890195,5.8858778457018825,5.898505581772436,5.844146715409538,5.877422076862741,5.896633192533204,5.896642600690423,5.998760433138615,5.998760433138615,5.905109612215943,5.898505581772436,5.898505581772436,5.86689232184736,5.8608341443769785,5.993848127040747,5.944848242002777,5.977075321815655,5.872603159241866,5.837846569099055,5.821047867337298,5.963302917087923,5.926937089967967,5.84797361157871,5.855113879504924,5.848428699909158,5.883434585477909,5.846080275034415,5.849216527796577,5.97332450560418,5.8296012445635,5.895743504849426,5.961438632860338,5.94750170673821,5.899050710895681,5.898911357904828,5.835007948981051,5.88036689505731,5.811649487271852,5.914534683643654,5.9533230747564385,5.957756212846224,5.875413026667321,6.005685412255199,6.000722040997475,5.838710892346211,5.858940446708821,5.799343685166633,5.822463019906135,5.877074378713112,5.8907275773022505,5.856516219141211,5.81320042638913,5.821047867337298,5.951869833217496,5.799343685166633,5.80984506899604,5.867318938550136]],[\"year\",[2017,2017,2017,2017,2017,2017,2017,2017,2017,2017,2017,2017,2017,2017,2017,2017,2017,2017,2017,2017,2017,2017,2017,2017,2017,2017,2017,2017,2017,2017,2017,2017,2017,2017,2017,2017,2017,2017,2017,2017,2017,2017,2017,2017,2017,2017,2017,2017,2017,2017,2017,2017,2017,2017,2017,2017,2017,2017,2017,2017,2017,2017,2017,2017,2017,2017,2017,2017,2017,2017,2017,2017,2017,2017,2017,2017,2017,2017,2017,2017,2017,2017,2017,2017,2017,2017,2017,2017,2017,2017,2017,2017,2017,2017,2017,2017,2017,2017,2017,2017,2017,2017,2017,2017,2017,2017,2017,2017,2017,2017,2017,2017,2017,2017,2017,2017,2017,2017,2017,2017,2017,2017,2017,2017,2017,2017,2017,2017,2017,2017,2017,2017,2017,2017,2017,2017,2017,2017,2017,2017,2017,2017,2017,2017,2017,2017,2017,2017,2017,2017,2017,2017,2017,2017,2017,2017,2017,2017,2017,2017,2017,2017,2017,2017,2017,2017,2017,2017,2017,2017,2017,2017,2017,2017,2017,2017,2017,2017,2017,2017,2017,2017,2017,2017,2017,2017,2017,2017,2017,2017,2017,2017,2017,2017,2017,2017,2017,2017,2017,2017,2017,2017,2017,2017,2017,2017,2017,2017,2017,2017,2017,2017,2017,2017,2017,2017,2017,2017,2017,2017,2017,2017,2017,2017,2017,2017,2017,2017,2017,2017,2017,2017,2017,2017,2017,2017,2017,2017,2017,2017,2017,2017,2017,2017,2017,2017,2017,2017,2017,2017,2017,2017,2017,2017,2017,2017,2017,2017,2017,2017,2017,2017,2017,2017,2017,2017,2017,2017,2017,2017,2017,2017,2017,2017,2017,2017,2017,2017,2017,2017,2017,2017,2017,2017,2017,2017,2017,2017,2017,2017,2017,2017,2017,2017,2017,2017,2017,2017,2017,2017,2017,2017,2017,2017,2017,2017,2017,2017,2017,2017,2017,2017,2017,2017,2017,2017,2017,2017,2017,2017,2017,2017,2017,2017,2017,2017,2017,2017,2017,2017,2017,2017,2017,2017,2017,2017,2017,2017,2017,2017,2017,2017,2017,2017,2017,2017,2017,2017,2017,2017,2017,2017,2017,2017,2017,2017,2017,2017,2017,2017,2017,2017,2017,2017,2017,2017,2017,2017,2017,2017,2017,2017,2017,2017,2017,2017,2017,2017,2017,2017,2017,2017,2017,2017,2017,2017,2017,2017,2017,2017,2017,2017,2017,2017,2017,2017,2017]],[\"pred_mag_s\",[23.3241918338279,23.61316719203676,23.72401923350661,23.423673253715283,23.780001898391696,23.95289508633659,23.564534559670616,23.564534559670616,23.949475909306422,24.11771905966177,23.656487411060684,23.54657529516302,23.38432110013766,23.200406249486917,23.72732756337156,23.825433511239844,23.554181655420713,24.105051547570813,23.467545467565625,23.412653032942252,23.81873914416515,23.36468192033924,23.656487411060684,23.376481846775683,23.656487411060684,24.129138096783354,23.49767526074005,24.12571891975319,23.837283844215214,23.527771479190807,23.444744275076374,23.49049834255011,23.36468192033924,23.485821947185396,23.58507684010478,23.562203510535287,23.76932141309854,23.538940501396084,23.393021115080593,23.627731666861663,23.46268943123959,23.57213074010781,23.812867665868048,23.798603229969814,23.54657529516302,23.435483052147084,23.921868340137944,23.585043619694538,23.739074781764565,23.363320735277966,23.377852159985203,23.712605533835205,23.387497455332973,23.246990992727433,23.625664781077727,23.429244621343397,23.433976759027352,23.947857498909165,23.797848600340185,23.200406249486917,23.469275754200545,23.444798328488726,23.387497455332973,23.65447936478781,23.468845362639264,23.70030978145533,23.361321116895372,23.39144427334102,23.594024956506185,23.474916924801256,23.948516965818452,23.452569816717514,23.71798479888455,23.368288420643427,23.372011360486685,23.95046345945905,24.04393021153695,23.903267296729705,23.36468192033924,23.414313710648145,23.740490568230953,24.029265741033512,23.81990331720507,23.831024851384896,23.712605533835205,23.797848600340185,23.809868838435424,23.443336577507914,23.48797755363282,23.809868838435424,23.809868838435424,23.594241640265246,23.48797755363282,23.505206551663882,23.40344555470848,23.504264170197622,23.39357216953316,24.12571891975319,23.83850054374975,23.377852159985203,23.90456363088233,23.200426735675677,23.602836134353492,23.88946754129574,23.88946754129574,23.84958746587973,23.200406249486917,23.948516965818452,23.268719178831663,23.88946754129574,23.84958746587973,23.798603229969814,23.452569816717514,23.65065142682554,23.488048118649605,23.59166428358423,23.59166428358423,23.488048118649605,23.35640519639169,23.79941094013126,23.444744275076374,24.075896896096666,23.939858420571607,23.939858420571607,24.515525644923944,23.558977471893645,23.939858420571607,23.658138734574617,24.40072917183506,24.069372804083947,23.360445106356078,24.069372804083947,23.193153546610347,23.850332111134644,23.517003963141782,23.480331590027387,23.528159526335028,23.662955813366985,23.689934301785748,23.418673009440177,23.557162580398476,23.384088304068946,23.548534713609467,23.49049834255011,23.522166038923665,23.2530804201053,23.89844220480325,23.857020139906957,23.454963194599276,23.298449654811655,23.36819540432332,23.676238580586585,23.60055318588143,23.445575119917677,23.599722340778175,23.42978429018441,23.200406249486917,23.33479587332734,23.52669364074711,23.84958746587973,23.875683147773916,23.96825486708878,23.33479587332734,23.52720630133502,23.861597719600255,23.31762484738791,23.23938027598416,23.197374740666532,23.57213074010781,23.658832902384,23.408366686240935,23.52720630133502,23.732496012607797,23.33222803460958,23.525586451172067,23.35640519639169,23.314538415108967,23.345187718806113,23.384088304068946,23.70030978145533,23.68482900835064,23.490412636967463,23.407225488555383,23.90456363088233,23.651072853742722,23.651072853742722,23.90099072643615,23.929508744102666,23.594241640265246,23.38432110013766,23.82780769127581,23.30497374682437,23.56215540502289,23.200426735675677,23.607193902879935,23.36633908057466,23.99059861953105,23.490412636967463,23.37388969921129,23.657718945746144,23.293403532278184,23.708324815828938,23.63503285323926,23.549040314637935,23.197374740666532,23.313961287488304,23.72031964167946,23.517003963141782,23.66546611845589,23.389549473553508,23.585972222046436,23.8225865400556,23.840381063332085,23.35673668037677,23.63503285323926,23.39476581345985,23.450106373587484,23.36468192033924,23.49049834255011,23.375235828780834,23.94240155843738,23.659243392996146,23.659243392996146,23.62204241287999,23.86441753930831,23.907522912051896,23.907522912051896,23.29444179331264,23.53677577244246,23.549040314637935,23.475540253257282,23.801453445724775,23.54103122741878,23.200406249486917,23.376481846775683,23.645125700072562,23.471634080618667,23.815334774765606,23.377852159985203,23.607193902879935,23.737133664757053,23.448310383550556,23.429244621343397,23.35138627639622,23.86332629679475,23.618699401718104,24.015496289010915,23.653786922445484,23.84692405230224,23.52720630133502,23.52720630133502,23.850332111134644,23.850332111134644,23.39209213548657,23.35138627639622,23.36677562306639,23.850332111134644,23.66458121388804,23.448602717211028,23.53748041607855,23.95636476200209,23.319341024906247,23.88946754129574,23.33479587332734,23.735318698212488,23.53748041607855,23.674461204466983,23.857303626600935,23.642430340649998,23.646869813041597,23.82978863603308,23.418673009440177,23.929508744102666,23.53748041607855,23.418673009440177,23.594241640265246,23.52720630133502,23.58507684010478,23.284031078126628,23.387497455332973,23.508297514852448,23.512392551371626,23.35673668037677,23.467545467565625,23.383130351008063,23.706206533315218,23.387497455332973,23.3241918338279,23.314538415108967,23.445575119917677,23.467310495262737,23.471063722668738,23.442078625198313,23.33322101365053,23.546994211858568,23.53748041607855,23.584820220544792,23.252357142328947,23.23659420033539,23.36468192033924,23.588179605926882,23.8225865400556,23.33322101365053,23.842920276256624,23.387851919147042,23.362785690395686,23.362785690395686,23.362785690395686,23.368288420643427,23.941842411062847,23.594022327089743,23.318352497076756,23.670691134969275,23.702777370211628,23.670691134969275,23.840381063332085,23.897921572216493,24.0028881639899,23.594022327089743,23.594022327089743,23.620438448863773,23.418673009440177,23.318352497076756,23.594022327089743,23.318352497076756,23.40344555470848,23.47092893084335,23.594022327089743,23.41252270446632,23.420455518019697,23.353479956622937,23.816914613495875,23.20803745241895,23.35640519639169,23.819759242919282,23.857303626600935,23.883985611037268,23.38081865359169,23.240358638308994,23.4046821772449,23.360445106356078,23.54351138280753,23.594022327089743,23.376586861638152,23.509688307450965,23.586532770132816,23.58657040276169,23.99504173255446,23.99504173255446,23.620438448863773,23.594022327089743,23.594022327089743,23.46756928738944,23.443336577507914,23.975392508162987,23.77939296801111,23.90830128726262,23.490412636967463,23.35138627639622,23.284191469349192,23.85321166835169,23.707748359871868,23.39189444631484,23.420455518019697,23.393714799636633,23.533738341911636,23.38432110013766,23.39686611118631,23.89329802241672,23.318404978254,23.582974019397703,23.84575453144135,23.79000682695284,23.596202843582724,23.59564543161931,23.340031795924205,23.52146758022924,23.24659794908741,23.658138734574617,23.813292299025754,23.831024851384896,23.501652106669283,24.022741649020794,24.0028881639899,23.354843569384844,23.435761786835283,23.197374740666532,23.28985207962454,23.508297514852448,23.562910309209002,23.426064876564844,23.25280170555652,23.284191469349192,23.807479332869985,23.197374740666532,23.23938027598416,23.469275754200545]]]}}},\"view\":{\"type\":\"object\",\"name\":\"CDSView\",\"id\":\"p2696\",\"attributes\":{\"filter\":{\"type\":\"object\",\"name\":\"AllIndices\",\"id\":\"p2697\"}}},\"glyph\":{\"type\":\"object\",\"name\":\"Circle\",\"id\":\"p2692\",\"attributes\":{\"x\":{\"type\":\"field\",\"field\":\"pred_long\"},\"y\":{\"type\":\"field\",\"field\":\"pred_lat\"},\"size\":{\"type\":\"field\",\"field\":\"pred_mag_s\"},\"line_color\":{\"type\":\"value\",\"value\":\"#1f77b4\"},\"fill_color\":{\"type\":\"value\",\"value\":\"#ccff33\"},\"fill_alpha\":{\"type\":\"value\",\"value\":7.0}}},\"nonselection_glyph\":{\"type\":\"object\",\"name\":\"Circle\",\"id\":\"p2693\",\"attributes\":{\"x\":{\"type\":\"field\",\"field\":\"pred_long\"},\"y\":{\"type\":\"field\",\"field\":\"pred_lat\"},\"size\":{\"type\":\"field\",\"field\":\"pred_mag_s\"},\"line_color\":{\"type\":\"value\",\"value\":\"#1f77b4\"},\"line_alpha\":{\"type\":\"value\",\"value\":0.1},\"fill_color\":{\"type\":\"value\",\"value\":\"#ccff33\"},\"fill_alpha\":{\"type\":\"value\",\"value\":0.1},\"hatch_alpha\":{\"type\":\"value\",\"value\":0.1}}},\"muted_glyph\":{\"type\":\"object\",\"name\":\"Circle\",\"id\":\"p2694\",\"attributes\":{\"x\":{\"type\":\"field\",\"field\":\"pred_long\"},\"y\":{\"type\":\"field\",\"field\":\"pred_lat\"},\"size\":{\"type\":\"field\",\"field\":\"pred_mag_s\"},\"line_color\":{\"type\":\"value\",\"value\":\"#1f77b4\"},\"line_alpha\":{\"type\":\"value\",\"value\":0.2},\"fill_color\":{\"type\":\"value\",\"value\":\"#ccff33\"},\"fill_alpha\":{\"type\":\"value\",\"value\":0.2},\"hatch_alpha\":{\"type\":\"value\",\"value\":0.2}}}}},{\"type\":\"object\",\"name\":\"TileRenderer\",\"id\":\"p2700\",\"attributes\":{\"tile_source\":{\"type\":\"object\",\"name\":\"WMTSTileSource\",\"id\":\"p2699\",\"attributes\":{\"url\":\"https://a.basemaps.cartocdn.com/light_all/{z}/{x}/{y}.png\",\"max_zoom\":20,\"attribution\":\"&copy; <a href=\\\"https://www.openstreetmap.org/copyright\\\">OpenStreetMap</a> contributors &copy; <a href=\\\"https://carto.com/attributions\\\">CARTO</a>\"}}}}],\"toolbar\":{\"type\":\"object\",\"name\":\"Toolbar\",\"id\":\"p2655\",\"attributes\":{\"tools\":[{\"type\":\"object\",\"name\":\"PanTool\",\"id\":\"p2670\"},{\"type\":\"object\",\"name\":\"WheelZoomTool\",\"id\":\"p2671\"},{\"type\":\"object\",\"name\":\"BoxZoomTool\",\"id\":\"p2672\",\"attributes\":{\"overlay\":{\"type\":\"object\",\"name\":\"BoxAnnotation\",\"id\":\"p2673\",\"attributes\":{\"syncable\":false,\"level\":\"overlay\",\"visible\":false,\"left_units\":\"canvas\",\"right_units\":\"canvas\",\"bottom_units\":\"canvas\",\"top_units\":\"canvas\",\"line_color\":\"black\",\"line_alpha\":1.0,\"line_width\":2,\"line_dash\":[4,4],\"fill_color\":\"lightgrey\",\"fill_alpha\":0.5}}}},{\"type\":\"object\",\"name\":\"SaveTool\",\"id\":\"p2674\"},{\"type\":\"object\",\"name\":\"ResetTool\",\"id\":\"p2675\"},{\"type\":\"object\",\"name\":\"HelpTool\",\"id\":\"p2676\"},{\"type\":\"object\",\"name\":\"HoverTool\",\"id\":\"p2677\",\"attributes\":{\"renderers\":\"auto\",\"tooltips\":[[\"Year\",\" @year\"],[\"Magnitude\",\" @mag\"],[\"Predicted Magnitude\",\" @pred_mag\"]]}}]}},\"left\":[{\"type\":\"object\",\"name\":\"LinearAxis\",\"id\":\"p2665\",\"attributes\":{\"visible\":false,\"ticker\":{\"type\":\"object\",\"name\":\"BasicTicker\",\"id\":\"p2666\",\"attributes\":{\"mantissas\":[1,2,5]}},\"formatter\":{\"type\":\"object\",\"name\":\"BasicTickFormatter\",\"id\":\"p2667\"},\"axis_label_standoff\":10,\"axis_label_text_color\":\"#E0E0E0\",\"axis_label_text_font\":\"Helvetica\",\"axis_label_text_font_size\":\"1.25em\",\"axis_label_text_font_style\":\"normal\",\"major_label_policy\":{\"type\":\"object\",\"name\":\"AllLabels\",\"id\":\"p2668\"},\"major_label_text_color\":\"#E0E0E0\",\"major_label_text_font\":\"Helvetica\",\"major_label_text_font_size\":\"1.025em\",\"axis_line_color\":\"#E0E0E0\",\"axis_line_alpha\":0,\"major_tick_line_color\":\"#E0E0E0\",\"major_tick_line_alpha\":0,\"minor_tick_line_color\":\"#E0E0E0\",\"minor_tick_line_alpha\":0}}],\"below\":[{\"type\":\"object\",\"name\":\"LinearAxis\",\"id\":\"p2660\",\"attributes\":{\"visible\":false,\"ticker\":{\"type\":\"object\",\"name\":\"BasicTicker\",\"id\":\"p2661\",\"attributes\":{\"mantissas\":[1,2,5]}},\"formatter\":{\"type\":\"object\",\"name\":\"BasicTickFormatter\",\"id\":\"p2662\"},\"axis_label_standoff\":10,\"axis_label_text_color\":\"#E0E0E0\",\"axis_label_text_font\":\"Helvetica\",\"axis_label_text_font_size\":\"1.25em\",\"axis_label_text_font_style\":\"normal\",\"major_label_policy\":{\"type\":\"object\",\"name\":\"AllLabels\",\"id\":\"p2663\"},\"major_label_text_color\":\"#E0E0E0\",\"major_label_text_font\":\"Helvetica\",\"major_label_text_font_size\":\"1.025em\",\"axis_line_color\":\"#E0E0E0\",\"axis_line_alpha\":0,\"major_tick_line_color\":\"#E0E0E0\",\"major_tick_line_alpha\":0,\"minor_tick_line_color\":\"#E0E0E0\",\"minor_tick_line_alpha\":0}}],\"center\":[{\"type\":\"object\",\"name\":\"Grid\",\"id\":\"p2664\",\"attributes\":{\"axis\":{\"id\":\"p2660\"},\"grid_line_color\":null,\"grid_line_alpha\":0.25}},{\"type\":\"object\",\"name\":\"Grid\",\"id\":\"p2669\",\"attributes\":{\"dimension\":1,\"axis\":{\"id\":\"p2665\"},\"grid_line_color\":null,\"grid_line_alpha\":0.25}},{\"type\":\"object\",\"name\":\"Legend\",\"id\":\"p2687\",\"attributes\":{\"location\":\"bottom_right\",\"border_line_alpha\":0,\"background_fill_color\":\"black\",\"background_fill_alpha\":0.8,\"click_policy\":\"hide\",\"label_text_color\":\"white\",\"label_text_font\":\"Helvetica\",\"label_text_font_size\":\"1.025em\",\"label_standoff\":8,\"glyph_width\":15,\"spacing\":8,\"items\":[{\"type\":\"object\",\"name\":\"LegendItem\",\"id\":\"p2688\",\"attributes\":{\"label\":{\"type\":\"value\",\"value\":\"Quakes 2016\"},\"renderers\":[{\"id\":\"p2684\"}]}},{\"type\":\"object\",\"name\":\"LegendItem\",\"id\":\"p2698\",\"attributes\":{\"label\":{\"type\":\"value\",\"value\":\"Predicted Quakes 2017\"},\"renderers\":[{\"id\":\"p2695\"}]}}]}}],\"background_fill_color\":\"#20262B\",\"border_fill_color\":\"#15191C\"}}]}};\n",
       "  const render_items = [{\"docid\":\"97f228b8-251c-4863-a6ec-c59bc8b0b536\",\"roots\":{\"p2646\":\"d0c9c87f-156c-4bbe-939d-4213fed19a2f\"},\"root_ids\":[\"p2646\"]}];\n",
       "  root.Bokeh.embed.embed_items_notebook(docs_json, render_items);\n",
       "  }\n",
       "  if (root.Bokeh !== undefined) {\n",
       "    embed_document(root);\n",
       "  } else {\n",
       "    let attempts = 0;\n",
       "    const timer = setInterval(function(root) {\n",
       "      if (root.Bokeh !== undefined) {\n",
       "        clearInterval(timer);\n",
       "        embed_document(root);\n",
       "      } else {\n",
       "        attempts++;\n",
       "        if (attempts > 100) {\n",
       "          clearInterval(timer);\n",
       "          console.log(\"Bokeh: ERROR: Unable to run BokehJS code because BokehJS library is missing\");\n",
       "        }\n",
       "      }\n",
       "    }, 10, root)\n",
       "  }\n",
       "})(window);"
      ],
      "application/vnd.bokehjs_exec.v0+json": ""
     },
     "metadata": {
      "application/vnd.bokehjs_exec.v0+json": {
       "id": "p2646"
      }
     },
     "output_type": "display_data"
    },
    {
     "data": {
      "text/html": [
       "\n",
       "  <div id=\"b9cb0ac9-491d-4b75-9fae-4bda48e0231f\" data-root-id=\"p2706\" style=\"display: contents;\"></div>\n"
      ]
     },
     "metadata": {},
     "output_type": "display_data"
    },
    {
     "data": {
      "application/javascript": [
       "(function(root) {\n",
       "  function embed_document(root) {\n",
       "  const docs_json = {\"9ddbdc93-24f4-48e9-b60c-051f32b7bfc6\":{\"version\":\"3.2.1\",\"title\":\"Bokeh Application\",\"roots\":[{\"type\":\"object\",\"name\":\"Figure\",\"id\":\"p2706\",\"attributes\":{\"width\":1150,\"height\":400,\"x_range\":{\"type\":\"object\",\"name\":\"DataRange1d\",\"id\":\"p2708\"},\"y_range\":{\"type\":\"object\",\"name\":\"Range1d\",\"id\":\"p2716\",\"attributes\":{\"end\":460}},\"x_scale\":{\"type\":\"object\",\"name\":\"LinearScale\",\"id\":\"p2717\"},\"y_scale\":{\"type\":\"object\",\"name\":\"LinearScale\",\"id\":\"p2718\"},\"title\":{\"type\":\"object\",\"name\":\"Title\",\"id\":\"p2709\",\"attributes\":{\"text\":\"Frequency of Earthquakes by Year\",\"text_color\":\"#E0E0E0\",\"text_font\":\"serif\",\"text_font_size\":\"20pt\",\"align\":\"center\"}},\"outline_line_color\":\"#E0E0E0\",\"outline_line_alpha\":0.25,\"renderers\":[{\"type\":\"object\",\"name\":\"GlyphRenderer\",\"id\":\"p2743\",\"attributes\":{\"data_source\":{\"type\":\"object\",\"name\":\"ColumnDataSource\",\"id\":\"p2703\",\"attributes\":{\"selected\":{\"type\":\"object\",\"name\":\"Selection\",\"id\":\"p2704\",\"attributes\":{\"indices\":[],\"line_indices\":[]}},\"selection_policy\":{\"type\":\"object\",\"name\":\"UnionRenderers\",\"id\":\"p2705\"},\"data\":{\"type\":\"map\",\"entries\":[[\"yrs\",[1990,1975,1977,2003,2007,1974,2015,2006,1978,2013,1988,1997,1994,1968,2014,1973,1979,1971,1966,2004,1991,1967,1969,1982,1989,1996,1998,1965,1985,1970,2012,1987,2009,2016,1995,1980,2001,1972,1992,1983,2005,1984,2000,1981,2010,1986,2011,1976,2008,1999,2002,1993]],[\"numQuakes\",[196,150,148,187,211,147,175,176,158,202,196,183,215,106,198,144,118,148,98,227,168,103,114,135,177,242,154,156,210,142,182,213,228,164,205,120,157,178,190,177,230,161,213,117,211,175,360,173,214,170,182,197]]]}}},\"view\":{\"type\":\"object\",\"name\":\"CDSView\",\"id\":\"p2744\",\"attributes\":{\"filter\":{\"type\":\"object\",\"name\":\"AllIndices\",\"id\":\"p2745\"}}},\"glyph\":{\"type\":\"object\",\"name\":\"VBar\",\"id\":\"p2740\",\"attributes\":{\"x\":{\"type\":\"field\",\"field\":\"yrs\"},\"width\":{\"type\":\"value\",\"value\":0.75},\"top\":{\"type\":\"field\",\"field\":\"numQuakes\"},\"line_color\":{\"type\":\"value\",\"value\":\"#cc0000\"},\"fill_color\":{\"type\":\"value\",\"value\":\"#cc0000\"},\"hatch_color\":{\"type\":\"value\",\"value\":\"#cc0000\"}}},\"nonselection_glyph\":{\"type\":\"object\",\"name\":\"VBar\",\"id\":\"p2741\",\"attributes\":{\"x\":{\"type\":\"field\",\"field\":\"yrs\"},\"width\":{\"type\":\"value\",\"value\":0.75},\"top\":{\"type\":\"field\",\"field\":\"numQuakes\"},\"line_color\":{\"type\":\"value\",\"value\":\"#cc0000\"},\"line_alpha\":{\"type\":\"value\",\"value\":0.1},\"fill_color\":{\"type\":\"value\",\"value\":\"#cc0000\"},\"fill_alpha\":{\"type\":\"value\",\"value\":0.1},\"hatch_color\":{\"type\":\"value\",\"value\":\"#cc0000\"},\"hatch_alpha\":{\"type\":\"value\",\"value\":0.1}}},\"muted_glyph\":{\"type\":\"object\",\"name\":\"VBar\",\"id\":\"p2742\",\"attributes\":{\"x\":{\"type\":\"field\",\"field\":\"yrs\"},\"width\":{\"type\":\"value\",\"value\":0.75},\"top\":{\"type\":\"field\",\"field\":\"numQuakes\"},\"line_color\":{\"type\":\"value\",\"value\":\"#cc0000\"},\"line_alpha\":{\"type\":\"value\",\"value\":0.2},\"fill_color\":{\"type\":\"value\",\"value\":\"#cc0000\"},\"fill_alpha\":{\"type\":\"value\",\"value\":0.2},\"hatch_color\":{\"type\":\"value\",\"value\":\"#cc0000\"},\"hatch_alpha\":{\"type\":\"value\",\"value\":0.2}}}}}],\"toolbar\":{\"type\":\"object\",\"name\":\"Toolbar\",\"id\":\"p2715\",\"attributes\":{\"tools\":[{\"type\":\"object\",\"name\":\"PanTool\",\"id\":\"p2729\"},{\"type\":\"object\",\"name\":\"WheelZoomTool\",\"id\":\"p2730\"},{\"type\":\"object\",\"name\":\"BoxZoomTool\",\"id\":\"p2731\",\"attributes\":{\"overlay\":{\"type\":\"object\",\"name\":\"BoxAnnotation\",\"id\":\"p2732\",\"attributes\":{\"syncable\":false,\"level\":\"overlay\",\"visible\":false,\"left_units\":\"canvas\",\"right_units\":\"canvas\",\"bottom_units\":\"canvas\",\"top_units\":\"canvas\",\"line_color\":\"black\",\"line_alpha\":1.0,\"line_width\":2,\"line_dash\":[4,4],\"fill_color\":\"lightgrey\",\"fill_alpha\":0.5}}}},{\"type\":\"object\",\"name\":\"SaveTool\",\"id\":\"p2733\"},{\"type\":\"object\",\"name\":\"ResetTool\",\"id\":\"p2734\"},{\"type\":\"object\",\"name\":\"HelpTool\",\"id\":\"p2735\"},{\"type\":\"object\",\"name\":\"HoverTool\",\"id\":\"p2736\",\"attributes\":{\"renderers\":\"auto\",\"tooltips\":[[\"Year\",\" @yrs\"],[\"Number of earthquakes\",\" @numQuakes\"]]}}]}},\"toolbar_location\":null,\"left\":[{\"type\":\"object\",\"name\":\"LinearAxis\",\"id\":\"p2724\",\"attributes\":{\"ticker\":{\"type\":\"object\",\"name\":\"BasicTicker\",\"id\":\"p2725\",\"attributes\":{\"mantissas\":[1,2,5]}},\"formatter\":{\"type\":\"object\",\"name\":\"BasicTickFormatter\",\"id\":\"p2726\"},\"axis_label\":\"Number of Occurrences\",\"axis_label_standoff\":10,\"axis_label_text_color\":\"#E0E0E0\",\"axis_label_text_font\":\"Helvetica\",\"axis_label_text_font_size\":\"14pt\",\"axis_label_text_font_style\":\"bold\",\"major_label_policy\":{\"type\":\"object\",\"name\":\"AllLabels\",\"id\":\"p2727\"},\"major_label_text_color\":\"#E0E0E0\",\"major_label_text_font\":\"Helvetica\",\"major_label_text_font_size\":\"12pt\",\"axis_line_color\":\"#E0E0E0\",\"axis_line_alpha\":0,\"major_tick_line_color\":\"#E0E0E0\",\"major_tick_line_alpha\":0,\"minor_tick_line_color\":\"#E0E0E0\",\"minor_tick_line_alpha\":0}}],\"below\":[{\"type\":\"object\",\"name\":\"LinearAxis\",\"id\":\"p2719\",\"attributes\":{\"ticker\":{\"type\":\"object\",\"name\":\"BasicTicker\",\"id\":\"p2720\",\"attributes\":{\"num_minor_ticks\":2,\"mantissas\":[1,2,5]}},\"formatter\":{\"type\":\"object\",\"name\":\"BasicTickFormatter\",\"id\":\"p2721\"},\"axis_label\":\"Years\",\"axis_label_standoff\":10,\"axis_label_text_color\":\"#E0E0E0\",\"axis_label_text_font\":\"Helvetica\",\"axis_label_text_font_size\":\"14pt\",\"axis_label_text_font_style\":\"bold\",\"major_label_policy\":{\"type\":\"object\",\"name\":\"AllLabels\",\"id\":\"p2722\"},\"major_label_text_color\":\"#E0E0E0\",\"major_label_text_font\":\"Helvetica\",\"major_label_text_font_size\":\"12pt\",\"axis_line_color\":\"#E0E0E0\",\"axis_line_alpha\":0,\"major_tick_line_color\":\"#E0E0E0\",\"major_tick_line_alpha\":0,\"minor_tick_line_color\":\"#E0E0E0\",\"minor_tick_line_alpha\":0}}],\"center\":[{\"type\":\"object\",\"name\":\"Grid\",\"id\":\"p2723\",\"attributes\":{\"axis\":{\"id\":\"p2719\"},\"grid_line_color\":\"#E0E0E0\",\"grid_line_alpha\":0.25}},{\"type\":\"object\",\"name\":\"Grid\",\"id\":\"p2728\",\"attributes\":{\"dimension\":1,\"axis\":{\"id\":\"p2724\"},\"grid_line_color\":\"#E0E0E0\",\"grid_line_alpha\":0.25}},{\"type\":\"object\",\"name\":\"Legend\",\"id\":\"p2746\",\"attributes\":{\"location\":\"top_left\",\"border_line_alpha\":0,\"background_fill_color\":\"#20262B\",\"background_fill_alpha\":0.25,\"label_text_color\":\"#E0E0E0\",\"label_text_font\":\"Helvetica\",\"label_text_font_size\":\"1.025em\",\"label_standoff\":8,\"glyph_width\":15,\"spacing\":8,\"items\":[{\"type\":\"object\",\"name\":\"LegendItem\",\"id\":\"p2747\",\"attributes\":{\"label\":{\"type\":\"value\",\"value\":\"Year\"},\"renderers\":[{\"id\":\"p2743\"}]}}]}}],\"background_fill_color\":\"#20262B\",\"border_fill_color\":\"#15191C\"}}]}};\n",
       "  const render_items = [{\"docid\":\"9ddbdc93-24f4-48e9-b60c-051f32b7bfc6\",\"roots\":{\"p2706\":\"b9cb0ac9-491d-4b75-9fae-4bda48e0231f\"},\"root_ids\":[\"p2706\"]}];\n",
       "  root.Bokeh.embed.embed_items_notebook(docs_json, render_items);\n",
       "  }\n",
       "  if (root.Bokeh !== undefined) {\n",
       "    embed_document(root);\n",
       "  } else {\n",
       "    let attempts = 0;\n",
       "    const timer = setInterval(function(root) {\n",
       "      if (root.Bokeh !== undefined) {\n",
       "        clearInterval(timer);\n",
       "        embed_document(root);\n",
       "      } else {\n",
       "        attempts++;\n",
       "        if (attempts > 100) {\n",
       "          clearInterval(timer);\n",
       "          console.log(\"Bokeh: ERROR: Unable to run BokehJS code because BokehJS library is missing\");\n",
       "        }\n",
       "      }\n",
       "    }, 10, root)\n",
       "  }\n",
       "})(window);"
      ],
      "application/vnd.bokehjs_exec.v0+json": ""
     },
     "metadata": {
      "application/vnd.bokehjs_exec.v0+json": {
       "id": "p2706"
      }
     },
     "output_type": "display_data"
    },
    {
     "data": {
      "text/html": [
       "\n",
       "  <div id=\"a6be046d-86d2-4c3e-b84d-8bedc0d1aef7\" data-root-id=\"p2752\" style=\"display: contents;\"></div>\n"
      ]
     },
     "metadata": {},
     "output_type": "display_data"
    },
    {
     "data": {
      "application/javascript": [
       "(function(root) {\n",
       "  function embed_document(root) {\n",
       "  const docs_json = {\"aeef837c-f11b-40ce-a24a-6c38ff2f3965\":{\"version\":\"3.2.1\",\"title\":\"Bokeh Application\",\"roots\":[{\"type\":\"object\",\"name\":\"Figure\",\"id\":\"p2752\",\"attributes\":{\"width\":1150,\"height\":400,\"x_range\":{\"type\":\"object\",\"name\":\"DataRange1d\",\"id\":\"p2754\"},\"y_range\":{\"type\":\"object\",\"name\":\"Range1d\",\"id\":\"p2762\",\"attributes\":{\"start\":5,\"end\":10.1}},\"x_scale\":{\"type\":\"object\",\"name\":\"LinearScale\",\"id\":\"p2763\"},\"y_scale\":{\"type\":\"object\",\"name\":\"LinearScale\",\"id\":\"p2764\"},\"title\":{\"type\":\"object\",\"name\":\"Title\",\"id\":\"p2755\",\"attributes\":{\"text\":\"Maximum and Average Magnitude by Year\",\"text_color\":\"#E0E0E0\",\"text_font\":\"serif\",\"text_font_size\":\"20pt\",\"align\":\"center\"}},\"outline_line_color\":\"#E0E0E0\",\"outline_line_alpha\":0.25,\"renderers\":[{\"type\":\"object\",\"name\":\"GlyphRenderer\",\"id\":\"p2789\",\"attributes\":{\"data_source\":{\"type\":\"object\",\"name\":\"ColumnDataSource\",\"id\":\"p2749\",\"attributes\":{\"selected\":{\"type\":\"object\",\"name\":\"Selection\",\"id\":\"p2750\",\"attributes\":{\"indices\":[],\"line_indices\":[]}},\"selection_policy\":{\"type\":\"object\",\"name\":\"UnionRenderers\",\"id\":\"p2751\"},\"data\":{\"type\":\"map\",\"entries\":[[\"yrs\",[1990,1975,1977,2003,2007,1974,2015,2006,1978,2013,1988,1997,1994,1968,2014,1973,1979,1971,1966,2004,1991,1967,1969,1982,1989,1996,1998,1965,1985,1970,2012,1987,2009,2016,1995,1980,2001,1972,1992,1983,2005,1984,2000,1981,2010,1986,2011,1976,2008,1999,2002,1993]],[\"avg_mag\",[5.9,5.8,5.8,5.9,5.9,5.9,5.8,5.8,5.8,5.9,5.9,5.8,5.9,6.1,5.9,5.8,5.8,6.0,6.1,5.9,5.9,6.0,6.0,5.8,5.8,5.9,5.9,6.0,5.9,6.0,5.9,5.9,5.9,5.9,5.9,5.8,5.9,5.9,5.9,5.9,5.9,5.8,5.9,5.8,5.9,5.8,5.9,5.8,5.9,5.9,5.9,5.9]],[\"max_mag\",[7.6,7.8,7.6,7.6,8.4,7.6,7.5,8.0,7.7,8.0,7.8,7.8,8.3,7.6,8.2,7.4,7.9,7.8,7.7,7.5,7.1,7.2,7.5,7.1,7.4,7.9,7.5,8.7,8.0,7.4,8.6,7.6,7.8,7.8,8.0,7.5,7.6,8.0,7.8,7.4,7.6,7.6,7.9,7.7,7.8,8.0,9.1,7.5,7.9,7.4,7.9,7.8]]]}}},\"view\":{\"type\":\"object\",\"name\":\"CDSView\",\"id\":\"p2790\",\"attributes\":{\"filter\":{\"type\":\"object\",\"name\":\"AllIndices\",\"id\":\"p2791\"}}},\"glyph\":{\"type\":\"object\",\"name\":\"Line\",\"id\":\"p2786\",\"attributes\":{\"x\":{\"type\":\"field\",\"field\":\"yrs\"},\"y\":{\"type\":\"field\",\"field\":\"max_mag\"},\"line_color\":\"#cc0000\",\"line_width\":2}},\"nonselection_glyph\":{\"type\":\"object\",\"name\":\"Line\",\"id\":\"p2787\",\"attributes\":{\"x\":{\"type\":\"field\",\"field\":\"yrs\"},\"y\":{\"type\":\"field\",\"field\":\"max_mag\"},\"line_color\":\"#cc0000\",\"line_alpha\":0.1,\"line_width\":2}},\"muted_glyph\":{\"type\":\"object\",\"name\":\"Line\",\"id\":\"p2788\",\"attributes\":{\"x\":{\"type\":\"field\",\"field\":\"yrs\"},\"y\":{\"type\":\"field\",\"field\":\"max_mag\"},\"line_color\":\"#cc0000\",\"line_alpha\":0.2,\"line_width\":2}}}},{\"type\":\"object\",\"name\":\"GlyphRenderer\",\"id\":\"p2800\",\"attributes\":{\"data_source\":{\"id\":\"p2749\"},\"view\":{\"type\":\"object\",\"name\":\"CDSView\",\"id\":\"p2801\",\"attributes\":{\"filter\":{\"type\":\"object\",\"name\":\"AllIndices\",\"id\":\"p2802\"}}},\"glyph\":{\"type\":\"object\",\"name\":\"Circle\",\"id\":\"p2797\",\"attributes\":{\"x\":{\"type\":\"field\",\"field\":\"yrs\"},\"y\":{\"type\":\"field\",\"field\":\"max_mag\"},\"size\":{\"type\":\"value\",\"value\":8},\"line_color\":{\"type\":\"value\",\"value\":\"#cc0000\"},\"fill_color\":{\"type\":\"value\",\"value\":\"#cc0000\"},\"hatch_color\":{\"type\":\"value\",\"value\":\"#cc0000\"}}},\"nonselection_glyph\":{\"type\":\"object\",\"name\":\"Circle\",\"id\":\"p2798\",\"attributes\":{\"x\":{\"type\":\"field\",\"field\":\"yrs\"},\"y\":{\"type\":\"field\",\"field\":\"max_mag\"},\"size\":{\"type\":\"value\",\"value\":8},\"line_color\":{\"type\":\"value\",\"value\":\"#cc0000\"},\"line_alpha\":{\"type\":\"value\",\"value\":0.1},\"fill_color\":{\"type\":\"value\",\"value\":\"#cc0000\"},\"fill_alpha\":{\"type\":\"value\",\"value\":0.1},\"hatch_color\":{\"type\":\"value\",\"value\":\"#cc0000\"},\"hatch_alpha\":{\"type\":\"value\",\"value\":0.1}}},\"muted_glyph\":{\"type\":\"object\",\"name\":\"Circle\",\"id\":\"p2799\",\"attributes\":{\"x\":{\"type\":\"field\",\"field\":\"yrs\"},\"y\":{\"type\":\"field\",\"field\":\"max_mag\"},\"size\":{\"type\":\"value\",\"value\":8},\"line_color\":{\"type\":\"value\",\"value\":\"#cc0000\"},\"line_alpha\":{\"type\":\"value\",\"value\":0.2},\"fill_color\":{\"type\":\"value\",\"value\":\"#cc0000\"},\"fill_alpha\":{\"type\":\"value\",\"value\":0.2},\"hatch_color\":{\"type\":\"value\",\"value\":\"#cc0000\"},\"hatch_alpha\":{\"type\":\"value\",\"value\":0.2}}}}},{\"type\":\"object\",\"name\":\"GlyphRenderer\",\"id\":\"p2809\",\"attributes\":{\"data_source\":{\"id\":\"p2749\"},\"view\":{\"type\":\"object\",\"name\":\"CDSView\",\"id\":\"p2810\",\"attributes\":{\"filter\":{\"type\":\"object\",\"name\":\"AllIndices\",\"id\":\"p2811\"}}},\"glyph\":{\"type\":\"object\",\"name\":\"Line\",\"id\":\"p2806\",\"attributes\":{\"x\":{\"type\":\"field\",\"field\":\"yrs\"},\"y\":{\"type\":\"field\",\"field\":\"avg_mag\"},\"line_color\":\"yellow\",\"line_width\":2}},\"nonselection_glyph\":{\"type\":\"object\",\"name\":\"Line\",\"id\":\"p2807\",\"attributes\":{\"x\":{\"type\":\"field\",\"field\":\"yrs\"},\"y\":{\"type\":\"field\",\"field\":\"avg_mag\"},\"line_color\":\"yellow\",\"line_alpha\":0.1,\"line_width\":2}},\"muted_glyph\":{\"type\":\"object\",\"name\":\"Line\",\"id\":\"p2808\",\"attributes\":{\"x\":{\"type\":\"field\",\"field\":\"yrs\"},\"y\":{\"type\":\"field\",\"field\":\"avg_mag\"},\"line_color\":\"yellow\",\"line_alpha\":0.2,\"line_width\":2}}}},{\"type\":\"object\",\"name\":\"GlyphRenderer\",\"id\":\"p2819\",\"attributes\":{\"data_source\":{\"id\":\"p2749\"},\"view\":{\"type\":\"object\",\"name\":\"CDSView\",\"id\":\"p2820\",\"attributes\":{\"filter\":{\"type\":\"object\",\"name\":\"AllIndices\",\"id\":\"p2821\"}}},\"glyph\":{\"type\":\"object\",\"name\":\"Circle\",\"id\":\"p2816\",\"attributes\":{\"x\":{\"type\":\"field\",\"field\":\"yrs\"},\"y\":{\"type\":\"field\",\"field\":\"avg_mag\"},\"size\":{\"type\":\"value\",\"value\":8},\"line_color\":{\"type\":\"value\",\"value\":\"yellow\"},\"fill_color\":{\"type\":\"value\",\"value\":\"yellow\"},\"hatch_color\":{\"type\":\"value\",\"value\":\"yellow\"}}},\"nonselection_glyph\":{\"type\":\"object\",\"name\":\"Circle\",\"id\":\"p2817\",\"attributes\":{\"x\":{\"type\":\"field\",\"field\":\"yrs\"},\"y\":{\"type\":\"field\",\"field\":\"avg_mag\"},\"size\":{\"type\":\"value\",\"value\":8},\"line_color\":{\"type\":\"value\",\"value\":\"yellow\"},\"line_alpha\":{\"type\":\"value\",\"value\":0.1},\"fill_color\":{\"type\":\"value\",\"value\":\"yellow\"},\"fill_alpha\":{\"type\":\"value\",\"value\":0.1},\"hatch_color\":{\"type\":\"value\",\"value\":\"yellow\"},\"hatch_alpha\":{\"type\":\"value\",\"value\":0.1}}},\"muted_glyph\":{\"type\":\"object\",\"name\":\"Circle\",\"id\":\"p2818\",\"attributes\":{\"x\":{\"type\":\"field\",\"field\":\"yrs\"},\"y\":{\"type\":\"field\",\"field\":\"avg_mag\"},\"size\":{\"type\":\"value\",\"value\":8},\"line_color\":{\"type\":\"value\",\"value\":\"yellow\"},\"line_alpha\":{\"type\":\"value\",\"value\":0.2},\"fill_color\":{\"type\":\"value\",\"value\":\"yellow\"},\"fill_alpha\":{\"type\":\"value\",\"value\":0.2},\"hatch_color\":{\"type\":\"value\",\"value\":\"yellow\"},\"hatch_alpha\":{\"type\":\"value\",\"value\":0.2}}}}}],\"toolbar\":{\"type\":\"object\",\"name\":\"Toolbar\",\"id\":\"p2761\",\"attributes\":{\"tools\":[{\"type\":\"object\",\"name\":\"PanTool\",\"id\":\"p2775\"},{\"type\":\"object\",\"name\":\"WheelZoomTool\",\"id\":\"p2776\"},{\"type\":\"object\",\"name\":\"BoxZoomTool\",\"id\":\"p2777\",\"attributes\":{\"overlay\":{\"type\":\"object\",\"name\":\"BoxAnnotation\",\"id\":\"p2778\",\"attributes\":{\"syncable\":false,\"level\":\"overlay\",\"visible\":false,\"left_units\":\"canvas\",\"right_units\":\"canvas\",\"bottom_units\":\"canvas\",\"top_units\":\"canvas\",\"line_color\":\"black\",\"line_alpha\":1.0,\"line_width\":2,\"line_dash\":[4,4],\"fill_color\":\"lightgrey\",\"fill_alpha\":0.5}}}},{\"type\":\"object\",\"name\":\"SaveTool\",\"id\":\"p2779\"},{\"type\":\"object\",\"name\":\"ResetTool\",\"id\":\"p2780\"},{\"type\":\"object\",\"name\":\"HelpTool\",\"id\":\"p2781\"},{\"type\":\"object\",\"name\":\"HoverTool\",\"id\":\"p2782\",\"attributes\":{\"renderers\":\"auto\",\"tooltips\":[[\"Year\",\" @yrs\"],[\"Average Magnitude\",\" @avg_mag\"],[\"Maximum Magnitude\",\" @max_mag\"]]}}]}},\"toolbar_location\":null,\"left\":[{\"type\":\"object\",\"name\":\"LinearAxis\",\"id\":\"p2770\",\"attributes\":{\"ticker\":{\"type\":\"object\",\"name\":\"BasicTicker\",\"id\":\"p2771\",\"attributes\":{\"mantissas\":[1,2,5]}},\"formatter\":{\"type\":\"object\",\"name\":\"BasicTickFormatter\",\"id\":\"p2772\"},\"axis_label\":\"Magnitude\",\"axis_label_standoff\":10,\"axis_label_text_color\":\"#E0E0E0\",\"axis_label_text_font\":\"Helvetica\",\"axis_label_text_font_size\":\"14pt\",\"axis_label_text_font_style\":\"bold\",\"major_label_policy\":{\"type\":\"object\",\"name\":\"AllLabels\",\"id\":\"p2773\"},\"major_label_text_color\":\"#E0E0E0\",\"major_label_text_font\":\"Helvetica\",\"major_label_text_font_size\":\"12pt\",\"axis_line_color\":\"#E0E0E0\",\"axis_line_alpha\":0,\"major_tick_line_color\":\"#E0E0E0\",\"major_tick_line_alpha\":0,\"minor_tick_line_color\":\"#E0E0E0\",\"minor_tick_line_alpha\":0}}],\"below\":[{\"type\":\"object\",\"name\":\"LinearAxis\",\"id\":\"p2765\",\"attributes\":{\"ticker\":{\"type\":\"object\",\"name\":\"BasicTicker\",\"id\":\"p2766\",\"attributes\":{\"num_minor_ticks\":2,\"mantissas\":[1,2,5]}},\"formatter\":{\"type\":\"object\",\"name\":\"BasicTickFormatter\",\"id\":\"p2767\"},\"axis_label\":\"Years\",\"axis_label_standoff\":10,\"axis_label_text_color\":\"#E0E0E0\",\"axis_label_text_font\":\"Helvetica\",\"axis_label_text_font_size\":\"14pt\",\"axis_label_text_font_style\":\"bold\",\"major_label_policy\":{\"type\":\"object\",\"name\":\"AllLabels\",\"id\":\"p2768\"},\"major_label_text_color\":\"#E0E0E0\",\"major_label_text_font\":\"Helvetica\",\"major_label_text_font_size\":\"12pt\",\"axis_line_color\":\"#E0E0E0\",\"axis_line_alpha\":0,\"major_tick_line_color\":\"#E0E0E0\",\"major_tick_line_alpha\":0,\"minor_tick_line_color\":\"#E0E0E0\",\"minor_tick_line_alpha\":0}}],\"center\":[{\"type\":\"object\",\"name\":\"Grid\",\"id\":\"p2769\",\"attributes\":{\"axis\":{\"id\":\"p2765\"},\"grid_line_color\":\"#E0E0E0\",\"grid_line_alpha\":0.25}},{\"type\":\"object\",\"name\":\"Grid\",\"id\":\"p2774\",\"attributes\":{\"dimension\":1,\"axis\":{\"id\":\"p2770\"},\"grid_line_color\":\"#E0E0E0\",\"grid_line_alpha\":0.25}},{\"type\":\"object\",\"name\":\"Legend\",\"id\":\"p2792\",\"attributes\":{\"location\":\"top_left\",\"border_line_alpha\":0,\"background_fill_color\":\"#20262B\",\"background_fill_alpha\":0.25,\"label_text_color\":\"#E0E0E0\",\"label_text_font\":\"Helvetica\",\"label_text_font_size\":\"1.025em\",\"label_standoff\":8,\"glyph_width\":15,\"spacing\":8,\"items\":[{\"type\":\"object\",\"name\":\"LegendItem\",\"id\":\"p2793\",\"attributes\":{\"label\":{\"type\":\"value\",\"value\":\"Max Magnitude\"},\"renderers\":[{\"id\":\"p2789\"}]}},{\"type\":\"object\",\"name\":\"LegendItem\",\"id\":\"p2812\",\"attributes\":{\"label\":{\"type\":\"value\",\"value\":\"Avg Magnitude\"},\"renderers\":[{\"id\":\"p2809\"}]}}]}}],\"background_fill_color\":\"#20262B\",\"border_fill_color\":\"#15191C\"}}]}};\n",
       "  const render_items = [{\"docid\":\"aeef837c-f11b-40ce-a24a-6c38ff2f3965\",\"roots\":{\"p2752\":\"a6be046d-86d2-4c3e-b84d-8bedc0d1aef7\"},\"root_ids\":[\"p2752\"]}];\n",
       "  root.Bokeh.embed.embed_items_notebook(docs_json, render_items);\n",
       "  }\n",
       "  if (root.Bokeh !== undefined) {\n",
       "    embed_document(root);\n",
       "  } else {\n",
       "    let attempts = 0;\n",
       "    const timer = setInterval(function(root) {\n",
       "      if (root.Bokeh !== undefined) {\n",
       "        clearInterval(timer);\n",
       "        embed_document(root);\n",
       "      } else {\n",
       "        attempts++;\n",
       "        if (attempts > 100) {\n",
       "          clearInterval(timer);\n",
       "          console.log(\"Bokeh: ERROR: Unable to run BokehJS code because BokehJS library is missing\");\n",
       "        }\n",
       "      }\n",
       "    }, 10, root)\n",
       "  }\n",
       "})(window);"
      ],
      "application/vnd.bokehjs_exec.v0+json": ""
     },
     "metadata": {
      "application/vnd.bokehjs_exec.v0+json": {
       "id": "p2752"
      }
     },
     "output_type": "display_data"
    },
    {
     "data": {
      "text/html": [
       "\n",
       "  <div id=\"ff6a67d7-7d09-4e9d-839d-6d840dfcbd2f\" data-root-id=\"p2830\" style=\"display: contents;\"></div>\n"
      ]
     },
     "metadata": {},
     "output_type": "display_data"
    },
    {
     "data": {
      "application/javascript": [
       "(function(root) {\n",
       "  function embed_document(root) {\n",
       "  const docs_json = {\"006d07e4-7f53-4106-91d2-6c73cff21016\":{\"version\":\"3.2.1\",\"title\":\"Bokeh Application\",\"roots\":[{\"type\":\"object\",\"name\":\"GridPlot\",\"id\":\"p2830\",\"attributes\":{\"rows\":null,\"cols\":null,\"toolbar\":{\"type\":\"object\",\"name\":\"Toolbar\",\"id\":\"p2829\",\"attributes\":{\"tools\":[{\"type\":\"object\",\"name\":\"ToolProxy\",\"id\":\"p2823\",\"attributes\":{\"tools\":[{\"type\":\"object\",\"name\":\"PanTool\",\"id\":\"p2670\"},{\"type\":\"object\",\"name\":\"PanTool\",\"id\":\"p2729\"},{\"type\":\"object\",\"name\":\"PanTool\",\"id\":\"p2775\"}]}},{\"type\":\"object\",\"name\":\"ToolProxy\",\"id\":\"p2824\",\"attributes\":{\"tools\":[{\"type\":\"object\",\"name\":\"WheelZoomTool\",\"id\":\"p2671\"},{\"type\":\"object\",\"name\":\"WheelZoomTool\",\"id\":\"p2730\"},{\"type\":\"object\",\"name\":\"WheelZoomTool\",\"id\":\"p2776\"}]}},{\"type\":\"object\",\"name\":\"ToolProxy\",\"id\":\"p2825\",\"attributes\":{\"tools\":[{\"type\":\"object\",\"name\":\"BoxZoomTool\",\"id\":\"p2672\",\"attributes\":{\"overlay\":{\"type\":\"object\",\"name\":\"BoxAnnotation\",\"id\":\"p2673\",\"attributes\":{\"syncable\":false,\"level\":\"overlay\",\"visible\":false,\"left_units\":\"canvas\",\"right_units\":\"canvas\",\"bottom_units\":\"canvas\",\"top_units\":\"canvas\",\"line_color\":\"black\",\"line_alpha\":1.0,\"line_width\":2,\"line_dash\":[4,4],\"fill_color\":\"lightgrey\",\"fill_alpha\":0.5}}}},{\"type\":\"object\",\"name\":\"BoxZoomTool\",\"id\":\"p2731\",\"attributes\":{\"overlay\":{\"type\":\"object\",\"name\":\"BoxAnnotation\",\"id\":\"p2732\",\"attributes\":{\"syncable\":false,\"level\":\"overlay\",\"visible\":false,\"left_units\":\"canvas\",\"right_units\":\"canvas\",\"bottom_units\":\"canvas\",\"top_units\":\"canvas\",\"line_color\":\"black\",\"line_alpha\":1.0,\"line_width\":2,\"line_dash\":[4,4],\"fill_color\":\"lightgrey\",\"fill_alpha\":0.5}}}},{\"type\":\"object\",\"name\":\"BoxZoomTool\",\"id\":\"p2777\",\"attributes\":{\"overlay\":{\"type\":\"object\",\"name\":\"BoxAnnotation\",\"id\":\"p2778\",\"attributes\":{\"syncable\":false,\"level\":\"overlay\",\"visible\":false,\"left_units\":\"canvas\",\"right_units\":\"canvas\",\"bottom_units\":\"canvas\",\"top_units\":\"canvas\",\"line_color\":\"black\",\"line_alpha\":1.0,\"line_width\":2,\"line_dash\":[4,4],\"fill_color\":\"lightgrey\",\"fill_alpha\":0.5}}}}]}},{\"type\":\"object\",\"name\":\"SaveTool\",\"id\":\"p2826\"},{\"type\":\"object\",\"name\":\"ToolProxy\",\"id\":\"p2827\",\"attributes\":{\"tools\":[{\"type\":\"object\",\"name\":\"ResetTool\",\"id\":\"p2675\"},{\"type\":\"object\",\"name\":\"ResetTool\",\"id\":\"p2734\"},{\"type\":\"object\",\"name\":\"ResetTool\",\"id\":\"p2780\"}]}},{\"type\":\"object\",\"name\":\"ToolProxy\",\"id\":\"p2828\",\"attributes\":{\"tools\":[{\"type\":\"object\",\"name\":\"HelpTool\",\"id\":\"p2676\"},{\"type\":\"object\",\"name\":\"HelpTool\",\"id\":\"p2735\"},{\"type\":\"object\",\"name\":\"HelpTool\",\"id\":\"p2781\"}]}},{\"type\":\"object\",\"name\":\"HoverTool\",\"id\":\"p2677\",\"attributes\":{\"renderers\":\"auto\",\"tooltips\":[[\"Year\",\" @year\"],[\"Magnitude\",\" @mag\"],[\"Predicted Magnitude\",\" @pred_mag\"]]}},{\"type\":\"object\",\"name\":\"HoverTool\",\"id\":\"p2736\",\"attributes\":{\"renderers\":\"auto\",\"tooltips\":[[\"Year\",\" @yrs\"],[\"Number of earthquakes\",\" @numQuakes\"]]}},{\"type\":\"object\",\"name\":\"HoverTool\",\"id\":\"p2782\",\"attributes\":{\"renderers\":\"auto\",\"tooltips\":[[\"Year\",\" @yrs\"],[\"Average Magnitude\",\" @avg_mag\"],[\"Maximum Magnitude\",\" @max_mag\"]]}}]}},\"children\":[[{\"type\":\"object\",\"name\":\"Figure\",\"id\":\"p2646\",\"attributes\":{\"width\":2300,\"height\":450,\"x_range\":{\"type\":\"object\",\"name\":\"Range1d\",\"id\":\"p2656\",\"attributes\":{\"start\":-2000000,\"end\":6000000}},\"y_range\":{\"type\":\"object\",\"name\":\"Range1d\",\"id\":\"p2657\",\"attributes\":{\"start\":-1000000,\"end\":7000000}},\"x_scale\":{\"type\":\"object\",\"name\":\"LinearScale\",\"id\":\"p2658\"},\"y_scale\":{\"type\":\"object\",\"name\":\"LinearScale\",\"id\":\"p2659\"},\"title\":{\"type\":\"object\",\"name\":\"Title\",\"id\":\"p2649\",\"attributes\":{\"text\":\"Earthquake Map\",\"text_color\":\"#E0E0E0\",\"text_font\":\"serif\",\"text_font_size\":\"20pt\",\"align\":\"center\"}},\"outline_line_color\":\"#E0E0E0\",\"outline_line_alpha\":0.25,\"renderers\":[{\"type\":\"object\",\"name\":\"GlyphRenderer\",\"id\":\"p2684\",\"attributes\":{\"data_source\":{\"type\":\"object\",\"name\":\"ColumnDataSource\",\"id\":\"p2640\",\"attributes\":{\"selected\":{\"type\":\"object\",\"name\":\"Selection\",\"id\":\"p2641\",\"attributes\":{\"indices\":[],\"line_indices\":[]}},\"selection_policy\":{\"type\":\"object\",\"name\":\"UnionRenderers\",\"id\":\"p2642\"},\"data\":{\"type\":\"map\",\"entries\":[[\"lat\",[-6543390.724483237,-3328358.0702136224,5591172.898038173,2851640.5215679468,3582617.0285600303,-7225385.693391577,2519559.275530917,-3589189.5968190334,-7895731.329585679,434091.130985274,5539417.811527147,-3676788.280848081,4383206.456763607,-3600829.447882163,2946475.6765804114,2624462.067661116,-1919649.3727256414,-1714752.0518279816,-738658.6098666815,-3577327.8402285944,-1077518.9345580437,-3886984.5412093443,-551952.8806289821,-534289.4164623911,-1092279.3816380876,-370880.47196445666,-345125.133793962,-3890327.522750172,-1701661.4348117206,6701229.281034023,6721815.015535953,3945945.23053972,-374080.791003844,7761753.97926687,-1611357.202772603,468775.96792111447,-1591614.9794630976,-1582053.595071207,-1597470.6170010692,-916356.9030152019,-672409.5786799104,-1571979.4590359947,-462257.586109796,1811174.038604051,4365832.938958695,6643310.475927785,6773859.823305286,-418505.0455930204,-7410479.387446073,-560233.0274267893,-677928.4070738676,5418424.9975573495,-7511617.038765008,-1672495.0545528778,1548060.141959909,-999439.4980835484,2081535.6065417049,1852333.4820856596,-8997877.969353518,2838365.246911671,2836895.013382633,-3532220.974959881,-233455.68729851866,2040088.6479005006,-3419298.4832275123,-511168.83740093646,-1996283.2379809062,-3506570.907184386,-3509116.8698924873,-5645608.880689954,2080163.2375550573,2096579.1308771288,142378.32007136501,-452447.43496013916,-1260322.1273079962,1440522.2984627502,-969486.3282046615,-832620.1045632168,-1860667.204540434,-1189867.89525655,-7713171.987908111,-45318.54601658557,-4274618.876232512,-1692473.3553627734,-1698767.4525167744,-1645353.0122122725,65390.214373085604,64699.99763943559,-718310.979350528,-2749095.058186247,-8126461.540002937,-2551709.5517699746,2868953.7923551914,-2744089.018216976,-2568831.740902209,-2897353.1892552385,-4489209.573341354,-4500545.7623202745,-4470697.205647996,-4441532.400450267,-4446385.293838093,-4442926.682361412,-4471340.325008444,61594.03159729839,-4483469.075802989,-7426079.75738785,-2213915.801501731,4912675.02068954,4359273.23933069,2306420.320560517,938327.8076290637,-4456823.764446551,7249204.8093854645,-1219510.091862458,-7287232.027312336,-3681872.3599156886,-621364.074218154,-115277.60839181444,-3344525.2231373596,-2714535.8476083255,3230314.566706101,797189.2654855343,2586827.7678902973,-450405.18369439204,-4304433.519025345,-4456418.872302224,197100.25765049175,-1732109.4437709805,-603705.6005118577,-680771.976234633,-4176730.7437068527,-905830.9111608852,-7991177.156025094,-4380392.084819088,-528290.8084284626,-6454454.065666398,-2323743.5323901074,4649917.791428913,-2871569.0678798584,681925.11549967,-4191379.7565639713,-1725206.5409805682,6846037.379623727,-2588190.6188395876,502022.99706885614,-816613.0848425829,1235690.5297297353,588980.6922978276,5438076.329098564,4932064.174315522,-1195690.063706147,-1144151.1386994515,-1217265.6283307744,-1214148.5648662208,-1203654.6642516751,-1240091.3303174912,-1228920.328684846,-1227026.7319589504,-1163431.2025315375,-1156222.5862376215,-1218829.9356544984,-631017.2840090224,-1019965.3263767234,-1228024.5420570814]],[\"lon\",[15523380.539682128,-19734830.64732233,14464921.425372442,10425125.972535465,14775847.895107137,-15168427.211338695,15986681.128414653,-7974739.077295771,-16469562.815577714,14122224.37296535,15705699.601703351,6477859.280445858,7898151.267629998,-20031986.896045897,13742123.971651718,13425286.436955903,19474109.267935403,-19302254.23804875,17225811.77628182,-7968672.165047537,13291691.916054895,-19857794.15685258,10500756.434580415,10509684.257742038,13950113.30824987,16567067.557563543,16568659.426281884,-19839560.024260644,-19305927.781244926,-19366530.112032786,-19363168.263410825,15182876.481243663,16128747.062565029,-17580920.951912362,18574224.76826074,14098780.48820429,18557092.698627654,18548554.493683815,18550179.758249395,11954121.442479238,14519356.656370355,18545192.645061854,11378076.473471284,-10715202.301644579,7918277.831565422,19986234.58532986,19667348.77200345,-11570180.518733237,16272037.51111413,11647035.495176913,-11929341.723828655,16420326.20479985,-16019486.98235143,18583019.00803341,5762820.795233425,-12049121.495922217,-11726072.333640138,-10891677.090399155,18406009.885723025,13579185.632977603,13586888.9417405,-19809804.324371602,11206021.0685012,-11781364.724717155,-7999351.816710162,13984666.878192104,-19217272.938777164,-19796601.83276352,-7955291.562254186,18571230.273958404,-11707815.93715004,-11711155.521873841,14067577.634934934,-11638797.852858212,12942772.10411246,-9680710.273702689,17873346.12227721,-1513978.4706357587,-19727394.505337343,18364176.02108291,-15816250.988010151,-8995449.752277454,-11493859.875845369,-19244512.81817428,-19280658.256834853,18633290.890075654,-8865016.704914976,-8865261.60779472,16415327.95966323,9190147.54167489,-2844146.1980736633,-7347954.684384244,15808937.297465034,9176510.904052714,19271262.891811904,-19741765.851598755,19942452.629600868,19981191.812396925,19936541.56463974,19914021.631652266,19918296.30009873,19928181.470881168,19881972.75025288,10977715.924833277,19894440.53322173,-3441764.884397353,-19336852.3357873,-13991487.056038685,-10790098.055050293,16407992.005219955,14013721.265289148,19892637.157470874,18761953.95753452,18476820.213816624,17667805.814476512,-7327650.009263551,-8566435.566709256,3519710.791850803,-12501768.809385827,-19472684.37845325,15801156.065058582,-3821998.8690999374,13518193.683971971,-11567976.39281553,-11244292.709435929,19886113.83531039,14187557.782111922,-19460851.116581924,17088142.96201778,16548621.9179391,-7908771.147051676,11670746.546715882,16496580.055993244,-8188695.138600441,16683596.80052594,12732912.600068979,-19839693.6076496,15759032.769742409,19902288.557322655,-9193943.53631094,6013690.399685146,-7884425.574415187,19388493.4475663,-19629867.499453355,14230438.049965493,13734621.037972253,-6779412.649055758,10705350.526709374,9611892.564494286,-14047807.293370048,17958216.102058005,17931254.52138787,17948063.764497656,17957358.941978898,17937087.66270544,17973066.122129828,17956935.92791388,17962412.84686091,17959062.130188033,17961410.97144377,17953485.023699287,17195900.229105666,-12228357.008048467,17986146.162298035]],[\"mag\",[6.3,5.8,5.8,6.7,5.8,6.0,5.7,5.7,5.6,6.5,6.2,5.9,5.7,6.2,5.7,6.4,5.7,5.8,6.4,6.3,6.3,5.6,7.8,5.6,5.6,5.9,5.6,5.5,5.9,5.6,6.3,5.9,6.2,5.9,6.9,5.9,5.8,6.7,5.9,6.1,5.5,6.7,5.7,5.5,6.6,5.6,5.6,5.8,5.5,5.7,5.6,5.7,5.5,5.7,5.5,5.6,5.6,5.8,5.5,5.8,5.7,5.5,6.6,5.8,5.8,6.3,5.6,6.1,5.5,5.5,6.3,5.5,6.3,5.9,6.1,6.1,6.2,5.5,5.8,5.9,5.8,5.5,5.6,5.8,6.0,5.6,5.9,6.3,5.6,5.6,5.6,6.2,6.3,5.5,7.2,6.1,7.0,5.5,5.5,5.7,6.1,5.5,5.5,5.5,5.5,5.5,5.5,5.64,5.8,5.5,5.8,5.9,6.1,5.6,6.1,5.6,6.1,5.9,5.8,5.6,5.7,5.5,5.8,5.6,5.6,5.8,5.8,5.6,5.6,6.0,6.3,5.8,5.7,6.0,5.9,5.7,5.6,6.1,5.9,5.6,5.5,6.2,5.9,5.5,5.7,6.3,5.9,6.5,6.0,6.6,7.8,5.7,5.5,6.5,6.9,5.5,5.5,5.8,5.5,5.6,5.8,6.0,5.8,5.5]],[\"year\",[2016.0,2016.0,2016.0,2016.0,2016.0,2016.0,2016.0,2016.0,2016.0,2016.0,2016.0,2016.0,2016.0,2016.0,2016.0,2016.0,2016.0,2016.0,2016.0,2016.0,2016.0,2016.0,2016.0,2016.0,2016.0,2016.0,2016.0,2016.0,2016.0,2016.0,2016.0,2016.0,2016.0,2016.0,2016.0,2016.0,2016.0,2016.0,2016.0,2016.0,2016.0,2016.0,2016.0,2016.0,2016.0,2016.0,2016.0,2016.0,2016.0,2016.0,2016.0,2016.0,2016.0,2016.0,2016.0,2016.0,2016.0,2016.0,2016.0,2016.0,2016.0,2016.0,2016.0,2016.0,2016.0,2016.0,2016.0,2016.0,2016.0,2016.0,2016.0,2016.0,2016.0,2016.0,2016.0,2016.0,2016.0,2016.0,2016.0,2016.0,2016.0,2016.0,2016.0,2016.0,2016.0,2016.0,2016.0,2016.0,2016.0,2016.0,2016.0,2016.0,2016.0,2016.0,2016.0,2016.0,2016.0,2016.0,2016.0,2016.0,2016.0,2016.0,2016.0,2016.0,2016.0,2016.0,2016.0,2016.0,2016.0,2016.0,2016.0,2016.0,2016.0,2016.0,2016.0,2016.0,2016.0,2016.0,2016.0,2016.0,2016.0,2016.0,2016.0,2016.0,2016.0,2016.0,2016.0,2016.0,2016.0,2016.0,2016.0,2016.0,2016.0,2016.0,2016.0,2016.0,2016.0,2016.0,2016.0,2016.0,2016.0,2016.0,2016.0,2016.0,2016.0,2016.0,2016.0,2016.0,2016.0,2016.0,2016.0,2016.0,2016.0,2016.0,2016.0,2016.0,2016.0,2016.0,2016.0,2016.0,2016.0,2016.0,2016.0,2016.0]],[\"mag_s\",[25.2,23.2,23.2,26.8,23.2,24.0,22.8,22.8,22.4,26.0,24.8,23.6,22.8,24.8,22.8,25.6,22.8,23.2,25.6,25.2,25.2,22.4,31.2,22.4,22.4,23.6,22.4,22.0,23.6,22.4,25.2,23.6,24.8,23.6,27.6,23.6,23.2,26.8,23.6,24.4,22.0,26.8,22.8,22.0,26.4,22.4,22.4,23.2,22.0,22.8,22.4,22.8,22.0,22.8,22.0,22.4,22.4,23.2,22.0,23.2,22.8,22.0,26.4,23.2,23.2,25.2,22.4,24.4,22.0,22.0,25.2,22.0,25.2,23.6,24.4,24.4,24.8,22.0,23.2,23.6,23.2,22.0,22.4,23.2,24.0,22.4,23.6,25.2,22.4,22.4,22.4,24.8,25.2,22.0,28.8,24.4,28.0,22.0,22.0,22.8,24.4,22.0,22.0,22.0,22.0,22.0,22.0,22.56,23.2,22.0,23.2,23.6,24.4,22.4,24.4,22.4,24.4,23.6,23.2,22.4,22.8,22.0,23.2,22.4,22.4,23.2,23.2,22.4,22.4,24.0,25.2,23.2,22.8,24.0,23.6,22.8,22.4,24.4,23.6,22.4,22.0,24.8,23.6,22.0,22.8,25.2,23.6,26.0,24.0,26.4,31.2,22.8,22.0,26.0,27.6,22.0,22.0,23.2,22.0,22.4,23.2,24.0,23.2,22.0]]]}}},\"view\":{\"type\":\"object\",\"name\":\"CDSView\",\"id\":\"p2685\",\"attributes\":{\"filter\":{\"type\":\"object\",\"name\":\"AllIndices\",\"id\":\"p2686\"}}},\"glyph\":{\"type\":\"object\",\"name\":\"Circle\",\"id\":\"p2681\",\"attributes\":{\"x\":{\"type\":\"field\",\"field\":\"lon\"},\"y\":{\"type\":\"field\",\"field\":\"lat\"},\"size\":{\"type\":\"field\",\"field\":\"mag_s\"},\"line_color\":{\"type\":\"value\",\"value\":\"#1f77b4\"},\"fill_color\":{\"type\":\"value\",\"value\":\"#cc0000\"},\"fill_alpha\":{\"type\":\"value\",\"value\":0.7}}},\"nonselection_glyph\":{\"type\":\"object\",\"name\":\"Circle\",\"id\":\"p2682\",\"attributes\":{\"x\":{\"type\":\"field\",\"field\":\"lon\"},\"y\":{\"type\":\"field\",\"field\":\"lat\"},\"size\":{\"type\":\"field\",\"field\":\"mag_s\"},\"line_color\":{\"type\":\"value\",\"value\":\"#1f77b4\"},\"line_alpha\":{\"type\":\"value\",\"value\":0.1},\"fill_color\":{\"type\":\"value\",\"value\":\"#cc0000\"},\"fill_alpha\":{\"type\":\"value\",\"value\":0.1},\"hatch_alpha\":{\"type\":\"value\",\"value\":0.1}}},\"muted_glyph\":{\"type\":\"object\",\"name\":\"Circle\",\"id\":\"p2683\",\"attributes\":{\"x\":{\"type\":\"field\",\"field\":\"lon\"},\"y\":{\"type\":\"field\",\"field\":\"lat\"},\"size\":{\"type\":\"field\",\"field\":\"mag_s\"},\"line_color\":{\"type\":\"value\",\"value\":\"#1f77b4\"},\"line_alpha\":{\"type\":\"value\",\"value\":0.2},\"fill_color\":{\"type\":\"value\",\"value\":\"#cc0000\"},\"fill_alpha\":{\"type\":\"value\",\"value\":0.2},\"hatch_alpha\":{\"type\":\"value\",\"value\":0.2}}}}},{\"type\":\"object\",\"name\":\"GlyphRenderer\",\"id\":\"p2695\",\"attributes\":{\"data_source\":{\"type\":\"object\",\"name\":\"ColumnDataSource\",\"id\":\"p2643\",\"attributes\":{\"selected\":{\"type\":\"object\",\"name\":\"Selection\",\"id\":\"p2644\",\"attributes\":{\"indices\":[],\"line_indices\":[]}},\"selection_policy\":{\"type\":\"object\",\"name\":\"UnionRenderers\",\"id\":\"p2645\"},\"data\":{\"type\":\"map\",\"entries\":[[\"pred_lat\",[-4305644.878725946,-545572.9963252052,-2662437.544199333,2755248.2180776442,-5365811.401172721,-2198935.6254887776,-2201815.0661135376,-2169151.5511257183,-2151981.0195756736,-2022267.689426525,-2130721.2189970976,-2549699.865701337,-694543.9332678925,-7232331.040247741,12673256.347779717,499019.2775873914,1653476.4320984208,-1131687.975289045,-2610385.9209709303,-2291994.7871158165,-587136.108265621,3372.9807282539505,-2110306.486492369,-1702145.7202415739,-2114300.813983417,-1533175.837365457,369430.8808398337,-1523097.209169454,2255613.0303128827,5251466.08195597,5249092.034354799,-1158542.31074942,314783.38479557785,-696727.5869158688,-751615.0630744306,1355850.2420601917,-3515612.666032386,-1663110.5734038544,78148.23778704347,1358742.0221909478,1697280.2399914016,384206.4656621807,2899247.571116649,1108390.3548526065,-2736515.995592676,-1686526.5676896854,-2188094.3838645956,-2423170.738547443,-942997.9000432289,-2663406.851823695,-2033417.1551428244,-2109578.1952632125,4518380.554022869,-5588992.228074327,-7820139.622008823,8306487.562006566,4525320.617361077,-817948.6770221533,1099802.996351176,-7397288.521822361,-668525.4304657294,-698418.5745860382,5088588.534926192,-1691850.9498408462,-8433232.08722776,-3570322.1306225546,1618757.24354095,685451.8444193258,-2393392.991688738,-1766434.174267657,6635262.103856747,-1293287.889404825,-908799.531326025,-948748.992832175,-339539.992015826,6938469.688544394,7747885.474860748,2963540.901167296,34353.36095726692,6922941.295510339,-2593172.612202951,-7482427.682112884,6654349.953489209,4269774.326043047,-2157361.3814672176,1540382.0671977927,1547853.8366059961,-6832047.59130031,1464599.6400086829,632818.3313257238,636331.0777585702,857123.4469409954,862313.1988759948,638680.4740663961,-2064241.1614338474,-2664133.870717765,-822977.1091850322,-1504450.120204938,1973247.8774015973,-2047816.2328304106,-301988.9644560258,-4340474.349688632,-2337314.354431834,-3900003.6645173165,-3897255.305117063,-3900282.5196553133,-7337411.688928481,6658187.08326438,-1866135.711318369,-3924408.758540344,-3912532.1501572262,613680.5528100671,-1081459.7614575624,3608746.6061610063,8359970.740134858,8361875.379767513,8350300.101798156,8348464.775425542,-1312938.1458496503,4792667.472756803,4790503.900218573,-8586207.569116628,6625734.82365355,6629257.565175177,6752243.306047916,2808339.2316463753,6627150.819317838,-1641809.9026616956,6756972.061558729,-7641276.689954517,-7637796.156257059,-7675664.015505834,-3208248.7246229313,1450445.4558200159,4546886.706747683,-2371464.574741726,3151660.834632129,-448095.1517515751,1049075.6774900411,1977857.613992557,1926809.1237635878,5453657.620247199,-310681.9021402735,-1121049.0407249308,6858557.903920932,-2549170.4076041034,7104842.120234905,-143870.3768323784,-4487249.0510882195,-8100499.685198234,2164321.5495230677,7176067.416283686,-527676.4522642265,-8997805.451620065,-453675.0399595397,-1902394.1145143113,-7227922.704199101,1610771.2655774383,-929517.8827989912,-3697894.4979751343,4711592.3876203345,-2075577.6191125002,1591959.3923035788,1678726.4619239368,1726499.241972048,-3569999.0833416884,-7445379.231640741,-9036901.844784355,1266349.5260567088,-2764708.0832564547,-2361950.752767476,1541814.3773614864,-2207988.437418792,-5047525.047991203,-1736970.3674071126,-1066974.4236178973,-2220022.200725581,-2850083.1727469866,5434235.246962346,-3543498.6991029233,-3649032.4471866395,-509717.04716724897,3994117.608229388,-31715.053620725674,-3169524.199447897,-3178313.99124862,-4232681.143815502,5922688.114774268,1246500.756029532,-745752.8974622741,-2578074.42083684,-7572383.258442905,1230893.4115588807,-4321997.7203316195,-6357337.283314072,-4217157.9086806,4990992.382834879,-532580.2680479435,45619.11627917563,-2318066.2695521857,-2317341.8919830867,7280814.093520289,7254582.226507023,-1852960.1451625917,-7754111.940643026,-1969234.135804802,4497391.699737972,4429256.6953345,-2043834.993375725,34464.6820680013,4871567.652741578,3110671.5547305616,-396363.01566563087,1505010.8360824403,7227731.923012483,5800306.867275992,-3317861.212150935,681981.0936987327,-1145282.3105185104,-5989276.000660639,-605897.2791313904,-376534.060890135,-372999.13958976517,3920896.384432669,5512343.6078667715,6873195.893977935,6885703.918075628,-2876874.679370592,1574962.2867086118,-1839328.3396986248,-3534591.685046523,-419776.828952932,-1200527.5166430902,-7355095.6786795445,-1665850.7073915948,3334180.5471230606,-123795.04571138619,-698004.2220956333,-2032972.4655502085,-5985748.279869394,-161708.8821725821,-129028.0895611599,8062469.851229396,7771982.62055044,1576029.3031772126,5061494.911955777,-7912625.714267072,-1832961.9011957513,3221629.9168965113,1691758.742954441,1709872.5242152764,1698536.8710225923,1735030.4984869228,5128275.333156286,7787187.344932034,2747669.8187303916,1678530.6267919843,2118248.9355914155,-7448440.212338019,1815089.6939157222,-703995.8215343215,-2101533.516183289,-3739915.568881679,1718917.152009302,1701303.9921897436,2102014.9316169075,-6569926.986643506,4576798.589796728,-2129686.461762279,-566748.298184276,-681600.442976885,2698450.1605495107,4925775.566875482,1745701.721099107,1877309.0836236048,844230.1342541707,1725356.5830811297,-695092.6385978509,-2702494.352232406,4914743.655082393,3349465.5891309045,438911.39930979925,1512186.7203117542,-2557126.0721197636,106415.23801256623,4509494.443295251,4452482.453741789,-4206130.0392036885,-2153793.9305472,-8799329.294446291,6871116.152136846,-2104551.359970118,-7220161.650973685,-7219284.962370067,-3631956.9676027764,1831095.2137202795,-2735164.9224374145,-2720870.1036247457,-2343223.557681384,-26527.511136182584,-620133.7559040728,3289163.7310350225,-6862547.445647728,-805503.2306815294,-541126.3941315995,22972492.920816742,23017578.89083119,23070653.714063987,-961120.3823463281,-2475197.087909239,-2442723.714941221,-1746464.1334434794,-426236.4080493929,-419832.6093060029,-417177.49998489686,-425488.90432073775,-2478875.5770178144,-2469363.43797136,-2488321.031005311,-2480205.777766392,-2490671.2143681957,2114911.7816435685,-1726072.1813098392,-2420053.3593098465,-1707473.4933615183,-2113725.1115881503,1308391.019937781,-2472753.18361226,-2000220.328516855,-472794.39156972774,-2496656.043696367,3831869.552869018,-5081425.444171707,-1316405.7714694205,4151779.3925998537,4570289.9003546275,1064073.4976731613,-2054574.397347699,-2111410.720620923,1471113.6276090278,-8187111.827621816,4310739.577394617,-2456660.792872055,3792263.2916084253,3482140.0594611526,-330287.73264516547,274464.949188219,-2468081.975861971,-2451922.130950162,-2416088.7546149213,-2430626.024760267,-2449780.5835856874,-1657447.0457099949,-6795732.894736507,-4380114.846842927,3140736.139320978,-2347731.0651551904,-509784.05228970014,11972630.390174912,-2954956.4261257593,-1621239.7221826883,5653346.910651668,-751603.8537432499,-488869.975569843,-120254.43798601728,3599857.9663209543,-684209.0685570824,-6237394.496044554,-52320.747453207616,-3861757.15764775,-1566014.8139201794,-70121.559796827,1132049.8215287544,-3575065.421551152,1120201.224843237,-1818009.4917290597,1129381.2901968637,-2371952.904337748,-1612529.117119659,-2238506.885499229,3598666.3855736377,3610366.9396063318,-7211722.819822231,-2418106.7702445276,-836403.7278979729,-1959937.7578399326,-8316409.16625335,-2494688.855133488,3582901.595867437,3412595.806500549,7143535.427905174,-1731128.1413604217,-3234457.453569088,454601.3348356274,-7670127.402271534,-6999959.447355698,-605248.7137534146]],[\"pred_long\",[5780687.573505744,-8501191.21315532,19952716.286652006,10243363.50796821,-8293491.307233229,19597996.729239237,19587020.627447024,19613102.784139886,19624201.33737198,18604102.919589657,19620806.092902783,-7546904.878329982,16417053.411770526,-15123699.039937956,-10287657.533354852,13649673.134547904,16067855.301101107,17925454.77591754,-7770467.811690112,5192709.155084753,11435127.712502839,13923507.949950278,19618557.43918876,-19288127.794667084,19602182.34209307,18537177.64172474,10961585.730617331,18525444.56739513,-8526405.077819996,1472400.640824471,1468348.6113595958,17959785.70687819,14272093.803420337,17273645.761475686,17098918.688726567,16281210.237155495,-19753988.731687855,18607910.046174783,-8869591.935986578,15699053.828102991,-6737656.708059201,-8312393.356769928,7042560.793341977,13965208.231201438,-7420468.200686982,-19634654.237557467,-7113838.66329691,19411291.67928076,3342979.968267402,-19904325.70400417,-19863671.825966466,18857978.150292795,15733306.835420081,-9005435.110601611,-15876597.283969184,-16993432.33925086,4278063.6909309,17337788.05207077,13970161.94854174,-14379951.258049939,16626890.651915848,11375438.201539483,15796480.646445265,18719775.002472945,16731252.674534539,-19761447.137571003,16164992.688767318,10275278.80597864,18931883.16023045,-19717030.66074449,19934649.133296255,12754285.942301288,17895008.895185582,12837731.032599926,15235864.558861258,19176073.595234573,18121265.76022291,-12247782.259191895,13422926.463751087,-3597701.22710057,2800330.846497431,-3339729.4391362383,-19634220.09154337,6727738.14142952,18877414.533385303,13461921.68137597,13462467.146880858,15547347.626049919,13955200.608979123,14159983.944242429,14148139.550422024,13893997.152940981,13899607.655276963,14170982.309932806,-19833604.431503203,-7538834.215247469,9258653.55630907,18545404.152094364,-6806329.70192957,-19855946.253305417,-8382747.274951275,-10956943.707851252,-19325252.84484664,-8018298.394043178,-8027849.60635324,-8021871.749697642,-14504840.594770912,19885512.71006011,-19330217.69413602,-8011596.960697423,-7992717.175058885,13922261.171653392,12451029.385482254,14629017.486750808,-15218643.43363554,-15217841.933301827,-15209492.971492331,-15215348.37670806,-1551548.7987784883,7953087.436336478,7950694.067284424,-4231921.761997088,-19704841.176502623,-19702080.45313095,-19880269.562043745,14061588.646330256,-19708436.796055246,18632289.01465851,-19868358.376528863,-2865719.9153894004,-2870606.8410352245,-2876918.6561632035,-19658409.81689275,-10025555.79228209,6368120.52642185,-7648873.53189662,14476454.124618625,16973784.44912585,13798462.765942194,-11724480.464921793,-10473828.249757523,16444048.388287898,13594113.576692982,18028581.15218843,-18553163.120602652,-19628954.67962885,-17921024.26018397,13406350.991571967,-7980449.767173465,-2921234.945448006,16234411.523226002,19026682.83859,16156499.011619791,17347361.528278995,-8945445.037013115,-19783221.22997017,-16323778.810434842,-10354349.040289104,11828697.772202456,-7988286.659325312,2934938.3747646576,18782715.042567465,-10382156.649089262,-10242417.292296467,-10817538.309530836,-19821136.648534358,-13887941.372641826,-17932690.542819105,-9646423.870538358,19993436.956384186,-19652576.675575186,-10126934.452547526,3839208.862376577,8976614.494435232,-8169236.491609777,7366010.705790913,-19617444.244280823,-19727572.61652261,16461325.17325901,-19777221.10941641,20029237.304623302,17035678.086006906,-4290754.112881334,-8960406.37657573,-19638350.044651803,-19616453.500812765,-8163681.649019193,-12531825.07190001,13873592.290278576,16446909.299201284,19269426.120213814,-3066028.2071228167,13890891.33914785,-11201334.517938806,18258144.206102323,-8155822.492969188,14656736.039958334,17055359.37197916,13579241.292722998,-19309590.192492027,-19299949.924589332,18773854.01110032,18797075.256879795,-8197088.628206255,-15741678.061127735,7400920.498103682,15761270.291507354,3051701.3886577226,18832207.68817415,13381003.543518338,15972988.831047077,14491972.06163521,14035684.600822661,-5490934.070919933,18846512.24274109,16817848.10642263,-7669278.394559028,13961133.937838405,17976171.935922958,11117154.71900093,16873975.3936806,16348847.95976149,16340409.942359356,11561107.980233584,9220782.665541198,-18818515.390806578,-18828678.860316005,-1513956.2067375998,13440615.130838137,-8179132.7943413,-8032792.191744462,11312598.348986682,-8300671.414389395,-14446186.355071936,-19271218.364015583,14237840.796103245,-1520679.9039815138,14254382.872435123,-19908444.52516352,17814458.11164757,16484190.196667952,11097228.530148936,-17104406.739622675,-3792777.5027667037,16318858.48894178,14363520.501208851,-2851237.2496371954,18699236.556421585,15562921.222811898,-10452822.261844832,-10497105.155282399,-10470811.491557026,-10523287.499516975,15906798.261821399,-3746156.9000224797,15844915.75688942,-10465579.475489743,16224448.428800004,-3157232.2659297455,-10590758.24288678,16572221.649987271,-1413334.5190095599,-8029040.724904728,-10527105.758051185,-10479995.349547472,-10963711.932891482,18104078.030844428,16103488.670104034,18823524.76789228,16456026.365497254,12581774.127418952,-12115011.502522757,-14118940.44798695,-10511754.800270792,-10584012.281744706,13886304.976127166,-10482978.71190073,17000879.61318493,-19685415.925359197,15845483.486292463,15643995.20795664,14304365.323801303,-5491635.38371193,-7627299.814580885,-2839637.7586965365,16032244.19599634,15704630.934591737,-1731262.9847151493,-19543906.58866279,17209826.297403906,19677846.199985255,-7764823.913506894,958304.9684429747,927981.539150887,-7304629.138567501,-10560390.285798375,-19577959.220896453,-19556986.628831,-19347572.402750693,13686642.337440351,16384136.238342956,14606319.44257806,1868063.5069510029,13700479.350145955,14592938.839784708,6028117.405691953,5923410.2926518,6144858.15568686,13245249.424495943,18829524.888446037,18804589.322508343,-19287994.211278133,14217825.551658614,14211881.090850255,14221254.191975046,14223180.019165771,18805669.121569037,18797242.236115985,18810967.929330796,18794114.158424694,18796396.207985956,-11862683.612741644,-19276995.84558776,18808697.011718616,-19301107.647293583,-19786471.75910133,-6810348.335547209,18774644.379484948,-19875772.254615694,15972632.608676542,-19968746.293326236,15744806.138819026,-9371976.797936622,-1571185.556954422,5116154.741266219,16133622.856261773,-9404994.158905908,-19815515.014249295,-19093797.359589268,15997913.265035696,-1903663.4801066918,14391383.769754406,18758402.86577821,15645943.299045524,10573548.249610139,-8872942.652659455,14265381.238125501,18776581.338624753,18768288.036560655,18766718.431740474,18776425.491337646,18791709.65742356,-19486309.884126347,15551076.828991493,19760311.67876491,14511408.444727717,19207922.10155053,17057140.48383185,364526.8045516536,-1543366.8162051828,-8478025.62712124,16286175.086444875,14447221.626336314,16008065.60259604,-2608471.704115224,6379386.058890129,16437035.260367919,11891749.131787766,-8940079.43755688,-19900696.688604306,18968629.72414131,13766669.919371633,15609185.603185581,-19869683.078469306,15605556.58778572,-19360374.14419192,15607170.720402226,-19338555.52399644,18639658.36494903,-7910262.828228306,6376324.772893313,6378406.4473711485,240761.79468769205,18871904.218591034,12041907.992918814,-19763306.17306725,-16822913.143253725,-12725977.395792559,14702844.573044907,15879447.062933493,17878344.36741383,-19250691.049913306,8238176.652258052,14114409.744711664,-15826770.679890113,-13070077.073783645,16791877.269220557]],[\"pred_mag\",[5.831047958456975,5.90329179800919,5.9310048083766524,5.855918313428821,5.945000474597924,5.988223771584147,5.891133639917654,5.891133639917654,5.9873689773266054,6.0294297649154425,5.914121852765171,5.886643823790755,5.846080275034415,5.800101562371729,5.93183189084289,5.956358377809961,5.888545413855178,6.026262886892703,5.866886366891406,5.853163258235563,5.9546847860412875,5.84117048008481,5.914121852765171,5.844120461693921,5.914121852765171,6.0322845241958385,5.874418815185012,6.0314297299382975,5.959320961053804,5.881942869797702,5.8611860687690935,5.872624585637528,5.84117048008481,5.871455486796349,5.896269210026195,5.890550877633822,5.942330353274635,5.884735125349021,5.848255278770148,5.906932916715416,5.865672357809897,5.893032685026952,5.953216916467012,5.9496508074924535,5.886643823790755,5.858870763036771,5.980467085034486,5.8962609049236345,5.934768695441141,5.840830183819492,5.844463039996301,5.928151383458801,5.846874363833243,5.811747748181858,5.906416195269432,5.857311155335849,5.858494189756838,5.986964374727291,5.949462150085046,5.800101562371729,5.867318938550136,5.861199582122182,5.846874363833243,5.913619841196953,5.867211340659816,5.925077445363833,5.840330279223843,5.847861068335255,5.898506239126546,5.868729231200314,5.987129241454613,5.863142454179378,5.929496199721138,5.842072105160857,5.843002840121671,5.987615864864763,6.010982552884237,5.975816824182426,5.84117048008481,5.853578427662036,5.935122642057738,6.007316435258378,5.954975829301268,5.957756212846224,5.928151383458801,5.949462150085046,5.952467209608856,5.8608341443769785,5.871994388408205,5.952467209608856,5.952467209608856,5.898560410066311,5.871994388408205,5.8763016379159705,5.85086138867712,5.876066042549406,5.84839304238329,6.0314297299382975,5.959625135937437,5.844463039996301,5.976140907720582,5.800106683918919,5.900709033588373,5.972366885323935,5.972366885323935,5.962396866469932,5.800101562371729,5.987129241454613,5.817179794707916,5.972366885323935,5.962396866469932,5.9496508074924535,5.863142454179378,5.912662856706385,5.872012029662401,5.897916070896057,5.897916070896057,5.872012029662401,5.839101299097923,5.949852735032815,5.8611860687690935,6.018974224024166,5.984964605142902,5.984964605142902,6.128881411230986,5.889744367973411,5.984964605142902,5.914534683643654,6.100182292958765,6.017343201020987,5.8401112765890195,6.017343201020987,5.798288386652587,5.962583027783661,5.8792509907854456,5.870082897506847,5.882039881583757,5.915738953341746,5.922483575446437,5.854668252360044,5.889290645099619,5.846022076017237,5.887133678402367,5.872624585637528,5.880541509730916,5.813270105026325,5.974610551200812,5.964255034976739,5.863740798649819,5.824612413702914,5.84204885108083,5.919059645146646,5.900138296470358,5.861393779979419,5.899930585194544,5.857446072546103,5.800101562371729,5.833698968331835,5.881673410186777,5.962396866469932,5.968920786943479,5.992063716772195,5.833698968331835,5.881801575333755,5.965399429900064,5.829406211846978,5.80984506899604,5.799343685166633,5.893032685026952,5.914708225596,5.852091671560234,5.881801575333755,5.933124003151949,5.833057008652395,5.881396612793017,5.839101299097923,5.828634603777242,5.836296929701528,5.846022076017237,5.925077445363833,5.92120725208766,5.872603159241866,5.851806372138846,5.976140907720582,5.9127682134356805,5.9127682134356805,5.975247681609037,5.9823771860256665,5.898560410066311,5.846080275034415,5.956951922818953,5.8262434367060925,5.890538851255722,5.800106683918919,5.901798475719984,5.841584770143665,5.997649654882762,5.872603159241866,5.8434724248028225,5.914429736436536,5.823350883069546,5.9270812039572345,5.908758213309815,5.887260078659484,5.799343685166633,5.828490321872076,5.930079910419865,5.8792509907854456,5.916366529613972,5.847387368388377,5.896493055511609,5.9556466350139,5.960095265833021,5.839184170094192,5.908758213309815,5.848691453364962,5.862526593396871,5.84117048008481,5.872624585637528,5.8438089571952085,5.985600389609345,5.9148108482490365,5.9148108482490365,5.905510603219997,5.966104384827077,5.976880728012974,5.976880728012974,5.82361044832816,5.884193943110615,5.887260078659484,5.868885063314321,5.950363361431194,5.885257806854695,5.800101562371729,5.844120461693921,5.9112814250181405,5.867908520154667,5.953833693691402,5.844463039996301,5.901798475719984,5.934283416189263,5.862077595887639,5.857311155335849,5.837846569099055,5.965831574198687,5.904674850429526,6.003874072252729,5.913446730611371,5.96173101307556,5.881801575333755,5.881801575333755,5.962583027783661,5.962583027783661,5.848023033871643,5.837846569099055,5.841693905766597,5.962583027783661,5.91614530347201,5.862150679302757,5.884370104019638,5.989091190500522,5.829835256226562,5.972366885323935,5.833698968331835,5.933829674553122,5.884370104019638,5.918615301116746,5.964325906650234,5.9106075851624995,5.911717453260399,5.95744715900827,5.854668252360044,5.9823771860256665,5.884370104019638,5.854668252360044,5.898560410066311,5.881801575333755,5.896269210026195,5.821007769531657,5.846874363833243,5.877074378713112,5.8780981378429065,5.839184170094192,5.866886366891406,5.845782587752016,5.926551633328804,5.846874363833243,5.831047958456975,5.828634603777242,5.861393779979419,5.866827623815684,5.8677659306671845,5.860519656299578,5.833305253412632,5.886748552964642,5.884370104019638,5.896205055136198,5.813089285582237,5.809148550083847,5.84117048008481,5.897044901481721,5.9556466350139,5.833305253412632,5.960730069064156,5.846962979786761,5.8406964225989215,5.8406964225989215,5.8406964225989215,5.842072105160857,5.985460602765712,5.898505581772436,5.829588124269189,5.917672783742319,5.925694342552907,5.917672783742319,5.960095265833021,5.974480393054123,6.000722040997475,5.898505581772436,5.898505581772436,5.905109612215943,5.854668252360044,5.829588124269189,5.898505581772436,5.829588124269189,5.85086138867712,5.867732232710837,5.898505581772436,5.85313067611658,5.855113879504924,5.838369989155734,5.954228653373969,5.802009363104737,5.839101299097923,5.954939810729821,5.964325906650234,5.970996402759317,5.845204663397922,5.810089659577248,5.851170544311225,5.8401112765890195,5.8858778457018825,5.898505581772436,5.844146715409538,5.877422076862741,5.896633192533204,5.896642600690423,5.998760433138615,5.998760433138615,5.905109612215943,5.898505581772436,5.898505581772436,5.86689232184736,5.8608341443769785,5.993848127040747,5.944848242002777,5.977075321815655,5.872603159241866,5.837846569099055,5.821047867337298,5.963302917087923,5.926937089967967,5.84797361157871,5.855113879504924,5.848428699909158,5.883434585477909,5.846080275034415,5.849216527796577,5.97332450560418,5.8296012445635,5.895743504849426,5.961438632860338,5.94750170673821,5.899050710895681,5.898911357904828,5.835007948981051,5.88036689505731,5.811649487271852,5.914534683643654,5.9533230747564385,5.957756212846224,5.875413026667321,6.005685412255199,6.000722040997475,5.838710892346211,5.858940446708821,5.799343685166633,5.822463019906135,5.877074378713112,5.8907275773022505,5.856516219141211,5.81320042638913,5.821047867337298,5.951869833217496,5.799343685166633,5.80984506899604,5.867318938550136]],[\"year\",[2017,2017,2017,2017,2017,2017,2017,2017,2017,2017,2017,2017,2017,2017,2017,2017,2017,2017,2017,2017,2017,2017,2017,2017,2017,2017,2017,2017,2017,2017,2017,2017,2017,2017,2017,2017,2017,2017,2017,2017,2017,2017,2017,2017,2017,2017,2017,2017,2017,2017,2017,2017,2017,2017,2017,2017,2017,2017,2017,2017,2017,2017,2017,2017,2017,2017,2017,2017,2017,2017,2017,2017,2017,2017,2017,2017,2017,2017,2017,2017,2017,2017,2017,2017,2017,2017,2017,2017,2017,2017,2017,2017,2017,2017,2017,2017,2017,2017,2017,2017,2017,2017,2017,2017,2017,2017,2017,2017,2017,2017,2017,2017,2017,2017,2017,2017,2017,2017,2017,2017,2017,2017,2017,2017,2017,2017,2017,2017,2017,2017,2017,2017,2017,2017,2017,2017,2017,2017,2017,2017,2017,2017,2017,2017,2017,2017,2017,2017,2017,2017,2017,2017,2017,2017,2017,2017,2017,2017,2017,2017,2017,2017,2017,2017,2017,2017,2017,2017,2017,2017,2017,2017,2017,2017,2017,2017,2017,2017,2017,2017,2017,2017,2017,2017,2017,2017,2017,2017,2017,2017,2017,2017,2017,2017,2017,2017,2017,2017,2017,2017,2017,2017,2017,2017,2017,2017,2017,2017,2017,2017,2017,2017,2017,2017,2017,2017,2017,2017,2017,2017,2017,2017,2017,2017,2017,2017,2017,2017,2017,2017,2017,2017,2017,2017,2017,2017,2017,2017,2017,2017,2017,2017,2017,2017,2017,2017,2017,2017,2017,2017,2017,2017,2017,2017,2017,2017,2017,2017,2017,2017,2017,2017,2017,2017,2017,2017,2017,2017,2017,2017,2017,2017,2017,2017,2017,2017,2017,2017,2017,2017,2017,2017,2017,2017,2017,2017,2017,2017,2017,2017,2017,2017,2017,2017,2017,2017,2017,2017,2017,2017,2017,2017,2017,2017,2017,2017,2017,2017,2017,2017,2017,2017,2017,2017,2017,2017,2017,2017,2017,2017,2017,2017,2017,2017,2017,2017,2017,2017,2017,2017,2017,2017,2017,2017,2017,2017,2017,2017,2017,2017,2017,2017,2017,2017,2017,2017,2017,2017,2017,2017,2017,2017,2017,2017,2017,2017,2017,2017,2017,2017,2017,2017,2017,2017,2017,2017,2017,2017,2017,2017,2017,2017,2017,2017,2017,2017,2017,2017,2017,2017,2017,2017,2017,2017,2017,2017,2017,2017,2017,2017,2017,2017,2017,2017,2017,2017,2017]],[\"pred_mag_s\",[23.3241918338279,23.61316719203676,23.72401923350661,23.423673253715283,23.780001898391696,23.95289508633659,23.564534559670616,23.564534559670616,23.949475909306422,24.11771905966177,23.656487411060684,23.54657529516302,23.38432110013766,23.200406249486917,23.72732756337156,23.825433511239844,23.554181655420713,24.105051547570813,23.467545467565625,23.412653032942252,23.81873914416515,23.36468192033924,23.656487411060684,23.376481846775683,23.656487411060684,24.129138096783354,23.49767526074005,24.12571891975319,23.837283844215214,23.527771479190807,23.444744275076374,23.49049834255011,23.36468192033924,23.485821947185396,23.58507684010478,23.562203510535287,23.76932141309854,23.538940501396084,23.393021115080593,23.627731666861663,23.46268943123959,23.57213074010781,23.812867665868048,23.798603229969814,23.54657529516302,23.435483052147084,23.921868340137944,23.585043619694538,23.739074781764565,23.363320735277966,23.377852159985203,23.712605533835205,23.387497455332973,23.246990992727433,23.625664781077727,23.429244621343397,23.433976759027352,23.947857498909165,23.797848600340185,23.200406249486917,23.469275754200545,23.444798328488726,23.387497455332973,23.65447936478781,23.468845362639264,23.70030978145533,23.361321116895372,23.39144427334102,23.594024956506185,23.474916924801256,23.948516965818452,23.452569816717514,23.71798479888455,23.368288420643427,23.372011360486685,23.95046345945905,24.04393021153695,23.903267296729705,23.36468192033924,23.414313710648145,23.740490568230953,24.029265741033512,23.81990331720507,23.831024851384896,23.712605533835205,23.797848600340185,23.809868838435424,23.443336577507914,23.48797755363282,23.809868838435424,23.809868838435424,23.594241640265246,23.48797755363282,23.505206551663882,23.40344555470848,23.504264170197622,23.39357216953316,24.12571891975319,23.83850054374975,23.377852159985203,23.90456363088233,23.200426735675677,23.602836134353492,23.88946754129574,23.88946754129574,23.84958746587973,23.200406249486917,23.948516965818452,23.268719178831663,23.88946754129574,23.84958746587973,23.798603229969814,23.452569816717514,23.65065142682554,23.488048118649605,23.59166428358423,23.59166428358423,23.488048118649605,23.35640519639169,23.79941094013126,23.444744275076374,24.075896896096666,23.939858420571607,23.939858420571607,24.515525644923944,23.558977471893645,23.939858420571607,23.658138734574617,24.40072917183506,24.069372804083947,23.360445106356078,24.069372804083947,23.193153546610347,23.850332111134644,23.517003963141782,23.480331590027387,23.528159526335028,23.662955813366985,23.689934301785748,23.418673009440177,23.557162580398476,23.384088304068946,23.548534713609467,23.49049834255011,23.522166038923665,23.2530804201053,23.89844220480325,23.857020139906957,23.454963194599276,23.298449654811655,23.36819540432332,23.676238580586585,23.60055318588143,23.445575119917677,23.599722340778175,23.42978429018441,23.200406249486917,23.33479587332734,23.52669364074711,23.84958746587973,23.875683147773916,23.96825486708878,23.33479587332734,23.52720630133502,23.861597719600255,23.31762484738791,23.23938027598416,23.197374740666532,23.57213074010781,23.658832902384,23.408366686240935,23.52720630133502,23.732496012607797,23.33222803460958,23.525586451172067,23.35640519639169,23.314538415108967,23.345187718806113,23.384088304068946,23.70030978145533,23.68482900835064,23.490412636967463,23.407225488555383,23.90456363088233,23.651072853742722,23.651072853742722,23.90099072643615,23.929508744102666,23.594241640265246,23.38432110013766,23.82780769127581,23.30497374682437,23.56215540502289,23.200426735675677,23.607193902879935,23.36633908057466,23.99059861953105,23.490412636967463,23.37388969921129,23.657718945746144,23.293403532278184,23.708324815828938,23.63503285323926,23.549040314637935,23.197374740666532,23.313961287488304,23.72031964167946,23.517003963141782,23.66546611845589,23.389549473553508,23.585972222046436,23.8225865400556,23.840381063332085,23.35673668037677,23.63503285323926,23.39476581345985,23.450106373587484,23.36468192033924,23.49049834255011,23.375235828780834,23.94240155843738,23.659243392996146,23.659243392996146,23.62204241287999,23.86441753930831,23.907522912051896,23.907522912051896,23.29444179331264,23.53677577244246,23.549040314637935,23.475540253257282,23.801453445724775,23.54103122741878,23.200406249486917,23.376481846775683,23.645125700072562,23.471634080618667,23.815334774765606,23.377852159985203,23.607193902879935,23.737133664757053,23.448310383550556,23.429244621343397,23.35138627639622,23.86332629679475,23.618699401718104,24.015496289010915,23.653786922445484,23.84692405230224,23.52720630133502,23.52720630133502,23.850332111134644,23.850332111134644,23.39209213548657,23.35138627639622,23.36677562306639,23.850332111134644,23.66458121388804,23.448602717211028,23.53748041607855,23.95636476200209,23.319341024906247,23.88946754129574,23.33479587332734,23.735318698212488,23.53748041607855,23.674461204466983,23.857303626600935,23.642430340649998,23.646869813041597,23.82978863603308,23.418673009440177,23.929508744102666,23.53748041607855,23.418673009440177,23.594241640265246,23.52720630133502,23.58507684010478,23.284031078126628,23.387497455332973,23.508297514852448,23.512392551371626,23.35673668037677,23.467545467565625,23.383130351008063,23.706206533315218,23.387497455332973,23.3241918338279,23.314538415108967,23.445575119917677,23.467310495262737,23.471063722668738,23.442078625198313,23.33322101365053,23.546994211858568,23.53748041607855,23.584820220544792,23.252357142328947,23.23659420033539,23.36468192033924,23.588179605926882,23.8225865400556,23.33322101365053,23.842920276256624,23.387851919147042,23.362785690395686,23.362785690395686,23.362785690395686,23.368288420643427,23.941842411062847,23.594022327089743,23.318352497076756,23.670691134969275,23.702777370211628,23.670691134969275,23.840381063332085,23.897921572216493,24.0028881639899,23.594022327089743,23.594022327089743,23.620438448863773,23.418673009440177,23.318352497076756,23.594022327089743,23.318352497076756,23.40344555470848,23.47092893084335,23.594022327089743,23.41252270446632,23.420455518019697,23.353479956622937,23.816914613495875,23.20803745241895,23.35640519639169,23.819759242919282,23.857303626600935,23.883985611037268,23.38081865359169,23.240358638308994,23.4046821772449,23.360445106356078,23.54351138280753,23.594022327089743,23.376586861638152,23.509688307450965,23.586532770132816,23.58657040276169,23.99504173255446,23.99504173255446,23.620438448863773,23.594022327089743,23.594022327089743,23.46756928738944,23.443336577507914,23.975392508162987,23.77939296801111,23.90830128726262,23.490412636967463,23.35138627639622,23.284191469349192,23.85321166835169,23.707748359871868,23.39189444631484,23.420455518019697,23.393714799636633,23.533738341911636,23.38432110013766,23.39686611118631,23.89329802241672,23.318404978254,23.582974019397703,23.84575453144135,23.79000682695284,23.596202843582724,23.59564543161931,23.340031795924205,23.52146758022924,23.24659794908741,23.658138734574617,23.813292299025754,23.831024851384896,23.501652106669283,24.022741649020794,24.0028881639899,23.354843569384844,23.435761786835283,23.197374740666532,23.28985207962454,23.508297514852448,23.562910309209002,23.426064876564844,23.25280170555652,23.284191469349192,23.807479332869985,23.197374740666532,23.23938027598416,23.469275754200545]]]}}},\"view\":{\"type\":\"object\",\"name\":\"CDSView\",\"id\":\"p2696\",\"attributes\":{\"filter\":{\"type\":\"object\",\"name\":\"AllIndices\",\"id\":\"p2697\"}}},\"glyph\":{\"type\":\"object\",\"name\":\"Circle\",\"id\":\"p2692\",\"attributes\":{\"x\":{\"type\":\"field\",\"field\":\"pred_long\"},\"y\":{\"type\":\"field\",\"field\":\"pred_lat\"},\"size\":{\"type\":\"field\",\"field\":\"pred_mag_s\"},\"line_color\":{\"type\":\"value\",\"value\":\"#1f77b4\"},\"fill_color\":{\"type\":\"value\",\"value\":\"#ccff33\"},\"fill_alpha\":{\"type\":\"value\",\"value\":7.0}}},\"nonselection_glyph\":{\"type\":\"object\",\"name\":\"Circle\",\"id\":\"p2693\",\"attributes\":{\"x\":{\"type\":\"field\",\"field\":\"pred_long\"},\"y\":{\"type\":\"field\",\"field\":\"pred_lat\"},\"size\":{\"type\":\"field\",\"field\":\"pred_mag_s\"},\"line_color\":{\"type\":\"value\",\"value\":\"#1f77b4\"},\"line_alpha\":{\"type\":\"value\",\"value\":0.1},\"fill_color\":{\"type\":\"value\",\"value\":\"#ccff33\"},\"fill_alpha\":{\"type\":\"value\",\"value\":0.1},\"hatch_alpha\":{\"type\":\"value\",\"value\":0.1}}},\"muted_glyph\":{\"type\":\"object\",\"name\":\"Circle\",\"id\":\"p2694\",\"attributes\":{\"x\":{\"type\":\"field\",\"field\":\"pred_long\"},\"y\":{\"type\":\"field\",\"field\":\"pred_lat\"},\"size\":{\"type\":\"field\",\"field\":\"pred_mag_s\"},\"line_color\":{\"type\":\"value\",\"value\":\"#1f77b4\"},\"line_alpha\":{\"type\":\"value\",\"value\":0.2},\"fill_color\":{\"type\":\"value\",\"value\":\"#ccff33\"},\"fill_alpha\":{\"type\":\"value\",\"value\":0.2},\"hatch_alpha\":{\"type\":\"value\",\"value\":0.2}}}}},{\"type\":\"object\",\"name\":\"TileRenderer\",\"id\":\"p2700\",\"attributes\":{\"tile_source\":{\"type\":\"object\",\"name\":\"WMTSTileSource\",\"id\":\"p2699\",\"attributes\":{\"url\":\"https://a.basemaps.cartocdn.com/light_all/{z}/{x}/{y}.png\",\"max_zoom\":20,\"attribution\":\"&copy; <a href=\\\"https://www.openstreetmap.org/copyright\\\">OpenStreetMap</a> contributors &copy; <a href=\\\"https://carto.com/attributions\\\">CARTO</a>\"}}}}],\"toolbar\":{\"type\":\"object\",\"name\":\"Toolbar\",\"id\":\"p2655\",\"attributes\":{\"tools\":[{\"id\":\"p2670\"},{\"id\":\"p2671\"},{\"id\":\"p2672\"},{\"type\":\"object\",\"name\":\"SaveTool\",\"id\":\"p2674\"},{\"id\":\"p2675\"},{\"id\":\"p2676\"},{\"id\":\"p2677\"}]}},\"toolbar_location\":null,\"left\":[{\"type\":\"object\",\"name\":\"LinearAxis\",\"id\":\"p2665\",\"attributes\":{\"visible\":false,\"ticker\":{\"type\":\"object\",\"name\":\"BasicTicker\",\"id\":\"p2666\",\"attributes\":{\"mantissas\":[1,2,5]}},\"formatter\":{\"type\":\"object\",\"name\":\"BasicTickFormatter\",\"id\":\"p2667\"},\"axis_label_standoff\":10,\"axis_label_text_color\":\"#E0E0E0\",\"axis_label_text_font\":\"Helvetica\",\"axis_label_text_font_size\":\"1.25em\",\"axis_label_text_font_style\":\"normal\",\"major_label_policy\":{\"type\":\"object\",\"name\":\"AllLabels\",\"id\":\"p2668\"},\"major_label_text_color\":\"#E0E0E0\",\"major_label_text_font\":\"Helvetica\",\"major_label_text_font_size\":\"1.025em\",\"axis_line_color\":\"#E0E0E0\",\"axis_line_alpha\":0,\"major_tick_line_color\":\"#E0E0E0\",\"major_tick_line_alpha\":0,\"minor_tick_line_color\":\"#E0E0E0\",\"minor_tick_line_alpha\":0}}],\"below\":[{\"type\":\"object\",\"name\":\"LinearAxis\",\"id\":\"p2660\",\"attributes\":{\"visible\":false,\"ticker\":{\"type\":\"object\",\"name\":\"BasicTicker\",\"id\":\"p2661\",\"attributes\":{\"mantissas\":[1,2,5]}},\"formatter\":{\"type\":\"object\",\"name\":\"BasicTickFormatter\",\"id\":\"p2662\"},\"axis_label_standoff\":10,\"axis_label_text_color\":\"#E0E0E0\",\"axis_label_text_font\":\"Helvetica\",\"axis_label_text_font_size\":\"1.25em\",\"axis_label_text_font_style\":\"normal\",\"major_label_policy\":{\"type\":\"object\",\"name\":\"AllLabels\",\"id\":\"p2663\"},\"major_label_text_color\":\"#E0E0E0\",\"major_label_text_font\":\"Helvetica\",\"major_label_text_font_size\":\"1.025em\",\"axis_line_color\":\"#E0E0E0\",\"axis_line_alpha\":0,\"major_tick_line_color\":\"#E0E0E0\",\"major_tick_line_alpha\":0,\"minor_tick_line_color\":\"#E0E0E0\",\"minor_tick_line_alpha\":0}}],\"center\":[{\"type\":\"object\",\"name\":\"Grid\",\"id\":\"p2664\",\"attributes\":{\"axis\":{\"id\":\"p2660\"},\"grid_line_color\":null,\"grid_line_alpha\":0.25}},{\"type\":\"object\",\"name\":\"Grid\",\"id\":\"p2669\",\"attributes\":{\"dimension\":1,\"axis\":{\"id\":\"p2665\"},\"grid_line_color\":null,\"grid_line_alpha\":0.25}},{\"type\":\"object\",\"name\":\"Legend\",\"id\":\"p2687\",\"attributes\":{\"location\":\"bottom_right\",\"border_line_alpha\":0,\"background_fill_color\":\"black\",\"background_fill_alpha\":0.8,\"click_policy\":\"hide\",\"label_text_color\":\"white\",\"label_text_font\":\"Helvetica\",\"label_text_font_size\":\"1.025em\",\"label_standoff\":8,\"glyph_width\":15,\"spacing\":8,\"items\":[{\"type\":\"object\",\"name\":\"LegendItem\",\"id\":\"p2688\",\"attributes\":{\"label\":{\"type\":\"value\",\"value\":\"Quakes 2016\"},\"renderers\":[{\"id\":\"p2684\"}]}},{\"type\":\"object\",\"name\":\"LegendItem\",\"id\":\"p2698\",\"attributes\":{\"label\":{\"type\":\"value\",\"value\":\"Predicted Quakes 2017\"},\"renderers\":[{\"id\":\"p2695\"}]}}]}}],\"background_fill_color\":\"#20262B\",\"border_fill_color\":\"#15191C\"}},0,0],[{\"type\":\"object\",\"name\":\"Figure\",\"id\":\"p2706\",\"attributes\":{\"width\":1150,\"height\":400,\"x_range\":{\"type\":\"object\",\"name\":\"DataRange1d\",\"id\":\"p2708\"},\"y_range\":{\"type\":\"object\",\"name\":\"Range1d\",\"id\":\"p2716\",\"attributes\":{\"end\":460}},\"x_scale\":{\"type\":\"object\",\"name\":\"LinearScale\",\"id\":\"p2717\"},\"y_scale\":{\"type\":\"object\",\"name\":\"LinearScale\",\"id\":\"p2718\"},\"title\":{\"type\":\"object\",\"name\":\"Title\",\"id\":\"p2709\",\"attributes\":{\"text\":\"Frequency of Earthquakes by Year\",\"text_color\":\"#E0E0E0\",\"text_font\":\"serif\",\"text_font_size\":\"20pt\",\"align\":\"center\"}},\"outline_line_color\":\"#E0E0E0\",\"outline_line_alpha\":0.25,\"renderers\":[{\"type\":\"object\",\"name\":\"GlyphRenderer\",\"id\":\"p2743\",\"attributes\":{\"data_source\":{\"type\":\"object\",\"name\":\"ColumnDataSource\",\"id\":\"p2703\",\"attributes\":{\"selected\":{\"type\":\"object\",\"name\":\"Selection\",\"id\":\"p2704\",\"attributes\":{\"indices\":[],\"line_indices\":[]}},\"selection_policy\":{\"type\":\"object\",\"name\":\"UnionRenderers\",\"id\":\"p2705\"},\"data\":{\"type\":\"map\",\"entries\":[[\"yrs\",[1990,1975,1977,2003,2007,1974,2015,2006,1978,2013,1988,1997,1994,1968,2014,1973,1979,1971,1966,2004,1991,1967,1969,1982,1989,1996,1998,1965,1985,1970,2012,1987,2009,2016,1995,1980,2001,1972,1992,1983,2005,1984,2000,1981,2010,1986,2011,1976,2008,1999,2002,1993]],[\"numQuakes\",[196,150,148,187,211,147,175,176,158,202,196,183,215,106,198,144,118,148,98,227,168,103,114,135,177,242,154,156,210,142,182,213,228,164,205,120,157,178,190,177,230,161,213,117,211,175,360,173,214,170,182,197]]]}}},\"view\":{\"type\":\"object\",\"name\":\"CDSView\",\"id\":\"p2744\",\"attributes\":{\"filter\":{\"type\":\"object\",\"name\":\"AllIndices\",\"id\":\"p2745\"}}},\"glyph\":{\"type\":\"object\",\"name\":\"VBar\",\"id\":\"p2740\",\"attributes\":{\"x\":{\"type\":\"field\",\"field\":\"yrs\"},\"width\":{\"type\":\"value\",\"value\":0.75},\"top\":{\"type\":\"field\",\"field\":\"numQuakes\"},\"line_color\":{\"type\":\"value\",\"value\":\"#cc0000\"},\"fill_color\":{\"type\":\"value\",\"value\":\"#cc0000\"},\"hatch_color\":{\"type\":\"value\",\"value\":\"#cc0000\"}}},\"nonselection_glyph\":{\"type\":\"object\",\"name\":\"VBar\",\"id\":\"p2741\",\"attributes\":{\"x\":{\"type\":\"field\",\"field\":\"yrs\"},\"width\":{\"type\":\"value\",\"value\":0.75},\"top\":{\"type\":\"field\",\"field\":\"numQuakes\"},\"line_color\":{\"type\":\"value\",\"value\":\"#cc0000\"},\"line_alpha\":{\"type\":\"value\",\"value\":0.1},\"fill_color\":{\"type\":\"value\",\"value\":\"#cc0000\"},\"fill_alpha\":{\"type\":\"value\",\"value\":0.1},\"hatch_color\":{\"type\":\"value\",\"value\":\"#cc0000\"},\"hatch_alpha\":{\"type\":\"value\",\"value\":0.1}}},\"muted_glyph\":{\"type\":\"object\",\"name\":\"VBar\",\"id\":\"p2742\",\"attributes\":{\"x\":{\"type\":\"field\",\"field\":\"yrs\"},\"width\":{\"type\":\"value\",\"value\":0.75},\"top\":{\"type\":\"field\",\"field\":\"numQuakes\"},\"line_color\":{\"type\":\"value\",\"value\":\"#cc0000\"},\"line_alpha\":{\"type\":\"value\",\"value\":0.2},\"fill_color\":{\"type\":\"value\",\"value\":\"#cc0000\"},\"fill_alpha\":{\"type\":\"value\",\"value\":0.2},\"hatch_color\":{\"type\":\"value\",\"value\":\"#cc0000\"},\"hatch_alpha\":{\"type\":\"value\",\"value\":0.2}}}}}],\"toolbar\":{\"type\":\"object\",\"name\":\"Toolbar\",\"id\":\"p2715\",\"attributes\":{\"tools\":[{\"id\":\"p2729\"},{\"id\":\"p2730\"},{\"id\":\"p2731\"},{\"type\":\"object\",\"name\":\"SaveTool\",\"id\":\"p2733\"},{\"id\":\"p2734\"},{\"id\":\"p2735\"},{\"id\":\"p2736\"}]}},\"toolbar_location\":null,\"left\":[{\"type\":\"object\",\"name\":\"LinearAxis\",\"id\":\"p2724\",\"attributes\":{\"ticker\":{\"type\":\"object\",\"name\":\"BasicTicker\",\"id\":\"p2725\",\"attributes\":{\"mantissas\":[1,2,5]}},\"formatter\":{\"type\":\"object\",\"name\":\"BasicTickFormatter\",\"id\":\"p2726\"},\"axis_label\":\"Number of Occurrences\",\"axis_label_standoff\":10,\"axis_label_text_color\":\"#E0E0E0\",\"axis_label_text_font\":\"Helvetica\",\"axis_label_text_font_size\":\"14pt\",\"axis_label_text_font_style\":\"bold\",\"major_label_policy\":{\"type\":\"object\",\"name\":\"AllLabels\",\"id\":\"p2727\"},\"major_label_text_color\":\"#E0E0E0\",\"major_label_text_font\":\"Helvetica\",\"major_label_text_font_size\":\"12pt\",\"axis_line_color\":\"#E0E0E0\",\"axis_line_alpha\":0,\"major_tick_line_color\":\"#E0E0E0\",\"major_tick_line_alpha\":0,\"minor_tick_line_color\":\"#E0E0E0\",\"minor_tick_line_alpha\":0}}],\"below\":[{\"type\":\"object\",\"name\":\"LinearAxis\",\"id\":\"p2719\",\"attributes\":{\"ticker\":{\"type\":\"object\",\"name\":\"BasicTicker\",\"id\":\"p2720\",\"attributes\":{\"num_minor_ticks\":2,\"mantissas\":[1,2,5]}},\"formatter\":{\"type\":\"object\",\"name\":\"BasicTickFormatter\",\"id\":\"p2721\"},\"axis_label\":\"Years\",\"axis_label_standoff\":10,\"axis_label_text_color\":\"#E0E0E0\",\"axis_label_text_font\":\"Helvetica\",\"axis_label_text_font_size\":\"14pt\",\"axis_label_text_font_style\":\"bold\",\"major_label_policy\":{\"type\":\"object\",\"name\":\"AllLabels\",\"id\":\"p2722\"},\"major_label_text_color\":\"#E0E0E0\",\"major_label_text_font\":\"Helvetica\",\"major_label_text_font_size\":\"12pt\",\"axis_line_color\":\"#E0E0E0\",\"axis_line_alpha\":0,\"major_tick_line_color\":\"#E0E0E0\",\"major_tick_line_alpha\":0,\"minor_tick_line_color\":\"#E0E0E0\",\"minor_tick_line_alpha\":0}}],\"center\":[{\"type\":\"object\",\"name\":\"Grid\",\"id\":\"p2723\",\"attributes\":{\"axis\":{\"id\":\"p2719\"},\"grid_line_color\":\"#E0E0E0\",\"grid_line_alpha\":0.25}},{\"type\":\"object\",\"name\":\"Grid\",\"id\":\"p2728\",\"attributes\":{\"dimension\":1,\"axis\":{\"id\":\"p2724\"},\"grid_line_color\":\"#E0E0E0\",\"grid_line_alpha\":0.25}},{\"type\":\"object\",\"name\":\"Legend\",\"id\":\"p2746\",\"attributes\":{\"location\":\"top_left\",\"border_line_alpha\":0,\"background_fill_color\":\"#20262B\",\"background_fill_alpha\":0.25,\"label_text_color\":\"#E0E0E0\",\"label_text_font\":\"Helvetica\",\"label_text_font_size\":\"1.025em\",\"label_standoff\":8,\"glyph_width\":15,\"spacing\":8,\"items\":[{\"type\":\"object\",\"name\":\"LegendItem\",\"id\":\"p2747\",\"attributes\":{\"label\":{\"type\":\"value\",\"value\":\"Year\"},\"renderers\":[{\"id\":\"p2743\"}]}}]}}],\"background_fill_color\":\"#20262B\",\"border_fill_color\":\"#15191C\"}},1,0],[{\"type\":\"object\",\"name\":\"Figure\",\"id\":\"p2752\",\"attributes\":{\"width\":1150,\"height\":400,\"x_range\":{\"type\":\"object\",\"name\":\"DataRange1d\",\"id\":\"p2754\"},\"y_range\":{\"type\":\"object\",\"name\":\"Range1d\",\"id\":\"p2762\",\"attributes\":{\"start\":5,\"end\":10.1}},\"x_scale\":{\"type\":\"object\",\"name\":\"LinearScale\",\"id\":\"p2763\"},\"y_scale\":{\"type\":\"object\",\"name\":\"LinearScale\",\"id\":\"p2764\"},\"title\":{\"type\":\"object\",\"name\":\"Title\",\"id\":\"p2755\",\"attributes\":{\"text\":\"Maximum and Average Magnitude by Year\",\"text_color\":\"#E0E0E0\",\"text_font\":\"serif\",\"text_font_size\":\"20pt\",\"align\":\"center\"}},\"outline_line_color\":\"#E0E0E0\",\"outline_line_alpha\":0.25,\"renderers\":[{\"type\":\"object\",\"name\":\"GlyphRenderer\",\"id\":\"p2789\",\"attributes\":{\"data_source\":{\"type\":\"object\",\"name\":\"ColumnDataSource\",\"id\":\"p2749\",\"attributes\":{\"selected\":{\"type\":\"object\",\"name\":\"Selection\",\"id\":\"p2750\",\"attributes\":{\"indices\":[],\"line_indices\":[]}},\"selection_policy\":{\"type\":\"object\",\"name\":\"UnionRenderers\",\"id\":\"p2751\"},\"data\":{\"type\":\"map\",\"entries\":[[\"yrs\",[1990,1975,1977,2003,2007,1974,2015,2006,1978,2013,1988,1997,1994,1968,2014,1973,1979,1971,1966,2004,1991,1967,1969,1982,1989,1996,1998,1965,1985,1970,2012,1987,2009,2016,1995,1980,2001,1972,1992,1983,2005,1984,2000,1981,2010,1986,2011,1976,2008,1999,2002,1993]],[\"avg_mag\",[5.9,5.8,5.8,5.9,5.9,5.9,5.8,5.8,5.8,5.9,5.9,5.8,5.9,6.1,5.9,5.8,5.8,6.0,6.1,5.9,5.9,6.0,6.0,5.8,5.8,5.9,5.9,6.0,5.9,6.0,5.9,5.9,5.9,5.9,5.9,5.8,5.9,5.9,5.9,5.9,5.9,5.8,5.9,5.8,5.9,5.8,5.9,5.8,5.9,5.9,5.9,5.9]],[\"max_mag\",[7.6,7.8,7.6,7.6,8.4,7.6,7.5,8.0,7.7,8.0,7.8,7.8,8.3,7.6,8.2,7.4,7.9,7.8,7.7,7.5,7.1,7.2,7.5,7.1,7.4,7.9,7.5,8.7,8.0,7.4,8.6,7.6,7.8,7.8,8.0,7.5,7.6,8.0,7.8,7.4,7.6,7.6,7.9,7.7,7.8,8.0,9.1,7.5,7.9,7.4,7.9,7.8]]]}}},\"view\":{\"type\":\"object\",\"name\":\"CDSView\",\"id\":\"p2790\",\"attributes\":{\"filter\":{\"type\":\"object\",\"name\":\"AllIndices\",\"id\":\"p2791\"}}},\"glyph\":{\"type\":\"object\",\"name\":\"Line\",\"id\":\"p2786\",\"attributes\":{\"x\":{\"type\":\"field\",\"field\":\"yrs\"},\"y\":{\"type\":\"field\",\"field\":\"max_mag\"},\"line_color\":\"#cc0000\",\"line_width\":2}},\"nonselection_glyph\":{\"type\":\"object\",\"name\":\"Line\",\"id\":\"p2787\",\"attributes\":{\"x\":{\"type\":\"field\",\"field\":\"yrs\"},\"y\":{\"type\":\"field\",\"field\":\"max_mag\"},\"line_color\":\"#cc0000\",\"line_alpha\":0.1,\"line_width\":2}},\"muted_glyph\":{\"type\":\"object\",\"name\":\"Line\",\"id\":\"p2788\",\"attributes\":{\"x\":{\"type\":\"field\",\"field\":\"yrs\"},\"y\":{\"type\":\"field\",\"field\":\"max_mag\"},\"line_color\":\"#cc0000\",\"line_alpha\":0.2,\"line_width\":2}}}},{\"type\":\"object\",\"name\":\"GlyphRenderer\",\"id\":\"p2800\",\"attributes\":{\"data_source\":{\"id\":\"p2749\"},\"view\":{\"type\":\"object\",\"name\":\"CDSView\",\"id\":\"p2801\",\"attributes\":{\"filter\":{\"type\":\"object\",\"name\":\"AllIndices\",\"id\":\"p2802\"}}},\"glyph\":{\"type\":\"object\",\"name\":\"Circle\",\"id\":\"p2797\",\"attributes\":{\"x\":{\"type\":\"field\",\"field\":\"yrs\"},\"y\":{\"type\":\"field\",\"field\":\"max_mag\"},\"size\":{\"type\":\"value\",\"value\":8},\"line_color\":{\"type\":\"value\",\"value\":\"#cc0000\"},\"fill_color\":{\"type\":\"value\",\"value\":\"#cc0000\"},\"hatch_color\":{\"type\":\"value\",\"value\":\"#cc0000\"}}},\"nonselection_glyph\":{\"type\":\"object\",\"name\":\"Circle\",\"id\":\"p2798\",\"attributes\":{\"x\":{\"type\":\"field\",\"field\":\"yrs\"},\"y\":{\"type\":\"field\",\"field\":\"max_mag\"},\"size\":{\"type\":\"value\",\"value\":8},\"line_color\":{\"type\":\"value\",\"value\":\"#cc0000\"},\"line_alpha\":{\"type\":\"value\",\"value\":0.1},\"fill_color\":{\"type\":\"value\",\"value\":\"#cc0000\"},\"fill_alpha\":{\"type\":\"value\",\"value\":0.1},\"hatch_color\":{\"type\":\"value\",\"value\":\"#cc0000\"},\"hatch_alpha\":{\"type\":\"value\",\"value\":0.1}}},\"muted_glyph\":{\"type\":\"object\",\"name\":\"Circle\",\"id\":\"p2799\",\"attributes\":{\"x\":{\"type\":\"field\",\"field\":\"yrs\"},\"y\":{\"type\":\"field\",\"field\":\"max_mag\"},\"size\":{\"type\":\"value\",\"value\":8},\"line_color\":{\"type\":\"value\",\"value\":\"#cc0000\"},\"line_alpha\":{\"type\":\"value\",\"value\":0.2},\"fill_color\":{\"type\":\"value\",\"value\":\"#cc0000\"},\"fill_alpha\":{\"type\":\"value\",\"value\":0.2},\"hatch_color\":{\"type\":\"value\",\"value\":\"#cc0000\"},\"hatch_alpha\":{\"type\":\"value\",\"value\":0.2}}}}},{\"type\":\"object\",\"name\":\"GlyphRenderer\",\"id\":\"p2809\",\"attributes\":{\"data_source\":{\"id\":\"p2749\"},\"view\":{\"type\":\"object\",\"name\":\"CDSView\",\"id\":\"p2810\",\"attributes\":{\"filter\":{\"type\":\"object\",\"name\":\"AllIndices\",\"id\":\"p2811\"}}},\"glyph\":{\"type\":\"object\",\"name\":\"Line\",\"id\":\"p2806\",\"attributes\":{\"x\":{\"type\":\"field\",\"field\":\"yrs\"},\"y\":{\"type\":\"field\",\"field\":\"avg_mag\"},\"line_color\":\"yellow\",\"line_width\":2}},\"nonselection_glyph\":{\"type\":\"object\",\"name\":\"Line\",\"id\":\"p2807\",\"attributes\":{\"x\":{\"type\":\"field\",\"field\":\"yrs\"},\"y\":{\"type\":\"field\",\"field\":\"avg_mag\"},\"line_color\":\"yellow\",\"line_alpha\":0.1,\"line_width\":2}},\"muted_glyph\":{\"type\":\"object\",\"name\":\"Line\",\"id\":\"p2808\",\"attributes\":{\"x\":{\"type\":\"field\",\"field\":\"yrs\"},\"y\":{\"type\":\"field\",\"field\":\"avg_mag\"},\"line_color\":\"yellow\",\"line_alpha\":0.2,\"line_width\":2}}}},{\"type\":\"object\",\"name\":\"GlyphRenderer\",\"id\":\"p2819\",\"attributes\":{\"data_source\":{\"id\":\"p2749\"},\"view\":{\"type\":\"object\",\"name\":\"CDSView\",\"id\":\"p2820\",\"attributes\":{\"filter\":{\"type\":\"object\",\"name\":\"AllIndices\",\"id\":\"p2821\"}}},\"glyph\":{\"type\":\"object\",\"name\":\"Circle\",\"id\":\"p2816\",\"attributes\":{\"x\":{\"type\":\"field\",\"field\":\"yrs\"},\"y\":{\"type\":\"field\",\"field\":\"avg_mag\"},\"size\":{\"type\":\"value\",\"value\":8},\"line_color\":{\"type\":\"value\",\"value\":\"yellow\"},\"fill_color\":{\"type\":\"value\",\"value\":\"yellow\"},\"hatch_color\":{\"type\":\"value\",\"value\":\"yellow\"}}},\"nonselection_glyph\":{\"type\":\"object\",\"name\":\"Circle\",\"id\":\"p2817\",\"attributes\":{\"x\":{\"type\":\"field\",\"field\":\"yrs\"},\"y\":{\"type\":\"field\",\"field\":\"avg_mag\"},\"size\":{\"type\":\"value\",\"value\":8},\"line_color\":{\"type\":\"value\",\"value\":\"yellow\"},\"line_alpha\":{\"type\":\"value\",\"value\":0.1},\"fill_color\":{\"type\":\"value\",\"value\":\"yellow\"},\"fill_alpha\":{\"type\":\"value\",\"value\":0.1},\"hatch_color\":{\"type\":\"value\",\"value\":\"yellow\"},\"hatch_alpha\":{\"type\":\"value\",\"value\":0.1}}},\"muted_glyph\":{\"type\":\"object\",\"name\":\"Circle\",\"id\":\"p2818\",\"attributes\":{\"x\":{\"type\":\"field\",\"field\":\"yrs\"},\"y\":{\"type\":\"field\",\"field\":\"avg_mag\"},\"size\":{\"type\":\"value\",\"value\":8},\"line_color\":{\"type\":\"value\",\"value\":\"yellow\"},\"line_alpha\":{\"type\":\"value\",\"value\":0.2},\"fill_color\":{\"type\":\"value\",\"value\":\"yellow\"},\"fill_alpha\":{\"type\":\"value\",\"value\":0.2},\"hatch_color\":{\"type\":\"value\",\"value\":\"yellow\"},\"hatch_alpha\":{\"type\":\"value\",\"value\":0.2}}}}}],\"toolbar\":{\"type\":\"object\",\"name\":\"Toolbar\",\"id\":\"p2761\",\"attributes\":{\"tools\":[{\"id\":\"p2775\"},{\"id\":\"p2776\"},{\"id\":\"p2777\"},{\"type\":\"object\",\"name\":\"SaveTool\",\"id\":\"p2779\"},{\"id\":\"p2780\"},{\"id\":\"p2781\"},{\"id\":\"p2782\"}]}},\"toolbar_location\":null,\"left\":[{\"type\":\"object\",\"name\":\"LinearAxis\",\"id\":\"p2770\",\"attributes\":{\"ticker\":{\"type\":\"object\",\"name\":\"BasicTicker\",\"id\":\"p2771\",\"attributes\":{\"mantissas\":[1,2,5]}},\"formatter\":{\"type\":\"object\",\"name\":\"BasicTickFormatter\",\"id\":\"p2772\"},\"axis_label\":\"Magnitude\",\"axis_label_standoff\":10,\"axis_label_text_color\":\"#E0E0E0\",\"axis_label_text_font\":\"Helvetica\",\"axis_label_text_font_size\":\"14pt\",\"axis_label_text_font_style\":\"bold\",\"major_label_policy\":{\"type\":\"object\",\"name\":\"AllLabels\",\"id\":\"p2773\"},\"major_label_text_color\":\"#E0E0E0\",\"major_label_text_font\":\"Helvetica\",\"major_label_text_font_size\":\"12pt\",\"axis_line_color\":\"#E0E0E0\",\"axis_line_alpha\":0,\"major_tick_line_color\":\"#E0E0E0\",\"major_tick_line_alpha\":0,\"minor_tick_line_color\":\"#E0E0E0\",\"minor_tick_line_alpha\":0}}],\"below\":[{\"type\":\"object\",\"name\":\"LinearAxis\",\"id\":\"p2765\",\"attributes\":{\"ticker\":{\"type\":\"object\",\"name\":\"BasicTicker\",\"id\":\"p2766\",\"attributes\":{\"num_minor_ticks\":2,\"mantissas\":[1,2,5]}},\"formatter\":{\"type\":\"object\",\"name\":\"BasicTickFormatter\",\"id\":\"p2767\"},\"axis_label\":\"Years\",\"axis_label_standoff\":10,\"axis_label_text_color\":\"#E0E0E0\",\"axis_label_text_font\":\"Helvetica\",\"axis_label_text_font_size\":\"14pt\",\"axis_label_text_font_style\":\"bold\",\"major_label_policy\":{\"type\":\"object\",\"name\":\"AllLabels\",\"id\":\"p2768\"},\"major_label_text_color\":\"#E0E0E0\",\"major_label_text_font\":\"Helvetica\",\"major_label_text_font_size\":\"12pt\",\"axis_line_color\":\"#E0E0E0\",\"axis_line_alpha\":0,\"major_tick_line_color\":\"#E0E0E0\",\"major_tick_line_alpha\":0,\"minor_tick_line_color\":\"#E0E0E0\",\"minor_tick_line_alpha\":0}}],\"center\":[{\"type\":\"object\",\"name\":\"Grid\",\"id\":\"p2769\",\"attributes\":{\"axis\":{\"id\":\"p2765\"},\"grid_line_color\":\"#E0E0E0\",\"grid_line_alpha\":0.25}},{\"type\":\"object\",\"name\":\"Grid\",\"id\":\"p2774\",\"attributes\":{\"dimension\":1,\"axis\":{\"id\":\"p2770\"},\"grid_line_color\":\"#E0E0E0\",\"grid_line_alpha\":0.25}},{\"type\":\"object\",\"name\":\"Legend\",\"id\":\"p2792\",\"attributes\":{\"location\":\"top_left\",\"border_line_alpha\":0,\"background_fill_color\":\"#20262B\",\"background_fill_alpha\":0.25,\"label_text_color\":\"#E0E0E0\",\"label_text_font\":\"Helvetica\",\"label_text_font_size\":\"1.025em\",\"label_standoff\":8,\"glyph_width\":15,\"spacing\":8,\"items\":[{\"type\":\"object\",\"name\":\"LegendItem\",\"id\":\"p2793\",\"attributes\":{\"label\":{\"type\":\"value\",\"value\":\"Max Magnitude\"},\"renderers\":[{\"id\":\"p2789\"}]}},{\"type\":\"object\",\"name\":\"LegendItem\",\"id\":\"p2812\",\"attributes\":{\"label\":{\"type\":\"value\",\"value\":\"Avg Magnitude\"},\"renderers\":[{\"id\":\"p2809\"}]}}]}}],\"background_fill_color\":\"#20262B\",\"border_fill_color\":\"#15191C\"}},1,1]]}}]}};\n",
       "  const render_items = [{\"docid\":\"006d07e4-7f53-4106-91d2-6c73cff21016\",\"roots\":{\"p2830\":\"ff6a67d7-7d09-4e9d-839d-6d840dfcbd2f\"},\"root_ids\":[\"p2830\"]}];\n",
       "  root.Bokeh.embed.embed_items_notebook(docs_json, render_items);\n",
       "  }\n",
       "  if (root.Bokeh !== undefined) {\n",
       "    embed_document(root);\n",
       "  } else {\n",
       "    let attempts = 0;\n",
       "    const timer = setInterval(function(root) {\n",
       "      if (root.Bokeh !== undefined) {\n",
       "        clearInterval(timer);\n",
       "        embed_document(root);\n",
       "      } else {\n",
       "        attempts++;\n",
       "        if (attempts > 100) {\n",
       "          clearInterval(timer);\n",
       "          console.log(\"Bokeh: ERROR: Unable to run BokehJS code because BokehJS library is missing\");\n",
       "        }\n",
       "      }\n",
       "    }, 10, root)\n",
       "  }\n",
       "})(window);"
      ],
      "application/vnd.bokehjs_exec.v0+json": ""
     },
     "metadata": {
      "application/vnd.bokehjs_exec.v0+json": {
       "id": "p2830"
      }
     },
     "output_type": "display_data"
    }
   ],
   "source": [
    "# Build the grid plot\n",
    "from bokeh.layouts import gridplot\n",
    "\n",
    "# Create individual plots\n",
    "map_plot = plotMap()\n",
    "bar_plot = plotBar()\n",
    "magnitude_plot = plotMagnitude()\n",
    "\n",
    "# Make the grid\n",
    "grid = gridplot([[map_plot], [bar_plot, magnitude_plot]])\n",
    "\n",
    "# Show the grid\n",
    "show(grid)\n"
   ]
  },
  {
   "cell_type": "code",
   "execution_count": null,
   "id": "14ca4807",
   "metadata": {},
   "outputs": [],
   "source": []
  }
 ],
 "metadata": {
  "kernelspec": {
   "display_name": "Python 3 (ipykernel)",
   "language": "python",
   "name": "python3"
  },
  "language_info": {
   "codemirror_mode": {
    "name": "ipython",
    "version": 3
   },
   "file_extension": ".py",
   "mimetype": "text/x-python",
   "name": "python",
   "nbconvert_exporter": "python",
   "pygments_lexer": "ipython3",
   "version": "3.11.5"
  }
 },
 "nbformat": 4,
 "nbformat_minor": 5
}
