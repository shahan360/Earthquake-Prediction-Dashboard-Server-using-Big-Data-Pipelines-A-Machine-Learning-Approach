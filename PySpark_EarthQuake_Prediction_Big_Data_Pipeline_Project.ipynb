{
 "cells": [
  {
   "cell_type": "code",
   "execution_count": 1,
   "id": "2973b363",
   "metadata": {},
   "outputs": [],
   "source": [
    "import findspark\n",
    "findspark.init()"
   ]
  },
  {
   "cell_type": "code",
   "execution_count": 2,
   "id": "71697807",
   "metadata": {},
   "outputs": [],
   "source": [
    "import pyspark\n",
    "from pyspark.sql import SparkSession\n",
    "from pyspark.sql.types import *\n",
    "from pyspark.sql.functions import *\n",
    "\n",
    "# configure spark session\n",
    "spark = SparkSession\\\n",
    "        .builder\\\n",
    "        .master('local[2]')\\\n",
    "        .appName('quake_etl')\\\n",
    "        .config('spark.jars.packages','org.mongodb.spark:mongo-spark-connector_2.12:2.4.1')\\\n",
    "        .getOrCreate()"
   ]
  },
  {
   "cell_type": "code",
   "execution_count": 3,
   "id": "11d34751",
   "metadata": {},
   "outputs": [],
   "source": [
    "# spark = SparkSession.builder.getOrCreate()\n",
    "\n",
    "# df = spark.sql(\"select 'spark' as hello \")\n",
    "# df.show()"
   ]
  },
  {
   "cell_type": "markdown",
   "id": "4a42e854",
   "metadata": {},
   "source": [
    "Data Extraction"
   ]
  },
  {
   "cell_type": "code",
   "execution_count": 4,
   "id": "9b36ef9a",
   "metadata": {},
   "outputs": [
    {
     "data": {
      "text/plain": [
       "[Row(Date='01/02/1965', Time='13:44:18', Latitude='19.246', Longitude='145.616', Type='Earthquake', Depth='131.6', Depth Error=None, Depth Seismic Stations=None, Magnitude='6', Magnitude Type='MW', Magnitude Error=None, Magnitude Seismic Stations=None, Azimuthal Gap=None, Horizontal Distance=None, Horizontal Error=None, Root Mean Square=None, ID='ISCGEM860706', Source='ISCGEM', Location Source='ISCGEM', Magnitude Source='ISCGEM', Status='Automatic')]"
      ]
     },
     "execution_count": 4,
     "metadata": {},
     "output_type": "execute_result"
    }
   ],
   "source": [
    "#load the dataset\n",
    "df_load = spark.read.csv(r\"C:\\Users\\Shashank\\Documents\\My_Jupyter_Notebooks\\database.csv\",header=True)\n",
    "#preview df_load\n",
    "df_load.take(1)"
   ]
  },
  {
   "cell_type": "code",
   "execution_count": 5,
   "id": "ae34ac84",
   "metadata": {},
   "outputs": [
    {
     "name": "stdout",
     "output_type": "stream",
     "text": [
      "+----------+--------+---------+----------+-----+---------+--------------+--------------------+\n",
      "|      Date|Latitude|Longitude|      Type|Depth|Magnitude|Magnitude Type|                  ID|\n",
      "+----------+--------+---------+----------+-----+---------+--------------+--------------------+\n",
      "|01/02/1965|  19.246|  145.616|Earthquake|131.6|        6|            MW|        ISCGEM860706|\n",
      "|01/04/1965|   1.863|  127.352|Earthquake|   80|      5.8|            MW|        ISCGEM860737|\n",
      "|01/05/1965| -20.579| -173.972|Earthquake|   20|      6.2|            MW|        ISCGEM860762|\n",
      "|01/08/1965| -59.076|  -23.557|Earthquake|   15|      5.8|            MW|        ISCGEM860856|\n",
      "|01/09/1965|  11.938|  126.427|Earthquake|   15|      5.8|            MW|        ISCGEM860890|\n",
      "|01/10/1965| -13.405|  166.629|Earthquake|   35|      6.7|            MW|        ISCGEM860922|\n",
      "|01/12/1965|  27.357|   87.867|Earthquake|   20|      5.9|            MW|        ISCGEM861007|\n",
      "|01/15/1965| -13.309|  166.212|Earthquake|   35|        6|            MW|        ISCGEM861111|\n",
      "|01/16/1965| -56.452|  -27.043|Earthquake|   95|        6|            MW|     ISCGEMSUP861125|\n",
      "|01/17/1965| -24.563|  178.487|Earthquake|  565|      5.8|            MW|        ISCGEM861148|\n",
      "|01/17/1965|  -6.807|  108.988|Earthquake|227.9|      5.9|            MW|        ISCGEM861155|\n",
      "|01/24/1965|  -2.608|  125.952|Earthquake|   20|      8.2|            MW|        ISCGEM861299|\n",
      "|01/29/1965|  54.636|  161.703|Earthquake|   55|      5.5|            MW|        ISCGEM861461|\n",
      "|02/01/1965| -18.697| -177.864|Earthquake|482.9|      5.6|            MW|        ISCGEM859136|\n",
      "|02/02/1965|  37.523|   73.251|Earthquake|   15|        6|            MW|        ISCGEM859164|\n",
      "|02/04/1965|  -51.84|  139.741|Earthquake|   10|      6.1|            MW|        ISCGEM859200|\n",
      "|02/04/1965|  51.251|  178.715|Earthquake| 30.3|      8.7|            MW|OFFICIAL196502040...|\n",
      "|02/04/1965|  51.639|  175.055|Earthquake|   30|        6|            MW|     ISCGEMSUP859215|\n",
      "|02/04/1965|  52.528|  172.007|Earthquake|   25|      5.7|            MW|        ISCGEM859221|\n",
      "|02/04/1965|  51.626|  175.746|Earthquake|   25|      5.8|            MW|        ISCGEM859222|\n",
      "+----------+--------+---------+----------+-----+---------+--------------+--------------------+\n",
      "only showing top 20 rows\n",
      "\n"
     ]
    }
   ],
   "source": [
    "#drop fields we don't need from df_load\n",
    "lst_dropped_columns = ['Depth Error', 'Time', 'Depth Seismic Stations','Magnitude Error','Magnitude Seismic Stations','Azimuthal Gap', 'Horizontal Distance','Horizontal Error',\n",
    "    'Root Mean Square','Source','Location Source','Magnitude Source','Status']\n",
    "\n",
    "df_load = df_load.drop(*lst_dropped_columns)\n",
    "#preview of df_load\n",
    "df_load.show()"
   ]
  },
  {
   "cell_type": "code",
   "execution_count": 6,
   "id": "9ea380d7",
   "metadata": {},
   "outputs": [
    {
     "name": "stdout",
     "output_type": "stream",
     "text": [
      "+----------+--------+---------+----------+-----+---------+--------------+------------+----+\n",
      "|      Date|Latitude|Longitude|      Type|Depth|Magnitude|Magnitude Type|          ID|Year|\n",
      "+----------+--------+---------+----------+-----+---------+--------------+------------+----+\n",
      "|01/02/1965|  19.246|  145.616|Earthquake|131.6|        6|            MW|ISCGEM860706|1965|\n",
      "|01/04/1965|   1.863|  127.352|Earthquake|   80|      5.8|            MW|ISCGEM860737|1965|\n",
      "|01/05/1965| -20.579| -173.972|Earthquake|   20|      6.2|            MW|ISCGEM860762|1965|\n",
      "|01/08/1965| -59.076|  -23.557|Earthquake|   15|      5.8|            MW|ISCGEM860856|1965|\n",
      "|01/09/1965|  11.938|  126.427|Earthquake|   15|      5.8|            MW|ISCGEM860890|1965|\n",
      "+----------+--------+---------+----------+-----+---------+--------------+------------+----+\n",
      "only showing top 5 rows\n",
      "\n"
     ]
    }
   ],
   "source": [
    "# Create a year field and add it to the dataframe\n",
    "df_load = df_load.withColumn('Year',year(to_timestamp('Date','dd/MM/yyyy')))\n",
    "# Preview df_load\n",
    "df_load.show(5)"
   ]
  },
  {
   "cell_type": "code",
   "execution_count": 7,
   "id": "94d27ce1",
   "metadata": {},
   "outputs": [
    {
     "name": "stdout",
     "output_type": "stream",
     "text": [
      "+----+------+\n",
      "|Year|Counts|\n",
      "+----+------+\n",
      "|1990|   196|\n",
      "|1975|   150|\n",
      "|1977|   148|\n",
      "|2003|   187|\n",
      "|2007|   211|\n",
      "+----+------+\n",
      "only showing top 5 rows\n",
      "\n"
     ]
    }
   ],
   "source": [
    "# Build the quakes frequency dataframe using the year field and counts for each year\n",
    "df_quake_freq = df_load.groupBy('Year').count().withColumnRenamed('count', 'Counts')\n",
    "# Preview df_quake_freq\n",
    "df_quake_freq.show(5)"
   ]
  },
  {
   "cell_type": "markdown",
   "id": "0bb6b793",
   "metadata": {},
   "source": [
    "Data Transformation"
   ]
  },
  {
   "cell_type": "code",
   "execution_count": 8,
   "id": "634e7c9e",
   "metadata": {},
   "outputs": [
    {
     "name": "stdout",
     "output_type": "stream",
     "text": [
      "root\n",
      " |-- Date: string (nullable = true)\n",
      " |-- Latitude: string (nullable = true)\n",
      " |-- Longitude: string (nullable = true)\n",
      " |-- Type: string (nullable = true)\n",
      " |-- Depth: string (nullable = true)\n",
      " |-- Magnitude: string (nullable = true)\n",
      " |-- Magnitude Type: string (nullable = true)\n",
      " |-- ID: string (nullable = true)\n",
      " |-- Year: integer (nullable = true)\n",
      "\n"
     ]
    }
   ],
   "source": [
    "# Preview df_load schema\n",
    "df_load.printSchema()"
   ]
  },
  {
   "cell_type": "code",
   "execution_count": 9,
   "id": "cc10b4ed",
   "metadata": {},
   "outputs": [
    {
     "name": "stdout",
     "output_type": "stream",
     "text": [
      "+----------+--------+---------+----------+-----+---------+--------------+------------+----+\n",
      "|      Date|Latitude|Longitude|      Type|Depth|Magnitude|Magnitude Type|          ID|Year|\n",
      "+----------+--------+---------+----------+-----+---------+--------------+------------+----+\n",
      "|01/02/1965|  19.246|  145.616|Earthquake|131.6|      6.0|            MW|ISCGEM860706|1965|\n",
      "|01/04/1965|   1.863|  127.352|Earthquake| 80.0|      5.8|            MW|ISCGEM860737|1965|\n",
      "|01/05/1965| -20.579| -173.972|Earthquake| 20.0|      6.2|            MW|ISCGEM860762|1965|\n",
      "|01/08/1965| -59.076|  -23.557|Earthquake| 15.0|      5.8|            MW|ISCGEM860856|1965|\n",
      "|01/09/1965|  11.938|  126.427|Earthquake| 15.0|      5.8|            MW|ISCGEM860890|1965|\n",
      "+----------+--------+---------+----------+-----+---------+--------------+------------+----+\n",
      "only showing top 5 rows\n",
      "\n"
     ]
    }
   ],
   "source": [
    "# Cast some fields from string into numeric types\n",
    "df_load = df_load.withColumn('Latitude', df_load['Latitude'].cast(DoubleType()))\\\n",
    "    .withColumn('Longitude', df_load['Longitude'].cast(DoubleType()))\\\n",
    "    .withColumn('Depth', df_load['Depth'].cast(DoubleType()))\\\n",
    "    .withColumn('Magnitude', df_load['Magnitude'].cast(DoubleType()))\n",
    "\n",
    "# Preview df_load\n",
    "df_load.show(5)"
   ]
  },
  {
   "cell_type": "code",
   "execution_count": 10,
   "id": "e7636401",
   "metadata": {},
   "outputs": [
    {
     "name": "stdout",
     "output_type": "stream",
     "text": [
      "root\n",
      " |-- Date: string (nullable = true)\n",
      " |-- Latitude: double (nullable = true)\n",
      " |-- Longitude: double (nullable = true)\n",
      " |-- Type: string (nullable = true)\n",
      " |-- Depth: double (nullable = true)\n",
      " |-- Magnitude: double (nullable = true)\n",
      " |-- Magnitude Type: string (nullable = true)\n",
      " |-- ID: string (nullable = true)\n",
      " |-- Year: integer (nullable = true)\n",
      "\n"
     ]
    }
   ],
   "source": [
    "# Preview df_load schema\n",
    "df_load.printSchema()"
   ]
  },
  {
   "cell_type": "code",
   "execution_count": 11,
   "id": "359fc2d3",
   "metadata": {},
   "outputs": [],
   "source": [
    "# Create avg magnitude and max magnitude fields and add to df_quake_freq\n",
    "df_max = df_load.groupBy('Year').max('Magnitude').withColumnRenamed('max(Magnitude)', 'Max_Magnitude')\n",
    "df_avg = df_load.groupBy('Year').avg('Magnitude').withColumnRenamed('avg(Magnitude)', 'Avg_Magnitude')"
   ]
  },
  {
   "cell_type": "code",
   "execution_count": 12,
   "id": "41df66aa",
   "metadata": {},
   "outputs": [
    {
     "name": "stdout",
     "output_type": "stream",
     "text": [
      "+----+------+-----------------+-------------+\n",
      "|Year|Counts|    Avg_Magnitude|Max_Magnitude|\n",
      "+----+------+-----------------+-------------+\n",
      "|1990|   196|5.858163265306125|          7.6|\n",
      "|1975|   150| 5.84866666666667|          7.8|\n",
      "|1977|   148|5.757432432432437|          7.6|\n",
      "|2003|   187|5.850802139037435|          7.6|\n",
      "|2007|   211| 5.89099526066351|          8.4|\n",
      "+----+------+-----------------+-------------+\n",
      "only showing top 5 rows\n",
      "\n"
     ]
    }
   ],
   "source": [
    "# Join df_max, and df_avg dataframes to create a complete df_quake_freq dataframe\n",
    "df_quake_freq = df_quake_freq.join(df_avg, ['Year']).join(df_max, ['Year'])\n",
    "# Preview df_quake_freq\n",
    "df_quake_freq.show(5)"
   ]
  },
  {
   "cell_type": "code",
   "execution_count": 13,
   "id": "cae75410",
   "metadata": {},
   "outputs": [
    {
     "data": {
      "text/plain": [
       "DataFrame[Year: int, Counts: bigint, Avg_Magnitude: double, Max_Magnitude: double]"
      ]
     },
     "execution_count": 13,
     "metadata": {},
     "output_type": "execute_result"
    }
   ],
   "source": [
    "# Remove all the null values\n",
    "df_load.dropna()\n",
    "df_quake_freq.dropna()"
   ]
  },
  {
   "cell_type": "code",
   "execution_count": 14,
   "id": "222fd3fe",
   "metadata": {},
   "outputs": [
    {
     "name": "stdout",
     "output_type": "stream",
     "text": [
      "+----------+--------+---------+----------+-----+---------+--------------+------------+----+\n",
      "|      Date|Latitude|Longitude|      Type|Depth|Magnitude|Magnitude Type|          ID|Year|\n",
      "+----------+--------+---------+----------+-----+---------+--------------+------------+----+\n",
      "|01/02/1965|  19.246|  145.616|Earthquake|131.6|      6.0|            MW|ISCGEM860706|1965|\n",
      "|01/04/1965|   1.863|  127.352|Earthquake| 80.0|      5.8|            MW|ISCGEM860737|1965|\n",
      "|01/05/1965| -20.579| -173.972|Earthquake| 20.0|      6.2|            MW|ISCGEM860762|1965|\n",
      "|01/08/1965| -59.076|  -23.557|Earthquake| 15.0|      5.8|            MW|ISCGEM860856|1965|\n",
      "|01/09/1965|  11.938|  126.427|Earthquake| 15.0|      5.8|            MW|ISCGEM860890|1965|\n",
      "+----------+--------+---------+----------+-----+---------+--------------+------------+----+\n",
      "only showing top 5 rows\n",
      "\n"
     ]
    }
   ],
   "source": [
    "# Preview dataframes after removing the null values\n",
    "df_load.show(5)"
   ]
  },
  {
   "cell_type": "code",
   "execution_count": 15,
   "id": "da5926b2",
   "metadata": {},
   "outputs": [
    {
     "name": "stdout",
     "output_type": "stream",
     "text": [
      "+----+------+-----------------+-------------+\n",
      "|Year|Counts|    Avg_Magnitude|Max_Magnitude|\n",
      "+----+------+-----------------+-------------+\n",
      "|1990|   196|5.858163265306125|          7.6|\n",
      "|1975|   150| 5.84866666666667|          7.8|\n",
      "|1977|   148|5.757432432432437|          7.6|\n",
      "|2003|   187|5.850802139037435|          7.6|\n",
      "|2007|   211| 5.89099526066351|          8.4|\n",
      "+----+------+-----------------+-------------+\n",
      "only showing top 5 rows\n",
      "\n"
     ]
    }
   ],
   "source": [
    "df_quake_freq.show(5)"
   ]
  },
  {
   "cell_type": "code",
   "execution_count": 16,
   "id": "2002f10c",
   "metadata": {},
   "outputs": [
    {
     "name": "stdout",
     "output_type": "stream",
     "text": [
      "+----------+--------+---------+----------+-----+---------+--------------+------------+----+\n",
      "|      Date|Latitude|Longitude|      Type|Depth|Magnitude|Magnitude Type|          ID|Year|\n",
      "+----------+--------+---------+----------+-----+---------+--------------+------------+----+\n",
      "|01/02/1965|  19.246|  145.616|Earthquake|131.6|      6.0|            MW|ISCGEM860706|1965|\n",
      "|01/04/1965|   1.863|  127.352|Earthquake| 80.0|      5.8|            MW|ISCGEM860737|1965|\n",
      "|01/05/1965| -20.579| -173.972|Earthquake| 20.0|      6.2|            MW|ISCGEM860762|1965|\n",
      "|01/08/1965| -59.076|  -23.557|Earthquake| 15.0|      5.8|            MW|ISCGEM860856|1965|\n",
      "|01/09/1965|  11.938|  126.427|Earthquake| 15.0|      5.8|            MW|ISCGEM860890|1965|\n",
      "+----------+--------+---------+----------+-----+---------+--------------+------------+----+\n",
      "only showing top 5 rows\n",
      "\n"
     ]
    }
   ],
   "source": [
    "#preview dataframes\n",
    "df_load.show(5)"
   ]
  },
  {
   "cell_type": "code",
   "execution_count": 17,
   "id": "0c8f0385",
   "metadata": {},
   "outputs": [],
   "source": [
    "# Build the tables/collections in mongodb\n",
    "# Write df_load to mongodb\n",
    "df_load.write.format('mongo')\\\n",
    "    .mode('overwrite')\\\n",
    "    .option('spark.mongodb.output.uri', 'mongodb://127.0.0.1:27017/Quake.quakes').save()"
   ]
  },
  {
   "cell_type": "code",
   "execution_count": 18,
   "id": "03f223ae",
   "metadata": {},
   "outputs": [],
   "source": [
    "# Write df_quake_freq to mongodb\n",
    "df_quake_freq.write.format('mongo')\\\n",
    "    .mode('overwrite')\\\n",
    "    .option('spark.mongodb.output.uri', 'mongodb://127.0.0.1:27017/Quake.quake_freq').save()"
   ]
  },
  {
   "cell_type": "markdown",
   "id": "636e5ab1",
   "metadata": {},
   "source": [
    "# \"\"\"Section: Machine Learning with Spark\"\"\""
   ]
  },
  {
   "cell_type": "markdown",
   "id": "cbb6dfed",
   "metadata": {},
   "source": [
    "Data Preprocessing"
   ]
  },
  {
   "cell_type": "code",
   "execution_count": 19,
   "id": "1286dd55",
   "metadata": {},
   "outputs": [
    {
     "data": {
      "text/plain": [
       "[Row(time='2017-01-02T00:13:06.300Z', latitude='-36.0365', longitude='51.9288', depth='10', mag='5.7', magType='mwb', nst=None, gap='26', dmin='14.685', rms='1.37', net='us', id='us10007p5d', updated='2017-03-27T23:53:17.040Z', place='Southwest Indian Ridge', type='earthquake', horizontalError='10.3', depthError='1.7', magError='0.068', magNst='21', status='reviewed', locationSource='us', magSource='us')]"
      ]
     },
     "execution_count": 19,
     "metadata": {},
     "output_type": "execute_result"
    }
   ],
   "source": [
    "# Load the test data file into a dataframe\n",
    "df_test = spark.read.csv(r\"query.csv\", header=True)\n",
    "# Preview df_test\n",
    "df_test.take(1)"
   ]
  },
  {
   "cell_type": "code",
   "execution_count": 20,
   "id": "413efc1b",
   "metadata": {},
   "outputs": [
    {
     "name": "stdout",
     "output_type": "stream",
     "text": [
      "+----------+-----+------------+--------+---------+---------+--------------+----------+----+--------------------+\n",
      "|      Date|Depth|          ID|Latitude|Longitude|Magnitude|Magnitude Type|      Type|Year|                 _id|\n",
      "+----------+-----+------------+--------+---------+---------+--------------+----------+----+--------------------+\n",
      "|01/02/1965|131.6|ISCGEM860706|  19.246|  145.616|      6.0|            MW|Earthquake|1965|{65215e90e8508b04...|\n",
      "|01/04/1965| 80.0|ISCGEM860737|   1.863|  127.352|      5.8|            MW|Earthquake|1965|{65215e90e8508b04...|\n",
      "|01/05/1965| 20.0|ISCGEM860762| -20.579| -173.972|      6.2|            MW|Earthquake|1965|{65215e90e8508b04...|\n",
      "|01/08/1965| 15.0|ISCGEM860856| -59.076|  -23.557|      5.8|            MW|Earthquake|1965|{65215e90e8508b04...|\n",
      "|01/09/1965| 15.0|ISCGEM860890|  11.938|  126.427|      5.8|            MW|Earthquake|1965|{65215e90e8508b04...|\n",
      "+----------+-----+------------+--------+---------+---------+--------------+----------+----+--------------------+\n",
      "only showing top 5 rows\n",
      "\n"
     ]
    }
   ],
   "source": [
    "# Load the training data from mongodb into a dataframe\n",
    "df_train = spark.read.format('mongo')\\\n",
    "    .option('spark.mongodb.input.uri', 'mongodb://127.0.0.1:27017/Quake.quakes').load()\n",
    "\n",
    "# Preview df_train\n",
    "df_train.show(5)"
   ]
  },
  {
   "cell_type": "code",
   "execution_count": 21,
   "id": "982cd6b9",
   "metadata": {},
   "outputs": [
    {
     "name": "stdout",
     "output_type": "stream",
     "text": [
      "+--------------------+--------+---------+---+------+\n",
      "|                time|latitude|longitude|mag| depth|\n",
      "+--------------------+--------+---------+---+------+\n",
      "|2017-01-02T00:13:...|-36.0365|  51.9288|5.7|    10|\n",
      "|2017-01-02T13:13:...|  -4.895| -76.3675|5.9|   106|\n",
      "|2017-01-02T13:14:...|-23.2513| 179.2383|6.3|551.62|\n",
      "|2017-01-03T09:09:...| 24.0151|  92.0177|5.7|    32|\n",
      "|2017-01-03T21:19:...|-43.3527| -74.5017|5.5| 10.26|\n",
      "+--------------------+--------+---------+---+------+\n",
      "only showing top 5 rows\n",
      "\n"
     ]
    }
   ],
   "source": [
    "# For test data: Select fields that we will use and discard fields we don't need\n",
    "df_test_clean = df_test['time', 'latitude', 'longitude', 'mag', 'depth']\n",
    "# Preview df_test_clean\n",
    "df_test_clean.show(5)"
   ]
  },
  {
   "cell_type": "code",
   "execution_count": 22,
   "id": "b0ecd60c",
   "metadata": {},
   "outputs": [
    {
     "name": "stdout",
     "output_type": "stream",
     "text": [
      "+--------------------+--------+---------+---------+------+\n",
      "|                Date|Latitude|Longitude|Magnitude| Depth|\n",
      "+--------------------+--------+---------+---------+------+\n",
      "|2017-01-02T00:13:...|-36.0365|  51.9288|      5.7|    10|\n",
      "|2017-01-02T13:13:...|  -4.895| -76.3675|      5.9|   106|\n",
      "|2017-01-02T13:14:...|-23.2513| 179.2383|      6.3|551.62|\n",
      "|2017-01-03T09:09:...| 24.0151|  92.0177|      5.7|    32|\n",
      "|2017-01-03T21:19:...|-43.3527| -74.5017|      5.5| 10.26|\n",
      "+--------------------+--------+---------+---------+------+\n",
      "only showing top 5 rows\n",
      "\n"
     ]
    }
   ],
   "source": [
    "# Rename fields of df_test data to match the names with those in df_train_data\n",
    "df_test_clean = df_test_clean.withColumnRenamed('time', 'Date')\\\n",
    "    .withColumnRenamed('latitude', 'Latitude')\\\n",
    "    .withColumnRenamed('longitude', 'Longitude')\\\n",
    "    .withColumnRenamed('mag', 'Magnitude')\\\n",
    "    .withColumnRenamed('depth', 'Depth')\n",
    "\n",
    "# Preview df_test_clean\n",
    "df_test_clean.show(5)"
   ]
  },
  {
   "cell_type": "code",
   "execution_count": 23,
   "id": "22b7ba14",
   "metadata": {},
   "outputs": [
    {
     "name": "stdout",
     "output_type": "stream",
     "text": [
      "root\n",
      " |-- Date: string (nullable = true)\n",
      " |-- Latitude: string (nullable = true)\n",
      " |-- Longitude: string (nullable = true)\n",
      " |-- Magnitude: string (nullable = true)\n",
      " |-- Depth: string (nullable = true)\n",
      "\n"
     ]
    }
   ],
   "source": [
    "# Preview Schema\n",
    "df_test_clean.printSchema()"
   ]
  },
  {
   "cell_type": "code",
   "execution_count": 24,
   "id": "36dab4f5",
   "metadata": {},
   "outputs": [],
   "source": [
    "# Cast some string fields into numeric fields in df_test_clean data\n",
    "df_test_clean = df_test_clean.withColumn('Latitude', df_test_clean['Latitude'].cast(DoubleType()))\\\n",
    "    .withColumn('Longitude', df_test_clean['Longitude'].cast(DoubleType()))\\\n",
    "    .withColumn('Depth', df_test_clean['Depth'].cast(DoubleType()))\\\n",
    "    .withColumn('Magnitude', df_test_clean['Magnitude'].cast(DoubleType()))"
   ]
  },
  {
   "cell_type": "code",
   "execution_count": 25,
   "id": "da5c60ec",
   "metadata": {},
   "outputs": [
    {
     "name": "stdout",
     "output_type": "stream",
     "text": [
      "root\n",
      " |-- Date: string (nullable = true)\n",
      " |-- Latitude: double (nullable = true)\n",
      " |-- Longitude: double (nullable = true)\n",
      " |-- Magnitude: double (nullable = true)\n",
      " |-- Depth: double (nullable = true)\n",
      "\n"
     ]
    }
   ],
   "source": [
    "df_test_clean.printSchema()"
   ]
  },
  {
   "cell_type": "code",
   "execution_count": 26,
   "id": "55cb23bd",
   "metadata": {},
   "outputs": [],
   "source": [
    "# Create training and testing dataframes\n",
    "df_testing = df_test_clean['Latitude', 'Longitude', 'Magnitude', 'Depth']\n",
    "df_training = df_train['Latitude', 'Longitude', 'Magnitude', 'Depth']"
   ]
  },
  {
   "cell_type": "code",
   "execution_count": 27,
   "id": "b9cc9630",
   "metadata": {},
   "outputs": [
    {
     "name": "stdout",
     "output_type": "stream",
     "text": [
      "+--------+---------+---------+-----+\n",
      "|Latitude|Longitude|Magnitude|Depth|\n",
      "+--------+---------+---------+-----+\n",
      "|  19.246|  145.616|      6.0|131.6|\n",
      "|   1.863|  127.352|      5.8| 80.0|\n",
      "| -20.579| -173.972|      6.2| 20.0|\n",
      "| -59.076|  -23.557|      5.8| 15.0|\n",
      "|  11.938|  126.427|      5.8| 15.0|\n",
      "+--------+---------+---------+-----+\n",
      "only showing top 5 rows\n",
      "\n"
     ]
    }
   ],
   "source": [
    "# Preview df_training data\n",
    "df_training.show(5)"
   ]
  },
  {
   "cell_type": "code",
   "execution_count": 28,
   "id": "aef37cc3",
   "metadata": {},
   "outputs": [
    {
     "name": "stdout",
     "output_type": "stream",
     "text": [
      "+--------+---------+---------+------+\n",
      "|Latitude|Longitude|Magnitude| Depth|\n",
      "+--------+---------+---------+------+\n",
      "|-36.0365|  51.9288|      5.7|  10.0|\n",
      "|  -4.895| -76.3675|      5.9| 106.0|\n",
      "|-23.2513| 179.2383|      6.3|551.62|\n",
      "| 24.0151|  92.0177|      5.7|  32.0|\n",
      "|-43.3527| -74.5017|      5.5| 10.26|\n",
      "+--------+---------+---------+------+\n",
      "only showing top 5 rows\n",
      "\n"
     ]
    }
   ],
   "source": [
    "# Preview df_testing data\n",
    "df_testing.show(5)"
   ]
  },
  {
   "cell_type": "code",
   "execution_count": 29,
   "id": "0e51b3eb",
   "metadata": {},
   "outputs": [],
   "source": [
    "# Drop records with null values from our testing and training dataframes\n",
    "df_testing = df_testing.dropna()\n",
    "df_training = df_training.dropna()"
   ]
  },
  {
   "cell_type": "code",
   "execution_count": 30,
   "id": "fcffaf39",
   "metadata": {},
   "outputs": [],
   "source": [
    "from pyspark.ml import Pipeline #to create pipeline of steps we use in our ml model\n",
    "from pyspark.ml.regression import RandomForestRegressor #use randomforest regressor model\n",
    "from pyspark.ml.feature import VectorAssembler #allow us to create a single feature containing all of our feature in the single list\n",
    "from pyspark.ml.evaluation import RegressionEvaluator #to evaluate the performance and accuracy of our model"
   ]
  },
  {
   "cell_type": "code",
   "execution_count": 31,
   "id": "305c0170",
   "metadata": {},
   "outputs": [],
   "source": [
    "# Select features to parse into our model and then create the feature vector\n",
    "assembler = VectorAssembler(inputCols=['Latitude', 'Longitude', 'Depth'], outputCol='features')\n",
    "\n",
    "# Create the Model\n",
    "model_reg = RandomForestRegressor(featuresCol='features', labelCol='Magnitude')\n",
    "\n",
    "# Chain the assembler with the model in a pipeline\n",
    "pipeline = Pipeline(stages=[assembler, model_reg])\n",
    "\n",
    "# Train the Model\n",
    "model = pipeline.fit(df_training)\n",
    "\n",
    "# Make the prediction\n",
    "pred_results = model.transform(df_testing)"
   ]
  },
  {
   "cell_type": "code",
   "execution_count": 32,
   "id": "a6cbafac",
   "metadata": {},
   "outputs": [
    {
     "name": "stdout",
     "output_type": "stream",
     "text": [
      "+--------+---------+---------+------+--------------------+-----------------+\n",
      "|Latitude|Longitude|Magnitude| Depth|            features|       prediction|\n",
      "+--------+---------+---------+------+--------------------+-----------------+\n",
      "|-36.0365|  51.9288|      5.7|  10.0|[-36.0365,51.9288...|5.826981872366586|\n",
      "|  -4.895| -76.3675|      5.9| 106.0|[-4.895,-76.3675,...|5.877490345464774|\n",
      "|-23.2513| 179.2383|      6.3|551.62|[-23.2513,179.238...|5.895554354662961|\n",
      "| 24.0151|  92.0177|      5.7|  32.0|[24.0151,92.0177,...|5.874109285317706|\n",
      "|-43.3527| -74.5017|      5.5| 10.26|[-43.3527,-74.501...|5.838816337734223|\n",
      "+--------+---------+---------+------+--------------------+-----------------+\n",
      "only showing top 5 rows\n",
      "\n"
     ]
    }
   ],
   "source": [
    "# Preview pred_results dataframe\n",
    "pred_results.show(5)"
   ]
  },
  {
   "cell_type": "code",
   "execution_count": 33,
   "id": "21c3970e",
   "metadata": {},
   "outputs": [
    {
     "name": "stdout",
     "output_type": "stream",
     "text": [
      "Root Mean Squared Error (RMSE) on test data = 0.403006\n"
     ]
    }
   ],
   "source": [
    "# Evaluate the model\n",
    "# rmse should be less than 0.5 for the model to be useful\n",
    "evaluator = RegressionEvaluator(labelCol='Magnitude', predictionCol='prediction', metricName='rmse')\n",
    "rmse = evaluator.evaluate(pred_results)\n",
    "print('Root Mean Squared Error (RMSE) on test data = %g' % rmse)"
   ]
  },
  {
   "cell_type": "markdown",
   "id": "0f5755cb",
   "metadata": {},
   "source": [
    "# \"\"\"Create the prediction dataset\"\"\""
   ]
  },
  {
   "cell_type": "code",
   "execution_count": 34,
   "id": "919b529d",
   "metadata": {},
   "outputs": [
    {
     "name": "stdout",
     "output_type": "stream",
     "text": [
      "+--------+---------+-----------------+----+-------------------+\n",
      "|Latitude|Longitude|   Pred_Magnitude|Year|               RMSE|\n",
      "+--------+---------+-----------------+----+-------------------+\n",
      "|-36.0365|  51.9288|5.826981872366586|2017|0.40300570932049556|\n",
      "|  -4.895| -76.3675|5.877490345464774|2017|0.40300570932049556|\n",
      "|-23.2513| 179.2383|5.895554354662961|2017|0.40300570932049556|\n",
      "| 24.0151|  92.0177|5.874109285317706|2017|0.40300570932049556|\n",
      "|-43.3527| -74.5017|5.838816337734223|2017|0.40300570932049556|\n",
      "+--------+---------+-----------------+----+-------------------+\n",
      "only showing top 5 rows\n",
      "\n"
     ]
    }
   ],
   "source": [
    "# Create the prediction dataset\n",
    "df_pred_results = pred_results['Latitude', 'Longitude', 'prediction']\n",
    "\n",
    "# Rename the prediction field\n",
    "df_pred_results = df_pred_results.withColumnRenamed('prediction', 'Pred_Magnitude')\n",
    "\n",
    "# Add more columns to our prediction dataset\n",
    "df_pred_results = df_pred_results.withColumn('Year', lit(2017))\\\n",
    "    .withColumn('RMSE', lit(rmse))\n",
    "\n",
    "# Preview df_pred_results\n",
    "df_pred_results.show(5)"
   ]
  },
  {
   "cell_type": "code",
   "execution_count": 35,
   "id": "099f1724",
   "metadata": {},
   "outputs": [],
   "source": [
    "# Load the prediction dataset into mongodb\n",
    "# Write df_pred_results\n",
    "df_pred_results.write.format('mongo')\\\n",
    "    .mode('overwrite')\\\n",
    "    .option('spark.mongodb.output.uri', 'mongodb://127.0.0.1:27017/Quake.pred_results').save()"
   ]
  },
  {
   "cell_type": "markdown",
   "id": "33328001",
   "metadata": {},
   "source": [
    "# \"\"\"Section: Data visulization\"\"\""
   ]
  },
  {
   "cell_type": "code",
   "execution_count": 36,
   "id": "616495bc",
   "metadata": {},
   "outputs": [
    {
     "name": "stderr",
     "output_type": "stream",
     "text": [
      "BokehDeprecationWarning: 'tile_providers module' was deprecated in Bokeh 3.0.0 and will be removed, use 'add_tile directly' instead.\n"
     ]
    }
   ],
   "source": [
    "import pandas as pd\n",
    "from bokeh.io import output_notebook, output_file\n",
    "from bokeh.plotting import figure, show, ColumnDataSource\n",
    "from bokeh.models.tools import HoverTool\n",
    "import math\n",
    "from math import pi\n",
    "from bokeh.palettes import Category20c\n",
    "from bokeh.transform import cumsum\n",
    "from bokeh.tile_providers import CARTODBPOSITRON\n",
    "from bokeh.themes import built_in_themes\n",
    "from bokeh.io import curdoc\n",
    "from pymongo import MongoClient"
   ]
  },
  {
   "cell_type": "code",
   "execution_count": 37,
   "id": "4c426e91",
   "metadata": {},
   "outputs": [],
   "source": [
    "# Create a custom read function to read data from mongodb into a dataframe\n",
    "def read_mongo(host='127.0.0.1', port=27017, username=None, password=None, db='Quake', collection='pred_results'):\n",
    "    \n",
    "    mongo_uri = 'mongodb://{}:{}/{}.{}'.format(host, port, db, collection)\n",
    "    \n",
    "    # Connect to mongodb\n",
    "    conn = MongoClient(mongo_uri)\n",
    "    db = conn[db]\n",
    "    \n",
    "    # Select all records from the collection\n",
    "    cursor = db[collection].find()\n",
    "    \n",
    "    # Create the dataframe\n",
    "    df = pd.DataFrame(list(cursor))\n",
    "    \n",
    "    # Delete the _id field\n",
    "    del df['_id']\n",
    "    \n",
    "    return df\n"
   ]
  },
  {
   "cell_type": "code",
   "execution_count": 38,
   "id": "9761baa2",
   "metadata": {},
   "outputs": [],
   "source": [
    "# Load the datasets from mongodb\n",
    "df_quakes = read_mongo(collection='quakes')\n",
    "df_quake_freq = read_mongo(collection='quake_freq')\n",
    "df_quake_pred = read_mongo(collection='pred_results')"
   ]
  },
  {
   "cell_type": "code",
   "execution_count": 39,
   "id": "3f94740a",
   "metadata": {},
   "outputs": [
    {
     "data": {
      "text/html": [
       "<div>\n",
       "<style scoped>\n",
       "    .dataframe tbody tr th:only-of-type {\n",
       "        vertical-align: middle;\n",
       "    }\n",
       "\n",
       "    .dataframe tbody tr th {\n",
       "        vertical-align: top;\n",
       "    }\n",
       "\n",
       "    .dataframe thead th {\n",
       "        text-align: right;\n",
       "    }\n",
       "</style>\n",
       "<table border=\"1\" class=\"dataframe\">\n",
       "  <thead>\n",
       "    <tr style=\"text-align: right;\">\n",
       "      <th></th>\n",
       "      <th>Date</th>\n",
       "      <th>Latitude</th>\n",
       "      <th>Longitude</th>\n",
       "      <th>Type</th>\n",
       "      <th>Depth</th>\n",
       "      <th>Magnitude</th>\n",
       "      <th>Magnitude Type</th>\n",
       "      <th>ID</th>\n",
       "      <th>Year</th>\n",
       "    </tr>\n",
       "  </thead>\n",
       "  <tbody>\n",
       "    <tr>\n",
       "      <th>22943</th>\n",
       "      <td>01/01/2016</td>\n",
       "      <td>-50.5575</td>\n",
       "      <td>139.4489</td>\n",
       "      <td>Earthquake</td>\n",
       "      <td>10.00</td>\n",
       "      <td>6.3</td>\n",
       "      <td>MWW</td>\n",
       "      <td>US10004ANT</td>\n",
       "      <td>2016.0</td>\n",
       "    </tr>\n",
       "    <tr>\n",
       "      <th>22944</th>\n",
       "      <td>01/01/2016</td>\n",
       "      <td>-28.6278</td>\n",
       "      <td>-177.2810</td>\n",
       "      <td>Earthquake</td>\n",
       "      <td>34.00</td>\n",
       "      <td>5.8</td>\n",
       "      <td>MWW</td>\n",
       "      <td>US10004AQY</td>\n",
       "      <td>2016.0</td>\n",
       "    </tr>\n",
       "    <tr>\n",
       "      <th>22945</th>\n",
       "      <td>01/02/2016</td>\n",
       "      <td>44.8069</td>\n",
       "      <td>129.9406</td>\n",
       "      <td>Earthquake</td>\n",
       "      <td>585.47</td>\n",
       "      <td>5.8</td>\n",
       "      <td>MWW</td>\n",
       "      <td>US10004ATB</td>\n",
       "      <td>2016.0</td>\n",
       "    </tr>\n",
       "    <tr>\n",
       "      <th>22946</th>\n",
       "      <td>01/03/2016</td>\n",
       "      <td>24.8036</td>\n",
       "      <td>93.6505</td>\n",
       "      <td>Earthquake</td>\n",
       "      <td>55.00</td>\n",
       "      <td>6.7</td>\n",
       "      <td>MWW</td>\n",
       "      <td>US10004B2N</td>\n",
       "      <td>2016.0</td>\n",
       "    </tr>\n",
       "    <tr>\n",
       "      <th>22947</th>\n",
       "      <td>01/05/2016</td>\n",
       "      <td>30.6132</td>\n",
       "      <td>132.7337</td>\n",
       "      <td>Earthquake</td>\n",
       "      <td>4.71</td>\n",
       "      <td>5.8</td>\n",
       "      <td>MWW</td>\n",
       "      <td>US10004BEN</td>\n",
       "      <td>2016.0</td>\n",
       "    </tr>\n",
       "  </tbody>\n",
       "</table>\n",
       "</div>"
      ],
      "text/plain": [
       "             Date  Latitude  Longitude        Type   Depth  Magnitude  \\\n",
       "22943  01/01/2016  -50.5575   139.4489  Earthquake   10.00        6.3   \n",
       "22944  01/01/2016  -28.6278  -177.2810  Earthquake   34.00        5.8   \n",
       "22945  01/02/2016   44.8069   129.9406  Earthquake  585.47        5.8   \n",
       "22946  01/03/2016   24.8036    93.6505  Earthquake   55.00        6.7   \n",
       "22947  01/05/2016   30.6132   132.7337  Earthquake    4.71        5.8   \n",
       "\n",
       "      Magnitude Type          ID    Year  \n",
       "22943            MWW  US10004ANT  2016.0  \n",
       "22944            MWW  US10004AQY  2016.0  \n",
       "22945            MWW  US10004ATB  2016.0  \n",
       "22946            MWW  US10004B2N  2016.0  \n",
       "22947            MWW  US10004BEN  2016.0  "
      ]
     },
     "execution_count": 39,
     "metadata": {},
     "output_type": "execute_result"
    }
   ],
   "source": [
    "df_quakes_2016 = df_quakes[df_quakes['Year'] == 2016]\n",
    "# Preview df_quakes_2016\n",
    "df_quakes_2016.head()"
   ]
  },
  {
   "cell_type": "code",
   "execution_count": 40,
   "id": "ae7ef09f",
   "metadata": {},
   "outputs": [
    {
     "data": {
      "text/html": [
       "<style>\n",
       "        .bk-notebook-logo {\n",
       "            display: block;\n",
       "            width: 20px;\n",
       "            height: 20px;\n",
       "            background-image: url(data:image/png;base64,iVBORw0KGgoAAAANSUhEUgAAABQAAAAUCAYAAACNiR0NAAAABHNCSVQICAgIfAhkiAAAAAlwSFlzAAALEgAACxIB0t1+/AAAABx0RVh0U29mdHdhcmUAQWRvYmUgRmlyZXdvcmtzIENTNui8sowAAAOkSURBVDiNjZRtaJVlGMd/1/08zzln5zjP1LWcU9N0NkN8m2CYjpgQYQXqSs0I84OLIC0hkEKoPtiH3gmKoiJDU7QpLgoLjLIQCpEsNJ1vqUOdO7ppbuec5+V+rj4ctwzd8IIbbi6u+8f1539dt3A78eXC7QizUF7gyV1fD1Yqg4JWz84yffhm0qkFqBogB9rM8tZdtwVsPUhWhGcFJngGeWrPzHm5oaMmkfEg1usvLFyc8jLRqDOMru7AyC8saQr7GG7f5fvDeH7Ej8CM66nIF+8yngt6HWaKh7k49Soy9nXurCi1o3qUbS3zWfrYeQDTB/Qj6kX6Ybhw4B+bOYoLKCC9H3Nu/leUTZ1JdRWkkn2ldcCamzrcf47KKXdAJllSlxAOkRgyHsGC/zRday5Qld9DyoM4/q/rUoy/CXh3jzOu3bHUVZeU+DEn8FInkPBFlu3+nW3Nw0mk6vCDiWg8CeJaxEwuHS3+z5RgY+YBR6V1Z1nxSOfoaPa4LASWxxdNp+VWTk7+4vzaou8v8PN+xo+KY2xsw6une2frhw05CTYOmQvsEhjhWjn0bmXPjpE1+kplmmkP3suftwTubK9Vq22qKmrBhpY4jvd5afdRA3wGjFAgcnTK2s4hY0/GPNIb0nErGMCRxWOOX64Z8RAC4oCXdklmEvcL8o0BfkNK4lUg9HTl+oPlQxdNo3Mg4Nv175e/1LDGzZen30MEjRUtmXSfiTVu1kK8W4txyV6BMKlbgk3lMwYCiusNy9fVfvvwMxv8Ynl6vxoByANLTWplvuj/nF9m2+PDtt1eiHPBr1oIfhCChQMBw6Aw0UulqTKZdfVvfG7VcfIqLG9bcldL/+pdWTLxLUy8Qq38heUIjh4XlzZxzQm19lLFlr8vdQ97rjZVOLf8nclzckbcD4wxXMidpX30sFd37Fv/GtwwhzhxGVAprjbg0gCAEeIgwCZyTV2Z1REEW8O4py0wsjeloKoMr6iCY6dP92H6Vw/oTyICIthibxjm/DfN9lVz8IqtqKYLUXfoKVMVQVVJOElGjrnnUt9T9wbgp8AyYKaGlqingHZU/uG2NTZSVqwHQTWkx9hxjkpWDaCg6Ckj5qebgBVbT3V3NNXMSiWSDdGV3hrtzla7J+duwPOToIg42ChPQOQjspnSlp1V+Gjdged7+8UN5CRAV7a5EdFNwCjEaBR27b3W890TE7g24NAP/mMDXRWrGoFPQI9ls/MWO2dWFAar/xcOIImbbpA3zgAAAABJRU5ErkJggg==);\n",
       "        }\n",
       "    </style>\n",
       "    <div>\n",
       "        <a href=\"https://bokeh.org\" target=\"_blank\" class=\"bk-notebook-logo\"></a>\n",
       "        <span id=\"b281de62-e8dc-4a2d-a506-3f8c1d27bd00\">Loading BokehJS ...</span>\n",
       "    </div>\n"
      ]
     },
     "metadata": {},
     "output_type": "display_data"
    },
    {
     "data": {
      "application/javascript": [
       "(function(root) {\n",
       "  function now() {\n",
       "    return new Date();\n",
       "  }\n",
       "\n",
       "  const force = true;\n",
       "\n",
       "  if (typeof root._bokeh_onload_callbacks === \"undefined\" || force === true) {\n",
       "    root._bokeh_onload_callbacks = [];\n",
       "    root._bokeh_is_loading = undefined;\n",
       "  }\n",
       "\n",
       "const JS_MIME_TYPE = 'application/javascript';\n",
       "  const HTML_MIME_TYPE = 'text/html';\n",
       "  const EXEC_MIME_TYPE = 'application/vnd.bokehjs_exec.v0+json';\n",
       "  const CLASS_NAME = 'output_bokeh rendered_html';\n",
       "\n",
       "  /**\n",
       "   * Render data to the DOM node\n",
       "   */\n",
       "  function render(props, node) {\n",
       "    const script = document.createElement(\"script\");\n",
       "    node.appendChild(script);\n",
       "  }\n",
       "\n",
       "  /**\n",
       "   * Handle when an output is cleared or removed\n",
       "   */\n",
       "  function handleClearOutput(event, handle) {\n",
       "    const cell = handle.cell;\n",
       "\n",
       "    const id = cell.output_area._bokeh_element_id;\n",
       "    const server_id = cell.output_area._bokeh_server_id;\n",
       "    // Clean up Bokeh references\n",
       "    if (id != null && id in Bokeh.index) {\n",
       "      Bokeh.index[id].model.document.clear();\n",
       "      delete Bokeh.index[id];\n",
       "    }\n",
       "\n",
       "    if (server_id !== undefined) {\n",
       "      // Clean up Bokeh references\n",
       "      const cmd_clean = \"from bokeh.io.state import curstate; print(curstate().uuid_to_server['\" + server_id + \"'].get_sessions()[0].document.roots[0]._id)\";\n",
       "      cell.notebook.kernel.execute(cmd_clean, {\n",
       "        iopub: {\n",
       "          output: function(msg) {\n",
       "            const id = msg.content.text.trim();\n",
       "            if (id in Bokeh.index) {\n",
       "              Bokeh.index[id].model.document.clear();\n",
       "              delete Bokeh.index[id];\n",
       "            }\n",
       "          }\n",
       "        }\n",
       "      });\n",
       "      // Destroy server and session\n",
       "      const cmd_destroy = \"import bokeh.io.notebook as ion; ion.destroy_server('\" + server_id + \"')\";\n",
       "      cell.notebook.kernel.execute(cmd_destroy);\n",
       "    }\n",
       "  }\n",
       "\n",
       "  /**\n",
       "   * Handle when a new output is added\n",
       "   */\n",
       "  function handleAddOutput(event, handle) {\n",
       "    const output_area = handle.output_area;\n",
       "    const output = handle.output;\n",
       "\n",
       "    // limit handleAddOutput to display_data with EXEC_MIME_TYPE content only\n",
       "    if ((output.output_type != \"display_data\") || (!Object.prototype.hasOwnProperty.call(output.data, EXEC_MIME_TYPE))) {\n",
       "      return\n",
       "    }\n",
       "\n",
       "    const toinsert = output_area.element.find(\".\" + CLASS_NAME.split(' ')[0]);\n",
       "\n",
       "    if (output.metadata[EXEC_MIME_TYPE][\"id\"] !== undefined) {\n",
       "      toinsert[toinsert.length - 1].firstChild.textContent = output.data[JS_MIME_TYPE];\n",
       "      // store reference to embed id on output_area\n",
       "      output_area._bokeh_element_id = output.metadata[EXEC_MIME_TYPE][\"id\"];\n",
       "    }\n",
       "    if (output.metadata[EXEC_MIME_TYPE][\"server_id\"] !== undefined) {\n",
       "      const bk_div = document.createElement(\"div\");\n",
       "      bk_div.innerHTML = output.data[HTML_MIME_TYPE];\n",
       "      const script_attrs = bk_div.children[0].attributes;\n",
       "      for (let i = 0; i < script_attrs.length; i++) {\n",
       "        toinsert[toinsert.length - 1].firstChild.setAttribute(script_attrs[i].name, script_attrs[i].value);\n",
       "        toinsert[toinsert.length - 1].firstChild.textContent = bk_div.children[0].textContent\n",
       "      }\n",
       "      // store reference to server id on output_area\n",
       "      output_area._bokeh_server_id = output.metadata[EXEC_MIME_TYPE][\"server_id\"];\n",
       "    }\n",
       "  }\n",
       "\n",
       "  function register_renderer(events, OutputArea) {\n",
       "\n",
       "    function append_mime(data, metadata, element) {\n",
       "      // create a DOM node to render to\n",
       "      const toinsert = this.create_output_subarea(\n",
       "        metadata,\n",
       "        CLASS_NAME,\n",
       "        EXEC_MIME_TYPE\n",
       "      );\n",
       "      this.keyboard_manager.register_events(toinsert);\n",
       "      // Render to node\n",
       "      const props = {data: data, metadata: metadata[EXEC_MIME_TYPE]};\n",
       "      render(props, toinsert[toinsert.length - 1]);\n",
       "      element.append(toinsert);\n",
       "      return toinsert\n",
       "    }\n",
       "\n",
       "    /* Handle when an output is cleared or removed */\n",
       "    events.on('clear_output.CodeCell', handleClearOutput);\n",
       "    events.on('delete.Cell', handleClearOutput);\n",
       "\n",
       "    /* Handle when a new output is added */\n",
       "    events.on('output_added.OutputArea', handleAddOutput);\n",
       "\n",
       "    /**\n",
       "     * Register the mime type and append_mime function with output_area\n",
       "     */\n",
       "    OutputArea.prototype.register_mime_type(EXEC_MIME_TYPE, append_mime, {\n",
       "      /* Is output safe? */\n",
       "      safe: true,\n",
       "      /* Index of renderer in `output_area.display_order` */\n",
       "      index: 0\n",
       "    });\n",
       "  }\n",
       "\n",
       "  // register the mime type if in Jupyter Notebook environment and previously unregistered\n",
       "  if (root.Jupyter !== undefined) {\n",
       "    const events = require('base/js/events');\n",
       "    const OutputArea = require('notebook/js/outputarea').OutputArea;\n",
       "\n",
       "    if (OutputArea.prototype.mime_types().indexOf(EXEC_MIME_TYPE) == -1) {\n",
       "      register_renderer(events, OutputArea);\n",
       "    }\n",
       "  }\n",
       "  if (typeof (root._bokeh_timeout) === \"undefined\" || force === true) {\n",
       "    root._bokeh_timeout = Date.now() + 5000;\n",
       "    root._bokeh_failed_load = false;\n",
       "  }\n",
       "\n",
       "  const NB_LOAD_WARNING = {'data': {'text/html':\n",
       "     \"<div style='background-color: #fdd'>\\n\"+\n",
       "     \"<p>\\n\"+\n",
       "     \"BokehJS does not appear to have successfully loaded. If loading BokehJS from CDN, this \\n\"+\n",
       "     \"may be due to a slow or bad network connection. Possible fixes:\\n\"+\n",
       "     \"</p>\\n\"+\n",
       "     \"<ul>\\n\"+\n",
       "     \"<li>re-rerun `output_notebook()` to attempt to load from CDN again, or</li>\\n\"+\n",
       "     \"<li>use INLINE resources instead, as so:</li>\\n\"+\n",
       "     \"</ul>\\n\"+\n",
       "     \"<code>\\n\"+\n",
       "     \"from bokeh.resources import INLINE\\n\"+\n",
       "     \"output_notebook(resources=INLINE)\\n\"+\n",
       "     \"</code>\\n\"+\n",
       "     \"</div>\"}};\n",
       "\n",
       "  function display_loaded() {\n",
       "    const el = document.getElementById(\"b281de62-e8dc-4a2d-a506-3f8c1d27bd00\");\n",
       "    if (el != null) {\n",
       "      el.textContent = \"BokehJS is loading...\";\n",
       "    }\n",
       "    if (root.Bokeh !== undefined) {\n",
       "      if (el != null) {\n",
       "        el.textContent = \"BokehJS \" + root.Bokeh.version + \" successfully loaded.\";\n",
       "      }\n",
       "    } else if (Date.now() < root._bokeh_timeout) {\n",
       "      setTimeout(display_loaded, 100)\n",
       "    }\n",
       "  }\n",
       "\n",
       "  function run_callbacks() {\n",
       "    try {\n",
       "      root._bokeh_onload_callbacks.forEach(function(callback) {\n",
       "        if (callback != null)\n",
       "          callback();\n",
       "      });\n",
       "    } finally {\n",
       "      delete root._bokeh_onload_callbacks\n",
       "    }\n",
       "    console.debug(\"Bokeh: all callbacks have finished\");\n",
       "  }\n",
       "\n",
       "  function load_libs(css_urls, js_urls, callback) {\n",
       "    if (css_urls == null) css_urls = [];\n",
       "    if (js_urls == null) js_urls = [];\n",
       "\n",
       "    root._bokeh_onload_callbacks.push(callback);\n",
       "    if (root._bokeh_is_loading > 0) {\n",
       "      console.debug(\"Bokeh: BokehJS is being loaded, scheduling callback at\", now());\n",
       "      return null;\n",
       "    }\n",
       "    if (js_urls == null || js_urls.length === 0) {\n",
       "      run_callbacks();\n",
       "      return null;\n",
       "    }\n",
       "    console.debug(\"Bokeh: BokehJS not loaded, scheduling load and callback at\", now());\n",
       "    root._bokeh_is_loading = css_urls.length + js_urls.length;\n",
       "\n",
       "    function on_load() {\n",
       "      root._bokeh_is_loading--;\n",
       "      if (root._bokeh_is_loading === 0) {\n",
       "        console.debug(\"Bokeh: all BokehJS libraries/stylesheets loaded\");\n",
       "        run_callbacks()\n",
       "      }\n",
       "    }\n",
       "\n",
       "    function on_error(url) {\n",
       "      console.error(\"failed to load \" + url);\n",
       "    }\n",
       "\n",
       "    for (let i = 0; i < css_urls.length; i++) {\n",
       "      const url = css_urls[i];\n",
       "      const element = document.createElement(\"link\");\n",
       "      element.onload = on_load;\n",
       "      element.onerror = on_error.bind(null, url);\n",
       "      element.rel = \"stylesheet\";\n",
       "      element.type = \"text/css\";\n",
       "      element.href = url;\n",
       "      console.debug(\"Bokeh: injecting link tag for BokehJS stylesheet: \", url);\n",
       "      document.body.appendChild(element);\n",
       "    }\n",
       "\n",
       "    for (let i = 0; i < js_urls.length; i++) {\n",
       "      const url = js_urls[i];\n",
       "      const element = document.createElement('script');\n",
       "      element.onload = on_load;\n",
       "      element.onerror = on_error.bind(null, url);\n",
       "      element.async = false;\n",
       "      element.src = url;\n",
       "      console.debug(\"Bokeh: injecting script tag for BokehJS library: \", url);\n",
       "      document.head.appendChild(element);\n",
       "    }\n",
       "  };\n",
       "\n",
       "  function inject_raw_css(css) {\n",
       "    const element = document.createElement(\"style\");\n",
       "    element.appendChild(document.createTextNode(css));\n",
       "    document.body.appendChild(element);\n",
       "  }\n",
       "\n",
       "  const js_urls = [\"https://cdn.bokeh.org/bokeh/release/bokeh-3.2.1.min.js\", \"https://cdn.bokeh.org/bokeh/release/bokeh-gl-3.2.1.min.js\", \"https://cdn.bokeh.org/bokeh/release/bokeh-widgets-3.2.1.min.js\", \"https://cdn.bokeh.org/bokeh/release/bokeh-tables-3.2.1.min.js\", \"https://cdn.bokeh.org/bokeh/release/bokeh-mathjax-3.2.1.min.js\"];\n",
       "  const css_urls = [];\n",
       "\n",
       "  const inline_js = [    function(Bokeh) {\n",
       "      Bokeh.set_log_level(\"info\");\n",
       "    },\n",
       "function(Bokeh) {\n",
       "    }\n",
       "  ];\n",
       "\n",
       "  function run_inline_js() {\n",
       "    if (root.Bokeh !== undefined || force === true) {\n",
       "          for (let i = 0; i < inline_js.length; i++) {\n",
       "      inline_js[i].call(root, root.Bokeh);\n",
       "    }\n",
       "if (force === true) {\n",
       "        display_loaded();\n",
       "      }} else if (Date.now() < root._bokeh_timeout) {\n",
       "      setTimeout(run_inline_js, 100);\n",
       "    } else if (!root._bokeh_failed_load) {\n",
       "      console.log(\"Bokeh: BokehJS failed to load within specified timeout.\");\n",
       "      root._bokeh_failed_load = true;\n",
       "    } else if (force !== true) {\n",
       "      const cell = $(document.getElementById(\"b281de62-e8dc-4a2d-a506-3f8c1d27bd00\")).parents('.cell').data().cell;\n",
       "      cell.output_area.append_execute_result(NB_LOAD_WARNING)\n",
       "    }\n",
       "  }\n",
       "\n",
       "  if (root._bokeh_is_loading === 0) {\n",
       "    console.debug(\"Bokeh: BokehJS loaded, going straight to plotting\");\n",
       "    run_inline_js();\n",
       "  } else {\n",
       "    load_libs(css_urls, js_urls, function() {\n",
       "      console.debug(\"Bokeh: BokehJS plotting callback run at\", now());\n",
       "      run_inline_js();\n",
       "    });\n",
       "  }\n",
       "}(window));"
      ],
      "application/vnd.bokehjs_load.v0+json": "(function(root) {\n  function now() {\n    return new Date();\n  }\n\n  const force = true;\n\n  if (typeof root._bokeh_onload_callbacks === \"undefined\" || force === true) {\n    root._bokeh_onload_callbacks = [];\n    root._bokeh_is_loading = undefined;\n  }\n\n\n  if (typeof (root._bokeh_timeout) === \"undefined\" || force === true) {\n    root._bokeh_timeout = Date.now() + 5000;\n    root._bokeh_failed_load = false;\n  }\n\n  const NB_LOAD_WARNING = {'data': {'text/html':\n     \"<div style='background-color: #fdd'>\\n\"+\n     \"<p>\\n\"+\n     \"BokehJS does not appear to have successfully loaded. If loading BokehJS from CDN, this \\n\"+\n     \"may be due to a slow or bad network connection. Possible fixes:\\n\"+\n     \"</p>\\n\"+\n     \"<ul>\\n\"+\n     \"<li>re-rerun `output_notebook()` to attempt to load from CDN again, or</li>\\n\"+\n     \"<li>use INLINE resources instead, as so:</li>\\n\"+\n     \"</ul>\\n\"+\n     \"<code>\\n\"+\n     \"from bokeh.resources import INLINE\\n\"+\n     \"output_notebook(resources=INLINE)\\n\"+\n     \"</code>\\n\"+\n     \"</div>\"}};\n\n  function display_loaded() {\n    const el = document.getElementById(\"b281de62-e8dc-4a2d-a506-3f8c1d27bd00\");\n    if (el != null) {\n      el.textContent = \"BokehJS is loading...\";\n    }\n    if (root.Bokeh !== undefined) {\n      if (el != null) {\n        el.textContent = \"BokehJS \" + root.Bokeh.version + \" successfully loaded.\";\n      }\n    } else if (Date.now() < root._bokeh_timeout) {\n      setTimeout(display_loaded, 100)\n    }\n  }\n\n  function run_callbacks() {\n    try {\n      root._bokeh_onload_callbacks.forEach(function(callback) {\n        if (callback != null)\n          callback();\n      });\n    } finally {\n      delete root._bokeh_onload_callbacks\n    }\n    console.debug(\"Bokeh: all callbacks have finished\");\n  }\n\n  function load_libs(css_urls, js_urls, callback) {\n    if (css_urls == null) css_urls = [];\n    if (js_urls == null) js_urls = [];\n\n    root._bokeh_onload_callbacks.push(callback);\n    if (root._bokeh_is_loading > 0) {\n      console.debug(\"Bokeh: BokehJS is being loaded, scheduling callback at\", now());\n      return null;\n    }\n    if (js_urls == null || js_urls.length === 0) {\n      run_callbacks();\n      return null;\n    }\n    console.debug(\"Bokeh: BokehJS not loaded, scheduling load and callback at\", now());\n    root._bokeh_is_loading = css_urls.length + js_urls.length;\n\n    function on_load() {\n      root._bokeh_is_loading--;\n      if (root._bokeh_is_loading === 0) {\n        console.debug(\"Bokeh: all BokehJS libraries/stylesheets loaded\");\n        run_callbacks()\n      }\n    }\n\n    function on_error(url) {\n      console.error(\"failed to load \" + url);\n    }\n\n    for (let i = 0; i < css_urls.length; i++) {\n      const url = css_urls[i];\n      const element = document.createElement(\"link\");\n      element.onload = on_load;\n      element.onerror = on_error.bind(null, url);\n      element.rel = \"stylesheet\";\n      element.type = \"text/css\";\n      element.href = url;\n      console.debug(\"Bokeh: injecting link tag for BokehJS stylesheet: \", url);\n      document.body.appendChild(element);\n    }\n\n    for (let i = 0; i < js_urls.length; i++) {\n      const url = js_urls[i];\n      const element = document.createElement('script');\n      element.onload = on_load;\n      element.onerror = on_error.bind(null, url);\n      element.async = false;\n      element.src = url;\n      console.debug(\"Bokeh: injecting script tag for BokehJS library: \", url);\n      document.head.appendChild(element);\n    }\n  };\n\n  function inject_raw_css(css) {\n    const element = document.createElement(\"style\");\n    element.appendChild(document.createTextNode(css));\n    document.body.appendChild(element);\n  }\n\n  const js_urls = [\"https://cdn.bokeh.org/bokeh/release/bokeh-3.2.1.min.js\", \"https://cdn.bokeh.org/bokeh/release/bokeh-gl-3.2.1.min.js\", \"https://cdn.bokeh.org/bokeh/release/bokeh-widgets-3.2.1.min.js\", \"https://cdn.bokeh.org/bokeh/release/bokeh-tables-3.2.1.min.js\", \"https://cdn.bokeh.org/bokeh/release/bokeh-mathjax-3.2.1.min.js\"];\n  const css_urls = [];\n\n  const inline_js = [    function(Bokeh) {\n      Bokeh.set_log_level(\"info\");\n    },\nfunction(Bokeh) {\n    }\n  ];\n\n  function run_inline_js() {\n    if (root.Bokeh !== undefined || force === true) {\n          for (let i = 0; i < inline_js.length; i++) {\n      inline_js[i].call(root, root.Bokeh);\n    }\nif (force === true) {\n        display_loaded();\n      }} else if (Date.now() < root._bokeh_timeout) {\n      setTimeout(run_inline_js, 100);\n    } else if (!root._bokeh_failed_load) {\n      console.log(\"Bokeh: BokehJS failed to load within specified timeout.\");\n      root._bokeh_failed_load = true;\n    } else if (force !== true) {\n      const cell = $(document.getElementById(\"b281de62-e8dc-4a2d-a506-3f8c1d27bd00\")).parents('.cell').data().cell;\n      cell.output_area.append_execute_result(NB_LOAD_WARNING)\n    }\n  }\n\n  if (root._bokeh_is_loading === 0) {\n    console.debug(\"Bokeh: BokehJS loaded, going straight to plotting\");\n    run_inline_js();\n  } else {\n    load_libs(css_urls, js_urls, function() {\n      console.debug(\"Bokeh: BokehJS plotting callback run at\", now());\n      run_inline_js();\n    });\n  }\n}(window));"
     },
     "metadata": {},
     "output_type": "display_data"
    }
   ],
   "source": [
    "# Show plots embedded in jupyter notebook\n",
    "output_notebook()"
   ]
  },
  {
   "cell_type": "code",
   "execution_count": 41,
   "id": "008a4631",
   "metadata": {},
   "outputs": [],
   "source": [
    "# Create custom style function to style our plots\n",
    "def style(p):\n",
    "    # Title\n",
    "    p.title.align='center'\n",
    "    p.title.text_font_size='20pt'\n",
    "    p.title.text_font='serif'\n",
    "    \n",
    "    # Axis titles\n",
    "    p.xaxis.axis_label_text_font_size='14pt'\n",
    "    p.xaxis.axis_label_text_font_style='bold'\n",
    "    p.yaxis.axis_label_text_font_size='14pt'\n",
    "    p.yaxis.axis_label_text_font_style='bold'\n",
    "    \n",
    "    # Tick labels\n",
    "    p.xaxis.major_label_text_font_size='12pt'\n",
    "    p.yaxis.major_label_text_font_size='12pt'\n",
    "    \n",
    "    # Plot the legend in the top left corner\n",
    "    p.legend.location='top_left'\n",
    "    \n",
    "    return p"
   ]
  },
  {
   "cell_type": "code",
   "execution_count": 42,
   "id": "e5dbee2c",
   "metadata": {},
   "outputs": [
    {
     "name": "stderr",
     "output_type": "stream",
     "text": [
      "C:\\Users\\Shashank\\AppData\\Local\\Temp\\ipykernel_8928\\980228965.py:42: SettingWithCopyWarning: \n",
      "A value is trying to be set on a copy of a slice from a DataFrame.\n",
      "Try using .loc[row_indexer,col_indexer] = value instead\n",
      "\n",
      "See the caveats in the documentation: https://pandas.pydata.org/pandas-docs/stable/user_guide/indexing.html#returning-a-view-versus-a-copy\n",
      "  df_quakes_2016['coords_x'] = lst_lat\n",
      "C:\\Users\\Shashank\\AppData\\Local\\Temp\\ipykernel_8928\\980228965.py:43: SettingWithCopyWarning: \n",
      "A value is trying to be set on a copy of a slice from a DataFrame.\n",
      "Try using .loc[row_indexer,col_indexer] = value instead\n",
      "\n",
      "See the caveats in the documentation: https://pandas.pydata.org/pandas-docs/stable/user_guide/indexing.html#returning-a-view-versus-a-copy\n",
      "  df_quakes_2016['coords_y'] = lst_lon\n",
      "C:\\Users\\Shashank\\AppData\\Local\\Temp\\ipykernel_8928\\980228965.py:48: SettingWithCopyWarning: \n",
      "A value is trying to be set on a copy of a slice from a DataFrame.\n",
      "Try using .loc[row_indexer,col_indexer] = value instead\n",
      "\n",
      "See the caveats in the documentation: https://pandas.pydata.org/pandas-docs/stable/user_guide/indexing.html#returning-a-view-versus-a-copy\n",
      "  df_quakes_2016['Mag_Size'] = df_quakes_2016['Magnitude'] * 4\n"
     ]
    },
    {
     "data": {
      "text/html": [
       "\n",
       "  <div id=\"c7756f36-aaf3-407d-8f47-e903b0f73c39\" data-root-id=\"p1007\" style=\"display: contents;\"></div>\n"
      ]
     },
     "metadata": {},
     "output_type": "display_data"
    },
    {
     "data": {
      "application/javascript": [
       "(function(root) {\n",
       "  function embed_document(root) {\n",
       "  const docs_json = {\"d400aa21-c618-4704-9ab7-113a8ee0f9c6\":{\"version\":\"3.2.1\",\"title\":\"Bokeh Application\",\"roots\":[{\"type\":\"object\",\"name\":\"Figure\",\"id\":\"p1007\",\"attributes\":{\"width\":2300,\"height\":450,\"x_range\":{\"type\":\"object\",\"name\":\"Range1d\",\"id\":\"p1017\",\"attributes\":{\"start\":-2000000,\"end\":6000000}},\"y_range\":{\"type\":\"object\",\"name\":\"Range1d\",\"id\":\"p1018\",\"attributes\":{\"start\":-1000000,\"end\":7000000}},\"x_scale\":{\"type\":\"object\",\"name\":\"LinearScale\",\"id\":\"p1019\"},\"y_scale\":{\"type\":\"object\",\"name\":\"LinearScale\",\"id\":\"p1020\"},\"title\":{\"type\":\"object\",\"name\":\"Title\",\"id\":\"p1010\",\"attributes\":{\"text\":\"Earthquake Map\",\"text_font\":\"serif\",\"text_font_size\":\"20pt\",\"align\":\"center\"}},\"renderers\":[{\"type\":\"object\",\"name\":\"GlyphRenderer\",\"id\":\"p1045\",\"attributes\":{\"data_source\":{\"type\":\"object\",\"name\":\"ColumnDataSource\",\"id\":\"p1001\",\"attributes\":{\"selected\":{\"type\":\"object\",\"name\":\"Selection\",\"id\":\"p1002\",\"attributes\":{\"indices\":[],\"line_indices\":[]}},\"selection_policy\":{\"type\":\"object\",\"name\":\"UnionRenderers\",\"id\":\"p1003\"},\"data\":{\"type\":\"map\",\"entries\":[[\"lat\",[-6543390.724483237,-3328358.0702136224,5591172.898038173,2851640.5215679468,3582617.0285600303,-7225385.693391577,2519559.275530917,-3589189.5968190334,-7895731.329585679,434091.130985274,5539417.811527147,-3676788.280848081,4383206.456763607,-3600829.447882163,2946475.6765804114,2624462.067661116,-1919649.3727256414,-1714752.0518279816,-738658.6098666815,-3577327.8402285944,-1077518.9345580437,-3886984.5412093443,-551952.8806289821,-534289.4164623911,-1092279.3816380876,-370880.47196445666,-345125.133793962,-3890327.522750172,-1701661.4348117206,6701229.281034023,6721815.015535953,3945945.23053972,-374080.791003844,7761753.97926687,-1611357.202772603,468775.96792111447,-1591614.9794630976,-1582053.595071207,-1597470.6170010692,-916356.9030152019,-672409.5786799104,-1571979.4590359947,-462257.586109796,1811174.038604051,4365832.938958695,6643310.475927785,6773859.823305286,-418505.0455930204,-7410479.387446073,-560233.0274267893,-677928.4070738676,5418424.9975573495,-7511617.038765008,-1672495.0545528778,1548060.141959909,-999439.4980835484,2081535.6065417049,1852333.4820856596,-8997877.969353518,2838365.246911671,2836895.013382633,-3532220.974959881,-233455.68729851866,2040088.6479005006,-3419298.4832275123,-511168.83740093646,-1996283.2379809062,-3506570.907184386,-3509116.8698924873,-5645608.880689954,2080163.2375550573,2096579.1308771288,142378.32007136501,-452447.43496013916,-1260322.1273079962,1440522.2984627502,-969486.3282046615,-832620.1045632168,-1860667.204540434,-1189867.89525655,-7713171.987908111,-45318.54601658557,-4274618.876232512,-1692473.3553627734,-1698767.4525167744,-1645353.0122122725,65390.214373085604,64699.99763943559,-718310.979350528,-2749095.058186247,-8126461.540002937,-2551709.5517699746,2868953.7923551914,-2744089.018216976,-2568831.740902209,-2897353.1892552385,-4489209.573341354,-4500545.7623202745,-4470697.205647996,-4441532.400450267,-4446385.293838093,-4442926.682361412,-4471340.325008444,61594.03159729839,-4483469.075802989,-7426079.75738785,-2213915.801501731,4912675.02068954,4359273.23933069,2306420.320560517,938327.8076290637,-4456823.764446551,7249204.8093854645,-1219510.091862458,-7287232.027312336,-3681872.3599156886,-621364.074218154,-115277.60839181444,-3344525.2231373596,-2714535.8476083255,3230314.566706101,797189.2654855343,2586827.7678902973,-450405.18369439204,-4304433.519025345,-4456418.872302224,197100.25765049175,-1732109.4437709805,-603705.6005118577,-680771.976234633,-4176730.7437068527,-905830.9111608852,-7991177.156025094,-4380392.084819088,-528290.8084284626,-6454454.065666398,-2323743.5323901074,4649917.791428913,-2871569.0678798584,681925.11549967,-4191379.7565639713,-1725206.5409805682,6846037.379623727,-2588190.6188395876,502022.99706885614,-816613.0848425829,1235690.5297297353,588980.6922978276,5438076.329098564,4932064.174315522,-1195690.063706147,-1144151.1386994515,-1217265.6283307744,-1214148.5648662208,-1203654.6642516751,-1240091.3303174912,-1228920.328684846,-1227026.7319589504,-1163431.2025315375,-1156222.5862376215,-1218829.9356544984,-631017.2840090224,-1019965.3263767234,-1228024.5420570814]],[\"lon\",[15523380.539682128,-19734830.64732233,14464921.425372442,10425125.972535465,14775847.895107137,-15168427.211338695,15986681.128414653,-7974739.077295771,-16469562.815577714,14122224.37296535,15705699.601703351,6477859.280445858,7898151.267629998,-20031986.896045897,13742123.971651718,13425286.436955903,19474109.267935403,-19302254.23804875,17225811.77628182,-7968672.165047537,13291691.916054895,-19857794.15685258,10500756.434580415,10509684.257742038,13950113.30824987,16567067.557563543,16568659.426281884,-19839560.024260644,-19305927.781244926,-19366530.112032786,-19363168.263410825,15182876.481243663,16128747.062565029,-17580920.951912362,18574224.76826074,14098780.48820429,18557092.698627654,18548554.493683815,18550179.758249395,11954121.442479238,14519356.656370355,18545192.645061854,11378076.473471284,-10715202.301644579,7918277.831565422,19986234.58532986,19667348.77200345,-11570180.518733237,16272037.51111413,11647035.495176913,-11929341.723828655,16420326.20479985,-16019486.98235143,18583019.00803341,5762820.795233425,-12049121.495922217,-11726072.333640138,-10891677.090399155,18406009.885723025,13579185.632977603,13586888.9417405,-19809804.324371602,11206021.0685012,-11781364.724717155,-7999351.816710162,13984666.878192104,-19217272.938777164,-19796601.83276352,-7955291.562254186,18571230.273958404,-11707815.93715004,-11711155.521873841,14067577.634934934,-11638797.852858212,12942772.10411246,-9680710.273702689,17873346.12227721,-1513978.4706357587,-19727394.505337343,18364176.02108291,-15816250.988010151,-8995449.752277454,-11493859.875845369,-19244512.81817428,-19280658.256834853,18633290.890075654,-8865016.704914976,-8865261.60779472,16415327.95966323,9190147.54167489,-2844146.1980736633,-7347954.684384244,15808937.297465034,9176510.904052714,19271262.891811904,-19741765.851598755,19942452.629600868,19981191.812396925,19936541.56463974,19914021.631652266,19918296.30009873,19928181.470881168,19881972.75025288,10977715.924833277,19894440.53322173,-3441764.884397353,-19336852.3357873,-13991487.056038685,-10790098.055050293,16407992.005219955,14013721.265289148,19892637.157470874,18761953.95753452,18476820.213816624,17667805.814476512,-7327650.009263551,-8566435.566709256,3519710.791850803,-12501768.809385827,-19472684.37845325,15801156.065058582,-3821998.8690999374,13518193.683971971,-11567976.39281553,-11244292.709435929,19886113.83531039,14187557.782111922,-19460851.116581924,17088142.96201778,16548621.9179391,-7908771.147051676,11670746.546715882,16496580.055993244,-8188695.138600441,16683596.80052594,12732912.600068979,-19839693.6076496,15759032.769742409,19902288.557322655,-9193943.53631094,6013690.399685146,-7884425.574415187,19388493.4475663,-19629867.499453355,14230438.049965493,13734621.037972253,-6779412.649055758,10705350.526709374,9611892.564494286,-14047807.293370048,17958216.102058005,17931254.52138787,17948063.764497656,17957358.941978898,17937087.66270544,17973066.122129828,17956935.92791388,17962412.84686091,17959062.130188033,17961410.97144377,17953485.023699287,17195900.229105666,-12228357.008048467,17986146.162298035]],[\"mag\",[6.3,5.8,5.8,6.7,5.8,6.0,5.7,5.7,5.6,6.5,6.2,5.9,5.7,6.2,5.7,6.4,5.7,5.8,6.4,6.3,6.3,5.6,7.8,5.6,5.6,5.9,5.6,5.5,5.9,5.6,6.3,5.9,6.2,5.9,6.9,5.9,5.8,6.7,5.9,6.1,5.5,6.7,5.7,5.5,6.6,5.6,5.6,5.8,5.5,5.7,5.6,5.7,5.5,5.7,5.5,5.6,5.6,5.8,5.5,5.8,5.7,5.5,6.6,5.8,5.8,6.3,5.6,6.1,5.5,5.5,6.3,5.5,6.3,5.9,6.1,6.1,6.2,5.5,5.8,5.9,5.8,5.5,5.6,5.8,6.0,5.6,5.9,6.3,5.6,5.6,5.6,6.2,6.3,5.5,7.2,6.1,7.0,5.5,5.5,5.7,6.1,5.5,5.5,5.5,5.5,5.5,5.5,5.64,5.8,5.5,5.8,5.9,6.1,5.6,6.1,5.6,6.1,5.9,5.8,5.6,5.7,5.5,5.8,5.6,5.6,5.8,5.8,5.6,5.6,6.0,6.3,5.8,5.7,6.0,5.9,5.7,5.6,6.1,5.9,5.6,5.5,6.2,5.9,5.5,5.7,6.3,5.9,6.5,6.0,6.6,7.8,5.7,5.5,6.5,6.9,5.5,5.5,5.8,5.5,5.6,5.8,6.0,5.8,5.5]],[\"year\",[2016.0,2016.0,2016.0,2016.0,2016.0,2016.0,2016.0,2016.0,2016.0,2016.0,2016.0,2016.0,2016.0,2016.0,2016.0,2016.0,2016.0,2016.0,2016.0,2016.0,2016.0,2016.0,2016.0,2016.0,2016.0,2016.0,2016.0,2016.0,2016.0,2016.0,2016.0,2016.0,2016.0,2016.0,2016.0,2016.0,2016.0,2016.0,2016.0,2016.0,2016.0,2016.0,2016.0,2016.0,2016.0,2016.0,2016.0,2016.0,2016.0,2016.0,2016.0,2016.0,2016.0,2016.0,2016.0,2016.0,2016.0,2016.0,2016.0,2016.0,2016.0,2016.0,2016.0,2016.0,2016.0,2016.0,2016.0,2016.0,2016.0,2016.0,2016.0,2016.0,2016.0,2016.0,2016.0,2016.0,2016.0,2016.0,2016.0,2016.0,2016.0,2016.0,2016.0,2016.0,2016.0,2016.0,2016.0,2016.0,2016.0,2016.0,2016.0,2016.0,2016.0,2016.0,2016.0,2016.0,2016.0,2016.0,2016.0,2016.0,2016.0,2016.0,2016.0,2016.0,2016.0,2016.0,2016.0,2016.0,2016.0,2016.0,2016.0,2016.0,2016.0,2016.0,2016.0,2016.0,2016.0,2016.0,2016.0,2016.0,2016.0,2016.0,2016.0,2016.0,2016.0,2016.0,2016.0,2016.0,2016.0,2016.0,2016.0,2016.0,2016.0,2016.0,2016.0,2016.0,2016.0,2016.0,2016.0,2016.0,2016.0,2016.0,2016.0,2016.0,2016.0,2016.0,2016.0,2016.0,2016.0,2016.0,2016.0,2016.0,2016.0,2016.0,2016.0,2016.0,2016.0,2016.0,2016.0,2016.0,2016.0,2016.0,2016.0,2016.0]],[\"mag_s\",[25.2,23.2,23.2,26.8,23.2,24.0,22.8,22.8,22.4,26.0,24.8,23.6,22.8,24.8,22.8,25.6,22.8,23.2,25.6,25.2,25.2,22.4,31.2,22.4,22.4,23.6,22.4,22.0,23.6,22.4,25.2,23.6,24.8,23.6,27.6,23.6,23.2,26.8,23.6,24.4,22.0,26.8,22.8,22.0,26.4,22.4,22.4,23.2,22.0,22.8,22.4,22.8,22.0,22.8,22.0,22.4,22.4,23.2,22.0,23.2,22.8,22.0,26.4,23.2,23.2,25.2,22.4,24.4,22.0,22.0,25.2,22.0,25.2,23.6,24.4,24.4,24.8,22.0,23.2,23.6,23.2,22.0,22.4,23.2,24.0,22.4,23.6,25.2,22.4,22.4,22.4,24.8,25.2,22.0,28.8,24.4,28.0,22.0,22.0,22.8,24.4,22.0,22.0,22.0,22.0,22.0,22.0,22.56,23.2,22.0,23.2,23.6,24.4,22.4,24.4,22.4,24.4,23.6,23.2,22.4,22.8,22.0,23.2,22.4,22.4,23.2,23.2,22.4,22.4,24.0,25.2,23.2,22.8,24.0,23.6,22.8,22.4,24.4,23.6,22.4,22.0,24.8,23.6,22.0,22.8,25.2,23.6,26.0,24.0,26.4,31.2,22.8,22.0,26.0,27.6,22.0,22.0,23.2,22.0,22.4,23.2,24.0,23.2,22.0]]]}}},\"view\":{\"type\":\"object\",\"name\":\"CDSView\",\"id\":\"p1046\",\"attributes\":{\"filter\":{\"type\":\"object\",\"name\":\"AllIndices\",\"id\":\"p1047\"}}},\"glyph\":{\"type\":\"object\",\"name\":\"Circle\",\"id\":\"p1042\",\"attributes\":{\"x\":{\"type\":\"field\",\"field\":\"lon\"},\"y\":{\"type\":\"field\",\"field\":\"lat\"},\"size\":{\"type\":\"field\",\"field\":\"mag_s\"},\"line_color\":{\"type\":\"value\",\"value\":\"#1f77b4\"},\"fill_color\":{\"type\":\"value\",\"value\":\"#cc0000\"},\"fill_alpha\":{\"type\":\"value\",\"value\":0.7}}},\"nonselection_glyph\":{\"type\":\"object\",\"name\":\"Circle\",\"id\":\"p1043\",\"attributes\":{\"x\":{\"type\":\"field\",\"field\":\"lon\"},\"y\":{\"type\":\"field\",\"field\":\"lat\"},\"size\":{\"type\":\"field\",\"field\":\"mag_s\"},\"line_color\":{\"type\":\"value\",\"value\":\"#1f77b4\"},\"line_alpha\":{\"type\":\"value\",\"value\":0.1},\"fill_color\":{\"type\":\"value\",\"value\":\"#cc0000\"},\"fill_alpha\":{\"type\":\"value\",\"value\":0.1},\"hatch_alpha\":{\"type\":\"value\",\"value\":0.1}}},\"muted_glyph\":{\"type\":\"object\",\"name\":\"Circle\",\"id\":\"p1044\",\"attributes\":{\"x\":{\"type\":\"field\",\"field\":\"lon\"},\"y\":{\"type\":\"field\",\"field\":\"lat\"},\"size\":{\"type\":\"field\",\"field\":\"mag_s\"},\"line_color\":{\"type\":\"value\",\"value\":\"#1f77b4\"},\"line_alpha\":{\"type\":\"value\",\"value\":0.2},\"fill_color\":{\"type\":\"value\",\"value\":\"#cc0000\"},\"fill_alpha\":{\"type\":\"value\",\"value\":0.2},\"hatch_alpha\":{\"type\":\"value\",\"value\":0.2}}}}},{\"type\":\"object\",\"name\":\"GlyphRenderer\",\"id\":\"p1056\",\"attributes\":{\"data_source\":{\"type\":\"object\",\"name\":\"ColumnDataSource\",\"id\":\"p1004\",\"attributes\":{\"selected\":{\"type\":\"object\",\"name\":\"Selection\",\"id\":\"p1005\",\"attributes\":{\"indices\":[],\"line_indices\":[]}},\"selection_policy\":{\"type\":\"object\",\"name\":\"UnionRenderers\",\"id\":\"p1006\"},\"data\":{\"type\":\"map\",\"entries\":[[\"pred_lat\",[-4305644.878725946,-545572.9963252052,-2662437.544199333,2755248.2180776442,-5365811.401172721,-2198935.6254887776,-2201815.0661135376,-2169151.5511257183,-2151981.0195756736,-2022267.689426525,-2130721.2189970976,-2549699.865701337,-694543.9332678925,-7232331.040247741,12673256.347779717,499019.2775873914,1653476.4320984208,-1131687.975289045,-2610385.9209709303,-2291994.7871158165,-587136.108265621,3372.9807282539505,-2110306.486492369,-1702145.7202415739,-2114300.813983417,-1533175.837365457,369430.8808398337,-1523097.209169454,2255613.0303128827,5251466.08195597,5249092.034354799,-1158542.31074942,314783.38479557785,-696727.5869158688,-751615.0630744306,1355850.2420601917,-3515612.666032386,-1663110.5734038544,78148.23778704347,1358742.0221909478,1697280.2399914016,384206.4656621807,2899247.571116649,1108390.3548526065,-2736515.995592676,-1686526.5676896854,-2188094.3838645956,-2423170.738547443,-942997.9000432289,-2663406.851823695,-2033417.1551428244,-2109578.1952632125,4518380.554022869,-5588992.228074327,-7820139.622008823,8306487.562006566,4525320.617361077,-817948.6770221533,1099802.996351176,-7397288.521822361,-668525.4304657294,-698418.5745860382,5088588.534926192,-1691850.9498408462,-8433232.08722776,-3570322.1306225546,1618757.24354095,685451.8444193258,-2393392.991688738,-1766434.174267657,6635262.103856747,-1293287.889404825,-908799.531326025,-948748.992832175,-339539.992015826,6938469.688544394,7747885.474860748,2963540.901167296,34353.36095726692,6922941.295510339,-2593172.612202951,-7482427.682112884,6654349.953489209,4269774.326043047,-2157361.3814672176,1540382.0671977927,1547853.8366059961,-6832047.59130031,1464599.6400086829,632818.3313257238,636331.0777585702,857123.4469409954,862313.1988759948,638680.4740663961,-2064241.1614338474,-2664133.870717765,-822977.1091850322,-1504450.120204938,1973247.8774015973,-2047816.2328304106,-301988.9644560258,-4340474.349688632,-2337314.354431834,-3900003.6645173165,-3897255.305117063,-3900282.5196553133,-7337411.688928481,6658187.08326438,-1866135.711318369,-3924408.758540344,-3912532.1501572262,613680.5528100671,-1081459.7614575624,3608746.6061610063,8359970.740134858,8361875.379767513,8350300.101798156,8348464.775425542,-1312938.1458496503,4792667.472756803,4790503.900218573,-8586207.569116628,6625734.82365355,6629257.565175177,6752243.306047916,2808339.2316463753,6627150.819317838,-1641809.9026616956,6756972.061558729,-7641276.689954517,-7637796.156257059,-7675664.015505834,-3208248.7246229313,1450445.4558200159,4546886.706747683,-2371464.574741726,3151660.834632129,-448095.1517515751,1049075.6774900411,1977857.613992557,1926809.1237635878,5453657.620247199,-310681.9021402735,-1121049.0407249308,6858557.903920932,-2549170.4076041034,7104842.120234905,-143870.3768323784,-4487249.0510882195,-8100499.685198234,2164321.5495230677,7176067.416283686,-527676.4522642265,-8997805.451620065,-453675.0399595397,-1902394.1145143113,-7227922.704199101,1610771.2655774383,-929517.8827989912,-3697894.4979751343,4711592.3876203345,-2075577.6191125002,1591959.3923035788,1678726.4619239368,1726499.241972048,-3569999.0833416884,-7445379.231640741,-9036901.844784355,1266349.5260567088,-2764708.0832564547,-2361950.752767476,1541814.3773614864,-2207988.437418792,-5047525.047991203,-1736970.3674071126,-1066974.4236178973,-2220022.200725581,-2850083.1727469866,5434235.246962346,-3543498.6991029233,-3649032.4471866395,-509717.04716724897,3994117.608229388,-31715.053620725674,-3169524.199447897,-3178313.99124862,-4232681.143815502,5922688.114774268,1246500.756029532,-745752.8974622741,-2578074.42083684,-7572383.258442905,1230893.4115588807,-4321997.7203316195,-6357337.283314072,-4217157.9086806,4990992.382834879,-532580.2680479435,45619.11627917563,-2318066.2695521857,-2317341.8919830867,7280814.093520289,7254582.226507023,-1852960.1451625917,-7754111.940643026,-1969234.135804802,4497391.699737972,4429256.6953345,-2043834.993375725,34464.6820680013,4871567.652741578,3110671.5547305616,-396363.01566563087,1505010.8360824403,7227731.923012483,5800306.867275992,-3317861.212150935,681981.0936987327,-1145282.3105185104,-5989276.000660639,-605897.2791313904,-376534.060890135,-372999.13958976517,3920896.384432669,5512343.6078667715,6873195.893977935,6885703.918075628,-2876874.679370592,1574962.2867086118,-1839328.3396986248,-3534591.685046523,-419776.828952932,-1200527.5166430902,-7355095.6786795445,-1665850.7073915948,3334180.5471230606,-123795.04571138619,-698004.2220956333,-2032972.4655502085,-5985748.279869394,-161708.8821725821,-129028.0895611599,8062469.851229396,7771982.62055044,1576029.3031772126,5061494.911955777,-7912625.714267072,-1832961.9011957513,3221629.9168965113,1691758.742954441,1709872.5242152764,1698536.8710225923,1735030.4984869228,5128275.333156286,7787187.344932034,2747669.8187303916,1678530.6267919843,2118248.9355914155,-7448440.212338019,1815089.6939157222,-703995.8215343215,-2101533.516183289,-3739915.568881679,1718917.152009302,1701303.9921897436,2102014.9316169075,-6569926.986643506,4576798.589796728,-2129686.461762279,-566748.298184276,-681600.442976885,2698450.1605495107,4925775.566875482,1745701.721099107,1877309.0836236048,844230.1342541707,1725356.5830811297,-695092.6385978509,-2702494.352232406,4914743.655082393,3349465.5891309045,438911.39930979925,1512186.7203117542,-2557126.0721197636,106415.23801256623,4509494.443295251,4452482.453741789,-4206130.0392036885,-2153793.9305472,-8799329.294446291,6871116.152136846,-2104551.359970118,-7220161.650973685,-7219284.962370067,-3631956.9676027764,1831095.2137202795,-2735164.9224374145,-2720870.1036247457,-2343223.557681384,-26527.511136182584,-620133.7559040728,3289163.7310350225,-6862547.445647728,-805503.2306815294,-541126.3941315995,22972492.920816742,23017578.89083119,23070653.714063987,-961120.3823463281,-2475197.087909239,-2442723.714941221,-1746464.1334434794,-426236.4080493929,-419832.6093060029,-417177.49998489686,-425488.90432073775,-2478875.5770178144,-2469363.43797136,-2488321.031005311,-2480205.777766392,-2490671.2143681957,2114911.7816435685,-1726072.1813098392,-2420053.3593098465,-1707473.4933615183,-2113725.1115881503,1308391.019937781,-2472753.18361226,-2000220.328516855,-472794.39156972774,-2496656.043696367,3831869.552869018,-5081425.444171707,-1316405.7714694205,4151779.3925998537,4570289.9003546275,1064073.4976731613,-2054574.397347699,-2111410.720620923,1471113.6276090278,-8187111.827621816,4310739.577394617,-2456660.792872055,3792263.2916084253,3482140.0594611526,-330287.73264516547,274464.949188219,-2468081.975861971,-2451922.130950162,-2416088.7546149213,-2430626.024760267,-2449780.5835856874,-1657447.0457099949,-6795732.894736507,-4380114.846842927,3140736.139320978,-2347731.0651551904,-509784.05228970014,11972630.390174912,-2954956.4261257593,-1621239.7221826883,5653346.910651668,-751603.8537432499,-488869.975569843,-120254.43798601728,3599857.9663209543,-684209.0685570824,-6237394.496044554,-52320.747453207616,-3861757.15764775,-1566014.8139201794,-70121.559796827,1132049.8215287544,-3575065.421551152,1120201.224843237,-1818009.4917290597,1129381.2901968637,-2371952.904337748,-1612529.117119659,-2238506.885499229,3598666.3855736377,3610366.9396063318,-7211722.819822231,-2418106.7702445276,-836403.7278979729,-1959937.7578399326,-8316409.16625335,-2494688.855133488,3582901.595867437,3412595.806500549,7143535.427905174,-1731128.1413604217,-3234457.453569088,454601.3348356274,-7670127.402271534,-6999959.447355698,-605248.7137534146]],[\"pred_long\",[5780687.573505744,-8501191.21315532,19952716.286652006,10243363.50796821,-8293491.307233229,19597996.729239237,19587020.627447024,19613102.784139886,19624201.33737198,18604102.919589657,19620806.092902783,-7546904.878329982,16417053.411770526,-15123699.039937956,-10287657.533354852,13649673.134547904,16067855.301101107,17925454.77591754,-7770467.811690112,5192709.155084753,11435127.712502839,13923507.949950278,19618557.43918876,-19288127.794667084,19602182.34209307,18537177.64172474,10961585.730617331,18525444.56739513,-8526405.077819996,1472400.640824471,1468348.6113595958,17959785.70687819,14272093.803420337,17273645.761475686,17098918.688726567,16281210.237155495,-19753988.731687855,18607910.046174783,-8869591.935986578,15699053.828102991,-6737656.708059201,-8312393.356769928,7042560.793341977,13965208.231201438,-7420468.200686982,-19634654.237557467,-7113838.66329691,19411291.67928076,3342979.968267402,-19904325.70400417,-19863671.825966466,18857978.150292795,15733306.835420081,-9005435.110601611,-15876597.283969184,-16993432.33925086,4278063.6909309,17337788.05207077,13970161.94854174,-14379951.258049939,16626890.651915848,11375438.201539483,15796480.646445265,18719775.002472945,16731252.674534539,-19761447.137571003,16164992.688767318,10275278.80597864,18931883.16023045,-19717030.66074449,19934649.133296255,12754285.942301288,17895008.895185582,12837731.032599926,15235864.558861258,19176073.595234573,18121265.76022291,-12247782.259191895,13422926.463751087,-3597701.22710057,2800330.846497431,-3339729.4391362383,-19634220.09154337,6727738.14142952,18877414.533385303,13461921.68137597,13462467.146880858,15547347.626049919,13955200.608979123,14159983.944242429,14148139.550422024,13893997.152940981,13899607.655276963,14170982.309932806,-19833604.431503203,-7538834.215247469,9258653.55630907,18545404.152094364,-6806329.70192957,-19855946.253305417,-8382747.274951275,-10956943.707851252,-19325252.84484664,-8018298.394043178,-8027849.60635324,-8021871.749697642,-14504840.594770912,19885512.71006011,-19330217.69413602,-8011596.960697423,-7992717.175058885,13922261.171653392,12451029.385482254,14629017.486750808,-15218643.43363554,-15217841.933301827,-15209492.971492331,-15215348.37670806,-1551548.7987784883,7953087.436336478,7950694.067284424,-4231921.761997088,-19704841.176502623,-19702080.45313095,-19880269.562043745,14061588.646330256,-19708436.796055246,18632289.01465851,-19868358.376528863,-2865719.9153894004,-2870606.8410352245,-2876918.6561632035,-19658409.81689275,-10025555.79228209,6368120.52642185,-7648873.53189662,14476454.124618625,16973784.44912585,13798462.765942194,-11724480.464921793,-10473828.249757523,16444048.388287898,13594113.576692982,18028581.15218843,-18553163.120602652,-19628954.67962885,-17921024.26018397,13406350.991571967,-7980449.767173465,-2921234.945448006,16234411.523226002,19026682.83859,16156499.011619791,17347361.528278995,-8945445.037013115,-19783221.22997017,-16323778.810434842,-10354349.040289104,11828697.772202456,-7988286.659325312,2934938.3747646576,18782715.042567465,-10382156.649089262,-10242417.292296467,-10817538.309530836,-19821136.648534358,-13887941.372641826,-17932690.542819105,-9646423.870538358,19993436.956384186,-19652576.675575186,-10126934.452547526,3839208.862376577,8976614.494435232,-8169236.491609777,7366010.705790913,-19617444.244280823,-19727572.61652261,16461325.17325901,-19777221.10941641,20029237.304623302,17035678.086006906,-4290754.112881334,-8960406.37657573,-19638350.044651803,-19616453.500812765,-8163681.649019193,-12531825.07190001,13873592.290278576,16446909.299201284,19269426.120213814,-3066028.2071228167,13890891.33914785,-11201334.517938806,18258144.206102323,-8155822.492969188,14656736.039958334,17055359.37197916,13579241.292722998,-19309590.192492027,-19299949.924589332,18773854.01110032,18797075.256879795,-8197088.628206255,-15741678.061127735,7400920.498103682,15761270.291507354,3051701.3886577226,18832207.68817415,13381003.543518338,15972988.831047077,14491972.06163521,14035684.600822661,-5490934.070919933,18846512.24274109,16817848.10642263,-7669278.394559028,13961133.937838405,17976171.935922958,11117154.71900093,16873975.3936806,16348847.95976149,16340409.942359356,11561107.980233584,9220782.665541198,-18818515.390806578,-18828678.860316005,-1513956.2067375998,13440615.130838137,-8179132.7943413,-8032792.191744462,11312598.348986682,-8300671.414389395,-14446186.355071936,-19271218.364015583,14237840.796103245,-1520679.9039815138,14254382.872435123,-19908444.52516352,17814458.11164757,16484190.196667952,11097228.530148936,-17104406.739622675,-3792777.5027667037,16318858.48894178,14363520.501208851,-2851237.2496371954,18699236.556421585,15562921.222811898,-10452822.261844832,-10497105.155282399,-10470811.491557026,-10523287.499516975,15906798.261821399,-3746156.9000224797,15844915.75688942,-10465579.475489743,16224448.428800004,-3157232.2659297455,-10590758.24288678,16572221.649987271,-1413334.5190095599,-8029040.724904728,-10527105.758051185,-10479995.349547472,-10963711.932891482,18104078.030844428,16103488.670104034,18823524.76789228,16456026.365497254,12581774.127418952,-12115011.502522757,-14118940.44798695,-10511754.800270792,-10584012.281744706,13886304.976127166,-10482978.71190073,17000879.61318493,-19685415.925359197,15845483.486292463,15643995.20795664,14304365.323801303,-5491635.38371193,-7627299.814580885,-2839637.7586965365,16032244.19599634,15704630.934591737,-1731262.9847151493,-19543906.58866279,17209826.297403906,19677846.199985255,-7764823.913506894,958304.9684429747,927981.539150887,-7304629.138567501,-10560390.285798375,-19577959.220896453,-19556986.628831,-19347572.402750693,13686642.337440351,16384136.238342956,14606319.44257806,1868063.5069510029,13700479.350145955,14592938.839784708,6028117.405691953,5923410.2926518,6144858.15568686,13245249.424495943,18829524.888446037,18804589.322508343,-19287994.211278133,14217825.551658614,14211881.090850255,14221254.191975046,14223180.019165771,18805669.121569037,18797242.236115985,18810967.929330796,18794114.158424694,18796396.207985956,-11862683.612741644,-19276995.84558776,18808697.011718616,-19301107.647293583,-19786471.75910133,-6810348.335547209,18774644.379484948,-19875772.254615694,15972632.608676542,-19968746.293326236,15744806.138819026,-9371976.797936622,-1571185.556954422,5116154.741266219,16133622.856261773,-9404994.158905908,-19815515.014249295,-19093797.359589268,15997913.265035696,-1903663.4801066918,14391383.769754406,18758402.86577821,15645943.299045524,10573548.249610139,-8872942.652659455,14265381.238125501,18776581.338624753,18768288.036560655,18766718.431740474,18776425.491337646,18791709.65742356,-19486309.884126347,15551076.828991493,19760311.67876491,14511408.444727717,19207922.10155053,17057140.48383185,364526.8045516536,-1543366.8162051828,-8478025.62712124,16286175.086444875,14447221.626336314,16008065.60259604,-2608471.704115224,6379386.058890129,16437035.260367919,11891749.131787766,-8940079.43755688,-19900696.688604306,18968629.72414131,13766669.919371633,15609185.603185581,-19869683.078469306,15605556.58778572,-19360374.14419192,15607170.720402226,-19338555.52399644,18639658.36494903,-7910262.828228306,6376324.772893313,6378406.4473711485,240761.79468769205,18871904.218591034,12041907.992918814,-19763306.17306725,-16822913.143253725,-12725977.395792559,14702844.573044907,15879447.062933493,17878344.36741383,-19250691.049913306,8238176.652258052,14114409.744711664,-15826770.679890113,-13070077.073783645,16791877.269220557]],[\"pred_mag\",[5.826981872366586,5.877490345464774,5.895554354662961,5.874109285317706,5.838816337734223,5.96628093737766,5.8972669939534486,5.903318725977232,5.9669568450185535,5.9972455788473695,5.90401166230081,5.877192587659317,5.870372226083125,5.797517878869393,5.864451706731068,5.919782837190876,5.909379986724231,5.972426209299035,5.866787557885646,5.84853659029466,5.934746664017501,5.8529506756582315,5.90401166230081,5.861175973021434,5.90401166230081,5.993689221482037,5.901292618409611,5.995143097558725,5.952390061042302,5.890552943492489,5.869391578021647,5.888335820937136,5.8529506756582315,5.870098530744065,5.923681456933654,5.912388999499899,5.925936060570068,5.910664833274253,5.883151020652072,5.912779723448539,5.869036392162036,5.882383869559627,5.912639512059893,5.934540991417352,5.879310517189394,5.877072744705761,5.889227109529293,5.884875428603904,5.904953103390266,5.835657679169669,5.831853857924947,5.907123955067847,5.861120075492348,5.814975460601167,5.872792912233395,5.867438240381135,5.870700735473475,5.974470172841852,5.934540991417352,5.797517878869393,5.880188945651592,5.88505424210189,5.863914764706466,5.943233919161794,5.899931679168121,5.925936060570068,5.860757944942369,5.870153595460687,5.9131561068693035,5.839446003579036,5.958041128678003,5.887657868263856,5.936691711904784,5.846552423013476,5.859838002383944,5.956149319051483,5.964952178383616,5.964901147626382,5.8549400431648255,5.856276022230188,5.912101197720244,5.924292741712509,5.946164482271408,5.929747915247824,5.907123955067847,5.901724073043771,5.936771378403143,5.900688500308541,5.896908922330523,5.934540991417352,5.934540991417352,5.901650911310967,5.894320242443376,5.894320242443376,5.849530104938881,5.868905487415724,5.862419054315974,5.995143097558725,5.933188427721219,5.831853857924947,5.947396859406856,5.799919803535156,5.905865580307681,5.934927420349907,5.934927420349907,5.89903331938216,5.797517878869393,5.958041128678003,5.827356507003575,5.934927420349907,5.89903331938216,5.928123427568602,5.886227408397308,5.925562622222468,5.881005401558861,5.926119354492744,5.926119354492744,5.881005401558861,5.859041650286821,5.9351750244947885,5.875501119174654,5.936190534689468,5.96212063208098,5.96212063208098,5.963552516179214,5.896935222965292,5.96212063208098,5.928333877119539,5.963552516179214,5.936190534689468,5.831364894110201,5.936190534689468,5.833988071597612,5.9478977618548425,5.891862100944319,5.86674444946174,5.904778248970544,5.927620399412293,5.884080087228649,5.8613129494614515,5.890817106791384,5.861088283873331,5.8921702940204765,5.888335820937136,5.860588349885145,5.831763904730862,5.9683683720673795,5.934182698515996,5.8405662051026255,5.8252351764461965,5.859379960041383,5.947416786675264,5.9246673929303375,5.89700452370095,5.878743793858581,5.839446003579036,5.797517878869393,5.869497023952616,5.893558077264899,5.89903331938216,5.941761431936422,5.98875192343465,5.869497023952616,5.887022399027499,5.967187366848071,5.847204615477091,5.805126611924263,5.796382615564694,5.878939425542951,5.8862993687675065,5.847171061887051,5.870033564286483,5.9122059629640535,5.831789736262288,5.8757426208406525,5.857611190420272,5.798481481526833,5.844212707293725,5.858328849969722,5.925936060570068,5.891795556644379,5.8811413779687625,5.8575115661612305,5.951273043865563,5.901217094323968,5.901217094323968,5.948205929121837,5.9654118043459,5.908604193445746,5.866047941268471,5.944714608628688,5.81877757407279,5.904239591198114,5.799919803535156,5.918461983682475,5.830697362115112,6.020680687906902,5.8753111750796805,5.8549400431648255,5.905865580307681,5.817603236673704,5.951781388922897,5.940363194613981,5.877107974310418,5.796382615564694,5.832191186296563,5.918289277270818,5.891862100944319,5.922551876803626,5.8549400431648255,5.941198905481704,5.93717556012636,5.932391042994453,5.860854783292894,5.940363194613981,5.858328849969722,5.870283412101797,5.850331873794659,5.887082372543329,5.841352642480002,5.970751058502495,5.9278039976594465,5.9278039976594465,5.905728616131829,5.9351750244947885,5.939362381997734,5.939362381997734,5.82265603778222,5.8929316803923175,5.877107974310418,5.850432026859213,5.920419812189206,5.871361230698984,5.797517878869393,5.861175973021434,5.898045595783587,5.867336596349285,5.920966126350005,5.841320993270663,5.918311054534064,5.932275218270407,5.861377183662934,5.867438240381135,5.856276022230188,5.951504809217172,5.920261631038485,5.938904448613871,5.918258888126669,5.931063341648481,5.888275847421307,5.890944198656505,5.946156705644243,5.946156705644243,5.871528232311982,5.856276022230188,5.861335800172293,5.946108977610302,5.919199076667328,5.835224350933696,5.890944198656505,5.969665994316161,5.829767588735587,5.934927420349907,5.869497023952616,5.946156705644243,5.881680575211719,5.919154920006052,5.973800956527046,5.907822867654773,5.933270873061145,5.913857591075901,5.862833043998158,5.958303506661652,5.888275847421307,5.869497023952616,5.901650911310967,5.888275847421307,5.927620399412293,5.834128901768415,5.866533566570039,5.90457573719155,5.902163268448628,5.860854783292894,5.866787557885646,5.865345731564984,5.927954629711162,5.862485428962114,5.822437317270927,5.798481481526833,5.89700452370095,5.855786078165796,5.86000882372037,5.8439484762892775,5.8244627359367716,5.880688441875467,5.887022399027499,5.89049694704294,5.7952889212719105,5.798431204444321,5.8549400431648255,5.919037315392747,5.93717556012636,5.8244627359367716,5.916501422246453,5.859037237907482,5.7962431542672315,5.7962431542672315,5.7962431542672315,5.846552423013476,5.975878103552856,5.903415643106719,5.833185334237694,5.899500962888068,5.899500962888068,5.899500962888068,5.932391042994453,5.983778656039044,5.983778656039044,5.903415643106719,5.903415643106719,5.902377665788245,5.862833043998158,5.833185334237694,5.903415643106719,5.842003940792052,5.849530104938881,5.8555144677018385,5.903415643106719,5.831853857924947,5.880041149245732,5.8335030407600845,5.922181227843127,5.814975460601167,5.859041650286821,5.936334322689458,5.941198905481704,5.951273043865563,5.838645934133626,5.798431204444321,5.859528140338207,5.831364894110201,5.906468993870814,5.903415643106719,5.859866627098541,5.890350796612145,5.881536918902162,5.902129509119286,5.983778656039044,5.983778656039044,5.9165001447798415,5.903415643106719,5.903415643106719,5.877072744705761,5.900688500308541,5.940982013918362,5.93717556012636,5.863844421236668,5.879887929574956,5.85937255302966,5.82265603778222,5.948659292887046,5.949265456828582,5.851658628220401,5.880041149245732,5.865345731564984,5.896226703191951,5.871625674476933,5.8207079798655315,5.951273043865563,5.80736162196301,5.934180327100512,5.928123427568602,5.925609085383198,5.915847308336822,5.9348608769931825,5.8543778730317575,5.92902218523407,5.817603236673704,5.928333877119539,5.950822463892043,5.929747915247824,5.891862100944319,5.927164932449268,5.975878103552856,5.846552423013476,5.849530104938881,5.796382615564694,5.791057881142159,5.904778248970544,5.912041275560247,5.859930582434183,5.82872186047334,5.819901245457091,5.9372549053417565,5.796382615564694,5.805126611924263,5.878935497257785]],[\"year\",[2017,2017,2017,2017,2017,2017,2017,2017,2017,2017,2017,2017,2017,2017,2017,2017,2017,2017,2017,2017,2017,2017,2017,2017,2017,2017,2017,2017,2017,2017,2017,2017,2017,2017,2017,2017,2017,2017,2017,2017,2017,2017,2017,2017,2017,2017,2017,2017,2017,2017,2017,2017,2017,2017,2017,2017,2017,2017,2017,2017,2017,2017,2017,2017,2017,2017,2017,2017,2017,2017,2017,2017,2017,2017,2017,2017,2017,2017,2017,2017,2017,2017,2017,2017,2017,2017,2017,2017,2017,2017,2017,2017,2017,2017,2017,2017,2017,2017,2017,2017,2017,2017,2017,2017,2017,2017,2017,2017,2017,2017,2017,2017,2017,2017,2017,2017,2017,2017,2017,2017,2017,2017,2017,2017,2017,2017,2017,2017,2017,2017,2017,2017,2017,2017,2017,2017,2017,2017,2017,2017,2017,2017,2017,2017,2017,2017,2017,2017,2017,2017,2017,2017,2017,2017,2017,2017,2017,2017,2017,2017,2017,2017,2017,2017,2017,2017,2017,2017,2017,2017,2017,2017,2017,2017,2017,2017,2017,2017,2017,2017,2017,2017,2017,2017,2017,2017,2017,2017,2017,2017,2017,2017,2017,2017,2017,2017,2017,2017,2017,2017,2017,2017,2017,2017,2017,2017,2017,2017,2017,2017,2017,2017,2017,2017,2017,2017,2017,2017,2017,2017,2017,2017,2017,2017,2017,2017,2017,2017,2017,2017,2017,2017,2017,2017,2017,2017,2017,2017,2017,2017,2017,2017,2017,2017,2017,2017,2017,2017,2017,2017,2017,2017,2017,2017,2017,2017,2017,2017,2017,2017,2017,2017,2017,2017,2017,2017,2017,2017,2017,2017,2017,2017,2017,2017,2017,2017,2017,2017,2017,2017,2017,2017,2017,2017,2017,2017,2017,2017,2017,2017,2017,2017,2017,2017,2017,2017,2017,2017,2017,2017,2017,2017,2017,2017,2017,2017,2017,2017,2017,2017,2017,2017,2017,2017,2017,2017,2017,2017,2017,2017,2017,2017,2017,2017,2017,2017,2017,2017,2017,2017,2017,2017,2017,2017,2017,2017,2017,2017,2017,2017,2017,2017,2017,2017,2017,2017,2017,2017,2017,2017,2017,2017,2017,2017,2017,2017,2017,2017,2017,2017,2017,2017,2017,2017,2017,2017,2017,2017,2017,2017,2017,2017,2017,2017,2017,2017,2017,2017,2017,2017,2017,2017,2017,2017,2017,2017,2017,2017,2017,2017,2017,2017,2017,2017,2017,2017,2017]],[\"pred_mag_s\",[23.307927489466344,23.509961381859096,23.582217418651844,23.496437141270825,23.355265350936893,23.86512374951064,23.589067975813794,23.613274903908927,23.867827380074214,23.988982315389478,23.61604664920324,23.508770350637267,23.4814889043325,23.190071515477573,23.457806826924273,23.679131348763505,23.637519946896923,23.88970483719614,23.467150231542583,23.39414636117864,23.738986656070004,23.411802702632926,23.61604664920324,23.444703892085737,23.61604664920324,23.974756885928148,23.605170473638445,23.9805723902349,23.80956024416921,23.562211773969956,23.477566312086587,23.553343283748543,23.411802702632926,23.48039412297626,23.694725827734615,23.649555997999595,23.703744242280273,23.64265933309701,23.532604082608287,23.651118893794155,23.476145568648143,23.529535478238508,23.65055804823957,23.738163965669408,23.517242068757575,23.508290978823045,23.556908438117173,23.539501714415614,23.619812413561064,23.342630716678677,23.327415431699787,23.62849582027139,23.444480301969392,23.25990184240467,23.49117164893358,23.46975296152454,23.4828029418939,23.89788069136741,23.738163965669408,23.190071515477573,23.52075578260637,23.54021696840756,23.455659058825866,23.772935676647176,23.599726716672485,23.703744242280273,23.443031779769477,23.48061438184275,23.652624427477214,23.357784014316145,23.832164514712012,23.550631473055425,23.746766847619135,23.386209692053903,23.439352009535774,23.82459727620593,23.859808713534463,23.859604590505526,23.419760172659302,23.42510408892075,23.648404790880974,23.697170966850035,23.784657929085633,23.718991660991296,23.62849582027139,23.606896292175083,23.74708551361257,23.602754001234164,23.58763568932209,23.738163965669408,23.738163965669408,23.60660364524387,23.577280969773504,23.577280969773504,23.398120419755525,23.475621949662894,23.449676217263896,23.9805723902349,23.732753710884875,23.327415431699787,23.789587437627425,23.199679214140623,23.623462321230726,23.739709681399628,23.739709681399628,23.59613327752864,23.190071515477573,23.832164514712012,23.3094260280143,23.739709681399628,23.59613327752864,23.71249371027441,23.54490963358923,23.702250488889874,23.524021606235443,23.704477417970978,23.704477417970978,23.524021606235443,23.436166601147285,23.740700097979154,23.502004476698616,23.74476213875787,23.84848252832392,23.84848252832392,23.854210064716856,23.587740891861166,23.84848252832392,23.713335508478156,23.854210064716856,23.74476213875787,23.325459576440803,23.74476213875787,23.335952286390448,23.79159104741937,23.567448403777277,23.46697779784696,23.619112995882176,23.71048159764917,23.536320348914597,23.445251797845806,23.563268427165536,23.444353135493323,23.568681176081906,23.553343283748543,23.44235339954058,23.32705561892345,23.873473488269518,23.736730794063984,23.362264820410502,23.300940705784786,23.437519840165532,23.789667146701056,23.69866957172135,23.5880180948038,23.514975175434323,23.357784014316145,23.190071515477573,23.477988095810463,23.574232309059596,23.59613327752864,23.76704572774569,23.9550076937386,23.477988095810463,23.548089596109996,23.868749467392284,23.388818461908365,23.22050644769705,23.185530462258775,23.515757702171804,23.545197475070026,23.388684247548206,23.48013425714593,23.648823851856214,23.327158945049153,23.50297048336261,23.430444761681088,23.193925926107333,23.3768508291749,23.43331539987889,23.703744242280273,23.567182226577515,23.52456551187505,23.430046264644922,23.805092175462253,23.604868377295873,23.604868377295873,23.792823716487348,23.8616472173836,23.634416773782984,23.464191765073885,23.778858434514753,23.27511029629116,23.616958364792456,23.199679214140623,23.6738479347299,23.322789448460448,24.082722751627607,23.501244700318722,23.419760172659302,23.623462321230726,23.270412946694815,23.807125555691588,23.761452778455926,23.50843189724167,23.185530462258775,23.328764745186252,23.673157109083274,23.567448403777277,23.690207507214502,23.419760172659302,23.764795621926815,23.74870224050544,23.729564171977813,23.443419133171577,23.761452778455926,23.43331539987889,23.481133648407187,23.401327495178634,23.548329490173316,23.36541056992001,23.88300423400998,23.711215990637786,23.711215990637786,23.622914464527316,23.740700097979154,23.757449527990936,23.757449527990936,23.29062415112888,23.57172672156927,23.50843189724167,23.401728107436853,23.681679248756826,23.485444922795935,23.190071515477573,23.444703892085737,23.592182383134347,23.46934638539714,23.68386450540002,23.36528397308265,23.673244218136254,23.729100873081627,23.445508734651735,23.46975296152454,23.42510408892075,23.80601923686869,23.68104652415394,23.755617794455485,23.673035552506676,23.724253366593924,23.553103389685226,23.56377679462602,23.78462682257697,23.78462682257697,23.486112929247927,23.42510408892075,23.445343200689173,23.784435910441207,23.676796306669313,23.340897403734783,23.56377679462602,23.878663977264644,23.319070354942347,23.739709681399628,23.477988095810463,23.78462682257697,23.526722300846878,23.676619680024206,23.895203826108183,23.631291470619093,23.73308349224458,23.655430364303605,23.451332175992633,23.83321402664661,23.553103389685226,23.477988095810463,23.60660364524387,23.553103389685226,23.71048159764917,23.33651560707366,23.466134266280157,23.6183029487662,23.60865307379451,23.443419133171577,23.467150231542583,23.461382926259937,23.711818518844648,23.449941715848457,23.289749269083707,23.193925926107333,23.5880180948038,23.423144312663183,23.44003529488148,23.37579390515711,23.297850943747086,23.522753767501868,23.548089596109996,23.56198778817176,23.181155685087642,23.193724817777284,23.419760172659302,23.676149261570988,23.74870224050544,23.297850943747086,23.666005688985813,23.436148951629928,23.184972617068926,23.184972617068926,23.184972617068926,23.386209692053903,23.903512414211423,23.613662572426875,23.332741336950775,23.59800385155227,23.59800385155227,23.59800385155227,23.729564171977813,23.935114624156174,23.935114624156174,23.613662572426875,23.613662572426875,23.60951066315298,23.451332175992633,23.332741336950775,23.613662572426875,23.36801576316821,23.398120419755525,23.422057870807354,23.613662572426875,23.327415431699787,23.520164596982926,23.334012163040338,23.688724911372507,23.25990184240467,23.436166601147285,23.74533729075783,23.764795621926815,23.805092175462253,23.354583736534504,23.193724817777284,23.438112561352828,23.325459576440803,23.625875975483257,23.613662572426875,23.439466508394165,23.56140318644858,23.526147675608648,23.608518036477143,23.935114624156174,23.935114624156174,23.666000579119366,23.613662572426875,23.613662572426875,23.508290978823045,23.602754001234164,23.763928055673446,23.74870224050544,23.455377684946672,23.519551718299823,23.43749021211864,23.29062415112888,23.794637171548185,23.797061827314327,23.406634512881602,23.520164596982926,23.461382926259937,23.584906812767805,23.48650269790773,23.282831919462126,23.805092175462253,23.22944648785204,23.736721308402046,23.71249371027441,23.702436341532792,23.66338923334729,23.73944350797273,23.41751149212703,23.71608874093628,23.270412946694815,23.713335508478156,23.80328985556817,23.718991660991296,23.567448403777277,23.708659729797073,23.903512414211423,23.386209692053903,23.398120419755525,23.185530462258775,23.164231524568635,23.619112995882176,23.648165102240988,23.439722329736732,23.31488744189336,23.279604981828363,23.749019621367026,23.185530462258775,23.22050644769705,23.51574198903114]]]}}},\"view\":{\"type\":\"object\",\"name\":\"CDSView\",\"id\":\"p1057\",\"attributes\":{\"filter\":{\"type\":\"object\",\"name\":\"AllIndices\",\"id\":\"p1058\"}}},\"glyph\":{\"type\":\"object\",\"name\":\"Circle\",\"id\":\"p1053\",\"attributes\":{\"x\":{\"type\":\"field\",\"field\":\"pred_long\"},\"y\":{\"type\":\"field\",\"field\":\"pred_lat\"},\"size\":{\"type\":\"field\",\"field\":\"pred_mag_s\"},\"line_color\":{\"type\":\"value\",\"value\":\"#1f77b4\"},\"fill_color\":{\"type\":\"value\",\"value\":\"#ccff33\"},\"fill_alpha\":{\"type\":\"value\",\"value\":7.0}}},\"nonselection_glyph\":{\"type\":\"object\",\"name\":\"Circle\",\"id\":\"p1054\",\"attributes\":{\"x\":{\"type\":\"field\",\"field\":\"pred_long\"},\"y\":{\"type\":\"field\",\"field\":\"pred_lat\"},\"size\":{\"type\":\"field\",\"field\":\"pred_mag_s\"},\"line_color\":{\"type\":\"value\",\"value\":\"#1f77b4\"},\"line_alpha\":{\"type\":\"value\",\"value\":0.1},\"fill_color\":{\"type\":\"value\",\"value\":\"#ccff33\"},\"fill_alpha\":{\"type\":\"value\",\"value\":0.1},\"hatch_alpha\":{\"type\":\"value\",\"value\":0.1}}},\"muted_glyph\":{\"type\":\"object\",\"name\":\"Circle\",\"id\":\"p1055\",\"attributes\":{\"x\":{\"type\":\"field\",\"field\":\"pred_long\"},\"y\":{\"type\":\"field\",\"field\":\"pred_lat\"},\"size\":{\"type\":\"field\",\"field\":\"pred_mag_s\"},\"line_color\":{\"type\":\"value\",\"value\":\"#1f77b4\"},\"line_alpha\":{\"type\":\"value\",\"value\":0.2},\"fill_color\":{\"type\":\"value\",\"value\":\"#ccff33\"},\"fill_alpha\":{\"type\":\"value\",\"value\":0.2},\"hatch_alpha\":{\"type\":\"value\",\"value\":0.2}}}}},{\"type\":\"object\",\"name\":\"TileRenderer\",\"id\":\"p1061\",\"attributes\":{\"tile_source\":{\"type\":\"object\",\"name\":\"WMTSTileSource\",\"id\":\"p1060\",\"attributes\":{\"url\":\"https://a.basemaps.cartocdn.com/light_all/{z}/{x}/{y}.png\",\"max_zoom\":20,\"attribution\":\"&copy; <a href=\\\"https://www.openstreetmap.org/copyright\\\">OpenStreetMap</a> contributors &copy; <a href=\\\"https://carto.com/attributions\\\">CARTO</a>\"}}}}],\"toolbar\":{\"type\":\"object\",\"name\":\"Toolbar\",\"id\":\"p1016\",\"attributes\":{\"tools\":[{\"type\":\"object\",\"name\":\"PanTool\",\"id\":\"p1031\"},{\"type\":\"object\",\"name\":\"WheelZoomTool\",\"id\":\"p1032\"},{\"type\":\"object\",\"name\":\"BoxZoomTool\",\"id\":\"p1033\",\"attributes\":{\"overlay\":{\"type\":\"object\",\"name\":\"BoxAnnotation\",\"id\":\"p1034\",\"attributes\":{\"syncable\":false,\"level\":\"overlay\",\"visible\":false,\"left_units\":\"canvas\",\"right_units\":\"canvas\",\"bottom_units\":\"canvas\",\"top_units\":\"canvas\",\"line_color\":\"black\",\"line_alpha\":1.0,\"line_width\":2,\"line_dash\":[4,4],\"fill_color\":\"lightgrey\",\"fill_alpha\":0.5}}}},{\"type\":\"object\",\"name\":\"SaveTool\",\"id\":\"p1035\"},{\"type\":\"object\",\"name\":\"ResetTool\",\"id\":\"p1036\"},{\"type\":\"object\",\"name\":\"HelpTool\",\"id\":\"p1037\"},{\"type\":\"object\",\"name\":\"HoverTool\",\"id\":\"p1038\",\"attributes\":{\"renderers\":\"auto\",\"tooltips\":[[\"Year\",\" @year\"],[\"Magnitude\",\" @mag\"],[\"Predicted Magnitude\",\" @pred_mag\"]]}}]}},\"left\":[{\"type\":\"object\",\"name\":\"LinearAxis\",\"id\":\"p1026\",\"attributes\":{\"visible\":false,\"ticker\":{\"type\":\"object\",\"name\":\"BasicTicker\",\"id\":\"p1027\",\"attributes\":{\"mantissas\":[1,2,5]}},\"formatter\":{\"type\":\"object\",\"name\":\"BasicTickFormatter\",\"id\":\"p1028\"},\"major_label_policy\":{\"type\":\"object\",\"name\":\"AllLabels\",\"id\":\"p1029\"}}}],\"below\":[{\"type\":\"object\",\"name\":\"LinearAxis\",\"id\":\"p1021\",\"attributes\":{\"visible\":false,\"ticker\":{\"type\":\"object\",\"name\":\"BasicTicker\",\"id\":\"p1022\",\"attributes\":{\"mantissas\":[1,2,5]}},\"formatter\":{\"type\":\"object\",\"name\":\"BasicTickFormatter\",\"id\":\"p1023\"},\"major_label_policy\":{\"type\":\"object\",\"name\":\"AllLabels\",\"id\":\"p1024\"}}}],\"center\":[{\"type\":\"object\",\"name\":\"Grid\",\"id\":\"p1025\",\"attributes\":{\"axis\":{\"id\":\"p1021\"},\"grid_line_color\":null}},{\"type\":\"object\",\"name\":\"Grid\",\"id\":\"p1030\",\"attributes\":{\"dimension\":1,\"axis\":{\"id\":\"p1026\"},\"grid_line_color\":null}},{\"type\":\"object\",\"name\":\"Legend\",\"id\":\"p1048\",\"attributes\":{\"location\":\"bottom_right\",\"background_fill_color\":\"black\",\"background_fill_alpha\":0.8,\"click_policy\":\"hide\",\"label_text_color\":\"white\",\"items\":[{\"type\":\"object\",\"name\":\"LegendItem\",\"id\":\"p1049\",\"attributes\":{\"label\":{\"type\":\"value\",\"value\":\"Quakes 2016\"},\"renderers\":[{\"id\":\"p1045\"}]}},{\"type\":\"object\",\"name\":\"LegendItem\",\"id\":\"p1059\",\"attributes\":{\"label\":{\"type\":\"value\",\"value\":\"Predicted Quakes 2017\"},\"renderers\":[{\"id\":\"p1056\"}]}}]}}]}}]}};\n",
       "  const render_items = [{\"docid\":\"d400aa21-c618-4704-9ab7-113a8ee0f9c6\",\"roots\":{\"p1007\":\"c7756f36-aaf3-407d-8f47-e903b0f73c39\"},\"root_ids\":[\"p1007\"]}];\n",
       "  root.Bokeh.embed.embed_items_notebook(docs_json, render_items);\n",
       "  }\n",
       "  if (root.Bokeh !== undefined) {\n",
       "    embed_document(root);\n",
       "  } else {\n",
       "    let attempts = 0;\n",
       "    const timer = setInterval(function(root) {\n",
       "      if (root.Bokeh !== undefined) {\n",
       "        clearInterval(timer);\n",
       "        embed_document(root);\n",
       "      } else {\n",
       "        attempts++;\n",
       "        if (attempts > 100) {\n",
       "          clearInterval(timer);\n",
       "          console.log(\"Bokeh: ERROR: Unable to run BokehJS code because BokehJS library is missing\");\n",
       "        }\n",
       "      }\n",
       "    }, 10, root)\n",
       "  }\n",
       "})(window);"
      ],
      "application/vnd.bokehjs_exec.v0+json": ""
     },
     "metadata": {
      "application/vnd.bokehjs_exec.v0+json": {
       "id": "p1007"
      }
     },
     "output_type": "display_data"
    },
    {
     "data": {
      "text/html": [
       "<div style=\"display: table;\"><div style=\"display: table-row;\"><div style=\"display: table-cell;\"><b title=\"bokeh.plotting._figure.figure\">figure</b>(</div><div style=\"display: table-cell;\">id&nbsp;=&nbsp;'p1007', <span id=\"p1064\" style=\"cursor: pointer;\">&hellip;)</span></div></div><div class=\"p1063\" style=\"display: none;\"><div style=\"display: table-cell;\"></div><div style=\"display: table-cell;\">above&nbsp;=&nbsp;[],</div></div><div class=\"p1063\" style=\"display: none;\"><div style=\"display: table-cell;\"></div><div style=\"display: table-cell;\">align&nbsp;=&nbsp;'auto',</div></div><div class=\"p1063\" style=\"display: none;\"><div style=\"display: table-cell;\"></div><div style=\"display: table-cell;\">aspect_ratio&nbsp;=&nbsp;None,</div></div><div class=\"p1063\" style=\"display: none;\"><div style=\"display: table-cell;\"></div><div style=\"display: table-cell;\">aspect_scale&nbsp;=&nbsp;1,</div></div><div class=\"p1063\" style=\"display: none;\"><div style=\"display: table-cell;\"></div><div style=\"display: table-cell;\">background_fill_alpha&nbsp;=&nbsp;1.0,</div></div><div class=\"p1063\" style=\"display: none;\"><div style=\"display: table-cell;\"></div><div style=\"display: table-cell;\">background_fill_color&nbsp;=&nbsp;'#ffffff',</div></div><div class=\"p1063\" style=\"display: none;\"><div style=\"display: table-cell;\"></div><div style=\"display: table-cell;\">below&nbsp;=&nbsp;[LinearAxis(id='p1021', ...)],</div></div><div class=\"p1063\" style=\"display: none;\"><div style=\"display: table-cell;\"></div><div style=\"display: table-cell;\">border_fill_alpha&nbsp;=&nbsp;1.0,</div></div><div class=\"p1063\" style=\"display: none;\"><div style=\"display: table-cell;\"></div><div style=\"display: table-cell;\">border_fill_color&nbsp;=&nbsp;'#ffffff',</div></div><div class=\"p1063\" style=\"display: none;\"><div style=\"display: table-cell;\"></div><div style=\"display: table-cell;\">center&nbsp;=&nbsp;[Grid(id='p1025', ...), Grid(id='p1030', ...), Legend(id='p1048', ...)],</div></div><div class=\"p1063\" style=\"display: none;\"><div style=\"display: table-cell;\"></div><div style=\"display: table-cell;\">context_menu&nbsp;=&nbsp;None,</div></div><div class=\"p1063\" style=\"display: none;\"><div style=\"display: table-cell;\"></div><div style=\"display: table-cell;\">css_classes&nbsp;=&nbsp;[],</div></div><div class=\"p1063\" style=\"display: none;\"><div style=\"display: table-cell;\"></div><div style=\"display: table-cell;\">disabled&nbsp;=&nbsp;False,</div></div><div class=\"p1063\" style=\"display: none;\"><div style=\"display: table-cell;\"></div><div style=\"display: table-cell;\">extra_x_ranges&nbsp;=&nbsp;{},</div></div><div class=\"p1063\" style=\"display: none;\"><div style=\"display: table-cell;\"></div><div style=\"display: table-cell;\">extra_x_scales&nbsp;=&nbsp;{},</div></div><div class=\"p1063\" style=\"display: none;\"><div style=\"display: table-cell;\"></div><div style=\"display: table-cell;\">extra_y_ranges&nbsp;=&nbsp;{},</div></div><div class=\"p1063\" style=\"display: none;\"><div style=\"display: table-cell;\"></div><div style=\"display: table-cell;\">extra_y_scales&nbsp;=&nbsp;{},</div></div><div class=\"p1063\" style=\"display: none;\"><div style=\"display: table-cell;\"></div><div style=\"display: table-cell;\">flow_mode&nbsp;=&nbsp;'block',</div></div><div class=\"p1063\" style=\"display: none;\"><div style=\"display: table-cell;\"></div><div style=\"display: table-cell;\">frame_align&nbsp;=&nbsp;True,</div></div><div class=\"p1063\" style=\"display: none;\"><div style=\"display: table-cell;\"></div><div style=\"display: table-cell;\">frame_height&nbsp;=&nbsp;None,</div></div><div class=\"p1063\" style=\"display: none;\"><div style=\"display: table-cell;\"></div><div style=\"display: table-cell;\">frame_width&nbsp;=&nbsp;None,</div></div><div class=\"p1063\" style=\"display: none;\"><div style=\"display: table-cell;\"></div><div style=\"display: table-cell;\">height&nbsp;=&nbsp;450,</div></div><div class=\"p1063\" style=\"display: none;\"><div style=\"display: table-cell;\"></div><div style=\"display: table-cell;\">height_policy&nbsp;=&nbsp;'auto',</div></div><div class=\"p1063\" style=\"display: none;\"><div style=\"display: table-cell;\"></div><div style=\"display: table-cell;\">hidpi&nbsp;=&nbsp;True,</div></div><div class=\"p1063\" style=\"display: none;\"><div style=\"display: table-cell;\"></div><div style=\"display: table-cell;\">hold_render&nbsp;=&nbsp;False,</div></div><div class=\"p1063\" style=\"display: none;\"><div style=\"display: table-cell;\"></div><div style=\"display: table-cell;\">js_event_callbacks&nbsp;=&nbsp;{},</div></div><div class=\"p1063\" style=\"display: none;\"><div style=\"display: table-cell;\"></div><div style=\"display: table-cell;\">js_property_callbacks&nbsp;=&nbsp;{},</div></div><div class=\"p1063\" style=\"display: none;\"><div style=\"display: table-cell;\"></div><div style=\"display: table-cell;\">left&nbsp;=&nbsp;[LinearAxis(id='p1026', ...)],</div></div><div class=\"p1063\" style=\"display: none;\"><div style=\"display: table-cell;\"></div><div style=\"display: table-cell;\">lod_factor&nbsp;=&nbsp;10,</div></div><div class=\"p1063\" style=\"display: none;\"><div style=\"display: table-cell;\"></div><div style=\"display: table-cell;\">lod_interval&nbsp;=&nbsp;300,</div></div><div class=\"p1063\" style=\"display: none;\"><div style=\"display: table-cell;\"></div><div style=\"display: table-cell;\">lod_threshold&nbsp;=&nbsp;2000,</div></div><div class=\"p1063\" style=\"display: none;\"><div style=\"display: table-cell;\"></div><div style=\"display: table-cell;\">lod_timeout&nbsp;=&nbsp;500,</div></div><div class=\"p1063\" style=\"display: none;\"><div style=\"display: table-cell;\"></div><div style=\"display: table-cell;\">margin&nbsp;=&nbsp;None,</div></div><div class=\"p1063\" style=\"display: none;\"><div style=\"display: table-cell;\"></div><div style=\"display: table-cell;\">match_aspect&nbsp;=&nbsp;False,</div></div><div class=\"p1063\" style=\"display: none;\"><div style=\"display: table-cell;\"></div><div style=\"display: table-cell;\">max_height&nbsp;=&nbsp;None,</div></div><div class=\"p1063\" style=\"display: none;\"><div style=\"display: table-cell;\"></div><div style=\"display: table-cell;\">max_width&nbsp;=&nbsp;None,</div></div><div class=\"p1063\" style=\"display: none;\"><div style=\"display: table-cell;\"></div><div style=\"display: table-cell;\">min_border&nbsp;=&nbsp;5,</div></div><div class=\"p1063\" style=\"display: none;\"><div style=\"display: table-cell;\"></div><div style=\"display: table-cell;\">min_border_bottom&nbsp;=&nbsp;None,</div></div><div class=\"p1063\" style=\"display: none;\"><div style=\"display: table-cell;\"></div><div style=\"display: table-cell;\">min_border_left&nbsp;=&nbsp;None,</div></div><div class=\"p1063\" style=\"display: none;\"><div style=\"display: table-cell;\"></div><div style=\"display: table-cell;\">min_border_right&nbsp;=&nbsp;None,</div></div><div class=\"p1063\" style=\"display: none;\"><div style=\"display: table-cell;\"></div><div style=\"display: table-cell;\">min_border_top&nbsp;=&nbsp;None,</div></div><div class=\"p1063\" style=\"display: none;\"><div style=\"display: table-cell;\"></div><div style=\"display: table-cell;\">min_height&nbsp;=&nbsp;None,</div></div><div class=\"p1063\" style=\"display: none;\"><div style=\"display: table-cell;\"></div><div style=\"display: table-cell;\">min_width&nbsp;=&nbsp;None,</div></div><div class=\"p1063\" style=\"display: none;\"><div style=\"display: table-cell;\"></div><div style=\"display: table-cell;\">name&nbsp;=&nbsp;None,</div></div><div class=\"p1063\" style=\"display: none;\"><div style=\"display: table-cell;\"></div><div style=\"display: table-cell;\">outline_line_alpha&nbsp;=&nbsp;1.0,</div></div><div class=\"p1063\" style=\"display: none;\"><div style=\"display: table-cell;\"></div><div style=\"display: table-cell;\">outline_line_cap&nbsp;=&nbsp;'butt',</div></div><div class=\"p1063\" style=\"display: none;\"><div style=\"display: table-cell;\"></div><div style=\"display: table-cell;\">outline_line_color&nbsp;=&nbsp;'#e5e5e5',</div></div><div class=\"p1063\" style=\"display: none;\"><div style=\"display: table-cell;\"></div><div style=\"display: table-cell;\">outline_line_dash&nbsp;=&nbsp;[],</div></div><div class=\"p1063\" style=\"display: none;\"><div style=\"display: table-cell;\"></div><div style=\"display: table-cell;\">outline_line_dash_offset&nbsp;=&nbsp;0,</div></div><div class=\"p1063\" style=\"display: none;\"><div style=\"display: table-cell;\"></div><div style=\"display: table-cell;\">outline_line_join&nbsp;=&nbsp;'bevel',</div></div><div class=\"p1063\" style=\"display: none;\"><div style=\"display: table-cell;\"></div><div style=\"display: table-cell;\">outline_line_width&nbsp;=&nbsp;1,</div></div><div class=\"p1063\" style=\"display: none;\"><div style=\"display: table-cell;\"></div><div style=\"display: table-cell;\">output_backend&nbsp;=&nbsp;'canvas',</div></div><div class=\"p1063\" style=\"display: none;\"><div style=\"display: table-cell;\"></div><div style=\"display: table-cell;\">renderers&nbsp;=&nbsp;[GlyphRenderer(id='p1045', ...), GlyphRenderer(id='p1056', ...), TileRenderer(id='p1061', ...)],</div></div><div class=\"p1063\" style=\"display: none;\"><div style=\"display: table-cell;\"></div><div style=\"display: table-cell;\">reset_policy&nbsp;=&nbsp;'standard',</div></div><div class=\"p1063\" style=\"display: none;\"><div style=\"display: table-cell;\"></div><div style=\"display: table-cell;\">resizable&nbsp;=&nbsp;False,</div></div><div class=\"p1063\" style=\"display: none;\"><div style=\"display: table-cell;\"></div><div style=\"display: table-cell;\">right&nbsp;=&nbsp;[],</div></div><div class=\"p1063\" style=\"display: none;\"><div style=\"display: table-cell;\"></div><div style=\"display: table-cell;\">sizing_mode&nbsp;=&nbsp;None,</div></div><div class=\"p1063\" style=\"display: none;\"><div style=\"display: table-cell;\"></div><div style=\"display: table-cell;\">styles&nbsp;=&nbsp;{},</div></div><div class=\"p1063\" style=\"display: none;\"><div style=\"display: table-cell;\"></div><div style=\"display: table-cell;\">stylesheets&nbsp;=&nbsp;[],</div></div><div class=\"p1063\" style=\"display: none;\"><div style=\"display: table-cell;\"></div><div style=\"display: table-cell;\">subscribed_events&nbsp;=&nbsp;PropertyValueSet(),</div></div><div class=\"p1063\" style=\"display: none;\"><div style=\"display: table-cell;\"></div><div style=\"display: table-cell;\">syncable&nbsp;=&nbsp;True,</div></div><div class=\"p1063\" style=\"display: none;\"><div style=\"display: table-cell;\"></div><div style=\"display: table-cell;\">tags&nbsp;=&nbsp;[],</div></div><div class=\"p1063\" style=\"display: none;\"><div style=\"display: table-cell;\"></div><div style=\"display: table-cell;\">title&nbsp;=&nbsp;Title(id='p1010', ...),</div></div><div class=\"p1063\" style=\"display: none;\"><div style=\"display: table-cell;\"></div><div style=\"display: table-cell;\">title_location&nbsp;=&nbsp;'above',</div></div><div class=\"p1063\" style=\"display: none;\"><div style=\"display: table-cell;\"></div><div style=\"display: table-cell;\">toolbar&nbsp;=&nbsp;Toolbar(id='p1016', ...),</div></div><div class=\"p1063\" style=\"display: none;\"><div style=\"display: table-cell;\"></div><div style=\"display: table-cell;\">toolbar_inner&nbsp;=&nbsp;False,</div></div><div class=\"p1063\" style=\"display: none;\"><div style=\"display: table-cell;\"></div><div style=\"display: table-cell;\">toolbar_location&nbsp;=&nbsp;'right',</div></div><div class=\"p1063\" style=\"display: none;\"><div style=\"display: table-cell;\"></div><div style=\"display: table-cell;\">toolbar_sticky&nbsp;=&nbsp;True,</div></div><div class=\"p1063\" style=\"display: none;\"><div style=\"display: table-cell;\"></div><div style=\"display: table-cell;\">visible&nbsp;=&nbsp;True,</div></div><div class=\"p1063\" style=\"display: none;\"><div style=\"display: table-cell;\"></div><div style=\"display: table-cell;\">width&nbsp;=&nbsp;2300,</div></div><div class=\"p1063\" style=\"display: none;\"><div style=\"display: table-cell;\"></div><div style=\"display: table-cell;\">width_policy&nbsp;=&nbsp;'auto',</div></div><div class=\"p1063\" style=\"display: none;\"><div style=\"display: table-cell;\"></div><div style=\"display: table-cell;\">x_range&nbsp;=&nbsp;Range1d(id='p1017', ...),</div></div><div class=\"p1063\" style=\"display: none;\"><div style=\"display: table-cell;\"></div><div style=\"display: table-cell;\">x_scale&nbsp;=&nbsp;LinearScale(id='p1019', ...),</div></div><div class=\"p1063\" style=\"display: none;\"><div style=\"display: table-cell;\"></div><div style=\"display: table-cell;\">y_range&nbsp;=&nbsp;Range1d(id='p1018', ...),</div></div><div class=\"p1063\" style=\"display: none;\"><div style=\"display: table-cell;\"></div><div style=\"display: table-cell;\">y_scale&nbsp;=&nbsp;LinearScale(id='p1020', ...))</div></div></div>\n",
       "<script>\n",
       "(function() {\n",
       "  let expanded = false;\n",
       "  const ellipsis = document.getElementById(\"p1064\");\n",
       "  ellipsis.addEventListener(\"click\", function() {\n",
       "    const rows = document.getElementsByClassName(\"p1063\");\n",
       "    for (let i = 0; i < rows.length; i++) {\n",
       "      const el = rows[i];\n",
       "      el.style.display = expanded ? \"none\" : \"table-row\";\n",
       "    }\n",
       "    ellipsis.innerHTML = expanded ? \"&hellip;)\" : \"&lsaquo;&lsaquo;&lsaquo;\";\n",
       "    expanded = !expanded;\n",
       "  });\n",
       "})();\n",
       "</script>\n"
      ],
      "text/plain": [
       "figure(id='p1007', ...)"
      ]
     },
     "execution_count": 42,
     "metadata": {},
     "output_type": "execute_result"
    }
   ],
   "source": [
    "# Create the Geo Map plot\n",
    "def plotMap():\n",
    "    lat = df_quakes_2016['Latitude'].values.tolist()\n",
    "    lon = df_quakes_2016['Longitude'].values.tolist()\n",
    "    \n",
    "    pred_lat = df_quake_pred['Latitude'].values.tolist()\n",
    "    pred_lon = df_quake_pred['Longitude'].values.tolist()\n",
    "    \n",
    "    lst_lat = []\n",
    "    lst_lon = []\n",
    "    lst_pred_lat = []\n",
    "    lst_pred_lon = []\n",
    "    \n",
    "    i=0\n",
    "    j=0\n",
    "    \n",
    "    # Convert Lat and Long values into merc_projection format\n",
    "    for i in range(len(lon)):\n",
    "        r_major = 6378137.000\n",
    "        x = r_major * math.radians(lon[i])\n",
    "        scale = x/lon[i]\n",
    "        y = 180.0/math.pi * math.log(math.tan(math.pi/4.0 +\n",
    "            lat[i] * (math.pi/180.0)/2.0)) * scale\n",
    "        \n",
    "        lst_lon.append(x)\n",
    "        lst_lat.append(y)\n",
    "        i += 1\n",
    "        \n",
    "    # Convert predicted lat and long values into merc_projection format\n",
    "    for j in range(len(pred_lon)):\n",
    "        r_major = 6378137.000\n",
    "        x = r_major * math.radians(pred_lon[j])\n",
    "        scale = x/pred_lon[j]\n",
    "        y = 180.0/math.pi * math.log(math.tan(math.pi/4.0 +\n",
    "            pred_lat[j] * (math.pi/180.0)/2.0)) * scale\n",
    "        \n",
    "        lst_pred_lon.append(x)\n",
    "        lst_pred_lat.append(y)\n",
    "        j += 1\n",
    "    \n",
    "    \n",
    "    df_quakes_2016['coords_x'] = lst_lat\n",
    "    df_quakes_2016['coords_y'] = lst_lon\n",
    "    df_quake_pred['coords_x'] = lst_pred_lat\n",
    "    df_quake_pred['coords_y'] = lst_pred_lon\n",
    "    \n",
    "    # Scale the circles\n",
    "    df_quakes_2016['Mag_Size'] = df_quakes_2016['Magnitude'] * 4\n",
    "    df_quake_pred['Mag_Size'] = df_quake_pred['Pred_Magnitude'] * 4\n",
    "    \n",
    "    # create datasources for our ColumnDataSource object\n",
    "    lats = df_quakes_2016['coords_x'].tolist()\n",
    "    longs = df_quakes_2016['coords_y'].tolist()\n",
    "    mags = df_quakes_2016['Magnitude'].tolist()\n",
    "    years = df_quakes_2016['Year'].tolist()\n",
    "    mag_size = df_quakes_2016['Mag_Size'].tolist()\n",
    "    \n",
    "    pred_lats = df_quake_pred['coords_x'].tolist()\n",
    "    pred_longs = df_quake_pred['coords_y'].tolist()\n",
    "    pred_mags = df_quake_pred['Pred_Magnitude'].tolist()\n",
    "    pred_year = df_quake_pred['Year'].tolist()\n",
    "    pred_mag_size = df_quake_pred['Mag_Size'].tolist()\n",
    "    \n",
    "    # Create column datasource\n",
    "    cds = ColumnDataSource(\n",
    "        data=dict(\n",
    "            lat=lats,\n",
    "            lon=longs,\n",
    "            mag=mags,\n",
    "            year=years,\n",
    "            mag_s=mag_size\n",
    "        )\n",
    "    )\n",
    "    \n",
    "    pred_cds = ColumnDataSource(\n",
    "        data=dict(\n",
    "            pred_lat=pred_lats,\n",
    "            pred_long=pred_longs,\n",
    "            pred_mag=pred_mags,\n",
    "            year=pred_year,\n",
    "            pred_mag_s=pred_mag_size\n",
    "        )\n",
    "    )\n",
    "    \n",
    "    # Tooltips\n",
    "    TOOLTIPS = [\n",
    "        (\"Year\", \" @year\"),\n",
    "        (\"Magnitude\", \" @mag\"),\n",
    "        (\"Predicted Magnitude\", \" @pred_mag\")\n",
    "    ]\n",
    "    \n",
    "    # Create figure\n",
    "    p = figure(title='Earthquake Map',\n",
    "              width=2300, height=450,  # Use width and height instead of plot_width and plot_height\n",
    "              x_range=(-2000000, 6000000),\n",
    "              y_range=(-1000000, 7000000),\n",
    "              tooltips=TOOLTIPS)\n",
    "    \n",
    "    p.circle(x='lon', y='lat', size='mag_s', fill_color='#cc0000', fill_alpha=0.7,\n",
    "            source=cds, legend_label='Quakes 2016')  # Use legend_label instead of legend\n",
    "    \n",
    "    # Add circles for our predicted earthquakes\n",
    "    p.circle(x='pred_long', y='pred_lat', size='pred_mag_s', fill_color='#ccff33', fill_alpha=7.0,\n",
    "            source=pred_cds, legend_label='Predicted Quakes 2017')  # Use legend_label instead of legend\n",
    "    \n",
    "    p.add_tile(CARTODBPOSITRON)\n",
    "    \n",
    "    # Style the map plot\n",
    "    # Title\n",
    "    p.title.align='center'\n",
    "    p.title.text_font_size='20pt'\n",
    "    p.title.text_font='serif'\n",
    "    \n",
    "    # Legend\n",
    "    p.legend.location='bottom_right'\n",
    "    p.legend.background_fill_color='black'\n",
    "    p.legend.background_fill_alpha=0.8\n",
    "    p.legend.click_policy='hide'\n",
    "    p.legend.label_text_color='white'\n",
    "    p.xaxis.visible=False\n",
    "    p.yaxis.visible=False\n",
    "    p.axis.axis_label=None\n",
    "    p.axis.visible=False\n",
    "    p.grid.grid_line_color=None\n",
    "    \n",
    "    show(p)\n",
    "    \n",
    "    return p\n",
    "    \n",
    "plotMap()\n"
   ]
  },
  {
   "cell_type": "code",
   "execution_count": 43,
   "id": "7327f484",
   "metadata": {},
   "outputs": [
    {
     "data": {
      "text/html": [
       "\n",
       "  <div id=\"e9af6a2c-4d1a-4341-a730-580c1109cfcc\" data-root-id=\"p1068\" style=\"display: contents;\"></div>\n"
      ]
     },
     "metadata": {},
     "output_type": "display_data"
    },
    {
     "data": {
      "application/javascript": [
       "(function(root) {\n",
       "  function embed_document(root) {\n",
       "  const docs_json = {\"710064dd-3d11-4c03-b5a3-c9a6c7d3767e\":{\"version\":\"3.2.1\",\"title\":\"Bokeh Application\",\"roots\":[{\"type\":\"object\",\"name\":\"Figure\",\"id\":\"p1068\",\"attributes\":{\"width\":1150,\"height\":400,\"x_range\":{\"type\":\"object\",\"name\":\"DataRange1d\",\"id\":\"p1070\"},\"y_range\":{\"type\":\"object\",\"name\":\"Range1d\",\"id\":\"p1078\",\"attributes\":{\"end\":460}},\"x_scale\":{\"type\":\"object\",\"name\":\"LinearScale\",\"id\":\"p1079\"},\"y_scale\":{\"type\":\"object\",\"name\":\"LinearScale\",\"id\":\"p1080\"},\"title\":{\"type\":\"object\",\"name\":\"Title\",\"id\":\"p1071\",\"attributes\":{\"text\":\"Frequency of Earthquakes by Year\",\"text_font\":\"serif\",\"text_font_size\":\"20pt\",\"align\":\"center\"}},\"renderers\":[{\"type\":\"object\",\"name\":\"GlyphRenderer\",\"id\":\"p1105\",\"attributes\":{\"data_source\":{\"type\":\"object\",\"name\":\"ColumnDataSource\",\"id\":\"p1065\",\"attributes\":{\"selected\":{\"type\":\"object\",\"name\":\"Selection\",\"id\":\"p1066\",\"attributes\":{\"indices\":[],\"line_indices\":[]}},\"selection_policy\":{\"type\":\"object\",\"name\":\"UnionRenderers\",\"id\":\"p1067\"},\"data\":{\"type\":\"map\",\"entries\":[[\"yrs\",[1990,1975,1977,2003,2007,1974,2015,2006,1978,2013,1988,1997,1994,1968,2014,1973,1979,1971,1966,2004,1991,1967,1969,1982,1989,1996,1998,1965,1985,1970,2012,1987,2009,2016,1995,1980,2001,1972,1992,1983,2005,1984,2000,1981,2010,1986,2011,1976,2008,1999,2002,1993]],[\"numQuakes\",[196,150,148,187,211,147,175,176,158,202,196,183,215,106,198,144,118,148,98,227,168,103,114,135,177,242,154,156,210,142,182,213,228,164,205,120,157,178,190,177,230,161,213,117,211,175,360,173,214,170,182,197]]]}}},\"view\":{\"type\":\"object\",\"name\":\"CDSView\",\"id\":\"p1106\",\"attributes\":{\"filter\":{\"type\":\"object\",\"name\":\"AllIndices\",\"id\":\"p1107\"}}},\"glyph\":{\"type\":\"object\",\"name\":\"VBar\",\"id\":\"p1102\",\"attributes\":{\"x\":{\"type\":\"field\",\"field\":\"yrs\"},\"width\":{\"type\":\"value\",\"value\":0.75},\"top\":{\"type\":\"field\",\"field\":\"numQuakes\"},\"line_color\":{\"type\":\"value\",\"value\":\"#cc0000\"},\"fill_color\":{\"type\":\"value\",\"value\":\"#cc0000\"},\"hatch_color\":{\"type\":\"value\",\"value\":\"#cc0000\"}}},\"nonselection_glyph\":{\"type\":\"object\",\"name\":\"VBar\",\"id\":\"p1103\",\"attributes\":{\"x\":{\"type\":\"field\",\"field\":\"yrs\"},\"width\":{\"type\":\"value\",\"value\":0.75},\"top\":{\"type\":\"field\",\"field\":\"numQuakes\"},\"line_color\":{\"type\":\"value\",\"value\":\"#cc0000\"},\"line_alpha\":{\"type\":\"value\",\"value\":0.1},\"fill_color\":{\"type\":\"value\",\"value\":\"#cc0000\"},\"fill_alpha\":{\"type\":\"value\",\"value\":0.1},\"hatch_color\":{\"type\":\"value\",\"value\":\"#cc0000\"},\"hatch_alpha\":{\"type\":\"value\",\"value\":0.1}}},\"muted_glyph\":{\"type\":\"object\",\"name\":\"VBar\",\"id\":\"p1104\",\"attributes\":{\"x\":{\"type\":\"field\",\"field\":\"yrs\"},\"width\":{\"type\":\"value\",\"value\":0.75},\"top\":{\"type\":\"field\",\"field\":\"numQuakes\"},\"line_color\":{\"type\":\"value\",\"value\":\"#cc0000\"},\"line_alpha\":{\"type\":\"value\",\"value\":0.2},\"fill_color\":{\"type\":\"value\",\"value\":\"#cc0000\"},\"fill_alpha\":{\"type\":\"value\",\"value\":0.2},\"hatch_color\":{\"type\":\"value\",\"value\":\"#cc0000\"},\"hatch_alpha\":{\"type\":\"value\",\"value\":0.2}}}}}],\"toolbar\":{\"type\":\"object\",\"name\":\"Toolbar\",\"id\":\"p1077\",\"attributes\":{\"tools\":[{\"type\":\"object\",\"name\":\"PanTool\",\"id\":\"p1091\"},{\"type\":\"object\",\"name\":\"WheelZoomTool\",\"id\":\"p1092\"},{\"type\":\"object\",\"name\":\"BoxZoomTool\",\"id\":\"p1093\",\"attributes\":{\"overlay\":{\"type\":\"object\",\"name\":\"BoxAnnotation\",\"id\":\"p1094\",\"attributes\":{\"syncable\":false,\"level\":\"overlay\",\"visible\":false,\"left_units\":\"canvas\",\"right_units\":\"canvas\",\"bottom_units\":\"canvas\",\"top_units\":\"canvas\",\"line_color\":\"black\",\"line_alpha\":1.0,\"line_width\":2,\"line_dash\":[4,4],\"fill_color\":\"lightgrey\",\"fill_alpha\":0.5}}}},{\"type\":\"object\",\"name\":\"SaveTool\",\"id\":\"p1095\"},{\"type\":\"object\",\"name\":\"ResetTool\",\"id\":\"p1096\"},{\"type\":\"object\",\"name\":\"HelpTool\",\"id\":\"p1097\"},{\"type\":\"object\",\"name\":\"HoverTool\",\"id\":\"p1098\",\"attributes\":{\"renderers\":\"auto\",\"tooltips\":[[\"Year\",\" @yrs\"],[\"Number of earthquakes\",\" @numQuakes\"]]}}]}},\"toolbar_location\":null,\"left\":[{\"type\":\"object\",\"name\":\"LinearAxis\",\"id\":\"p1086\",\"attributes\":{\"ticker\":{\"type\":\"object\",\"name\":\"BasicTicker\",\"id\":\"p1087\",\"attributes\":{\"mantissas\":[1,2,5]}},\"formatter\":{\"type\":\"object\",\"name\":\"BasicTickFormatter\",\"id\":\"p1088\"},\"axis_label\":\"Number of Occurrences\",\"axis_label_text_font_size\":\"14pt\",\"axis_label_text_font_style\":\"bold\",\"major_label_policy\":{\"type\":\"object\",\"name\":\"AllLabels\",\"id\":\"p1089\"},\"major_label_text_font_size\":\"12pt\"}}],\"below\":[{\"type\":\"object\",\"name\":\"LinearAxis\",\"id\":\"p1081\",\"attributes\":{\"ticker\":{\"type\":\"object\",\"name\":\"BasicTicker\",\"id\":\"p1082\",\"attributes\":{\"num_minor_ticks\":2,\"mantissas\":[1,2,5]}},\"formatter\":{\"type\":\"object\",\"name\":\"BasicTickFormatter\",\"id\":\"p1083\"},\"axis_label\":\"Years\",\"axis_label_text_font_size\":\"14pt\",\"axis_label_text_font_style\":\"bold\",\"major_label_policy\":{\"type\":\"object\",\"name\":\"AllLabels\",\"id\":\"p1084\"},\"major_label_text_font_size\":\"12pt\"}}],\"center\":[{\"type\":\"object\",\"name\":\"Grid\",\"id\":\"p1085\",\"attributes\":{\"axis\":{\"id\":\"p1081\"}}},{\"type\":\"object\",\"name\":\"Grid\",\"id\":\"p1090\",\"attributes\":{\"dimension\":1,\"axis\":{\"id\":\"p1086\"}}},{\"type\":\"object\",\"name\":\"Legend\",\"id\":\"p1108\",\"attributes\":{\"location\":\"top_left\",\"items\":[{\"type\":\"object\",\"name\":\"LegendItem\",\"id\":\"p1109\",\"attributes\":{\"label\":{\"type\":\"value\",\"value\":\"Year\"},\"renderers\":[{\"id\":\"p1105\"}]}}]}}]}}]}};\n",
       "  const render_items = [{\"docid\":\"710064dd-3d11-4c03-b5a3-c9a6c7d3767e\",\"roots\":{\"p1068\":\"e9af6a2c-4d1a-4341-a730-580c1109cfcc\"},\"root_ids\":[\"p1068\"]}];\n",
       "  root.Bokeh.embed.embed_items_notebook(docs_json, render_items);\n",
       "  }\n",
       "  if (root.Bokeh !== undefined) {\n",
       "    embed_document(root);\n",
       "  } else {\n",
       "    let attempts = 0;\n",
       "    const timer = setInterval(function(root) {\n",
       "      if (root.Bokeh !== undefined) {\n",
       "        clearInterval(timer);\n",
       "        embed_document(root);\n",
       "      } else {\n",
       "        attempts++;\n",
       "        if (attempts > 100) {\n",
       "          clearInterval(timer);\n",
       "          console.log(\"Bokeh: ERROR: Unable to run BokehJS code because BokehJS library is missing\");\n",
       "        }\n",
       "      }\n",
       "    }, 10, root)\n",
       "  }\n",
       "})(window);"
      ],
      "application/vnd.bokehjs_exec.v0+json": ""
     },
     "metadata": {
      "application/vnd.bokehjs_exec.v0+json": {
       "id": "p1068"
      }
     },
     "output_type": "display_data"
    },
    {
     "data": {
      "text/html": [
       "<div style=\"display: table;\"><div style=\"display: table-row;\"><div style=\"display: table-cell;\"><b title=\"bokeh.plotting._figure.figure\">figure</b>(</div><div style=\"display: table-cell;\">id&nbsp;=&nbsp;'p1068', <span id=\"p1111\" style=\"cursor: pointer;\">&hellip;)</span></div></div><div class=\"p1110\" style=\"display: none;\"><div style=\"display: table-cell;\"></div><div style=\"display: table-cell;\">above&nbsp;=&nbsp;[],</div></div><div class=\"p1110\" style=\"display: none;\"><div style=\"display: table-cell;\"></div><div style=\"display: table-cell;\">align&nbsp;=&nbsp;'auto',</div></div><div class=\"p1110\" style=\"display: none;\"><div style=\"display: table-cell;\"></div><div style=\"display: table-cell;\">aspect_ratio&nbsp;=&nbsp;None,</div></div><div class=\"p1110\" style=\"display: none;\"><div style=\"display: table-cell;\"></div><div style=\"display: table-cell;\">aspect_scale&nbsp;=&nbsp;1,</div></div><div class=\"p1110\" style=\"display: none;\"><div style=\"display: table-cell;\"></div><div style=\"display: table-cell;\">background_fill_alpha&nbsp;=&nbsp;1.0,</div></div><div class=\"p1110\" style=\"display: none;\"><div style=\"display: table-cell;\"></div><div style=\"display: table-cell;\">background_fill_color&nbsp;=&nbsp;'#ffffff',</div></div><div class=\"p1110\" style=\"display: none;\"><div style=\"display: table-cell;\"></div><div style=\"display: table-cell;\">below&nbsp;=&nbsp;[LinearAxis(id='p1081', ...)],</div></div><div class=\"p1110\" style=\"display: none;\"><div style=\"display: table-cell;\"></div><div style=\"display: table-cell;\">border_fill_alpha&nbsp;=&nbsp;1.0,</div></div><div class=\"p1110\" style=\"display: none;\"><div style=\"display: table-cell;\"></div><div style=\"display: table-cell;\">border_fill_color&nbsp;=&nbsp;'#ffffff',</div></div><div class=\"p1110\" style=\"display: none;\"><div style=\"display: table-cell;\"></div><div style=\"display: table-cell;\">center&nbsp;=&nbsp;[Grid(id='p1085', ...), Grid(id='p1090', ...), Legend(id='p1108', ...)],</div></div><div class=\"p1110\" style=\"display: none;\"><div style=\"display: table-cell;\"></div><div style=\"display: table-cell;\">context_menu&nbsp;=&nbsp;None,</div></div><div class=\"p1110\" style=\"display: none;\"><div style=\"display: table-cell;\"></div><div style=\"display: table-cell;\">css_classes&nbsp;=&nbsp;[],</div></div><div class=\"p1110\" style=\"display: none;\"><div style=\"display: table-cell;\"></div><div style=\"display: table-cell;\">disabled&nbsp;=&nbsp;False,</div></div><div class=\"p1110\" style=\"display: none;\"><div style=\"display: table-cell;\"></div><div style=\"display: table-cell;\">extra_x_ranges&nbsp;=&nbsp;{},</div></div><div class=\"p1110\" style=\"display: none;\"><div style=\"display: table-cell;\"></div><div style=\"display: table-cell;\">extra_x_scales&nbsp;=&nbsp;{},</div></div><div class=\"p1110\" style=\"display: none;\"><div style=\"display: table-cell;\"></div><div style=\"display: table-cell;\">extra_y_ranges&nbsp;=&nbsp;{},</div></div><div class=\"p1110\" style=\"display: none;\"><div style=\"display: table-cell;\"></div><div style=\"display: table-cell;\">extra_y_scales&nbsp;=&nbsp;{},</div></div><div class=\"p1110\" style=\"display: none;\"><div style=\"display: table-cell;\"></div><div style=\"display: table-cell;\">flow_mode&nbsp;=&nbsp;'block',</div></div><div class=\"p1110\" style=\"display: none;\"><div style=\"display: table-cell;\"></div><div style=\"display: table-cell;\">frame_align&nbsp;=&nbsp;True,</div></div><div class=\"p1110\" style=\"display: none;\"><div style=\"display: table-cell;\"></div><div style=\"display: table-cell;\">frame_height&nbsp;=&nbsp;None,</div></div><div class=\"p1110\" style=\"display: none;\"><div style=\"display: table-cell;\"></div><div style=\"display: table-cell;\">frame_width&nbsp;=&nbsp;None,</div></div><div class=\"p1110\" style=\"display: none;\"><div style=\"display: table-cell;\"></div><div style=\"display: table-cell;\">height&nbsp;=&nbsp;400,</div></div><div class=\"p1110\" style=\"display: none;\"><div style=\"display: table-cell;\"></div><div style=\"display: table-cell;\">height_policy&nbsp;=&nbsp;'auto',</div></div><div class=\"p1110\" style=\"display: none;\"><div style=\"display: table-cell;\"></div><div style=\"display: table-cell;\">hidpi&nbsp;=&nbsp;True,</div></div><div class=\"p1110\" style=\"display: none;\"><div style=\"display: table-cell;\"></div><div style=\"display: table-cell;\">hold_render&nbsp;=&nbsp;False,</div></div><div class=\"p1110\" style=\"display: none;\"><div style=\"display: table-cell;\"></div><div style=\"display: table-cell;\">js_event_callbacks&nbsp;=&nbsp;{},</div></div><div class=\"p1110\" style=\"display: none;\"><div style=\"display: table-cell;\"></div><div style=\"display: table-cell;\">js_property_callbacks&nbsp;=&nbsp;{},</div></div><div class=\"p1110\" style=\"display: none;\"><div style=\"display: table-cell;\"></div><div style=\"display: table-cell;\">left&nbsp;=&nbsp;[LinearAxis(id='p1086', ...)],</div></div><div class=\"p1110\" style=\"display: none;\"><div style=\"display: table-cell;\"></div><div style=\"display: table-cell;\">lod_factor&nbsp;=&nbsp;10,</div></div><div class=\"p1110\" style=\"display: none;\"><div style=\"display: table-cell;\"></div><div style=\"display: table-cell;\">lod_interval&nbsp;=&nbsp;300,</div></div><div class=\"p1110\" style=\"display: none;\"><div style=\"display: table-cell;\"></div><div style=\"display: table-cell;\">lod_threshold&nbsp;=&nbsp;2000,</div></div><div class=\"p1110\" style=\"display: none;\"><div style=\"display: table-cell;\"></div><div style=\"display: table-cell;\">lod_timeout&nbsp;=&nbsp;500,</div></div><div class=\"p1110\" style=\"display: none;\"><div style=\"display: table-cell;\"></div><div style=\"display: table-cell;\">margin&nbsp;=&nbsp;None,</div></div><div class=\"p1110\" style=\"display: none;\"><div style=\"display: table-cell;\"></div><div style=\"display: table-cell;\">match_aspect&nbsp;=&nbsp;False,</div></div><div class=\"p1110\" style=\"display: none;\"><div style=\"display: table-cell;\"></div><div style=\"display: table-cell;\">max_height&nbsp;=&nbsp;None,</div></div><div class=\"p1110\" style=\"display: none;\"><div style=\"display: table-cell;\"></div><div style=\"display: table-cell;\">max_width&nbsp;=&nbsp;None,</div></div><div class=\"p1110\" style=\"display: none;\"><div style=\"display: table-cell;\"></div><div style=\"display: table-cell;\">min_border&nbsp;=&nbsp;5,</div></div><div class=\"p1110\" style=\"display: none;\"><div style=\"display: table-cell;\"></div><div style=\"display: table-cell;\">min_border_bottom&nbsp;=&nbsp;None,</div></div><div class=\"p1110\" style=\"display: none;\"><div style=\"display: table-cell;\"></div><div style=\"display: table-cell;\">min_border_left&nbsp;=&nbsp;None,</div></div><div class=\"p1110\" style=\"display: none;\"><div style=\"display: table-cell;\"></div><div style=\"display: table-cell;\">min_border_right&nbsp;=&nbsp;None,</div></div><div class=\"p1110\" style=\"display: none;\"><div style=\"display: table-cell;\"></div><div style=\"display: table-cell;\">min_border_top&nbsp;=&nbsp;None,</div></div><div class=\"p1110\" style=\"display: none;\"><div style=\"display: table-cell;\"></div><div style=\"display: table-cell;\">min_height&nbsp;=&nbsp;None,</div></div><div class=\"p1110\" style=\"display: none;\"><div style=\"display: table-cell;\"></div><div style=\"display: table-cell;\">min_width&nbsp;=&nbsp;None,</div></div><div class=\"p1110\" style=\"display: none;\"><div style=\"display: table-cell;\"></div><div style=\"display: table-cell;\">name&nbsp;=&nbsp;None,</div></div><div class=\"p1110\" style=\"display: none;\"><div style=\"display: table-cell;\"></div><div style=\"display: table-cell;\">outline_line_alpha&nbsp;=&nbsp;1.0,</div></div><div class=\"p1110\" style=\"display: none;\"><div style=\"display: table-cell;\"></div><div style=\"display: table-cell;\">outline_line_cap&nbsp;=&nbsp;'butt',</div></div><div class=\"p1110\" style=\"display: none;\"><div style=\"display: table-cell;\"></div><div style=\"display: table-cell;\">outline_line_color&nbsp;=&nbsp;'#e5e5e5',</div></div><div class=\"p1110\" style=\"display: none;\"><div style=\"display: table-cell;\"></div><div style=\"display: table-cell;\">outline_line_dash&nbsp;=&nbsp;[],</div></div><div class=\"p1110\" style=\"display: none;\"><div style=\"display: table-cell;\"></div><div style=\"display: table-cell;\">outline_line_dash_offset&nbsp;=&nbsp;0,</div></div><div class=\"p1110\" style=\"display: none;\"><div style=\"display: table-cell;\"></div><div style=\"display: table-cell;\">outline_line_join&nbsp;=&nbsp;'bevel',</div></div><div class=\"p1110\" style=\"display: none;\"><div style=\"display: table-cell;\"></div><div style=\"display: table-cell;\">outline_line_width&nbsp;=&nbsp;1,</div></div><div class=\"p1110\" style=\"display: none;\"><div style=\"display: table-cell;\"></div><div style=\"display: table-cell;\">output_backend&nbsp;=&nbsp;'canvas',</div></div><div class=\"p1110\" style=\"display: none;\"><div style=\"display: table-cell;\"></div><div style=\"display: table-cell;\">renderers&nbsp;=&nbsp;[GlyphRenderer(id='p1105', ...)],</div></div><div class=\"p1110\" style=\"display: none;\"><div style=\"display: table-cell;\"></div><div style=\"display: table-cell;\">reset_policy&nbsp;=&nbsp;'standard',</div></div><div class=\"p1110\" style=\"display: none;\"><div style=\"display: table-cell;\"></div><div style=\"display: table-cell;\">resizable&nbsp;=&nbsp;False,</div></div><div class=\"p1110\" style=\"display: none;\"><div style=\"display: table-cell;\"></div><div style=\"display: table-cell;\">right&nbsp;=&nbsp;[],</div></div><div class=\"p1110\" style=\"display: none;\"><div style=\"display: table-cell;\"></div><div style=\"display: table-cell;\">sizing_mode&nbsp;=&nbsp;None,</div></div><div class=\"p1110\" style=\"display: none;\"><div style=\"display: table-cell;\"></div><div style=\"display: table-cell;\">styles&nbsp;=&nbsp;{},</div></div><div class=\"p1110\" style=\"display: none;\"><div style=\"display: table-cell;\"></div><div style=\"display: table-cell;\">stylesheets&nbsp;=&nbsp;[],</div></div><div class=\"p1110\" style=\"display: none;\"><div style=\"display: table-cell;\"></div><div style=\"display: table-cell;\">subscribed_events&nbsp;=&nbsp;PropertyValueSet(),</div></div><div class=\"p1110\" style=\"display: none;\"><div style=\"display: table-cell;\"></div><div style=\"display: table-cell;\">syncable&nbsp;=&nbsp;True,</div></div><div class=\"p1110\" style=\"display: none;\"><div style=\"display: table-cell;\"></div><div style=\"display: table-cell;\">tags&nbsp;=&nbsp;[],</div></div><div class=\"p1110\" style=\"display: none;\"><div style=\"display: table-cell;\"></div><div style=\"display: table-cell;\">title&nbsp;=&nbsp;Title(id='p1071', ...),</div></div><div class=\"p1110\" style=\"display: none;\"><div style=\"display: table-cell;\"></div><div style=\"display: table-cell;\">title_location&nbsp;=&nbsp;'above',</div></div><div class=\"p1110\" style=\"display: none;\"><div style=\"display: table-cell;\"></div><div style=\"display: table-cell;\">toolbar&nbsp;=&nbsp;Toolbar(id='p1077', ...),</div></div><div class=\"p1110\" style=\"display: none;\"><div style=\"display: table-cell;\"></div><div style=\"display: table-cell;\">toolbar_inner&nbsp;=&nbsp;False,</div></div><div class=\"p1110\" style=\"display: none;\"><div style=\"display: table-cell;\"></div><div style=\"display: table-cell;\">toolbar_location&nbsp;=&nbsp;None,</div></div><div class=\"p1110\" style=\"display: none;\"><div style=\"display: table-cell;\"></div><div style=\"display: table-cell;\">toolbar_sticky&nbsp;=&nbsp;True,</div></div><div class=\"p1110\" style=\"display: none;\"><div style=\"display: table-cell;\"></div><div style=\"display: table-cell;\">visible&nbsp;=&nbsp;True,</div></div><div class=\"p1110\" style=\"display: none;\"><div style=\"display: table-cell;\"></div><div style=\"display: table-cell;\">width&nbsp;=&nbsp;1150,</div></div><div class=\"p1110\" style=\"display: none;\"><div style=\"display: table-cell;\"></div><div style=\"display: table-cell;\">width_policy&nbsp;=&nbsp;'auto',</div></div><div class=\"p1110\" style=\"display: none;\"><div style=\"display: table-cell;\"></div><div style=\"display: table-cell;\">x_range&nbsp;=&nbsp;DataRange1d(id='p1070', ...),</div></div><div class=\"p1110\" style=\"display: none;\"><div style=\"display: table-cell;\"></div><div style=\"display: table-cell;\">x_scale&nbsp;=&nbsp;LinearScale(id='p1079', ...),</div></div><div class=\"p1110\" style=\"display: none;\"><div style=\"display: table-cell;\"></div><div style=\"display: table-cell;\">y_range&nbsp;=&nbsp;Range1d(id='p1078', ...),</div></div><div class=\"p1110\" style=\"display: none;\"><div style=\"display: table-cell;\"></div><div style=\"display: table-cell;\">y_scale&nbsp;=&nbsp;LinearScale(id='p1080', ...))</div></div></div>\n",
       "<script>\n",
       "(function() {\n",
       "  let expanded = false;\n",
       "  const ellipsis = document.getElementById(\"p1111\");\n",
       "  ellipsis.addEventListener(\"click\", function() {\n",
       "    const rows = document.getElementsByClassName(\"p1110\");\n",
       "    for (let i = 0; i < rows.length; i++) {\n",
       "      const el = rows[i];\n",
       "      el.style.display = expanded ? \"none\" : \"table-row\";\n",
       "    }\n",
       "    ellipsis.innerHTML = expanded ? \"&hellip;)\" : \"&lsaquo;&lsaquo;&lsaquo;\";\n",
       "    expanded = !expanded;\n",
       "  });\n",
       "})();\n",
       "</script>\n"
      ],
      "text/plain": [
       "figure(id='p1068', ...)"
      ]
     },
     "execution_count": 43,
     "metadata": {},
     "output_type": "execute_result"
    }
   ],
   "source": [
    "# Create the Bar Chart\n",
    "def plotBar():\n",
    "    # Load the datasource \n",
    "    cds = ColumnDataSource(data=dict(\n",
    "        yrs = df_quake_freq['Year'].values.tolist(),\n",
    "        numQuakes = df_quake_freq['Counts'].values.tolist()\n",
    "    ))\n",
    "    \n",
    "    # Tooltip\n",
    "    TOOLTIPS = [\n",
    "        ('Year', ' @yrs'),\n",
    "        ('Number of earthquakes', ' @numQuakes')\n",
    "    ]\n",
    "    \n",
    "    # Create a figure\n",
    "    barChart = figure(title='Frequency of Earthquakes by Year',\n",
    "                     height=400,  # Use height instead of plot_height\n",
    "                     width=1150,   # Use width instead of plot_width\n",
    "                     x_axis_label='Years',\n",
    "                     y_axis_label='Number of Occurrences',\n",
    "                     x_minor_ticks=2,\n",
    "                     y_range=(0, df_quake_freq['Counts'].max() + 100),\n",
    "                     toolbar_location=None,\n",
    "                     tooltips=TOOLTIPS)\n",
    "    \n",
    "    # Create a vertical bar \n",
    "    barChart.vbar(x='yrs', bottom=0, top='numQuakes',\n",
    "                 color='#cc0000', width=0.75,\n",
    "                 legend_label='Year', source=cds)  # Use legend_label instead of legend\n",
    "    \n",
    "    # Style the bar chart\n",
    "    barChart = style(barChart)\n",
    "    \n",
    "    show(barChart)\n",
    "    \n",
    "    return barChart\n",
    "    \n",
    "plotBar()\n"
   ]
  },
  {
   "cell_type": "code",
   "execution_count": 44,
   "id": "69da06aa",
   "metadata": {},
   "outputs": [
    {
     "data": {
      "text/html": [
       "<div>\n",
       "<style scoped>\n",
       "    .dataframe tbody tr th:only-of-type {\n",
       "        vertical-align: middle;\n",
       "    }\n",
       "\n",
       "    .dataframe tbody tr th {\n",
       "        vertical-align: top;\n",
       "    }\n",
       "\n",
       "    .dataframe thead th {\n",
       "        text-align: right;\n",
       "    }\n",
       "</style>\n",
       "<table border=\"1\" class=\"dataframe\">\n",
       "  <thead>\n",
       "    <tr style=\"text-align: right;\">\n",
       "      <th></th>\n",
       "      <th>Year</th>\n",
       "      <th>Counts</th>\n",
       "      <th>Avg_Magnitude</th>\n",
       "      <th>Max_Magnitude</th>\n",
       "    </tr>\n",
       "  </thead>\n",
       "  <tbody>\n",
       "    <tr>\n",
       "      <th>0</th>\n",
       "      <td>1990</td>\n",
       "      <td>196</td>\n",
       "      <td>5.858163</td>\n",
       "      <td>7.6</td>\n",
       "    </tr>\n",
       "    <tr>\n",
       "      <th>1</th>\n",
       "      <td>1975</td>\n",
       "      <td>150</td>\n",
       "      <td>5.848667</td>\n",
       "      <td>7.8</td>\n",
       "    </tr>\n",
       "    <tr>\n",
       "      <th>2</th>\n",
       "      <td>1977</td>\n",
       "      <td>148</td>\n",
       "      <td>5.757432</td>\n",
       "      <td>7.6</td>\n",
       "    </tr>\n",
       "    <tr>\n",
       "      <th>3</th>\n",
       "      <td>2003</td>\n",
       "      <td>187</td>\n",
       "      <td>5.850802</td>\n",
       "      <td>7.6</td>\n",
       "    </tr>\n",
       "    <tr>\n",
       "      <th>4</th>\n",
       "      <td>2007</td>\n",
       "      <td>211</td>\n",
       "      <td>5.890995</td>\n",
       "      <td>8.4</td>\n",
       "    </tr>\n",
       "  </tbody>\n",
       "</table>\n",
       "</div>"
      ],
      "text/plain": [
       "   Year  Counts  Avg_Magnitude  Max_Magnitude\n",
       "0  1990     196       5.858163            7.6\n",
       "1  1975     150       5.848667            7.8\n",
       "2  1977     148       5.757432            7.6\n",
       "3  2003     187       5.850802            7.6\n",
       "4  2007     211       5.890995            8.4"
      ]
     },
     "execution_count": 44,
     "metadata": {},
     "output_type": "execute_result"
    }
   ],
   "source": [
    "df_quake_freq.head()"
   ]
  },
  {
   "cell_type": "code",
   "execution_count": 45,
   "id": "1b75d86a",
   "metadata": {},
   "outputs": [
    {
     "data": {
      "text/html": [
       "\n",
       "  <div id=\"d05e6792-8c75-4083-a839-0b9b4f194f16\" data-root-id=\"p1115\" style=\"display: contents;\"></div>\n"
      ]
     },
     "metadata": {},
     "output_type": "display_data"
    },
    {
     "data": {
      "application/javascript": [
       "(function(root) {\n",
       "  function embed_document(root) {\n",
       "  const docs_json = {\"4049f6fa-5e6b-4468-828a-507d0965a4ff\":{\"version\":\"3.2.1\",\"title\":\"Bokeh Application\",\"roots\":[{\"type\":\"object\",\"name\":\"Figure\",\"id\":\"p1115\",\"attributes\":{\"width\":1150,\"height\":400,\"x_range\":{\"type\":\"object\",\"name\":\"DataRange1d\",\"id\":\"p1117\"},\"y_range\":{\"type\":\"object\",\"name\":\"Range1d\",\"id\":\"p1125\",\"attributes\":{\"start\":5,\"end\":10.1}},\"x_scale\":{\"type\":\"object\",\"name\":\"LinearScale\",\"id\":\"p1126\"},\"y_scale\":{\"type\":\"object\",\"name\":\"LinearScale\",\"id\":\"p1127\"},\"title\":{\"type\":\"object\",\"name\":\"Title\",\"id\":\"p1118\",\"attributes\":{\"text\":\"Maximum and Average Magnitude by Year\",\"text_font\":\"serif\",\"text_font_size\":\"20pt\",\"align\":\"center\"}},\"renderers\":[{\"type\":\"object\",\"name\":\"GlyphRenderer\",\"id\":\"p1152\",\"attributes\":{\"data_source\":{\"type\":\"object\",\"name\":\"ColumnDataSource\",\"id\":\"p1112\",\"attributes\":{\"selected\":{\"type\":\"object\",\"name\":\"Selection\",\"id\":\"p1113\",\"attributes\":{\"indices\":[],\"line_indices\":[]}},\"selection_policy\":{\"type\":\"object\",\"name\":\"UnionRenderers\",\"id\":\"p1114\"},\"data\":{\"type\":\"map\",\"entries\":[[\"yrs\",[1990,1975,1977,2003,2007,1974,2015,2006,1978,2013,1988,1997,1994,1968,2014,1973,1979,1971,1966,2004,1991,1967,1969,1982,1989,1996,1998,1965,1985,1970,2012,1987,2009,2016,1995,1980,2001,1972,1992,1983,2005,1984,2000,1981,2010,1986,2011,1976,2008,1999,2002,1993]],[\"avg_mag\",[5.9,5.8,5.8,5.9,5.9,5.9,5.8,5.8,5.8,5.9,5.9,5.8,5.9,6.1,5.9,5.8,5.8,6.0,6.1,5.9,5.9,6.0,6.0,5.8,5.8,5.9,5.9,6.0,5.9,6.0,5.9,5.9,5.9,5.9,5.9,5.8,5.9,5.9,5.9,5.9,5.9,5.8,5.9,5.8,5.9,5.8,5.9,5.8,5.9,5.9,5.9,5.9]],[\"max_mag\",[7.6,7.8,7.6,7.6,8.4,7.6,7.5,8.0,7.7,8.0,7.8,7.8,8.3,7.6,8.2,7.4,7.9,7.8,7.7,7.5,7.1,7.2,7.5,7.1,7.4,7.9,7.5,8.7,8.0,7.4,8.6,7.6,7.8,7.8,8.0,7.5,7.6,8.0,7.8,7.4,7.6,7.6,7.9,7.7,7.8,8.0,9.1,7.5,7.9,7.4,7.9,7.8]]]}}},\"view\":{\"type\":\"object\",\"name\":\"CDSView\",\"id\":\"p1153\",\"attributes\":{\"filter\":{\"type\":\"object\",\"name\":\"AllIndices\",\"id\":\"p1154\"}}},\"glyph\":{\"type\":\"object\",\"name\":\"Line\",\"id\":\"p1149\",\"attributes\":{\"x\":{\"type\":\"field\",\"field\":\"yrs\"},\"y\":{\"type\":\"field\",\"field\":\"max_mag\"},\"line_color\":\"#cc0000\",\"line_width\":2}},\"nonselection_glyph\":{\"type\":\"object\",\"name\":\"Line\",\"id\":\"p1150\",\"attributes\":{\"x\":{\"type\":\"field\",\"field\":\"yrs\"},\"y\":{\"type\":\"field\",\"field\":\"max_mag\"},\"line_color\":\"#cc0000\",\"line_alpha\":0.1,\"line_width\":2}},\"muted_glyph\":{\"type\":\"object\",\"name\":\"Line\",\"id\":\"p1151\",\"attributes\":{\"x\":{\"type\":\"field\",\"field\":\"yrs\"},\"y\":{\"type\":\"field\",\"field\":\"max_mag\"},\"line_color\":\"#cc0000\",\"line_alpha\":0.2,\"line_width\":2}}}},{\"type\":\"object\",\"name\":\"GlyphRenderer\",\"id\":\"p1163\",\"attributes\":{\"data_source\":{\"id\":\"p1112\"},\"view\":{\"type\":\"object\",\"name\":\"CDSView\",\"id\":\"p1164\",\"attributes\":{\"filter\":{\"type\":\"object\",\"name\":\"AllIndices\",\"id\":\"p1165\"}}},\"glyph\":{\"type\":\"object\",\"name\":\"Circle\",\"id\":\"p1160\",\"attributes\":{\"x\":{\"type\":\"field\",\"field\":\"yrs\"},\"y\":{\"type\":\"field\",\"field\":\"max_mag\"},\"size\":{\"type\":\"value\",\"value\":8},\"line_color\":{\"type\":\"value\",\"value\":\"#cc0000\"},\"fill_color\":{\"type\":\"value\",\"value\":\"#cc0000\"},\"hatch_color\":{\"type\":\"value\",\"value\":\"#cc0000\"}}},\"nonselection_glyph\":{\"type\":\"object\",\"name\":\"Circle\",\"id\":\"p1161\",\"attributes\":{\"x\":{\"type\":\"field\",\"field\":\"yrs\"},\"y\":{\"type\":\"field\",\"field\":\"max_mag\"},\"size\":{\"type\":\"value\",\"value\":8},\"line_color\":{\"type\":\"value\",\"value\":\"#cc0000\"},\"line_alpha\":{\"type\":\"value\",\"value\":0.1},\"fill_color\":{\"type\":\"value\",\"value\":\"#cc0000\"},\"fill_alpha\":{\"type\":\"value\",\"value\":0.1},\"hatch_color\":{\"type\":\"value\",\"value\":\"#cc0000\"},\"hatch_alpha\":{\"type\":\"value\",\"value\":0.1}}},\"muted_glyph\":{\"type\":\"object\",\"name\":\"Circle\",\"id\":\"p1162\",\"attributes\":{\"x\":{\"type\":\"field\",\"field\":\"yrs\"},\"y\":{\"type\":\"field\",\"field\":\"max_mag\"},\"size\":{\"type\":\"value\",\"value\":8},\"line_color\":{\"type\":\"value\",\"value\":\"#cc0000\"},\"line_alpha\":{\"type\":\"value\",\"value\":0.2},\"fill_color\":{\"type\":\"value\",\"value\":\"#cc0000\"},\"fill_alpha\":{\"type\":\"value\",\"value\":0.2},\"hatch_color\":{\"type\":\"value\",\"value\":\"#cc0000\"},\"hatch_alpha\":{\"type\":\"value\",\"value\":0.2}}}}},{\"type\":\"object\",\"name\":\"GlyphRenderer\",\"id\":\"p1172\",\"attributes\":{\"data_source\":{\"id\":\"p1112\"},\"view\":{\"type\":\"object\",\"name\":\"CDSView\",\"id\":\"p1173\",\"attributes\":{\"filter\":{\"type\":\"object\",\"name\":\"AllIndices\",\"id\":\"p1174\"}}},\"glyph\":{\"type\":\"object\",\"name\":\"Line\",\"id\":\"p1169\",\"attributes\":{\"x\":{\"type\":\"field\",\"field\":\"yrs\"},\"y\":{\"type\":\"field\",\"field\":\"avg_mag\"},\"line_color\":\"yellow\",\"line_width\":2}},\"nonselection_glyph\":{\"type\":\"object\",\"name\":\"Line\",\"id\":\"p1170\",\"attributes\":{\"x\":{\"type\":\"field\",\"field\":\"yrs\"},\"y\":{\"type\":\"field\",\"field\":\"avg_mag\"},\"line_color\":\"yellow\",\"line_alpha\":0.1,\"line_width\":2}},\"muted_glyph\":{\"type\":\"object\",\"name\":\"Line\",\"id\":\"p1171\",\"attributes\":{\"x\":{\"type\":\"field\",\"field\":\"yrs\"},\"y\":{\"type\":\"field\",\"field\":\"avg_mag\"},\"line_color\":\"yellow\",\"line_alpha\":0.2,\"line_width\":2}}}},{\"type\":\"object\",\"name\":\"GlyphRenderer\",\"id\":\"p1182\",\"attributes\":{\"data_source\":{\"id\":\"p1112\"},\"view\":{\"type\":\"object\",\"name\":\"CDSView\",\"id\":\"p1183\",\"attributes\":{\"filter\":{\"type\":\"object\",\"name\":\"AllIndices\",\"id\":\"p1184\"}}},\"glyph\":{\"type\":\"object\",\"name\":\"Circle\",\"id\":\"p1179\",\"attributes\":{\"x\":{\"type\":\"field\",\"field\":\"yrs\"},\"y\":{\"type\":\"field\",\"field\":\"avg_mag\"},\"size\":{\"type\":\"value\",\"value\":8},\"line_color\":{\"type\":\"value\",\"value\":\"yellow\"},\"fill_color\":{\"type\":\"value\",\"value\":\"yellow\"},\"hatch_color\":{\"type\":\"value\",\"value\":\"yellow\"}}},\"nonselection_glyph\":{\"type\":\"object\",\"name\":\"Circle\",\"id\":\"p1180\",\"attributes\":{\"x\":{\"type\":\"field\",\"field\":\"yrs\"},\"y\":{\"type\":\"field\",\"field\":\"avg_mag\"},\"size\":{\"type\":\"value\",\"value\":8},\"line_color\":{\"type\":\"value\",\"value\":\"yellow\"},\"line_alpha\":{\"type\":\"value\",\"value\":0.1},\"fill_color\":{\"type\":\"value\",\"value\":\"yellow\"},\"fill_alpha\":{\"type\":\"value\",\"value\":0.1},\"hatch_color\":{\"type\":\"value\",\"value\":\"yellow\"},\"hatch_alpha\":{\"type\":\"value\",\"value\":0.1}}},\"muted_glyph\":{\"type\":\"object\",\"name\":\"Circle\",\"id\":\"p1181\",\"attributes\":{\"x\":{\"type\":\"field\",\"field\":\"yrs\"},\"y\":{\"type\":\"field\",\"field\":\"avg_mag\"},\"size\":{\"type\":\"value\",\"value\":8},\"line_color\":{\"type\":\"value\",\"value\":\"yellow\"},\"line_alpha\":{\"type\":\"value\",\"value\":0.2},\"fill_color\":{\"type\":\"value\",\"value\":\"yellow\"},\"fill_alpha\":{\"type\":\"value\",\"value\":0.2},\"hatch_color\":{\"type\":\"value\",\"value\":\"yellow\"},\"hatch_alpha\":{\"type\":\"value\",\"value\":0.2}}}}}],\"toolbar\":{\"type\":\"object\",\"name\":\"Toolbar\",\"id\":\"p1124\",\"attributes\":{\"tools\":[{\"type\":\"object\",\"name\":\"PanTool\",\"id\":\"p1138\"},{\"type\":\"object\",\"name\":\"WheelZoomTool\",\"id\":\"p1139\"},{\"type\":\"object\",\"name\":\"BoxZoomTool\",\"id\":\"p1140\",\"attributes\":{\"overlay\":{\"type\":\"object\",\"name\":\"BoxAnnotation\",\"id\":\"p1141\",\"attributes\":{\"syncable\":false,\"level\":\"overlay\",\"visible\":false,\"left_units\":\"canvas\",\"right_units\":\"canvas\",\"bottom_units\":\"canvas\",\"top_units\":\"canvas\",\"line_color\":\"black\",\"line_alpha\":1.0,\"line_width\":2,\"line_dash\":[4,4],\"fill_color\":\"lightgrey\",\"fill_alpha\":0.5}}}},{\"type\":\"object\",\"name\":\"SaveTool\",\"id\":\"p1142\"},{\"type\":\"object\",\"name\":\"ResetTool\",\"id\":\"p1143\"},{\"type\":\"object\",\"name\":\"HelpTool\",\"id\":\"p1144\"},{\"type\":\"object\",\"name\":\"HoverTool\",\"id\":\"p1145\",\"attributes\":{\"renderers\":\"auto\",\"tooltips\":[[\"Year\",\" @yrs\"],[\"Average Magnitude\",\" @avg_mag\"],[\"Maximum Magnitude\",\" @max_mag\"]]}}]}},\"toolbar_location\":null,\"left\":[{\"type\":\"object\",\"name\":\"LinearAxis\",\"id\":\"p1133\",\"attributes\":{\"ticker\":{\"type\":\"object\",\"name\":\"BasicTicker\",\"id\":\"p1134\",\"attributes\":{\"mantissas\":[1,2,5]}},\"formatter\":{\"type\":\"object\",\"name\":\"BasicTickFormatter\",\"id\":\"p1135\"},\"axis_label\":\"Magnitude\",\"axis_label_text_font_size\":\"14pt\",\"axis_label_text_font_style\":\"bold\",\"major_label_policy\":{\"type\":\"object\",\"name\":\"AllLabels\",\"id\":\"p1136\"},\"major_label_text_font_size\":\"12pt\"}}],\"below\":[{\"type\":\"object\",\"name\":\"LinearAxis\",\"id\":\"p1128\",\"attributes\":{\"ticker\":{\"type\":\"object\",\"name\":\"BasicTicker\",\"id\":\"p1129\",\"attributes\":{\"num_minor_ticks\":2,\"mantissas\":[1,2,5]}},\"formatter\":{\"type\":\"object\",\"name\":\"BasicTickFormatter\",\"id\":\"p1130\"},\"axis_label\":\"Years\",\"axis_label_text_font_size\":\"14pt\",\"axis_label_text_font_style\":\"bold\",\"major_label_policy\":{\"type\":\"object\",\"name\":\"AllLabels\",\"id\":\"p1131\"},\"major_label_text_font_size\":\"12pt\"}}],\"center\":[{\"type\":\"object\",\"name\":\"Grid\",\"id\":\"p1132\",\"attributes\":{\"axis\":{\"id\":\"p1128\"}}},{\"type\":\"object\",\"name\":\"Grid\",\"id\":\"p1137\",\"attributes\":{\"dimension\":1,\"axis\":{\"id\":\"p1133\"}}},{\"type\":\"object\",\"name\":\"Legend\",\"id\":\"p1155\",\"attributes\":{\"location\":\"top_left\",\"items\":[{\"type\":\"object\",\"name\":\"LegendItem\",\"id\":\"p1156\",\"attributes\":{\"label\":{\"type\":\"value\",\"value\":\"Max Magnitude\"},\"renderers\":[{\"id\":\"p1152\"}]}},{\"type\":\"object\",\"name\":\"LegendItem\",\"id\":\"p1175\",\"attributes\":{\"label\":{\"type\":\"value\",\"value\":\"Avg Magnitude\"},\"renderers\":[{\"id\":\"p1172\"}]}}]}}]}}]}};\n",
       "  const render_items = [{\"docid\":\"4049f6fa-5e6b-4468-828a-507d0965a4ff\",\"roots\":{\"p1115\":\"d05e6792-8c75-4083-a839-0b9b4f194f16\"},\"root_ids\":[\"p1115\"]}];\n",
       "  root.Bokeh.embed.embed_items_notebook(docs_json, render_items);\n",
       "  }\n",
       "  if (root.Bokeh !== undefined) {\n",
       "    embed_document(root);\n",
       "  } else {\n",
       "    let attempts = 0;\n",
       "    const timer = setInterval(function(root) {\n",
       "      if (root.Bokeh !== undefined) {\n",
       "        clearInterval(timer);\n",
       "        embed_document(root);\n",
       "      } else {\n",
       "        attempts++;\n",
       "        if (attempts > 100) {\n",
       "          clearInterval(timer);\n",
       "          console.log(\"Bokeh: ERROR: Unable to run BokehJS code because BokehJS library is missing\");\n",
       "        }\n",
       "      }\n",
       "    }, 10, root)\n",
       "  }\n",
       "})(window);"
      ],
      "application/vnd.bokehjs_exec.v0+json": ""
     },
     "metadata": {
      "application/vnd.bokehjs_exec.v0+json": {
       "id": "p1115"
      }
     },
     "output_type": "display_data"
    },
    {
     "data": {
      "text/html": [
       "<div style=\"display: table;\"><div style=\"display: table-row;\"><div style=\"display: table-cell;\"><b title=\"bokeh.plotting._figure.figure\">figure</b>(</div><div style=\"display: table-cell;\">id&nbsp;=&nbsp;'p1115', <span id=\"p1186\" style=\"cursor: pointer;\">&hellip;)</span></div></div><div class=\"p1185\" style=\"display: none;\"><div style=\"display: table-cell;\"></div><div style=\"display: table-cell;\">above&nbsp;=&nbsp;[],</div></div><div class=\"p1185\" style=\"display: none;\"><div style=\"display: table-cell;\"></div><div style=\"display: table-cell;\">align&nbsp;=&nbsp;'auto',</div></div><div class=\"p1185\" style=\"display: none;\"><div style=\"display: table-cell;\"></div><div style=\"display: table-cell;\">aspect_ratio&nbsp;=&nbsp;None,</div></div><div class=\"p1185\" style=\"display: none;\"><div style=\"display: table-cell;\"></div><div style=\"display: table-cell;\">aspect_scale&nbsp;=&nbsp;1,</div></div><div class=\"p1185\" style=\"display: none;\"><div style=\"display: table-cell;\"></div><div style=\"display: table-cell;\">background_fill_alpha&nbsp;=&nbsp;1.0,</div></div><div class=\"p1185\" style=\"display: none;\"><div style=\"display: table-cell;\"></div><div style=\"display: table-cell;\">background_fill_color&nbsp;=&nbsp;'#ffffff',</div></div><div class=\"p1185\" style=\"display: none;\"><div style=\"display: table-cell;\"></div><div style=\"display: table-cell;\">below&nbsp;=&nbsp;[LinearAxis(id='p1128', ...)],</div></div><div class=\"p1185\" style=\"display: none;\"><div style=\"display: table-cell;\"></div><div style=\"display: table-cell;\">border_fill_alpha&nbsp;=&nbsp;1.0,</div></div><div class=\"p1185\" style=\"display: none;\"><div style=\"display: table-cell;\"></div><div style=\"display: table-cell;\">border_fill_color&nbsp;=&nbsp;'#ffffff',</div></div><div class=\"p1185\" style=\"display: none;\"><div style=\"display: table-cell;\"></div><div style=\"display: table-cell;\">center&nbsp;=&nbsp;[Grid(id='p1132', ...), Grid(id='p1137', ...), Legend(id='p1155', ...)],</div></div><div class=\"p1185\" style=\"display: none;\"><div style=\"display: table-cell;\"></div><div style=\"display: table-cell;\">context_menu&nbsp;=&nbsp;None,</div></div><div class=\"p1185\" style=\"display: none;\"><div style=\"display: table-cell;\"></div><div style=\"display: table-cell;\">css_classes&nbsp;=&nbsp;[],</div></div><div class=\"p1185\" style=\"display: none;\"><div style=\"display: table-cell;\"></div><div style=\"display: table-cell;\">disabled&nbsp;=&nbsp;False,</div></div><div class=\"p1185\" style=\"display: none;\"><div style=\"display: table-cell;\"></div><div style=\"display: table-cell;\">extra_x_ranges&nbsp;=&nbsp;{},</div></div><div class=\"p1185\" style=\"display: none;\"><div style=\"display: table-cell;\"></div><div style=\"display: table-cell;\">extra_x_scales&nbsp;=&nbsp;{},</div></div><div class=\"p1185\" style=\"display: none;\"><div style=\"display: table-cell;\"></div><div style=\"display: table-cell;\">extra_y_ranges&nbsp;=&nbsp;{},</div></div><div class=\"p1185\" style=\"display: none;\"><div style=\"display: table-cell;\"></div><div style=\"display: table-cell;\">extra_y_scales&nbsp;=&nbsp;{},</div></div><div class=\"p1185\" style=\"display: none;\"><div style=\"display: table-cell;\"></div><div style=\"display: table-cell;\">flow_mode&nbsp;=&nbsp;'block',</div></div><div class=\"p1185\" style=\"display: none;\"><div style=\"display: table-cell;\"></div><div style=\"display: table-cell;\">frame_align&nbsp;=&nbsp;True,</div></div><div class=\"p1185\" style=\"display: none;\"><div style=\"display: table-cell;\"></div><div style=\"display: table-cell;\">frame_height&nbsp;=&nbsp;None,</div></div><div class=\"p1185\" style=\"display: none;\"><div style=\"display: table-cell;\"></div><div style=\"display: table-cell;\">frame_width&nbsp;=&nbsp;None,</div></div><div class=\"p1185\" style=\"display: none;\"><div style=\"display: table-cell;\"></div><div style=\"display: table-cell;\">height&nbsp;=&nbsp;400,</div></div><div class=\"p1185\" style=\"display: none;\"><div style=\"display: table-cell;\"></div><div style=\"display: table-cell;\">height_policy&nbsp;=&nbsp;'auto',</div></div><div class=\"p1185\" style=\"display: none;\"><div style=\"display: table-cell;\"></div><div style=\"display: table-cell;\">hidpi&nbsp;=&nbsp;True,</div></div><div class=\"p1185\" style=\"display: none;\"><div style=\"display: table-cell;\"></div><div style=\"display: table-cell;\">hold_render&nbsp;=&nbsp;False,</div></div><div class=\"p1185\" style=\"display: none;\"><div style=\"display: table-cell;\"></div><div style=\"display: table-cell;\">js_event_callbacks&nbsp;=&nbsp;{},</div></div><div class=\"p1185\" style=\"display: none;\"><div style=\"display: table-cell;\"></div><div style=\"display: table-cell;\">js_property_callbacks&nbsp;=&nbsp;{},</div></div><div class=\"p1185\" style=\"display: none;\"><div style=\"display: table-cell;\"></div><div style=\"display: table-cell;\">left&nbsp;=&nbsp;[LinearAxis(id='p1133', ...)],</div></div><div class=\"p1185\" style=\"display: none;\"><div style=\"display: table-cell;\"></div><div style=\"display: table-cell;\">lod_factor&nbsp;=&nbsp;10,</div></div><div class=\"p1185\" style=\"display: none;\"><div style=\"display: table-cell;\"></div><div style=\"display: table-cell;\">lod_interval&nbsp;=&nbsp;300,</div></div><div class=\"p1185\" style=\"display: none;\"><div style=\"display: table-cell;\"></div><div style=\"display: table-cell;\">lod_threshold&nbsp;=&nbsp;2000,</div></div><div class=\"p1185\" style=\"display: none;\"><div style=\"display: table-cell;\"></div><div style=\"display: table-cell;\">lod_timeout&nbsp;=&nbsp;500,</div></div><div class=\"p1185\" style=\"display: none;\"><div style=\"display: table-cell;\"></div><div style=\"display: table-cell;\">margin&nbsp;=&nbsp;None,</div></div><div class=\"p1185\" style=\"display: none;\"><div style=\"display: table-cell;\"></div><div style=\"display: table-cell;\">match_aspect&nbsp;=&nbsp;False,</div></div><div class=\"p1185\" style=\"display: none;\"><div style=\"display: table-cell;\"></div><div style=\"display: table-cell;\">max_height&nbsp;=&nbsp;None,</div></div><div class=\"p1185\" style=\"display: none;\"><div style=\"display: table-cell;\"></div><div style=\"display: table-cell;\">max_width&nbsp;=&nbsp;None,</div></div><div class=\"p1185\" style=\"display: none;\"><div style=\"display: table-cell;\"></div><div style=\"display: table-cell;\">min_border&nbsp;=&nbsp;5,</div></div><div class=\"p1185\" style=\"display: none;\"><div style=\"display: table-cell;\"></div><div style=\"display: table-cell;\">min_border_bottom&nbsp;=&nbsp;None,</div></div><div class=\"p1185\" style=\"display: none;\"><div style=\"display: table-cell;\"></div><div style=\"display: table-cell;\">min_border_left&nbsp;=&nbsp;None,</div></div><div class=\"p1185\" style=\"display: none;\"><div style=\"display: table-cell;\"></div><div style=\"display: table-cell;\">min_border_right&nbsp;=&nbsp;None,</div></div><div class=\"p1185\" style=\"display: none;\"><div style=\"display: table-cell;\"></div><div style=\"display: table-cell;\">min_border_top&nbsp;=&nbsp;None,</div></div><div class=\"p1185\" style=\"display: none;\"><div style=\"display: table-cell;\"></div><div style=\"display: table-cell;\">min_height&nbsp;=&nbsp;None,</div></div><div class=\"p1185\" style=\"display: none;\"><div style=\"display: table-cell;\"></div><div style=\"display: table-cell;\">min_width&nbsp;=&nbsp;None,</div></div><div class=\"p1185\" style=\"display: none;\"><div style=\"display: table-cell;\"></div><div style=\"display: table-cell;\">name&nbsp;=&nbsp;None,</div></div><div class=\"p1185\" style=\"display: none;\"><div style=\"display: table-cell;\"></div><div style=\"display: table-cell;\">outline_line_alpha&nbsp;=&nbsp;1.0,</div></div><div class=\"p1185\" style=\"display: none;\"><div style=\"display: table-cell;\"></div><div style=\"display: table-cell;\">outline_line_cap&nbsp;=&nbsp;'butt',</div></div><div class=\"p1185\" style=\"display: none;\"><div style=\"display: table-cell;\"></div><div style=\"display: table-cell;\">outline_line_color&nbsp;=&nbsp;'#e5e5e5',</div></div><div class=\"p1185\" style=\"display: none;\"><div style=\"display: table-cell;\"></div><div style=\"display: table-cell;\">outline_line_dash&nbsp;=&nbsp;[],</div></div><div class=\"p1185\" style=\"display: none;\"><div style=\"display: table-cell;\"></div><div style=\"display: table-cell;\">outline_line_dash_offset&nbsp;=&nbsp;0,</div></div><div class=\"p1185\" style=\"display: none;\"><div style=\"display: table-cell;\"></div><div style=\"display: table-cell;\">outline_line_join&nbsp;=&nbsp;'bevel',</div></div><div class=\"p1185\" style=\"display: none;\"><div style=\"display: table-cell;\"></div><div style=\"display: table-cell;\">outline_line_width&nbsp;=&nbsp;1,</div></div><div class=\"p1185\" style=\"display: none;\"><div style=\"display: table-cell;\"></div><div style=\"display: table-cell;\">output_backend&nbsp;=&nbsp;'canvas',</div></div><div class=\"p1185\" style=\"display: none;\"><div style=\"display: table-cell;\"></div><div style=\"display: table-cell;\">renderers&nbsp;=&nbsp;[GlyphRenderer(id='p1152', ...), GlyphRenderer(id='p1163', ...), GlyphRenderer(id='p1172', ...), GlyphRenderer(id='p1182', ...)],</div></div><div class=\"p1185\" style=\"display: none;\"><div style=\"display: table-cell;\"></div><div style=\"display: table-cell;\">reset_policy&nbsp;=&nbsp;'standard',</div></div><div class=\"p1185\" style=\"display: none;\"><div style=\"display: table-cell;\"></div><div style=\"display: table-cell;\">resizable&nbsp;=&nbsp;False,</div></div><div class=\"p1185\" style=\"display: none;\"><div style=\"display: table-cell;\"></div><div style=\"display: table-cell;\">right&nbsp;=&nbsp;[],</div></div><div class=\"p1185\" style=\"display: none;\"><div style=\"display: table-cell;\"></div><div style=\"display: table-cell;\">sizing_mode&nbsp;=&nbsp;None,</div></div><div class=\"p1185\" style=\"display: none;\"><div style=\"display: table-cell;\"></div><div style=\"display: table-cell;\">styles&nbsp;=&nbsp;{},</div></div><div class=\"p1185\" style=\"display: none;\"><div style=\"display: table-cell;\"></div><div style=\"display: table-cell;\">stylesheets&nbsp;=&nbsp;[],</div></div><div class=\"p1185\" style=\"display: none;\"><div style=\"display: table-cell;\"></div><div style=\"display: table-cell;\">subscribed_events&nbsp;=&nbsp;PropertyValueSet(),</div></div><div class=\"p1185\" style=\"display: none;\"><div style=\"display: table-cell;\"></div><div style=\"display: table-cell;\">syncable&nbsp;=&nbsp;True,</div></div><div class=\"p1185\" style=\"display: none;\"><div style=\"display: table-cell;\"></div><div style=\"display: table-cell;\">tags&nbsp;=&nbsp;[],</div></div><div class=\"p1185\" style=\"display: none;\"><div style=\"display: table-cell;\"></div><div style=\"display: table-cell;\">title&nbsp;=&nbsp;Title(id='p1118', ...),</div></div><div class=\"p1185\" style=\"display: none;\"><div style=\"display: table-cell;\"></div><div style=\"display: table-cell;\">title_location&nbsp;=&nbsp;'above',</div></div><div class=\"p1185\" style=\"display: none;\"><div style=\"display: table-cell;\"></div><div style=\"display: table-cell;\">toolbar&nbsp;=&nbsp;Toolbar(id='p1124', ...),</div></div><div class=\"p1185\" style=\"display: none;\"><div style=\"display: table-cell;\"></div><div style=\"display: table-cell;\">toolbar_inner&nbsp;=&nbsp;False,</div></div><div class=\"p1185\" style=\"display: none;\"><div style=\"display: table-cell;\"></div><div style=\"display: table-cell;\">toolbar_location&nbsp;=&nbsp;None,</div></div><div class=\"p1185\" style=\"display: none;\"><div style=\"display: table-cell;\"></div><div style=\"display: table-cell;\">toolbar_sticky&nbsp;=&nbsp;True,</div></div><div class=\"p1185\" style=\"display: none;\"><div style=\"display: table-cell;\"></div><div style=\"display: table-cell;\">visible&nbsp;=&nbsp;True,</div></div><div class=\"p1185\" style=\"display: none;\"><div style=\"display: table-cell;\"></div><div style=\"display: table-cell;\">width&nbsp;=&nbsp;1150,</div></div><div class=\"p1185\" style=\"display: none;\"><div style=\"display: table-cell;\"></div><div style=\"display: table-cell;\">width_policy&nbsp;=&nbsp;'auto',</div></div><div class=\"p1185\" style=\"display: none;\"><div style=\"display: table-cell;\"></div><div style=\"display: table-cell;\">x_range&nbsp;=&nbsp;DataRange1d(id='p1117', ...),</div></div><div class=\"p1185\" style=\"display: none;\"><div style=\"display: table-cell;\"></div><div style=\"display: table-cell;\">x_scale&nbsp;=&nbsp;LinearScale(id='p1126', ...),</div></div><div class=\"p1185\" style=\"display: none;\"><div style=\"display: table-cell;\"></div><div style=\"display: table-cell;\">y_range&nbsp;=&nbsp;Range1d(id='p1125', ...),</div></div><div class=\"p1185\" style=\"display: none;\"><div style=\"display: table-cell;\"></div><div style=\"display: table-cell;\">y_scale&nbsp;=&nbsp;LinearScale(id='p1127', ...))</div></div></div>\n",
       "<script>\n",
       "(function() {\n",
       "  let expanded = false;\n",
       "  const ellipsis = document.getElementById(\"p1186\");\n",
       "  ellipsis.addEventListener(\"click\", function() {\n",
       "    const rows = document.getElementsByClassName(\"p1185\");\n",
       "    for (let i = 0; i < rows.length; i++) {\n",
       "      const el = rows[i];\n",
       "      el.style.display = expanded ? \"none\" : \"table-row\";\n",
       "    }\n",
       "    ellipsis.innerHTML = expanded ? \"&hellip;)\" : \"&lsaquo;&lsaquo;&lsaquo;\";\n",
       "    expanded = !expanded;\n",
       "  });\n",
       "})();\n",
       "</script>\n"
      ],
      "text/plain": [
       "figure(id='p1115', ...)"
      ]
     },
     "execution_count": 45,
     "metadata": {},
     "output_type": "execute_result"
    }
   ],
   "source": [
    "# Create a magnitude plot\n",
    "def plotMagnitude():\n",
    "    # Load the datasource\n",
    "    cds = ColumnDataSource(data=dict(\n",
    "        yrs = df_quake_freq['Year'].values.tolist(),\n",
    "        avg_mag = df_quake_freq['Avg_Magnitude'].round(1).values.tolist(),\n",
    "        max_mag = df_quake_freq['Max_Magnitude'].values.tolist()\n",
    "    ))\n",
    "    \n",
    "    # Tooltip\n",
    "    TOOLTIPS = [\n",
    "        ('Year', ' @yrs'),\n",
    "        ('Average Magnitude', ' @avg_mag'),\n",
    "        ('Maximum Magnitude', ' @max_mag')\n",
    "    ]\n",
    "    \n",
    "    # Create the figure\n",
    "    mp = figure(title='Maximum and Average Magnitude by Year',\n",
    "               width=1150,  \n",
    "               height=400,  \n",
    "               x_axis_label='Years',\n",
    "               y_axis_label='Magnitude',\n",
    "               x_minor_ticks=2,\n",
    "               y_range=(5, df_quake_freq['Max_Magnitude'].max() + 1),\n",
    "               toolbar_location=None,\n",
    "               tooltips=TOOLTIPS)\n",
    "    \n",
    "    # Max Magnitude\n",
    "    mp.line(x='yrs', y='max_mag', color='#cc0000', line_width=2, legend_label='Max Magnitude', source=cds)  # Use legend_label instead of legend\n",
    "    mp.circle(x='yrs', y='max_mag', color='#cc0000', size=8, fill_color='#cc0000', source=cds)\n",
    "    \n",
    "    # Average Magnitude \n",
    "    mp.line(x='yrs', y='avg_mag', color='yellow', line_width=2, legend_label='Avg Magnitude', source=cds)  # Use legend_label instead of legend\n",
    "    mp.circle(x='yrs', y='avg_mag', color='yellow', size=8, fill_color='yellow', source=cds)\n",
    "    \n",
    "    mp = style(mp)\n",
    "    \n",
    "    show(mp)\n",
    "    \n",
    "    return mp\n",
    "\n",
    "plotMagnitude()\n"
   ]
  },
  {
   "cell_type": "code",
   "execution_count": 46,
   "id": "1c090db1",
   "metadata": {},
   "outputs": [],
   "source": [
    "# Display the visuals directly in the browser\n",
    "output_file('dashboard.html')\n",
    "# Change to a dark theme\n",
    "curdoc().theme = 'dark_minimal'"
   ]
  },
  {
   "cell_type": "code",
   "execution_count": 47,
   "id": "2c17c58c",
   "metadata": {},
   "outputs": [
    {
     "name": "stderr",
     "output_type": "stream",
     "text": [
      "C:\\Users\\Shashank\\AppData\\Local\\Temp\\ipykernel_8928\\980228965.py:42: SettingWithCopyWarning: \n",
      "A value is trying to be set on a copy of a slice from a DataFrame.\n",
      "Try using .loc[row_indexer,col_indexer] = value instead\n",
      "\n",
      "See the caveats in the documentation: https://pandas.pydata.org/pandas-docs/stable/user_guide/indexing.html#returning-a-view-versus-a-copy\n",
      "  df_quakes_2016['coords_x'] = lst_lat\n",
      "C:\\Users\\Shashank\\AppData\\Local\\Temp\\ipykernel_8928\\980228965.py:43: SettingWithCopyWarning: \n",
      "A value is trying to be set on a copy of a slice from a DataFrame.\n",
      "Try using .loc[row_indexer,col_indexer] = value instead\n",
      "\n",
      "See the caveats in the documentation: https://pandas.pydata.org/pandas-docs/stable/user_guide/indexing.html#returning-a-view-versus-a-copy\n",
      "  df_quakes_2016['coords_y'] = lst_lon\n",
      "C:\\Users\\Shashank\\AppData\\Local\\Temp\\ipykernel_8928\\980228965.py:48: SettingWithCopyWarning: \n",
      "A value is trying to be set on a copy of a slice from a DataFrame.\n",
      "Try using .loc[row_indexer,col_indexer] = value instead\n",
      "\n",
      "See the caveats in the documentation: https://pandas.pydata.org/pandas-docs/stable/user_guide/indexing.html#returning-a-view-versus-a-copy\n",
      "  df_quakes_2016['Mag_Size'] = df_quakes_2016['Magnitude'] * 4\n"
     ]
    },
    {
     "data": {
      "text/html": [
       "\n",
       "  <div id=\"cad53879-26a1-4871-9bcb-f62855b1212f\" data-root-id=\"p1193\" style=\"display: contents;\"></div>\n"
      ]
     },
     "metadata": {},
     "output_type": "display_data"
    },
    {
     "data": {
      "application/javascript": [
       "(function(root) {\n",
       "  function embed_document(root) {\n",
       "  const docs_json = {\"18e73be8-9547-432e-9d53-589990e080f7\":{\"version\":\"3.2.1\",\"title\":\"Bokeh Application\",\"roots\":[{\"type\":\"object\",\"name\":\"Figure\",\"id\":\"p1193\",\"attributes\":{\"width\":2300,\"height\":450,\"x_range\":{\"type\":\"object\",\"name\":\"Range1d\",\"id\":\"p1203\",\"attributes\":{\"start\":-2000000,\"end\":6000000}},\"y_range\":{\"type\":\"object\",\"name\":\"Range1d\",\"id\":\"p1204\",\"attributes\":{\"start\":-1000000,\"end\":7000000}},\"x_scale\":{\"type\":\"object\",\"name\":\"LinearScale\",\"id\":\"p1205\"},\"y_scale\":{\"type\":\"object\",\"name\":\"LinearScale\",\"id\":\"p1206\"},\"title\":{\"type\":\"object\",\"name\":\"Title\",\"id\":\"p1196\",\"attributes\":{\"text\":\"Earthquake Map\",\"text_color\":\"#E0E0E0\",\"text_font\":\"serif\",\"text_font_size\":\"20pt\",\"align\":\"center\"}},\"outline_line_color\":\"#E0E0E0\",\"outline_line_alpha\":0.25,\"renderers\":[{\"type\":\"object\",\"name\":\"GlyphRenderer\",\"id\":\"p1231\",\"attributes\":{\"data_source\":{\"type\":\"object\",\"name\":\"ColumnDataSource\",\"id\":\"p1187\",\"attributes\":{\"selected\":{\"type\":\"object\",\"name\":\"Selection\",\"id\":\"p1188\",\"attributes\":{\"indices\":[],\"line_indices\":[]}},\"selection_policy\":{\"type\":\"object\",\"name\":\"UnionRenderers\",\"id\":\"p1189\"},\"data\":{\"type\":\"map\",\"entries\":[[\"lat\",[-6543390.724483237,-3328358.0702136224,5591172.898038173,2851640.5215679468,3582617.0285600303,-7225385.693391577,2519559.275530917,-3589189.5968190334,-7895731.329585679,434091.130985274,5539417.811527147,-3676788.280848081,4383206.456763607,-3600829.447882163,2946475.6765804114,2624462.067661116,-1919649.3727256414,-1714752.0518279816,-738658.6098666815,-3577327.8402285944,-1077518.9345580437,-3886984.5412093443,-551952.8806289821,-534289.4164623911,-1092279.3816380876,-370880.47196445666,-345125.133793962,-3890327.522750172,-1701661.4348117206,6701229.281034023,6721815.015535953,3945945.23053972,-374080.791003844,7761753.97926687,-1611357.202772603,468775.96792111447,-1591614.9794630976,-1582053.595071207,-1597470.6170010692,-916356.9030152019,-672409.5786799104,-1571979.4590359947,-462257.586109796,1811174.038604051,4365832.938958695,6643310.475927785,6773859.823305286,-418505.0455930204,-7410479.387446073,-560233.0274267893,-677928.4070738676,5418424.9975573495,-7511617.038765008,-1672495.0545528778,1548060.141959909,-999439.4980835484,2081535.6065417049,1852333.4820856596,-8997877.969353518,2838365.246911671,2836895.013382633,-3532220.974959881,-233455.68729851866,2040088.6479005006,-3419298.4832275123,-511168.83740093646,-1996283.2379809062,-3506570.907184386,-3509116.8698924873,-5645608.880689954,2080163.2375550573,2096579.1308771288,142378.32007136501,-452447.43496013916,-1260322.1273079962,1440522.2984627502,-969486.3282046615,-832620.1045632168,-1860667.204540434,-1189867.89525655,-7713171.987908111,-45318.54601658557,-4274618.876232512,-1692473.3553627734,-1698767.4525167744,-1645353.0122122725,65390.214373085604,64699.99763943559,-718310.979350528,-2749095.058186247,-8126461.540002937,-2551709.5517699746,2868953.7923551914,-2744089.018216976,-2568831.740902209,-2897353.1892552385,-4489209.573341354,-4500545.7623202745,-4470697.205647996,-4441532.400450267,-4446385.293838093,-4442926.682361412,-4471340.325008444,61594.03159729839,-4483469.075802989,-7426079.75738785,-2213915.801501731,4912675.02068954,4359273.23933069,2306420.320560517,938327.8076290637,-4456823.764446551,7249204.8093854645,-1219510.091862458,-7287232.027312336,-3681872.3599156886,-621364.074218154,-115277.60839181444,-3344525.2231373596,-2714535.8476083255,3230314.566706101,797189.2654855343,2586827.7678902973,-450405.18369439204,-4304433.519025345,-4456418.872302224,197100.25765049175,-1732109.4437709805,-603705.6005118577,-680771.976234633,-4176730.7437068527,-905830.9111608852,-7991177.156025094,-4380392.084819088,-528290.8084284626,-6454454.065666398,-2323743.5323901074,4649917.791428913,-2871569.0678798584,681925.11549967,-4191379.7565639713,-1725206.5409805682,6846037.379623727,-2588190.6188395876,502022.99706885614,-816613.0848425829,1235690.5297297353,588980.6922978276,5438076.329098564,4932064.174315522,-1195690.063706147,-1144151.1386994515,-1217265.6283307744,-1214148.5648662208,-1203654.6642516751,-1240091.3303174912,-1228920.328684846,-1227026.7319589504,-1163431.2025315375,-1156222.5862376215,-1218829.9356544984,-631017.2840090224,-1019965.3263767234,-1228024.5420570814]],[\"lon\",[15523380.539682128,-19734830.64732233,14464921.425372442,10425125.972535465,14775847.895107137,-15168427.211338695,15986681.128414653,-7974739.077295771,-16469562.815577714,14122224.37296535,15705699.601703351,6477859.280445858,7898151.267629998,-20031986.896045897,13742123.971651718,13425286.436955903,19474109.267935403,-19302254.23804875,17225811.77628182,-7968672.165047537,13291691.916054895,-19857794.15685258,10500756.434580415,10509684.257742038,13950113.30824987,16567067.557563543,16568659.426281884,-19839560.024260644,-19305927.781244926,-19366530.112032786,-19363168.263410825,15182876.481243663,16128747.062565029,-17580920.951912362,18574224.76826074,14098780.48820429,18557092.698627654,18548554.493683815,18550179.758249395,11954121.442479238,14519356.656370355,18545192.645061854,11378076.473471284,-10715202.301644579,7918277.831565422,19986234.58532986,19667348.77200345,-11570180.518733237,16272037.51111413,11647035.495176913,-11929341.723828655,16420326.20479985,-16019486.98235143,18583019.00803341,5762820.795233425,-12049121.495922217,-11726072.333640138,-10891677.090399155,18406009.885723025,13579185.632977603,13586888.9417405,-19809804.324371602,11206021.0685012,-11781364.724717155,-7999351.816710162,13984666.878192104,-19217272.938777164,-19796601.83276352,-7955291.562254186,18571230.273958404,-11707815.93715004,-11711155.521873841,14067577.634934934,-11638797.852858212,12942772.10411246,-9680710.273702689,17873346.12227721,-1513978.4706357587,-19727394.505337343,18364176.02108291,-15816250.988010151,-8995449.752277454,-11493859.875845369,-19244512.81817428,-19280658.256834853,18633290.890075654,-8865016.704914976,-8865261.60779472,16415327.95966323,9190147.54167489,-2844146.1980736633,-7347954.684384244,15808937.297465034,9176510.904052714,19271262.891811904,-19741765.851598755,19942452.629600868,19981191.812396925,19936541.56463974,19914021.631652266,19918296.30009873,19928181.470881168,19881972.75025288,10977715.924833277,19894440.53322173,-3441764.884397353,-19336852.3357873,-13991487.056038685,-10790098.055050293,16407992.005219955,14013721.265289148,19892637.157470874,18761953.95753452,18476820.213816624,17667805.814476512,-7327650.009263551,-8566435.566709256,3519710.791850803,-12501768.809385827,-19472684.37845325,15801156.065058582,-3821998.8690999374,13518193.683971971,-11567976.39281553,-11244292.709435929,19886113.83531039,14187557.782111922,-19460851.116581924,17088142.96201778,16548621.9179391,-7908771.147051676,11670746.546715882,16496580.055993244,-8188695.138600441,16683596.80052594,12732912.600068979,-19839693.6076496,15759032.769742409,19902288.557322655,-9193943.53631094,6013690.399685146,-7884425.574415187,19388493.4475663,-19629867.499453355,14230438.049965493,13734621.037972253,-6779412.649055758,10705350.526709374,9611892.564494286,-14047807.293370048,17958216.102058005,17931254.52138787,17948063.764497656,17957358.941978898,17937087.66270544,17973066.122129828,17956935.92791388,17962412.84686091,17959062.130188033,17961410.97144377,17953485.023699287,17195900.229105666,-12228357.008048467,17986146.162298035]],[\"mag\",[6.3,5.8,5.8,6.7,5.8,6.0,5.7,5.7,5.6,6.5,6.2,5.9,5.7,6.2,5.7,6.4,5.7,5.8,6.4,6.3,6.3,5.6,7.8,5.6,5.6,5.9,5.6,5.5,5.9,5.6,6.3,5.9,6.2,5.9,6.9,5.9,5.8,6.7,5.9,6.1,5.5,6.7,5.7,5.5,6.6,5.6,5.6,5.8,5.5,5.7,5.6,5.7,5.5,5.7,5.5,5.6,5.6,5.8,5.5,5.8,5.7,5.5,6.6,5.8,5.8,6.3,5.6,6.1,5.5,5.5,6.3,5.5,6.3,5.9,6.1,6.1,6.2,5.5,5.8,5.9,5.8,5.5,5.6,5.8,6.0,5.6,5.9,6.3,5.6,5.6,5.6,6.2,6.3,5.5,7.2,6.1,7.0,5.5,5.5,5.7,6.1,5.5,5.5,5.5,5.5,5.5,5.5,5.64,5.8,5.5,5.8,5.9,6.1,5.6,6.1,5.6,6.1,5.9,5.8,5.6,5.7,5.5,5.8,5.6,5.6,5.8,5.8,5.6,5.6,6.0,6.3,5.8,5.7,6.0,5.9,5.7,5.6,6.1,5.9,5.6,5.5,6.2,5.9,5.5,5.7,6.3,5.9,6.5,6.0,6.6,7.8,5.7,5.5,6.5,6.9,5.5,5.5,5.8,5.5,5.6,5.8,6.0,5.8,5.5]],[\"year\",[2016.0,2016.0,2016.0,2016.0,2016.0,2016.0,2016.0,2016.0,2016.0,2016.0,2016.0,2016.0,2016.0,2016.0,2016.0,2016.0,2016.0,2016.0,2016.0,2016.0,2016.0,2016.0,2016.0,2016.0,2016.0,2016.0,2016.0,2016.0,2016.0,2016.0,2016.0,2016.0,2016.0,2016.0,2016.0,2016.0,2016.0,2016.0,2016.0,2016.0,2016.0,2016.0,2016.0,2016.0,2016.0,2016.0,2016.0,2016.0,2016.0,2016.0,2016.0,2016.0,2016.0,2016.0,2016.0,2016.0,2016.0,2016.0,2016.0,2016.0,2016.0,2016.0,2016.0,2016.0,2016.0,2016.0,2016.0,2016.0,2016.0,2016.0,2016.0,2016.0,2016.0,2016.0,2016.0,2016.0,2016.0,2016.0,2016.0,2016.0,2016.0,2016.0,2016.0,2016.0,2016.0,2016.0,2016.0,2016.0,2016.0,2016.0,2016.0,2016.0,2016.0,2016.0,2016.0,2016.0,2016.0,2016.0,2016.0,2016.0,2016.0,2016.0,2016.0,2016.0,2016.0,2016.0,2016.0,2016.0,2016.0,2016.0,2016.0,2016.0,2016.0,2016.0,2016.0,2016.0,2016.0,2016.0,2016.0,2016.0,2016.0,2016.0,2016.0,2016.0,2016.0,2016.0,2016.0,2016.0,2016.0,2016.0,2016.0,2016.0,2016.0,2016.0,2016.0,2016.0,2016.0,2016.0,2016.0,2016.0,2016.0,2016.0,2016.0,2016.0,2016.0,2016.0,2016.0,2016.0,2016.0,2016.0,2016.0,2016.0,2016.0,2016.0,2016.0,2016.0,2016.0,2016.0,2016.0,2016.0,2016.0,2016.0,2016.0,2016.0]],[\"mag_s\",[25.2,23.2,23.2,26.8,23.2,24.0,22.8,22.8,22.4,26.0,24.8,23.6,22.8,24.8,22.8,25.6,22.8,23.2,25.6,25.2,25.2,22.4,31.2,22.4,22.4,23.6,22.4,22.0,23.6,22.4,25.2,23.6,24.8,23.6,27.6,23.6,23.2,26.8,23.6,24.4,22.0,26.8,22.8,22.0,26.4,22.4,22.4,23.2,22.0,22.8,22.4,22.8,22.0,22.8,22.0,22.4,22.4,23.2,22.0,23.2,22.8,22.0,26.4,23.2,23.2,25.2,22.4,24.4,22.0,22.0,25.2,22.0,25.2,23.6,24.4,24.4,24.8,22.0,23.2,23.6,23.2,22.0,22.4,23.2,24.0,22.4,23.6,25.2,22.4,22.4,22.4,24.8,25.2,22.0,28.8,24.4,28.0,22.0,22.0,22.8,24.4,22.0,22.0,22.0,22.0,22.0,22.0,22.56,23.2,22.0,23.2,23.6,24.4,22.4,24.4,22.4,24.4,23.6,23.2,22.4,22.8,22.0,23.2,22.4,22.4,23.2,23.2,22.4,22.4,24.0,25.2,23.2,22.8,24.0,23.6,22.8,22.4,24.4,23.6,22.4,22.0,24.8,23.6,22.0,22.8,25.2,23.6,26.0,24.0,26.4,31.2,22.8,22.0,26.0,27.6,22.0,22.0,23.2,22.0,22.4,23.2,24.0,23.2,22.0]]]}}},\"view\":{\"type\":\"object\",\"name\":\"CDSView\",\"id\":\"p1232\",\"attributes\":{\"filter\":{\"type\":\"object\",\"name\":\"AllIndices\",\"id\":\"p1233\"}}},\"glyph\":{\"type\":\"object\",\"name\":\"Circle\",\"id\":\"p1228\",\"attributes\":{\"x\":{\"type\":\"field\",\"field\":\"lon\"},\"y\":{\"type\":\"field\",\"field\":\"lat\"},\"size\":{\"type\":\"field\",\"field\":\"mag_s\"},\"line_color\":{\"type\":\"value\",\"value\":\"#1f77b4\"},\"fill_color\":{\"type\":\"value\",\"value\":\"#cc0000\"},\"fill_alpha\":{\"type\":\"value\",\"value\":0.7}}},\"nonselection_glyph\":{\"type\":\"object\",\"name\":\"Circle\",\"id\":\"p1229\",\"attributes\":{\"x\":{\"type\":\"field\",\"field\":\"lon\"},\"y\":{\"type\":\"field\",\"field\":\"lat\"},\"size\":{\"type\":\"field\",\"field\":\"mag_s\"},\"line_color\":{\"type\":\"value\",\"value\":\"#1f77b4\"},\"line_alpha\":{\"type\":\"value\",\"value\":0.1},\"fill_color\":{\"type\":\"value\",\"value\":\"#cc0000\"},\"fill_alpha\":{\"type\":\"value\",\"value\":0.1},\"hatch_alpha\":{\"type\":\"value\",\"value\":0.1}}},\"muted_glyph\":{\"type\":\"object\",\"name\":\"Circle\",\"id\":\"p1230\",\"attributes\":{\"x\":{\"type\":\"field\",\"field\":\"lon\"},\"y\":{\"type\":\"field\",\"field\":\"lat\"},\"size\":{\"type\":\"field\",\"field\":\"mag_s\"},\"line_color\":{\"type\":\"value\",\"value\":\"#1f77b4\"},\"line_alpha\":{\"type\":\"value\",\"value\":0.2},\"fill_color\":{\"type\":\"value\",\"value\":\"#cc0000\"},\"fill_alpha\":{\"type\":\"value\",\"value\":0.2},\"hatch_alpha\":{\"type\":\"value\",\"value\":0.2}}}}},{\"type\":\"object\",\"name\":\"GlyphRenderer\",\"id\":\"p1242\",\"attributes\":{\"data_source\":{\"type\":\"object\",\"name\":\"ColumnDataSource\",\"id\":\"p1190\",\"attributes\":{\"selected\":{\"type\":\"object\",\"name\":\"Selection\",\"id\":\"p1191\",\"attributes\":{\"indices\":[],\"line_indices\":[]}},\"selection_policy\":{\"type\":\"object\",\"name\":\"UnionRenderers\",\"id\":\"p1192\"},\"data\":{\"type\":\"map\",\"entries\":[[\"pred_lat\",[-4305644.878725946,-545572.9963252052,-2662437.544199333,2755248.2180776442,-5365811.401172721,-2198935.6254887776,-2201815.0661135376,-2169151.5511257183,-2151981.0195756736,-2022267.689426525,-2130721.2189970976,-2549699.865701337,-694543.9332678925,-7232331.040247741,12673256.347779717,499019.2775873914,1653476.4320984208,-1131687.975289045,-2610385.9209709303,-2291994.7871158165,-587136.108265621,3372.9807282539505,-2110306.486492369,-1702145.7202415739,-2114300.813983417,-1533175.837365457,369430.8808398337,-1523097.209169454,2255613.0303128827,5251466.08195597,5249092.034354799,-1158542.31074942,314783.38479557785,-696727.5869158688,-751615.0630744306,1355850.2420601917,-3515612.666032386,-1663110.5734038544,78148.23778704347,1358742.0221909478,1697280.2399914016,384206.4656621807,2899247.571116649,1108390.3548526065,-2736515.995592676,-1686526.5676896854,-2188094.3838645956,-2423170.738547443,-942997.9000432289,-2663406.851823695,-2033417.1551428244,-2109578.1952632125,4518380.554022869,-5588992.228074327,-7820139.622008823,8306487.562006566,4525320.617361077,-817948.6770221533,1099802.996351176,-7397288.521822361,-668525.4304657294,-698418.5745860382,5088588.534926192,-1691850.9498408462,-8433232.08722776,-3570322.1306225546,1618757.24354095,685451.8444193258,-2393392.991688738,-1766434.174267657,6635262.103856747,-1293287.889404825,-908799.531326025,-948748.992832175,-339539.992015826,6938469.688544394,7747885.474860748,2963540.901167296,34353.36095726692,6922941.295510339,-2593172.612202951,-7482427.682112884,6654349.953489209,4269774.326043047,-2157361.3814672176,1540382.0671977927,1547853.8366059961,-6832047.59130031,1464599.6400086829,632818.3313257238,636331.0777585702,857123.4469409954,862313.1988759948,638680.4740663961,-2064241.1614338474,-2664133.870717765,-822977.1091850322,-1504450.120204938,1973247.8774015973,-2047816.2328304106,-301988.9644560258,-4340474.349688632,-2337314.354431834,-3900003.6645173165,-3897255.305117063,-3900282.5196553133,-7337411.688928481,6658187.08326438,-1866135.711318369,-3924408.758540344,-3912532.1501572262,613680.5528100671,-1081459.7614575624,3608746.6061610063,8359970.740134858,8361875.379767513,8350300.101798156,8348464.775425542,-1312938.1458496503,4792667.472756803,4790503.900218573,-8586207.569116628,6625734.82365355,6629257.565175177,6752243.306047916,2808339.2316463753,6627150.819317838,-1641809.9026616956,6756972.061558729,-7641276.689954517,-7637796.156257059,-7675664.015505834,-3208248.7246229313,1450445.4558200159,4546886.706747683,-2371464.574741726,3151660.834632129,-448095.1517515751,1049075.6774900411,1977857.613992557,1926809.1237635878,5453657.620247199,-310681.9021402735,-1121049.0407249308,6858557.903920932,-2549170.4076041034,7104842.120234905,-143870.3768323784,-4487249.0510882195,-8100499.685198234,2164321.5495230677,7176067.416283686,-527676.4522642265,-8997805.451620065,-453675.0399595397,-1902394.1145143113,-7227922.704199101,1610771.2655774383,-929517.8827989912,-3697894.4979751343,4711592.3876203345,-2075577.6191125002,1591959.3923035788,1678726.4619239368,1726499.241972048,-3569999.0833416884,-7445379.231640741,-9036901.844784355,1266349.5260567088,-2764708.0832564547,-2361950.752767476,1541814.3773614864,-2207988.437418792,-5047525.047991203,-1736970.3674071126,-1066974.4236178973,-2220022.200725581,-2850083.1727469866,5434235.246962346,-3543498.6991029233,-3649032.4471866395,-509717.04716724897,3994117.608229388,-31715.053620725674,-3169524.199447897,-3178313.99124862,-4232681.143815502,5922688.114774268,1246500.756029532,-745752.8974622741,-2578074.42083684,-7572383.258442905,1230893.4115588807,-4321997.7203316195,-6357337.283314072,-4217157.9086806,4990992.382834879,-532580.2680479435,45619.11627917563,-2318066.2695521857,-2317341.8919830867,7280814.093520289,7254582.226507023,-1852960.1451625917,-7754111.940643026,-1969234.135804802,4497391.699737972,4429256.6953345,-2043834.993375725,34464.6820680013,4871567.652741578,3110671.5547305616,-396363.01566563087,1505010.8360824403,7227731.923012483,5800306.867275992,-3317861.212150935,681981.0936987327,-1145282.3105185104,-5989276.000660639,-605897.2791313904,-376534.060890135,-372999.13958976517,3920896.384432669,5512343.6078667715,6873195.893977935,6885703.918075628,-2876874.679370592,1574962.2867086118,-1839328.3396986248,-3534591.685046523,-419776.828952932,-1200527.5166430902,-7355095.6786795445,-1665850.7073915948,3334180.5471230606,-123795.04571138619,-698004.2220956333,-2032972.4655502085,-5985748.279869394,-161708.8821725821,-129028.0895611599,8062469.851229396,7771982.62055044,1576029.3031772126,5061494.911955777,-7912625.714267072,-1832961.9011957513,3221629.9168965113,1691758.742954441,1709872.5242152764,1698536.8710225923,1735030.4984869228,5128275.333156286,7787187.344932034,2747669.8187303916,1678530.6267919843,2118248.9355914155,-7448440.212338019,1815089.6939157222,-703995.8215343215,-2101533.516183289,-3739915.568881679,1718917.152009302,1701303.9921897436,2102014.9316169075,-6569926.986643506,4576798.589796728,-2129686.461762279,-566748.298184276,-681600.442976885,2698450.1605495107,4925775.566875482,1745701.721099107,1877309.0836236048,844230.1342541707,1725356.5830811297,-695092.6385978509,-2702494.352232406,4914743.655082393,3349465.5891309045,438911.39930979925,1512186.7203117542,-2557126.0721197636,106415.23801256623,4509494.443295251,4452482.453741789,-4206130.0392036885,-2153793.9305472,-8799329.294446291,6871116.152136846,-2104551.359970118,-7220161.650973685,-7219284.962370067,-3631956.9676027764,1831095.2137202795,-2735164.9224374145,-2720870.1036247457,-2343223.557681384,-26527.511136182584,-620133.7559040728,3289163.7310350225,-6862547.445647728,-805503.2306815294,-541126.3941315995,22972492.920816742,23017578.89083119,23070653.714063987,-961120.3823463281,-2475197.087909239,-2442723.714941221,-1746464.1334434794,-426236.4080493929,-419832.6093060029,-417177.49998489686,-425488.90432073775,-2478875.5770178144,-2469363.43797136,-2488321.031005311,-2480205.777766392,-2490671.2143681957,2114911.7816435685,-1726072.1813098392,-2420053.3593098465,-1707473.4933615183,-2113725.1115881503,1308391.019937781,-2472753.18361226,-2000220.328516855,-472794.39156972774,-2496656.043696367,3831869.552869018,-5081425.444171707,-1316405.7714694205,4151779.3925998537,4570289.9003546275,1064073.4976731613,-2054574.397347699,-2111410.720620923,1471113.6276090278,-8187111.827621816,4310739.577394617,-2456660.792872055,3792263.2916084253,3482140.0594611526,-330287.73264516547,274464.949188219,-2468081.975861971,-2451922.130950162,-2416088.7546149213,-2430626.024760267,-2449780.5835856874,-1657447.0457099949,-6795732.894736507,-4380114.846842927,3140736.139320978,-2347731.0651551904,-509784.05228970014,11972630.390174912,-2954956.4261257593,-1621239.7221826883,5653346.910651668,-751603.8537432499,-488869.975569843,-120254.43798601728,3599857.9663209543,-684209.0685570824,-6237394.496044554,-52320.747453207616,-3861757.15764775,-1566014.8139201794,-70121.559796827,1132049.8215287544,-3575065.421551152,1120201.224843237,-1818009.4917290597,1129381.2901968637,-2371952.904337748,-1612529.117119659,-2238506.885499229,3598666.3855736377,3610366.9396063318,-7211722.819822231,-2418106.7702445276,-836403.7278979729,-1959937.7578399326,-8316409.16625335,-2494688.855133488,3582901.595867437,3412595.806500549,7143535.427905174,-1731128.1413604217,-3234457.453569088,454601.3348356274,-7670127.402271534,-6999959.447355698,-605248.7137534146]],[\"pred_long\",[5780687.573505744,-8501191.21315532,19952716.286652006,10243363.50796821,-8293491.307233229,19597996.729239237,19587020.627447024,19613102.784139886,19624201.33737198,18604102.919589657,19620806.092902783,-7546904.878329982,16417053.411770526,-15123699.039937956,-10287657.533354852,13649673.134547904,16067855.301101107,17925454.77591754,-7770467.811690112,5192709.155084753,11435127.712502839,13923507.949950278,19618557.43918876,-19288127.794667084,19602182.34209307,18537177.64172474,10961585.730617331,18525444.56739513,-8526405.077819996,1472400.640824471,1468348.6113595958,17959785.70687819,14272093.803420337,17273645.761475686,17098918.688726567,16281210.237155495,-19753988.731687855,18607910.046174783,-8869591.935986578,15699053.828102991,-6737656.708059201,-8312393.356769928,7042560.793341977,13965208.231201438,-7420468.200686982,-19634654.237557467,-7113838.66329691,19411291.67928076,3342979.968267402,-19904325.70400417,-19863671.825966466,18857978.150292795,15733306.835420081,-9005435.110601611,-15876597.283969184,-16993432.33925086,4278063.6909309,17337788.05207077,13970161.94854174,-14379951.258049939,16626890.651915848,11375438.201539483,15796480.646445265,18719775.002472945,16731252.674534539,-19761447.137571003,16164992.688767318,10275278.80597864,18931883.16023045,-19717030.66074449,19934649.133296255,12754285.942301288,17895008.895185582,12837731.032599926,15235864.558861258,19176073.595234573,18121265.76022291,-12247782.259191895,13422926.463751087,-3597701.22710057,2800330.846497431,-3339729.4391362383,-19634220.09154337,6727738.14142952,18877414.533385303,13461921.68137597,13462467.146880858,15547347.626049919,13955200.608979123,14159983.944242429,14148139.550422024,13893997.152940981,13899607.655276963,14170982.309932806,-19833604.431503203,-7538834.215247469,9258653.55630907,18545404.152094364,-6806329.70192957,-19855946.253305417,-8382747.274951275,-10956943.707851252,-19325252.84484664,-8018298.394043178,-8027849.60635324,-8021871.749697642,-14504840.594770912,19885512.71006011,-19330217.69413602,-8011596.960697423,-7992717.175058885,13922261.171653392,12451029.385482254,14629017.486750808,-15218643.43363554,-15217841.933301827,-15209492.971492331,-15215348.37670806,-1551548.7987784883,7953087.436336478,7950694.067284424,-4231921.761997088,-19704841.176502623,-19702080.45313095,-19880269.562043745,14061588.646330256,-19708436.796055246,18632289.01465851,-19868358.376528863,-2865719.9153894004,-2870606.8410352245,-2876918.6561632035,-19658409.81689275,-10025555.79228209,6368120.52642185,-7648873.53189662,14476454.124618625,16973784.44912585,13798462.765942194,-11724480.464921793,-10473828.249757523,16444048.388287898,13594113.576692982,18028581.15218843,-18553163.120602652,-19628954.67962885,-17921024.26018397,13406350.991571967,-7980449.767173465,-2921234.945448006,16234411.523226002,19026682.83859,16156499.011619791,17347361.528278995,-8945445.037013115,-19783221.22997017,-16323778.810434842,-10354349.040289104,11828697.772202456,-7988286.659325312,2934938.3747646576,18782715.042567465,-10382156.649089262,-10242417.292296467,-10817538.309530836,-19821136.648534358,-13887941.372641826,-17932690.542819105,-9646423.870538358,19993436.956384186,-19652576.675575186,-10126934.452547526,3839208.862376577,8976614.494435232,-8169236.491609777,7366010.705790913,-19617444.244280823,-19727572.61652261,16461325.17325901,-19777221.10941641,20029237.304623302,17035678.086006906,-4290754.112881334,-8960406.37657573,-19638350.044651803,-19616453.500812765,-8163681.649019193,-12531825.07190001,13873592.290278576,16446909.299201284,19269426.120213814,-3066028.2071228167,13890891.33914785,-11201334.517938806,18258144.206102323,-8155822.492969188,14656736.039958334,17055359.37197916,13579241.292722998,-19309590.192492027,-19299949.924589332,18773854.01110032,18797075.256879795,-8197088.628206255,-15741678.061127735,7400920.498103682,15761270.291507354,3051701.3886577226,18832207.68817415,13381003.543518338,15972988.831047077,14491972.06163521,14035684.600822661,-5490934.070919933,18846512.24274109,16817848.10642263,-7669278.394559028,13961133.937838405,17976171.935922958,11117154.71900093,16873975.3936806,16348847.95976149,16340409.942359356,11561107.980233584,9220782.665541198,-18818515.390806578,-18828678.860316005,-1513956.2067375998,13440615.130838137,-8179132.7943413,-8032792.191744462,11312598.348986682,-8300671.414389395,-14446186.355071936,-19271218.364015583,14237840.796103245,-1520679.9039815138,14254382.872435123,-19908444.52516352,17814458.11164757,16484190.196667952,11097228.530148936,-17104406.739622675,-3792777.5027667037,16318858.48894178,14363520.501208851,-2851237.2496371954,18699236.556421585,15562921.222811898,-10452822.261844832,-10497105.155282399,-10470811.491557026,-10523287.499516975,15906798.261821399,-3746156.9000224797,15844915.75688942,-10465579.475489743,16224448.428800004,-3157232.2659297455,-10590758.24288678,16572221.649987271,-1413334.5190095599,-8029040.724904728,-10527105.758051185,-10479995.349547472,-10963711.932891482,18104078.030844428,16103488.670104034,18823524.76789228,16456026.365497254,12581774.127418952,-12115011.502522757,-14118940.44798695,-10511754.800270792,-10584012.281744706,13886304.976127166,-10482978.71190073,17000879.61318493,-19685415.925359197,15845483.486292463,15643995.20795664,14304365.323801303,-5491635.38371193,-7627299.814580885,-2839637.7586965365,16032244.19599634,15704630.934591737,-1731262.9847151493,-19543906.58866279,17209826.297403906,19677846.199985255,-7764823.913506894,958304.9684429747,927981.539150887,-7304629.138567501,-10560390.285798375,-19577959.220896453,-19556986.628831,-19347572.402750693,13686642.337440351,16384136.238342956,14606319.44257806,1868063.5069510029,13700479.350145955,14592938.839784708,6028117.405691953,5923410.2926518,6144858.15568686,13245249.424495943,18829524.888446037,18804589.322508343,-19287994.211278133,14217825.551658614,14211881.090850255,14221254.191975046,14223180.019165771,18805669.121569037,18797242.236115985,18810967.929330796,18794114.158424694,18796396.207985956,-11862683.612741644,-19276995.84558776,18808697.011718616,-19301107.647293583,-19786471.75910133,-6810348.335547209,18774644.379484948,-19875772.254615694,15972632.608676542,-19968746.293326236,15744806.138819026,-9371976.797936622,-1571185.556954422,5116154.741266219,16133622.856261773,-9404994.158905908,-19815515.014249295,-19093797.359589268,15997913.265035696,-1903663.4801066918,14391383.769754406,18758402.86577821,15645943.299045524,10573548.249610139,-8872942.652659455,14265381.238125501,18776581.338624753,18768288.036560655,18766718.431740474,18776425.491337646,18791709.65742356,-19486309.884126347,15551076.828991493,19760311.67876491,14511408.444727717,19207922.10155053,17057140.48383185,364526.8045516536,-1543366.8162051828,-8478025.62712124,16286175.086444875,14447221.626336314,16008065.60259604,-2608471.704115224,6379386.058890129,16437035.260367919,11891749.131787766,-8940079.43755688,-19900696.688604306,18968629.72414131,13766669.919371633,15609185.603185581,-19869683.078469306,15605556.58778572,-19360374.14419192,15607170.720402226,-19338555.52399644,18639658.36494903,-7910262.828228306,6376324.772893313,6378406.4473711485,240761.79468769205,18871904.218591034,12041907.992918814,-19763306.17306725,-16822913.143253725,-12725977.395792559,14702844.573044907,15879447.062933493,17878344.36741383,-19250691.049913306,8238176.652258052,14114409.744711664,-15826770.679890113,-13070077.073783645,16791877.269220557]],[\"pred_mag\",[5.826981872366586,5.877490345464774,5.895554354662961,5.874109285317706,5.838816337734223,5.96628093737766,5.8972669939534486,5.903318725977232,5.9669568450185535,5.9972455788473695,5.90401166230081,5.877192587659317,5.870372226083125,5.797517878869393,5.864451706731068,5.919782837190876,5.909379986724231,5.972426209299035,5.866787557885646,5.84853659029466,5.934746664017501,5.8529506756582315,5.90401166230081,5.861175973021434,5.90401166230081,5.993689221482037,5.901292618409611,5.995143097558725,5.952390061042302,5.890552943492489,5.869391578021647,5.888335820937136,5.8529506756582315,5.870098530744065,5.923681456933654,5.912388999499899,5.925936060570068,5.910664833274253,5.883151020652072,5.912779723448539,5.869036392162036,5.882383869559627,5.912639512059893,5.934540991417352,5.879310517189394,5.877072744705761,5.889227109529293,5.884875428603904,5.904953103390266,5.835657679169669,5.831853857924947,5.907123955067847,5.861120075492348,5.814975460601167,5.872792912233395,5.867438240381135,5.870700735473475,5.974470172841852,5.934540991417352,5.797517878869393,5.880188945651592,5.88505424210189,5.863914764706466,5.943233919161794,5.899931679168121,5.925936060570068,5.860757944942369,5.870153595460687,5.9131561068693035,5.839446003579036,5.958041128678003,5.887657868263856,5.936691711904784,5.846552423013476,5.859838002383944,5.956149319051483,5.964952178383616,5.964901147626382,5.8549400431648255,5.856276022230188,5.912101197720244,5.924292741712509,5.946164482271408,5.929747915247824,5.907123955067847,5.901724073043771,5.936771378403143,5.900688500308541,5.896908922330523,5.934540991417352,5.934540991417352,5.901650911310967,5.894320242443376,5.894320242443376,5.849530104938881,5.868905487415724,5.862419054315974,5.995143097558725,5.933188427721219,5.831853857924947,5.947396859406856,5.799919803535156,5.905865580307681,5.934927420349907,5.934927420349907,5.89903331938216,5.797517878869393,5.958041128678003,5.827356507003575,5.934927420349907,5.89903331938216,5.928123427568602,5.886227408397308,5.925562622222468,5.881005401558861,5.926119354492744,5.926119354492744,5.881005401558861,5.859041650286821,5.9351750244947885,5.875501119174654,5.936190534689468,5.96212063208098,5.96212063208098,5.963552516179214,5.896935222965292,5.96212063208098,5.928333877119539,5.963552516179214,5.936190534689468,5.831364894110201,5.936190534689468,5.833988071597612,5.9478977618548425,5.891862100944319,5.86674444946174,5.904778248970544,5.927620399412293,5.884080087228649,5.8613129494614515,5.890817106791384,5.861088283873331,5.8921702940204765,5.888335820937136,5.860588349885145,5.831763904730862,5.9683683720673795,5.934182698515996,5.8405662051026255,5.8252351764461965,5.859379960041383,5.947416786675264,5.9246673929303375,5.89700452370095,5.878743793858581,5.839446003579036,5.797517878869393,5.869497023952616,5.893558077264899,5.89903331938216,5.941761431936422,5.98875192343465,5.869497023952616,5.887022399027499,5.967187366848071,5.847204615477091,5.805126611924263,5.796382615564694,5.878939425542951,5.8862993687675065,5.847171061887051,5.870033564286483,5.9122059629640535,5.831789736262288,5.8757426208406525,5.857611190420272,5.798481481526833,5.844212707293725,5.858328849969722,5.925936060570068,5.891795556644379,5.8811413779687625,5.8575115661612305,5.951273043865563,5.901217094323968,5.901217094323968,5.948205929121837,5.9654118043459,5.908604193445746,5.866047941268471,5.944714608628688,5.81877757407279,5.904239591198114,5.799919803535156,5.918461983682475,5.830697362115112,6.020680687906902,5.8753111750796805,5.8549400431648255,5.905865580307681,5.817603236673704,5.951781388922897,5.940363194613981,5.877107974310418,5.796382615564694,5.832191186296563,5.918289277270818,5.891862100944319,5.922551876803626,5.8549400431648255,5.941198905481704,5.93717556012636,5.932391042994453,5.860854783292894,5.940363194613981,5.858328849969722,5.870283412101797,5.850331873794659,5.887082372543329,5.841352642480002,5.970751058502495,5.9278039976594465,5.9278039976594465,5.905728616131829,5.9351750244947885,5.939362381997734,5.939362381997734,5.82265603778222,5.8929316803923175,5.877107974310418,5.850432026859213,5.920419812189206,5.871361230698984,5.797517878869393,5.861175973021434,5.898045595783587,5.867336596349285,5.920966126350005,5.841320993270663,5.918311054534064,5.932275218270407,5.861377183662934,5.867438240381135,5.856276022230188,5.951504809217172,5.920261631038485,5.938904448613871,5.918258888126669,5.931063341648481,5.888275847421307,5.890944198656505,5.946156705644243,5.946156705644243,5.871528232311982,5.856276022230188,5.861335800172293,5.946108977610302,5.919199076667328,5.835224350933696,5.890944198656505,5.969665994316161,5.829767588735587,5.934927420349907,5.869497023952616,5.946156705644243,5.881680575211719,5.919154920006052,5.973800956527046,5.907822867654773,5.933270873061145,5.913857591075901,5.862833043998158,5.958303506661652,5.888275847421307,5.869497023952616,5.901650911310967,5.888275847421307,5.927620399412293,5.834128901768415,5.866533566570039,5.90457573719155,5.902163268448628,5.860854783292894,5.866787557885646,5.865345731564984,5.927954629711162,5.862485428962114,5.822437317270927,5.798481481526833,5.89700452370095,5.855786078165796,5.86000882372037,5.8439484762892775,5.8244627359367716,5.880688441875467,5.887022399027499,5.89049694704294,5.7952889212719105,5.798431204444321,5.8549400431648255,5.919037315392747,5.93717556012636,5.8244627359367716,5.916501422246453,5.859037237907482,5.7962431542672315,5.7962431542672315,5.7962431542672315,5.846552423013476,5.975878103552856,5.903415643106719,5.833185334237694,5.899500962888068,5.899500962888068,5.899500962888068,5.932391042994453,5.983778656039044,5.983778656039044,5.903415643106719,5.903415643106719,5.902377665788245,5.862833043998158,5.833185334237694,5.903415643106719,5.842003940792052,5.849530104938881,5.8555144677018385,5.903415643106719,5.831853857924947,5.880041149245732,5.8335030407600845,5.922181227843127,5.814975460601167,5.859041650286821,5.936334322689458,5.941198905481704,5.951273043865563,5.838645934133626,5.798431204444321,5.859528140338207,5.831364894110201,5.906468993870814,5.903415643106719,5.859866627098541,5.890350796612145,5.881536918902162,5.902129509119286,5.983778656039044,5.983778656039044,5.9165001447798415,5.903415643106719,5.903415643106719,5.877072744705761,5.900688500308541,5.940982013918362,5.93717556012636,5.863844421236668,5.879887929574956,5.85937255302966,5.82265603778222,5.948659292887046,5.949265456828582,5.851658628220401,5.880041149245732,5.865345731564984,5.896226703191951,5.871625674476933,5.8207079798655315,5.951273043865563,5.80736162196301,5.934180327100512,5.928123427568602,5.925609085383198,5.915847308336822,5.9348608769931825,5.8543778730317575,5.92902218523407,5.817603236673704,5.928333877119539,5.950822463892043,5.929747915247824,5.891862100944319,5.927164932449268,5.975878103552856,5.846552423013476,5.849530104938881,5.796382615564694,5.791057881142159,5.904778248970544,5.912041275560247,5.859930582434183,5.82872186047334,5.819901245457091,5.9372549053417565,5.796382615564694,5.805126611924263,5.878935497257785]],[\"year\",[2017,2017,2017,2017,2017,2017,2017,2017,2017,2017,2017,2017,2017,2017,2017,2017,2017,2017,2017,2017,2017,2017,2017,2017,2017,2017,2017,2017,2017,2017,2017,2017,2017,2017,2017,2017,2017,2017,2017,2017,2017,2017,2017,2017,2017,2017,2017,2017,2017,2017,2017,2017,2017,2017,2017,2017,2017,2017,2017,2017,2017,2017,2017,2017,2017,2017,2017,2017,2017,2017,2017,2017,2017,2017,2017,2017,2017,2017,2017,2017,2017,2017,2017,2017,2017,2017,2017,2017,2017,2017,2017,2017,2017,2017,2017,2017,2017,2017,2017,2017,2017,2017,2017,2017,2017,2017,2017,2017,2017,2017,2017,2017,2017,2017,2017,2017,2017,2017,2017,2017,2017,2017,2017,2017,2017,2017,2017,2017,2017,2017,2017,2017,2017,2017,2017,2017,2017,2017,2017,2017,2017,2017,2017,2017,2017,2017,2017,2017,2017,2017,2017,2017,2017,2017,2017,2017,2017,2017,2017,2017,2017,2017,2017,2017,2017,2017,2017,2017,2017,2017,2017,2017,2017,2017,2017,2017,2017,2017,2017,2017,2017,2017,2017,2017,2017,2017,2017,2017,2017,2017,2017,2017,2017,2017,2017,2017,2017,2017,2017,2017,2017,2017,2017,2017,2017,2017,2017,2017,2017,2017,2017,2017,2017,2017,2017,2017,2017,2017,2017,2017,2017,2017,2017,2017,2017,2017,2017,2017,2017,2017,2017,2017,2017,2017,2017,2017,2017,2017,2017,2017,2017,2017,2017,2017,2017,2017,2017,2017,2017,2017,2017,2017,2017,2017,2017,2017,2017,2017,2017,2017,2017,2017,2017,2017,2017,2017,2017,2017,2017,2017,2017,2017,2017,2017,2017,2017,2017,2017,2017,2017,2017,2017,2017,2017,2017,2017,2017,2017,2017,2017,2017,2017,2017,2017,2017,2017,2017,2017,2017,2017,2017,2017,2017,2017,2017,2017,2017,2017,2017,2017,2017,2017,2017,2017,2017,2017,2017,2017,2017,2017,2017,2017,2017,2017,2017,2017,2017,2017,2017,2017,2017,2017,2017,2017,2017,2017,2017,2017,2017,2017,2017,2017,2017,2017,2017,2017,2017,2017,2017,2017,2017,2017,2017,2017,2017,2017,2017,2017,2017,2017,2017,2017,2017,2017,2017,2017,2017,2017,2017,2017,2017,2017,2017,2017,2017,2017,2017,2017,2017,2017,2017,2017,2017,2017,2017,2017,2017,2017,2017,2017,2017,2017,2017,2017,2017,2017,2017]],[\"pred_mag_s\",[23.307927489466344,23.509961381859096,23.582217418651844,23.496437141270825,23.355265350936893,23.86512374951064,23.589067975813794,23.613274903908927,23.867827380074214,23.988982315389478,23.61604664920324,23.508770350637267,23.4814889043325,23.190071515477573,23.457806826924273,23.679131348763505,23.637519946896923,23.88970483719614,23.467150231542583,23.39414636117864,23.738986656070004,23.411802702632926,23.61604664920324,23.444703892085737,23.61604664920324,23.974756885928148,23.605170473638445,23.9805723902349,23.80956024416921,23.562211773969956,23.477566312086587,23.553343283748543,23.411802702632926,23.48039412297626,23.694725827734615,23.649555997999595,23.703744242280273,23.64265933309701,23.532604082608287,23.651118893794155,23.476145568648143,23.529535478238508,23.65055804823957,23.738163965669408,23.517242068757575,23.508290978823045,23.556908438117173,23.539501714415614,23.619812413561064,23.342630716678677,23.327415431699787,23.62849582027139,23.444480301969392,23.25990184240467,23.49117164893358,23.46975296152454,23.4828029418939,23.89788069136741,23.738163965669408,23.190071515477573,23.52075578260637,23.54021696840756,23.455659058825866,23.772935676647176,23.599726716672485,23.703744242280273,23.443031779769477,23.48061438184275,23.652624427477214,23.357784014316145,23.832164514712012,23.550631473055425,23.746766847619135,23.386209692053903,23.439352009535774,23.82459727620593,23.859808713534463,23.859604590505526,23.419760172659302,23.42510408892075,23.648404790880974,23.697170966850035,23.784657929085633,23.718991660991296,23.62849582027139,23.606896292175083,23.74708551361257,23.602754001234164,23.58763568932209,23.738163965669408,23.738163965669408,23.60660364524387,23.577280969773504,23.577280969773504,23.398120419755525,23.475621949662894,23.449676217263896,23.9805723902349,23.732753710884875,23.327415431699787,23.789587437627425,23.199679214140623,23.623462321230726,23.739709681399628,23.739709681399628,23.59613327752864,23.190071515477573,23.832164514712012,23.3094260280143,23.739709681399628,23.59613327752864,23.71249371027441,23.54490963358923,23.702250488889874,23.524021606235443,23.704477417970978,23.704477417970978,23.524021606235443,23.436166601147285,23.740700097979154,23.502004476698616,23.74476213875787,23.84848252832392,23.84848252832392,23.854210064716856,23.587740891861166,23.84848252832392,23.713335508478156,23.854210064716856,23.74476213875787,23.325459576440803,23.74476213875787,23.335952286390448,23.79159104741937,23.567448403777277,23.46697779784696,23.619112995882176,23.71048159764917,23.536320348914597,23.445251797845806,23.563268427165536,23.444353135493323,23.568681176081906,23.553343283748543,23.44235339954058,23.32705561892345,23.873473488269518,23.736730794063984,23.362264820410502,23.300940705784786,23.437519840165532,23.789667146701056,23.69866957172135,23.5880180948038,23.514975175434323,23.357784014316145,23.190071515477573,23.477988095810463,23.574232309059596,23.59613327752864,23.76704572774569,23.9550076937386,23.477988095810463,23.548089596109996,23.868749467392284,23.388818461908365,23.22050644769705,23.185530462258775,23.515757702171804,23.545197475070026,23.388684247548206,23.48013425714593,23.648823851856214,23.327158945049153,23.50297048336261,23.430444761681088,23.193925926107333,23.3768508291749,23.43331539987889,23.703744242280273,23.567182226577515,23.52456551187505,23.430046264644922,23.805092175462253,23.604868377295873,23.604868377295873,23.792823716487348,23.8616472173836,23.634416773782984,23.464191765073885,23.778858434514753,23.27511029629116,23.616958364792456,23.199679214140623,23.6738479347299,23.322789448460448,24.082722751627607,23.501244700318722,23.419760172659302,23.623462321230726,23.270412946694815,23.807125555691588,23.761452778455926,23.50843189724167,23.185530462258775,23.328764745186252,23.673157109083274,23.567448403777277,23.690207507214502,23.419760172659302,23.764795621926815,23.74870224050544,23.729564171977813,23.443419133171577,23.761452778455926,23.43331539987889,23.481133648407187,23.401327495178634,23.548329490173316,23.36541056992001,23.88300423400998,23.711215990637786,23.711215990637786,23.622914464527316,23.740700097979154,23.757449527990936,23.757449527990936,23.29062415112888,23.57172672156927,23.50843189724167,23.401728107436853,23.681679248756826,23.485444922795935,23.190071515477573,23.444703892085737,23.592182383134347,23.46934638539714,23.68386450540002,23.36528397308265,23.673244218136254,23.729100873081627,23.445508734651735,23.46975296152454,23.42510408892075,23.80601923686869,23.68104652415394,23.755617794455485,23.673035552506676,23.724253366593924,23.553103389685226,23.56377679462602,23.78462682257697,23.78462682257697,23.486112929247927,23.42510408892075,23.445343200689173,23.784435910441207,23.676796306669313,23.340897403734783,23.56377679462602,23.878663977264644,23.319070354942347,23.739709681399628,23.477988095810463,23.78462682257697,23.526722300846878,23.676619680024206,23.895203826108183,23.631291470619093,23.73308349224458,23.655430364303605,23.451332175992633,23.83321402664661,23.553103389685226,23.477988095810463,23.60660364524387,23.553103389685226,23.71048159764917,23.33651560707366,23.466134266280157,23.6183029487662,23.60865307379451,23.443419133171577,23.467150231542583,23.461382926259937,23.711818518844648,23.449941715848457,23.289749269083707,23.193925926107333,23.5880180948038,23.423144312663183,23.44003529488148,23.37579390515711,23.297850943747086,23.522753767501868,23.548089596109996,23.56198778817176,23.181155685087642,23.193724817777284,23.419760172659302,23.676149261570988,23.74870224050544,23.297850943747086,23.666005688985813,23.436148951629928,23.184972617068926,23.184972617068926,23.184972617068926,23.386209692053903,23.903512414211423,23.613662572426875,23.332741336950775,23.59800385155227,23.59800385155227,23.59800385155227,23.729564171977813,23.935114624156174,23.935114624156174,23.613662572426875,23.613662572426875,23.60951066315298,23.451332175992633,23.332741336950775,23.613662572426875,23.36801576316821,23.398120419755525,23.422057870807354,23.613662572426875,23.327415431699787,23.520164596982926,23.334012163040338,23.688724911372507,23.25990184240467,23.436166601147285,23.74533729075783,23.764795621926815,23.805092175462253,23.354583736534504,23.193724817777284,23.438112561352828,23.325459576440803,23.625875975483257,23.613662572426875,23.439466508394165,23.56140318644858,23.526147675608648,23.608518036477143,23.935114624156174,23.935114624156174,23.666000579119366,23.613662572426875,23.613662572426875,23.508290978823045,23.602754001234164,23.763928055673446,23.74870224050544,23.455377684946672,23.519551718299823,23.43749021211864,23.29062415112888,23.794637171548185,23.797061827314327,23.406634512881602,23.520164596982926,23.461382926259937,23.584906812767805,23.48650269790773,23.282831919462126,23.805092175462253,23.22944648785204,23.736721308402046,23.71249371027441,23.702436341532792,23.66338923334729,23.73944350797273,23.41751149212703,23.71608874093628,23.270412946694815,23.713335508478156,23.80328985556817,23.718991660991296,23.567448403777277,23.708659729797073,23.903512414211423,23.386209692053903,23.398120419755525,23.185530462258775,23.164231524568635,23.619112995882176,23.648165102240988,23.439722329736732,23.31488744189336,23.279604981828363,23.749019621367026,23.185530462258775,23.22050644769705,23.51574198903114]]]}}},\"view\":{\"type\":\"object\",\"name\":\"CDSView\",\"id\":\"p1243\",\"attributes\":{\"filter\":{\"type\":\"object\",\"name\":\"AllIndices\",\"id\":\"p1244\"}}},\"glyph\":{\"type\":\"object\",\"name\":\"Circle\",\"id\":\"p1239\",\"attributes\":{\"x\":{\"type\":\"field\",\"field\":\"pred_long\"},\"y\":{\"type\":\"field\",\"field\":\"pred_lat\"},\"size\":{\"type\":\"field\",\"field\":\"pred_mag_s\"},\"line_color\":{\"type\":\"value\",\"value\":\"#1f77b4\"},\"fill_color\":{\"type\":\"value\",\"value\":\"#ccff33\"},\"fill_alpha\":{\"type\":\"value\",\"value\":7.0}}},\"nonselection_glyph\":{\"type\":\"object\",\"name\":\"Circle\",\"id\":\"p1240\",\"attributes\":{\"x\":{\"type\":\"field\",\"field\":\"pred_long\"},\"y\":{\"type\":\"field\",\"field\":\"pred_lat\"},\"size\":{\"type\":\"field\",\"field\":\"pred_mag_s\"},\"line_color\":{\"type\":\"value\",\"value\":\"#1f77b4\"},\"line_alpha\":{\"type\":\"value\",\"value\":0.1},\"fill_color\":{\"type\":\"value\",\"value\":\"#ccff33\"},\"fill_alpha\":{\"type\":\"value\",\"value\":0.1},\"hatch_alpha\":{\"type\":\"value\",\"value\":0.1}}},\"muted_glyph\":{\"type\":\"object\",\"name\":\"Circle\",\"id\":\"p1241\",\"attributes\":{\"x\":{\"type\":\"field\",\"field\":\"pred_long\"},\"y\":{\"type\":\"field\",\"field\":\"pred_lat\"},\"size\":{\"type\":\"field\",\"field\":\"pred_mag_s\"},\"line_color\":{\"type\":\"value\",\"value\":\"#1f77b4\"},\"line_alpha\":{\"type\":\"value\",\"value\":0.2},\"fill_color\":{\"type\":\"value\",\"value\":\"#ccff33\"},\"fill_alpha\":{\"type\":\"value\",\"value\":0.2},\"hatch_alpha\":{\"type\":\"value\",\"value\":0.2}}}}},{\"type\":\"object\",\"name\":\"TileRenderer\",\"id\":\"p1247\",\"attributes\":{\"tile_source\":{\"type\":\"object\",\"name\":\"WMTSTileSource\",\"id\":\"p1246\",\"attributes\":{\"url\":\"https://a.basemaps.cartocdn.com/light_all/{z}/{x}/{y}.png\",\"max_zoom\":20,\"attribution\":\"&copy; <a href=\\\"https://www.openstreetmap.org/copyright\\\">OpenStreetMap</a> contributors &copy; <a href=\\\"https://carto.com/attributions\\\">CARTO</a>\"}}}}],\"toolbar\":{\"type\":\"object\",\"name\":\"Toolbar\",\"id\":\"p1202\",\"attributes\":{\"tools\":[{\"type\":\"object\",\"name\":\"PanTool\",\"id\":\"p1217\"},{\"type\":\"object\",\"name\":\"WheelZoomTool\",\"id\":\"p1218\"},{\"type\":\"object\",\"name\":\"BoxZoomTool\",\"id\":\"p1219\",\"attributes\":{\"overlay\":{\"type\":\"object\",\"name\":\"BoxAnnotation\",\"id\":\"p1220\",\"attributes\":{\"syncable\":false,\"level\":\"overlay\",\"visible\":false,\"left_units\":\"canvas\",\"right_units\":\"canvas\",\"bottom_units\":\"canvas\",\"top_units\":\"canvas\",\"line_color\":\"black\",\"line_alpha\":1.0,\"line_width\":2,\"line_dash\":[4,4],\"fill_color\":\"lightgrey\",\"fill_alpha\":0.5}}}},{\"type\":\"object\",\"name\":\"SaveTool\",\"id\":\"p1221\"},{\"type\":\"object\",\"name\":\"ResetTool\",\"id\":\"p1222\"},{\"type\":\"object\",\"name\":\"HelpTool\",\"id\":\"p1223\"},{\"type\":\"object\",\"name\":\"HoverTool\",\"id\":\"p1224\",\"attributes\":{\"renderers\":\"auto\",\"tooltips\":[[\"Year\",\" @year\"],[\"Magnitude\",\" @mag\"],[\"Predicted Magnitude\",\" @pred_mag\"]]}}]}},\"left\":[{\"type\":\"object\",\"name\":\"LinearAxis\",\"id\":\"p1212\",\"attributes\":{\"visible\":false,\"ticker\":{\"type\":\"object\",\"name\":\"BasicTicker\",\"id\":\"p1213\",\"attributes\":{\"mantissas\":[1,2,5]}},\"formatter\":{\"type\":\"object\",\"name\":\"BasicTickFormatter\",\"id\":\"p1214\"},\"axis_label_standoff\":10,\"axis_label_text_color\":\"#E0E0E0\",\"axis_label_text_font\":\"Helvetica\",\"axis_label_text_font_size\":\"1.25em\",\"axis_label_text_font_style\":\"normal\",\"major_label_policy\":{\"type\":\"object\",\"name\":\"AllLabels\",\"id\":\"p1215\"},\"major_label_text_color\":\"#E0E0E0\",\"major_label_text_font\":\"Helvetica\",\"major_label_text_font_size\":\"1.025em\",\"axis_line_color\":\"#E0E0E0\",\"axis_line_alpha\":0,\"major_tick_line_color\":\"#E0E0E0\",\"major_tick_line_alpha\":0,\"minor_tick_line_color\":\"#E0E0E0\",\"minor_tick_line_alpha\":0}}],\"below\":[{\"type\":\"object\",\"name\":\"LinearAxis\",\"id\":\"p1207\",\"attributes\":{\"visible\":false,\"ticker\":{\"type\":\"object\",\"name\":\"BasicTicker\",\"id\":\"p1208\",\"attributes\":{\"mantissas\":[1,2,5]}},\"formatter\":{\"type\":\"object\",\"name\":\"BasicTickFormatter\",\"id\":\"p1209\"},\"axis_label_standoff\":10,\"axis_label_text_color\":\"#E0E0E0\",\"axis_label_text_font\":\"Helvetica\",\"axis_label_text_font_size\":\"1.25em\",\"axis_label_text_font_style\":\"normal\",\"major_label_policy\":{\"type\":\"object\",\"name\":\"AllLabels\",\"id\":\"p1210\"},\"major_label_text_color\":\"#E0E0E0\",\"major_label_text_font\":\"Helvetica\",\"major_label_text_font_size\":\"1.025em\",\"axis_line_color\":\"#E0E0E0\",\"axis_line_alpha\":0,\"major_tick_line_color\":\"#E0E0E0\",\"major_tick_line_alpha\":0,\"minor_tick_line_color\":\"#E0E0E0\",\"minor_tick_line_alpha\":0}}],\"center\":[{\"type\":\"object\",\"name\":\"Grid\",\"id\":\"p1211\",\"attributes\":{\"axis\":{\"id\":\"p1207\"},\"grid_line_color\":null,\"grid_line_alpha\":0.25}},{\"type\":\"object\",\"name\":\"Grid\",\"id\":\"p1216\",\"attributes\":{\"dimension\":1,\"axis\":{\"id\":\"p1212\"},\"grid_line_color\":null,\"grid_line_alpha\":0.25}},{\"type\":\"object\",\"name\":\"Legend\",\"id\":\"p1234\",\"attributes\":{\"location\":\"bottom_right\",\"border_line_alpha\":0,\"background_fill_color\":\"black\",\"background_fill_alpha\":0.8,\"click_policy\":\"hide\",\"label_text_color\":\"white\",\"label_text_font\":\"Helvetica\",\"label_text_font_size\":\"1.025em\",\"label_standoff\":8,\"glyph_width\":15,\"spacing\":8,\"items\":[{\"type\":\"object\",\"name\":\"LegendItem\",\"id\":\"p1235\",\"attributes\":{\"label\":{\"type\":\"value\",\"value\":\"Quakes 2016\"},\"renderers\":[{\"id\":\"p1231\"}]}},{\"type\":\"object\",\"name\":\"LegendItem\",\"id\":\"p1245\",\"attributes\":{\"label\":{\"type\":\"value\",\"value\":\"Predicted Quakes 2017\"},\"renderers\":[{\"id\":\"p1242\"}]}}]}}],\"background_fill_color\":\"#20262B\",\"border_fill_color\":\"#15191C\"}}]}};\n",
       "  const render_items = [{\"docid\":\"18e73be8-9547-432e-9d53-589990e080f7\",\"roots\":{\"p1193\":\"cad53879-26a1-4871-9bcb-f62855b1212f\"},\"root_ids\":[\"p1193\"]}];\n",
       "  root.Bokeh.embed.embed_items_notebook(docs_json, render_items);\n",
       "  }\n",
       "  if (root.Bokeh !== undefined) {\n",
       "    embed_document(root);\n",
       "  } else {\n",
       "    let attempts = 0;\n",
       "    const timer = setInterval(function(root) {\n",
       "      if (root.Bokeh !== undefined) {\n",
       "        clearInterval(timer);\n",
       "        embed_document(root);\n",
       "      } else {\n",
       "        attempts++;\n",
       "        if (attempts > 100) {\n",
       "          clearInterval(timer);\n",
       "          console.log(\"Bokeh: ERROR: Unable to run BokehJS code because BokehJS library is missing\");\n",
       "        }\n",
       "      }\n",
       "    }, 10, root)\n",
       "  }\n",
       "})(window);"
      ],
      "application/vnd.bokehjs_exec.v0+json": ""
     },
     "metadata": {
      "application/vnd.bokehjs_exec.v0+json": {
       "id": "p1193"
      }
     },
     "output_type": "display_data"
    },
    {
     "data": {
      "text/html": [
       "\n",
       "  <div id=\"c104d4d1-df24-4fae-86f9-a7febc8c9e34\" data-root-id=\"p1253\" style=\"display: contents;\"></div>\n"
      ]
     },
     "metadata": {},
     "output_type": "display_data"
    },
    {
     "data": {
      "application/javascript": [
       "(function(root) {\n",
       "  function embed_document(root) {\n",
       "  const docs_json = {\"c16c411f-2c39-4f66-aae3-8411dfe48f85\":{\"version\":\"3.2.1\",\"title\":\"Bokeh Application\",\"roots\":[{\"type\":\"object\",\"name\":\"Figure\",\"id\":\"p1253\",\"attributes\":{\"width\":1150,\"height\":400,\"x_range\":{\"type\":\"object\",\"name\":\"DataRange1d\",\"id\":\"p1255\"},\"y_range\":{\"type\":\"object\",\"name\":\"Range1d\",\"id\":\"p1263\",\"attributes\":{\"end\":460}},\"x_scale\":{\"type\":\"object\",\"name\":\"LinearScale\",\"id\":\"p1264\"},\"y_scale\":{\"type\":\"object\",\"name\":\"LinearScale\",\"id\":\"p1265\"},\"title\":{\"type\":\"object\",\"name\":\"Title\",\"id\":\"p1256\",\"attributes\":{\"text\":\"Frequency of Earthquakes by Year\",\"text_color\":\"#E0E0E0\",\"text_font\":\"serif\",\"text_font_size\":\"20pt\",\"align\":\"center\"}},\"outline_line_color\":\"#E0E0E0\",\"outline_line_alpha\":0.25,\"renderers\":[{\"type\":\"object\",\"name\":\"GlyphRenderer\",\"id\":\"p1290\",\"attributes\":{\"data_source\":{\"type\":\"object\",\"name\":\"ColumnDataSource\",\"id\":\"p1250\",\"attributes\":{\"selected\":{\"type\":\"object\",\"name\":\"Selection\",\"id\":\"p1251\",\"attributes\":{\"indices\":[],\"line_indices\":[]}},\"selection_policy\":{\"type\":\"object\",\"name\":\"UnionRenderers\",\"id\":\"p1252\"},\"data\":{\"type\":\"map\",\"entries\":[[\"yrs\",[1990,1975,1977,2003,2007,1974,2015,2006,1978,2013,1988,1997,1994,1968,2014,1973,1979,1971,1966,2004,1991,1967,1969,1982,1989,1996,1998,1965,1985,1970,2012,1987,2009,2016,1995,1980,2001,1972,1992,1983,2005,1984,2000,1981,2010,1986,2011,1976,2008,1999,2002,1993]],[\"numQuakes\",[196,150,148,187,211,147,175,176,158,202,196,183,215,106,198,144,118,148,98,227,168,103,114,135,177,242,154,156,210,142,182,213,228,164,205,120,157,178,190,177,230,161,213,117,211,175,360,173,214,170,182,197]]]}}},\"view\":{\"type\":\"object\",\"name\":\"CDSView\",\"id\":\"p1291\",\"attributes\":{\"filter\":{\"type\":\"object\",\"name\":\"AllIndices\",\"id\":\"p1292\"}}},\"glyph\":{\"type\":\"object\",\"name\":\"VBar\",\"id\":\"p1287\",\"attributes\":{\"x\":{\"type\":\"field\",\"field\":\"yrs\"},\"width\":{\"type\":\"value\",\"value\":0.75},\"top\":{\"type\":\"field\",\"field\":\"numQuakes\"},\"line_color\":{\"type\":\"value\",\"value\":\"#cc0000\"},\"fill_color\":{\"type\":\"value\",\"value\":\"#cc0000\"},\"hatch_color\":{\"type\":\"value\",\"value\":\"#cc0000\"}}},\"nonselection_glyph\":{\"type\":\"object\",\"name\":\"VBar\",\"id\":\"p1288\",\"attributes\":{\"x\":{\"type\":\"field\",\"field\":\"yrs\"},\"width\":{\"type\":\"value\",\"value\":0.75},\"top\":{\"type\":\"field\",\"field\":\"numQuakes\"},\"line_color\":{\"type\":\"value\",\"value\":\"#cc0000\"},\"line_alpha\":{\"type\":\"value\",\"value\":0.1},\"fill_color\":{\"type\":\"value\",\"value\":\"#cc0000\"},\"fill_alpha\":{\"type\":\"value\",\"value\":0.1},\"hatch_color\":{\"type\":\"value\",\"value\":\"#cc0000\"},\"hatch_alpha\":{\"type\":\"value\",\"value\":0.1}}},\"muted_glyph\":{\"type\":\"object\",\"name\":\"VBar\",\"id\":\"p1289\",\"attributes\":{\"x\":{\"type\":\"field\",\"field\":\"yrs\"},\"width\":{\"type\":\"value\",\"value\":0.75},\"top\":{\"type\":\"field\",\"field\":\"numQuakes\"},\"line_color\":{\"type\":\"value\",\"value\":\"#cc0000\"},\"line_alpha\":{\"type\":\"value\",\"value\":0.2},\"fill_color\":{\"type\":\"value\",\"value\":\"#cc0000\"},\"fill_alpha\":{\"type\":\"value\",\"value\":0.2},\"hatch_color\":{\"type\":\"value\",\"value\":\"#cc0000\"},\"hatch_alpha\":{\"type\":\"value\",\"value\":0.2}}}}}],\"toolbar\":{\"type\":\"object\",\"name\":\"Toolbar\",\"id\":\"p1262\",\"attributes\":{\"tools\":[{\"type\":\"object\",\"name\":\"PanTool\",\"id\":\"p1276\"},{\"type\":\"object\",\"name\":\"WheelZoomTool\",\"id\":\"p1277\"},{\"type\":\"object\",\"name\":\"BoxZoomTool\",\"id\":\"p1278\",\"attributes\":{\"overlay\":{\"type\":\"object\",\"name\":\"BoxAnnotation\",\"id\":\"p1279\",\"attributes\":{\"syncable\":false,\"level\":\"overlay\",\"visible\":false,\"left_units\":\"canvas\",\"right_units\":\"canvas\",\"bottom_units\":\"canvas\",\"top_units\":\"canvas\",\"line_color\":\"black\",\"line_alpha\":1.0,\"line_width\":2,\"line_dash\":[4,4],\"fill_color\":\"lightgrey\",\"fill_alpha\":0.5}}}},{\"type\":\"object\",\"name\":\"SaveTool\",\"id\":\"p1280\"},{\"type\":\"object\",\"name\":\"ResetTool\",\"id\":\"p1281\"},{\"type\":\"object\",\"name\":\"HelpTool\",\"id\":\"p1282\"},{\"type\":\"object\",\"name\":\"HoverTool\",\"id\":\"p1283\",\"attributes\":{\"renderers\":\"auto\",\"tooltips\":[[\"Year\",\" @yrs\"],[\"Number of earthquakes\",\" @numQuakes\"]]}}]}},\"toolbar_location\":null,\"left\":[{\"type\":\"object\",\"name\":\"LinearAxis\",\"id\":\"p1271\",\"attributes\":{\"ticker\":{\"type\":\"object\",\"name\":\"BasicTicker\",\"id\":\"p1272\",\"attributes\":{\"mantissas\":[1,2,5]}},\"formatter\":{\"type\":\"object\",\"name\":\"BasicTickFormatter\",\"id\":\"p1273\"},\"axis_label\":\"Number of Occurrences\",\"axis_label_standoff\":10,\"axis_label_text_color\":\"#E0E0E0\",\"axis_label_text_font\":\"Helvetica\",\"axis_label_text_font_size\":\"14pt\",\"axis_label_text_font_style\":\"bold\",\"major_label_policy\":{\"type\":\"object\",\"name\":\"AllLabels\",\"id\":\"p1274\"},\"major_label_text_color\":\"#E0E0E0\",\"major_label_text_font\":\"Helvetica\",\"major_label_text_font_size\":\"12pt\",\"axis_line_color\":\"#E0E0E0\",\"axis_line_alpha\":0,\"major_tick_line_color\":\"#E0E0E0\",\"major_tick_line_alpha\":0,\"minor_tick_line_color\":\"#E0E0E0\",\"minor_tick_line_alpha\":0}}],\"below\":[{\"type\":\"object\",\"name\":\"LinearAxis\",\"id\":\"p1266\",\"attributes\":{\"ticker\":{\"type\":\"object\",\"name\":\"BasicTicker\",\"id\":\"p1267\",\"attributes\":{\"num_minor_ticks\":2,\"mantissas\":[1,2,5]}},\"formatter\":{\"type\":\"object\",\"name\":\"BasicTickFormatter\",\"id\":\"p1268\"},\"axis_label\":\"Years\",\"axis_label_standoff\":10,\"axis_label_text_color\":\"#E0E0E0\",\"axis_label_text_font\":\"Helvetica\",\"axis_label_text_font_size\":\"14pt\",\"axis_label_text_font_style\":\"bold\",\"major_label_policy\":{\"type\":\"object\",\"name\":\"AllLabels\",\"id\":\"p1269\"},\"major_label_text_color\":\"#E0E0E0\",\"major_label_text_font\":\"Helvetica\",\"major_label_text_font_size\":\"12pt\",\"axis_line_color\":\"#E0E0E0\",\"axis_line_alpha\":0,\"major_tick_line_color\":\"#E0E0E0\",\"major_tick_line_alpha\":0,\"minor_tick_line_color\":\"#E0E0E0\",\"minor_tick_line_alpha\":0}}],\"center\":[{\"type\":\"object\",\"name\":\"Grid\",\"id\":\"p1270\",\"attributes\":{\"axis\":{\"id\":\"p1266\"},\"grid_line_color\":\"#E0E0E0\",\"grid_line_alpha\":0.25}},{\"type\":\"object\",\"name\":\"Grid\",\"id\":\"p1275\",\"attributes\":{\"dimension\":1,\"axis\":{\"id\":\"p1271\"},\"grid_line_color\":\"#E0E0E0\",\"grid_line_alpha\":0.25}},{\"type\":\"object\",\"name\":\"Legend\",\"id\":\"p1293\",\"attributes\":{\"location\":\"top_left\",\"border_line_alpha\":0,\"background_fill_color\":\"#20262B\",\"background_fill_alpha\":0.25,\"label_text_color\":\"#E0E0E0\",\"label_text_font\":\"Helvetica\",\"label_text_font_size\":\"1.025em\",\"label_standoff\":8,\"glyph_width\":15,\"spacing\":8,\"items\":[{\"type\":\"object\",\"name\":\"LegendItem\",\"id\":\"p1294\",\"attributes\":{\"label\":{\"type\":\"value\",\"value\":\"Year\"},\"renderers\":[{\"id\":\"p1290\"}]}}]}}],\"background_fill_color\":\"#20262B\",\"border_fill_color\":\"#15191C\"}}]}};\n",
       "  const render_items = [{\"docid\":\"c16c411f-2c39-4f66-aae3-8411dfe48f85\",\"roots\":{\"p1253\":\"c104d4d1-df24-4fae-86f9-a7febc8c9e34\"},\"root_ids\":[\"p1253\"]}];\n",
       "  root.Bokeh.embed.embed_items_notebook(docs_json, render_items);\n",
       "  }\n",
       "  if (root.Bokeh !== undefined) {\n",
       "    embed_document(root);\n",
       "  } else {\n",
       "    let attempts = 0;\n",
       "    const timer = setInterval(function(root) {\n",
       "      if (root.Bokeh !== undefined) {\n",
       "        clearInterval(timer);\n",
       "        embed_document(root);\n",
       "      } else {\n",
       "        attempts++;\n",
       "        if (attempts > 100) {\n",
       "          clearInterval(timer);\n",
       "          console.log(\"Bokeh: ERROR: Unable to run BokehJS code because BokehJS library is missing\");\n",
       "        }\n",
       "      }\n",
       "    }, 10, root)\n",
       "  }\n",
       "})(window);"
      ],
      "application/vnd.bokehjs_exec.v0+json": ""
     },
     "metadata": {
      "application/vnd.bokehjs_exec.v0+json": {
       "id": "p1253"
      }
     },
     "output_type": "display_data"
    },
    {
     "data": {
      "text/html": [
       "\n",
       "  <div id=\"d7aae8e0-de09-4175-a350-d3ac8873933b\" data-root-id=\"p1299\" style=\"display: contents;\"></div>\n"
      ]
     },
     "metadata": {},
     "output_type": "display_data"
    },
    {
     "data": {
      "application/javascript": [
       "(function(root) {\n",
       "  function embed_document(root) {\n",
       "  const docs_json = {\"67ec0891-cf1b-44df-9f73-0b33460cfffa\":{\"version\":\"3.2.1\",\"title\":\"Bokeh Application\",\"roots\":[{\"type\":\"object\",\"name\":\"Figure\",\"id\":\"p1299\",\"attributes\":{\"width\":1150,\"height\":400,\"x_range\":{\"type\":\"object\",\"name\":\"DataRange1d\",\"id\":\"p1301\"},\"y_range\":{\"type\":\"object\",\"name\":\"Range1d\",\"id\":\"p1309\",\"attributes\":{\"start\":5,\"end\":10.1}},\"x_scale\":{\"type\":\"object\",\"name\":\"LinearScale\",\"id\":\"p1310\"},\"y_scale\":{\"type\":\"object\",\"name\":\"LinearScale\",\"id\":\"p1311\"},\"title\":{\"type\":\"object\",\"name\":\"Title\",\"id\":\"p1302\",\"attributes\":{\"text\":\"Maximum and Average Magnitude by Year\",\"text_color\":\"#E0E0E0\",\"text_font\":\"serif\",\"text_font_size\":\"20pt\",\"align\":\"center\"}},\"outline_line_color\":\"#E0E0E0\",\"outline_line_alpha\":0.25,\"renderers\":[{\"type\":\"object\",\"name\":\"GlyphRenderer\",\"id\":\"p1336\",\"attributes\":{\"data_source\":{\"type\":\"object\",\"name\":\"ColumnDataSource\",\"id\":\"p1296\",\"attributes\":{\"selected\":{\"type\":\"object\",\"name\":\"Selection\",\"id\":\"p1297\",\"attributes\":{\"indices\":[],\"line_indices\":[]}},\"selection_policy\":{\"type\":\"object\",\"name\":\"UnionRenderers\",\"id\":\"p1298\"},\"data\":{\"type\":\"map\",\"entries\":[[\"yrs\",[1990,1975,1977,2003,2007,1974,2015,2006,1978,2013,1988,1997,1994,1968,2014,1973,1979,1971,1966,2004,1991,1967,1969,1982,1989,1996,1998,1965,1985,1970,2012,1987,2009,2016,1995,1980,2001,1972,1992,1983,2005,1984,2000,1981,2010,1986,2011,1976,2008,1999,2002,1993]],[\"avg_mag\",[5.9,5.8,5.8,5.9,5.9,5.9,5.8,5.8,5.8,5.9,5.9,5.8,5.9,6.1,5.9,5.8,5.8,6.0,6.1,5.9,5.9,6.0,6.0,5.8,5.8,5.9,5.9,6.0,5.9,6.0,5.9,5.9,5.9,5.9,5.9,5.8,5.9,5.9,5.9,5.9,5.9,5.8,5.9,5.8,5.9,5.8,5.9,5.8,5.9,5.9,5.9,5.9]],[\"max_mag\",[7.6,7.8,7.6,7.6,8.4,7.6,7.5,8.0,7.7,8.0,7.8,7.8,8.3,7.6,8.2,7.4,7.9,7.8,7.7,7.5,7.1,7.2,7.5,7.1,7.4,7.9,7.5,8.7,8.0,7.4,8.6,7.6,7.8,7.8,8.0,7.5,7.6,8.0,7.8,7.4,7.6,7.6,7.9,7.7,7.8,8.0,9.1,7.5,7.9,7.4,7.9,7.8]]]}}},\"view\":{\"type\":\"object\",\"name\":\"CDSView\",\"id\":\"p1337\",\"attributes\":{\"filter\":{\"type\":\"object\",\"name\":\"AllIndices\",\"id\":\"p1338\"}}},\"glyph\":{\"type\":\"object\",\"name\":\"Line\",\"id\":\"p1333\",\"attributes\":{\"x\":{\"type\":\"field\",\"field\":\"yrs\"},\"y\":{\"type\":\"field\",\"field\":\"max_mag\"},\"line_color\":\"#cc0000\",\"line_width\":2}},\"nonselection_glyph\":{\"type\":\"object\",\"name\":\"Line\",\"id\":\"p1334\",\"attributes\":{\"x\":{\"type\":\"field\",\"field\":\"yrs\"},\"y\":{\"type\":\"field\",\"field\":\"max_mag\"},\"line_color\":\"#cc0000\",\"line_alpha\":0.1,\"line_width\":2}},\"muted_glyph\":{\"type\":\"object\",\"name\":\"Line\",\"id\":\"p1335\",\"attributes\":{\"x\":{\"type\":\"field\",\"field\":\"yrs\"},\"y\":{\"type\":\"field\",\"field\":\"max_mag\"},\"line_color\":\"#cc0000\",\"line_alpha\":0.2,\"line_width\":2}}}},{\"type\":\"object\",\"name\":\"GlyphRenderer\",\"id\":\"p1347\",\"attributes\":{\"data_source\":{\"id\":\"p1296\"},\"view\":{\"type\":\"object\",\"name\":\"CDSView\",\"id\":\"p1348\",\"attributes\":{\"filter\":{\"type\":\"object\",\"name\":\"AllIndices\",\"id\":\"p1349\"}}},\"glyph\":{\"type\":\"object\",\"name\":\"Circle\",\"id\":\"p1344\",\"attributes\":{\"x\":{\"type\":\"field\",\"field\":\"yrs\"},\"y\":{\"type\":\"field\",\"field\":\"max_mag\"},\"size\":{\"type\":\"value\",\"value\":8},\"line_color\":{\"type\":\"value\",\"value\":\"#cc0000\"},\"fill_color\":{\"type\":\"value\",\"value\":\"#cc0000\"},\"hatch_color\":{\"type\":\"value\",\"value\":\"#cc0000\"}}},\"nonselection_glyph\":{\"type\":\"object\",\"name\":\"Circle\",\"id\":\"p1345\",\"attributes\":{\"x\":{\"type\":\"field\",\"field\":\"yrs\"},\"y\":{\"type\":\"field\",\"field\":\"max_mag\"},\"size\":{\"type\":\"value\",\"value\":8},\"line_color\":{\"type\":\"value\",\"value\":\"#cc0000\"},\"line_alpha\":{\"type\":\"value\",\"value\":0.1},\"fill_color\":{\"type\":\"value\",\"value\":\"#cc0000\"},\"fill_alpha\":{\"type\":\"value\",\"value\":0.1},\"hatch_color\":{\"type\":\"value\",\"value\":\"#cc0000\"},\"hatch_alpha\":{\"type\":\"value\",\"value\":0.1}}},\"muted_glyph\":{\"type\":\"object\",\"name\":\"Circle\",\"id\":\"p1346\",\"attributes\":{\"x\":{\"type\":\"field\",\"field\":\"yrs\"},\"y\":{\"type\":\"field\",\"field\":\"max_mag\"},\"size\":{\"type\":\"value\",\"value\":8},\"line_color\":{\"type\":\"value\",\"value\":\"#cc0000\"},\"line_alpha\":{\"type\":\"value\",\"value\":0.2},\"fill_color\":{\"type\":\"value\",\"value\":\"#cc0000\"},\"fill_alpha\":{\"type\":\"value\",\"value\":0.2},\"hatch_color\":{\"type\":\"value\",\"value\":\"#cc0000\"},\"hatch_alpha\":{\"type\":\"value\",\"value\":0.2}}}}},{\"type\":\"object\",\"name\":\"GlyphRenderer\",\"id\":\"p1356\",\"attributes\":{\"data_source\":{\"id\":\"p1296\"},\"view\":{\"type\":\"object\",\"name\":\"CDSView\",\"id\":\"p1357\",\"attributes\":{\"filter\":{\"type\":\"object\",\"name\":\"AllIndices\",\"id\":\"p1358\"}}},\"glyph\":{\"type\":\"object\",\"name\":\"Line\",\"id\":\"p1353\",\"attributes\":{\"x\":{\"type\":\"field\",\"field\":\"yrs\"},\"y\":{\"type\":\"field\",\"field\":\"avg_mag\"},\"line_color\":\"yellow\",\"line_width\":2}},\"nonselection_glyph\":{\"type\":\"object\",\"name\":\"Line\",\"id\":\"p1354\",\"attributes\":{\"x\":{\"type\":\"field\",\"field\":\"yrs\"},\"y\":{\"type\":\"field\",\"field\":\"avg_mag\"},\"line_color\":\"yellow\",\"line_alpha\":0.1,\"line_width\":2}},\"muted_glyph\":{\"type\":\"object\",\"name\":\"Line\",\"id\":\"p1355\",\"attributes\":{\"x\":{\"type\":\"field\",\"field\":\"yrs\"},\"y\":{\"type\":\"field\",\"field\":\"avg_mag\"},\"line_color\":\"yellow\",\"line_alpha\":0.2,\"line_width\":2}}}},{\"type\":\"object\",\"name\":\"GlyphRenderer\",\"id\":\"p1366\",\"attributes\":{\"data_source\":{\"id\":\"p1296\"},\"view\":{\"type\":\"object\",\"name\":\"CDSView\",\"id\":\"p1367\",\"attributes\":{\"filter\":{\"type\":\"object\",\"name\":\"AllIndices\",\"id\":\"p1368\"}}},\"glyph\":{\"type\":\"object\",\"name\":\"Circle\",\"id\":\"p1363\",\"attributes\":{\"x\":{\"type\":\"field\",\"field\":\"yrs\"},\"y\":{\"type\":\"field\",\"field\":\"avg_mag\"},\"size\":{\"type\":\"value\",\"value\":8},\"line_color\":{\"type\":\"value\",\"value\":\"yellow\"},\"fill_color\":{\"type\":\"value\",\"value\":\"yellow\"},\"hatch_color\":{\"type\":\"value\",\"value\":\"yellow\"}}},\"nonselection_glyph\":{\"type\":\"object\",\"name\":\"Circle\",\"id\":\"p1364\",\"attributes\":{\"x\":{\"type\":\"field\",\"field\":\"yrs\"},\"y\":{\"type\":\"field\",\"field\":\"avg_mag\"},\"size\":{\"type\":\"value\",\"value\":8},\"line_color\":{\"type\":\"value\",\"value\":\"yellow\"},\"line_alpha\":{\"type\":\"value\",\"value\":0.1},\"fill_color\":{\"type\":\"value\",\"value\":\"yellow\"},\"fill_alpha\":{\"type\":\"value\",\"value\":0.1},\"hatch_color\":{\"type\":\"value\",\"value\":\"yellow\"},\"hatch_alpha\":{\"type\":\"value\",\"value\":0.1}}},\"muted_glyph\":{\"type\":\"object\",\"name\":\"Circle\",\"id\":\"p1365\",\"attributes\":{\"x\":{\"type\":\"field\",\"field\":\"yrs\"},\"y\":{\"type\":\"field\",\"field\":\"avg_mag\"},\"size\":{\"type\":\"value\",\"value\":8},\"line_color\":{\"type\":\"value\",\"value\":\"yellow\"},\"line_alpha\":{\"type\":\"value\",\"value\":0.2},\"fill_color\":{\"type\":\"value\",\"value\":\"yellow\"},\"fill_alpha\":{\"type\":\"value\",\"value\":0.2},\"hatch_color\":{\"type\":\"value\",\"value\":\"yellow\"},\"hatch_alpha\":{\"type\":\"value\",\"value\":0.2}}}}}],\"toolbar\":{\"type\":\"object\",\"name\":\"Toolbar\",\"id\":\"p1308\",\"attributes\":{\"tools\":[{\"type\":\"object\",\"name\":\"PanTool\",\"id\":\"p1322\"},{\"type\":\"object\",\"name\":\"WheelZoomTool\",\"id\":\"p1323\"},{\"type\":\"object\",\"name\":\"BoxZoomTool\",\"id\":\"p1324\",\"attributes\":{\"overlay\":{\"type\":\"object\",\"name\":\"BoxAnnotation\",\"id\":\"p1325\",\"attributes\":{\"syncable\":false,\"level\":\"overlay\",\"visible\":false,\"left_units\":\"canvas\",\"right_units\":\"canvas\",\"bottom_units\":\"canvas\",\"top_units\":\"canvas\",\"line_color\":\"black\",\"line_alpha\":1.0,\"line_width\":2,\"line_dash\":[4,4],\"fill_color\":\"lightgrey\",\"fill_alpha\":0.5}}}},{\"type\":\"object\",\"name\":\"SaveTool\",\"id\":\"p1326\"},{\"type\":\"object\",\"name\":\"ResetTool\",\"id\":\"p1327\"},{\"type\":\"object\",\"name\":\"HelpTool\",\"id\":\"p1328\"},{\"type\":\"object\",\"name\":\"HoverTool\",\"id\":\"p1329\",\"attributes\":{\"renderers\":\"auto\",\"tooltips\":[[\"Year\",\" @yrs\"],[\"Average Magnitude\",\" @avg_mag\"],[\"Maximum Magnitude\",\" @max_mag\"]]}}]}},\"toolbar_location\":null,\"left\":[{\"type\":\"object\",\"name\":\"LinearAxis\",\"id\":\"p1317\",\"attributes\":{\"ticker\":{\"type\":\"object\",\"name\":\"BasicTicker\",\"id\":\"p1318\",\"attributes\":{\"mantissas\":[1,2,5]}},\"formatter\":{\"type\":\"object\",\"name\":\"BasicTickFormatter\",\"id\":\"p1319\"},\"axis_label\":\"Magnitude\",\"axis_label_standoff\":10,\"axis_label_text_color\":\"#E0E0E0\",\"axis_label_text_font\":\"Helvetica\",\"axis_label_text_font_size\":\"14pt\",\"axis_label_text_font_style\":\"bold\",\"major_label_policy\":{\"type\":\"object\",\"name\":\"AllLabels\",\"id\":\"p1320\"},\"major_label_text_color\":\"#E0E0E0\",\"major_label_text_font\":\"Helvetica\",\"major_label_text_font_size\":\"12pt\",\"axis_line_color\":\"#E0E0E0\",\"axis_line_alpha\":0,\"major_tick_line_color\":\"#E0E0E0\",\"major_tick_line_alpha\":0,\"minor_tick_line_color\":\"#E0E0E0\",\"minor_tick_line_alpha\":0}}],\"below\":[{\"type\":\"object\",\"name\":\"LinearAxis\",\"id\":\"p1312\",\"attributes\":{\"ticker\":{\"type\":\"object\",\"name\":\"BasicTicker\",\"id\":\"p1313\",\"attributes\":{\"num_minor_ticks\":2,\"mantissas\":[1,2,5]}},\"formatter\":{\"type\":\"object\",\"name\":\"BasicTickFormatter\",\"id\":\"p1314\"},\"axis_label\":\"Years\",\"axis_label_standoff\":10,\"axis_label_text_color\":\"#E0E0E0\",\"axis_label_text_font\":\"Helvetica\",\"axis_label_text_font_size\":\"14pt\",\"axis_label_text_font_style\":\"bold\",\"major_label_policy\":{\"type\":\"object\",\"name\":\"AllLabels\",\"id\":\"p1315\"},\"major_label_text_color\":\"#E0E0E0\",\"major_label_text_font\":\"Helvetica\",\"major_label_text_font_size\":\"12pt\",\"axis_line_color\":\"#E0E0E0\",\"axis_line_alpha\":0,\"major_tick_line_color\":\"#E0E0E0\",\"major_tick_line_alpha\":0,\"minor_tick_line_color\":\"#E0E0E0\",\"minor_tick_line_alpha\":0}}],\"center\":[{\"type\":\"object\",\"name\":\"Grid\",\"id\":\"p1316\",\"attributes\":{\"axis\":{\"id\":\"p1312\"},\"grid_line_color\":\"#E0E0E0\",\"grid_line_alpha\":0.25}},{\"type\":\"object\",\"name\":\"Grid\",\"id\":\"p1321\",\"attributes\":{\"dimension\":1,\"axis\":{\"id\":\"p1317\"},\"grid_line_color\":\"#E0E0E0\",\"grid_line_alpha\":0.25}},{\"type\":\"object\",\"name\":\"Legend\",\"id\":\"p1339\",\"attributes\":{\"location\":\"top_left\",\"border_line_alpha\":0,\"background_fill_color\":\"#20262B\",\"background_fill_alpha\":0.25,\"label_text_color\":\"#E0E0E0\",\"label_text_font\":\"Helvetica\",\"label_text_font_size\":\"1.025em\",\"label_standoff\":8,\"glyph_width\":15,\"spacing\":8,\"items\":[{\"type\":\"object\",\"name\":\"LegendItem\",\"id\":\"p1340\",\"attributes\":{\"label\":{\"type\":\"value\",\"value\":\"Max Magnitude\"},\"renderers\":[{\"id\":\"p1336\"}]}},{\"type\":\"object\",\"name\":\"LegendItem\",\"id\":\"p1359\",\"attributes\":{\"label\":{\"type\":\"value\",\"value\":\"Avg Magnitude\"},\"renderers\":[{\"id\":\"p1356\"}]}}]}}],\"background_fill_color\":\"#20262B\",\"border_fill_color\":\"#15191C\"}}]}};\n",
       "  const render_items = [{\"docid\":\"67ec0891-cf1b-44df-9f73-0b33460cfffa\",\"roots\":{\"p1299\":\"d7aae8e0-de09-4175-a350-d3ac8873933b\"},\"root_ids\":[\"p1299\"]}];\n",
       "  root.Bokeh.embed.embed_items_notebook(docs_json, render_items);\n",
       "  }\n",
       "  if (root.Bokeh !== undefined) {\n",
       "    embed_document(root);\n",
       "  } else {\n",
       "    let attempts = 0;\n",
       "    const timer = setInterval(function(root) {\n",
       "      if (root.Bokeh !== undefined) {\n",
       "        clearInterval(timer);\n",
       "        embed_document(root);\n",
       "      } else {\n",
       "        attempts++;\n",
       "        if (attempts > 100) {\n",
       "          clearInterval(timer);\n",
       "          console.log(\"Bokeh: ERROR: Unable to run BokehJS code because BokehJS library is missing\");\n",
       "        }\n",
       "      }\n",
       "    }, 10, root)\n",
       "  }\n",
       "})(window);"
      ],
      "application/vnd.bokehjs_exec.v0+json": ""
     },
     "metadata": {
      "application/vnd.bokehjs_exec.v0+json": {
       "id": "p1299"
      }
     },
     "output_type": "display_data"
    },
    {
     "data": {
      "text/html": [
       "\n",
       "  <div id=\"cfaa3c7a-e0f2-42eb-8322-2254fe3f5e9d\" data-root-id=\"p1377\" style=\"display: contents;\"></div>\n"
      ]
     },
     "metadata": {},
     "output_type": "display_data"
    },
    {
     "data": {
      "application/javascript": [
       "(function(root) {\n",
       "  function embed_document(root) {\n",
       "  const docs_json = {\"95876b8f-1825-4eb1-8881-cd2ce6a9e49d\":{\"version\":\"3.2.1\",\"title\":\"Bokeh Application\",\"roots\":[{\"type\":\"object\",\"name\":\"GridPlot\",\"id\":\"p1377\",\"attributes\":{\"rows\":null,\"cols\":null,\"toolbar\":{\"type\":\"object\",\"name\":\"Toolbar\",\"id\":\"p1376\",\"attributes\":{\"tools\":[{\"type\":\"object\",\"name\":\"ToolProxy\",\"id\":\"p1370\",\"attributes\":{\"tools\":[{\"type\":\"object\",\"name\":\"PanTool\",\"id\":\"p1217\"},{\"type\":\"object\",\"name\":\"PanTool\",\"id\":\"p1276\"},{\"type\":\"object\",\"name\":\"PanTool\",\"id\":\"p1322\"}]}},{\"type\":\"object\",\"name\":\"ToolProxy\",\"id\":\"p1371\",\"attributes\":{\"tools\":[{\"type\":\"object\",\"name\":\"WheelZoomTool\",\"id\":\"p1218\"},{\"type\":\"object\",\"name\":\"WheelZoomTool\",\"id\":\"p1277\"},{\"type\":\"object\",\"name\":\"WheelZoomTool\",\"id\":\"p1323\"}]}},{\"type\":\"object\",\"name\":\"ToolProxy\",\"id\":\"p1372\",\"attributes\":{\"tools\":[{\"type\":\"object\",\"name\":\"BoxZoomTool\",\"id\":\"p1219\",\"attributes\":{\"overlay\":{\"type\":\"object\",\"name\":\"BoxAnnotation\",\"id\":\"p1220\",\"attributes\":{\"syncable\":false,\"level\":\"overlay\",\"visible\":false,\"left_units\":\"canvas\",\"right_units\":\"canvas\",\"bottom_units\":\"canvas\",\"top_units\":\"canvas\",\"line_color\":\"black\",\"line_alpha\":1.0,\"line_width\":2,\"line_dash\":[4,4],\"fill_color\":\"lightgrey\",\"fill_alpha\":0.5}}}},{\"type\":\"object\",\"name\":\"BoxZoomTool\",\"id\":\"p1278\",\"attributes\":{\"overlay\":{\"type\":\"object\",\"name\":\"BoxAnnotation\",\"id\":\"p1279\",\"attributes\":{\"syncable\":false,\"level\":\"overlay\",\"visible\":false,\"left_units\":\"canvas\",\"right_units\":\"canvas\",\"bottom_units\":\"canvas\",\"top_units\":\"canvas\",\"line_color\":\"black\",\"line_alpha\":1.0,\"line_width\":2,\"line_dash\":[4,4],\"fill_color\":\"lightgrey\",\"fill_alpha\":0.5}}}},{\"type\":\"object\",\"name\":\"BoxZoomTool\",\"id\":\"p1324\",\"attributes\":{\"overlay\":{\"type\":\"object\",\"name\":\"BoxAnnotation\",\"id\":\"p1325\",\"attributes\":{\"syncable\":false,\"level\":\"overlay\",\"visible\":false,\"left_units\":\"canvas\",\"right_units\":\"canvas\",\"bottom_units\":\"canvas\",\"top_units\":\"canvas\",\"line_color\":\"black\",\"line_alpha\":1.0,\"line_width\":2,\"line_dash\":[4,4],\"fill_color\":\"lightgrey\",\"fill_alpha\":0.5}}}}]}},{\"type\":\"object\",\"name\":\"SaveTool\",\"id\":\"p1373\"},{\"type\":\"object\",\"name\":\"ToolProxy\",\"id\":\"p1374\",\"attributes\":{\"tools\":[{\"type\":\"object\",\"name\":\"ResetTool\",\"id\":\"p1222\"},{\"type\":\"object\",\"name\":\"ResetTool\",\"id\":\"p1281\"},{\"type\":\"object\",\"name\":\"ResetTool\",\"id\":\"p1327\"}]}},{\"type\":\"object\",\"name\":\"ToolProxy\",\"id\":\"p1375\",\"attributes\":{\"tools\":[{\"type\":\"object\",\"name\":\"HelpTool\",\"id\":\"p1223\"},{\"type\":\"object\",\"name\":\"HelpTool\",\"id\":\"p1282\"},{\"type\":\"object\",\"name\":\"HelpTool\",\"id\":\"p1328\"}]}},{\"type\":\"object\",\"name\":\"HoverTool\",\"id\":\"p1224\",\"attributes\":{\"renderers\":\"auto\",\"tooltips\":[[\"Year\",\" @year\"],[\"Magnitude\",\" @mag\"],[\"Predicted Magnitude\",\" @pred_mag\"]]}},{\"type\":\"object\",\"name\":\"HoverTool\",\"id\":\"p1283\",\"attributes\":{\"renderers\":\"auto\",\"tooltips\":[[\"Year\",\" @yrs\"],[\"Number of earthquakes\",\" @numQuakes\"]]}},{\"type\":\"object\",\"name\":\"HoverTool\",\"id\":\"p1329\",\"attributes\":{\"renderers\":\"auto\",\"tooltips\":[[\"Year\",\" @yrs\"],[\"Average Magnitude\",\" @avg_mag\"],[\"Maximum Magnitude\",\" @max_mag\"]]}}]}},\"children\":[[{\"type\":\"object\",\"name\":\"Figure\",\"id\":\"p1193\",\"attributes\":{\"width\":2300,\"height\":450,\"x_range\":{\"type\":\"object\",\"name\":\"Range1d\",\"id\":\"p1203\",\"attributes\":{\"start\":-2000000,\"end\":6000000}},\"y_range\":{\"type\":\"object\",\"name\":\"Range1d\",\"id\":\"p1204\",\"attributes\":{\"start\":-1000000,\"end\":7000000}},\"x_scale\":{\"type\":\"object\",\"name\":\"LinearScale\",\"id\":\"p1205\"},\"y_scale\":{\"type\":\"object\",\"name\":\"LinearScale\",\"id\":\"p1206\"},\"title\":{\"type\":\"object\",\"name\":\"Title\",\"id\":\"p1196\",\"attributes\":{\"text\":\"Earthquake Map\",\"text_color\":\"#E0E0E0\",\"text_font\":\"serif\",\"text_font_size\":\"20pt\",\"align\":\"center\"}},\"outline_line_color\":\"#E0E0E0\",\"outline_line_alpha\":0.25,\"renderers\":[{\"type\":\"object\",\"name\":\"GlyphRenderer\",\"id\":\"p1231\",\"attributes\":{\"data_source\":{\"type\":\"object\",\"name\":\"ColumnDataSource\",\"id\":\"p1187\",\"attributes\":{\"selected\":{\"type\":\"object\",\"name\":\"Selection\",\"id\":\"p1188\",\"attributes\":{\"indices\":[],\"line_indices\":[]}},\"selection_policy\":{\"type\":\"object\",\"name\":\"UnionRenderers\",\"id\":\"p1189\"},\"data\":{\"type\":\"map\",\"entries\":[[\"lat\",[-6543390.724483237,-3328358.0702136224,5591172.898038173,2851640.5215679468,3582617.0285600303,-7225385.693391577,2519559.275530917,-3589189.5968190334,-7895731.329585679,434091.130985274,5539417.811527147,-3676788.280848081,4383206.456763607,-3600829.447882163,2946475.6765804114,2624462.067661116,-1919649.3727256414,-1714752.0518279816,-738658.6098666815,-3577327.8402285944,-1077518.9345580437,-3886984.5412093443,-551952.8806289821,-534289.4164623911,-1092279.3816380876,-370880.47196445666,-345125.133793962,-3890327.522750172,-1701661.4348117206,6701229.281034023,6721815.015535953,3945945.23053972,-374080.791003844,7761753.97926687,-1611357.202772603,468775.96792111447,-1591614.9794630976,-1582053.595071207,-1597470.6170010692,-916356.9030152019,-672409.5786799104,-1571979.4590359947,-462257.586109796,1811174.038604051,4365832.938958695,6643310.475927785,6773859.823305286,-418505.0455930204,-7410479.387446073,-560233.0274267893,-677928.4070738676,5418424.9975573495,-7511617.038765008,-1672495.0545528778,1548060.141959909,-999439.4980835484,2081535.6065417049,1852333.4820856596,-8997877.969353518,2838365.246911671,2836895.013382633,-3532220.974959881,-233455.68729851866,2040088.6479005006,-3419298.4832275123,-511168.83740093646,-1996283.2379809062,-3506570.907184386,-3509116.8698924873,-5645608.880689954,2080163.2375550573,2096579.1308771288,142378.32007136501,-452447.43496013916,-1260322.1273079962,1440522.2984627502,-969486.3282046615,-832620.1045632168,-1860667.204540434,-1189867.89525655,-7713171.987908111,-45318.54601658557,-4274618.876232512,-1692473.3553627734,-1698767.4525167744,-1645353.0122122725,65390.214373085604,64699.99763943559,-718310.979350528,-2749095.058186247,-8126461.540002937,-2551709.5517699746,2868953.7923551914,-2744089.018216976,-2568831.740902209,-2897353.1892552385,-4489209.573341354,-4500545.7623202745,-4470697.205647996,-4441532.400450267,-4446385.293838093,-4442926.682361412,-4471340.325008444,61594.03159729839,-4483469.075802989,-7426079.75738785,-2213915.801501731,4912675.02068954,4359273.23933069,2306420.320560517,938327.8076290637,-4456823.764446551,7249204.8093854645,-1219510.091862458,-7287232.027312336,-3681872.3599156886,-621364.074218154,-115277.60839181444,-3344525.2231373596,-2714535.8476083255,3230314.566706101,797189.2654855343,2586827.7678902973,-450405.18369439204,-4304433.519025345,-4456418.872302224,197100.25765049175,-1732109.4437709805,-603705.6005118577,-680771.976234633,-4176730.7437068527,-905830.9111608852,-7991177.156025094,-4380392.084819088,-528290.8084284626,-6454454.065666398,-2323743.5323901074,4649917.791428913,-2871569.0678798584,681925.11549967,-4191379.7565639713,-1725206.5409805682,6846037.379623727,-2588190.6188395876,502022.99706885614,-816613.0848425829,1235690.5297297353,588980.6922978276,5438076.329098564,4932064.174315522,-1195690.063706147,-1144151.1386994515,-1217265.6283307744,-1214148.5648662208,-1203654.6642516751,-1240091.3303174912,-1228920.328684846,-1227026.7319589504,-1163431.2025315375,-1156222.5862376215,-1218829.9356544984,-631017.2840090224,-1019965.3263767234,-1228024.5420570814]],[\"lon\",[15523380.539682128,-19734830.64732233,14464921.425372442,10425125.972535465,14775847.895107137,-15168427.211338695,15986681.128414653,-7974739.077295771,-16469562.815577714,14122224.37296535,15705699.601703351,6477859.280445858,7898151.267629998,-20031986.896045897,13742123.971651718,13425286.436955903,19474109.267935403,-19302254.23804875,17225811.77628182,-7968672.165047537,13291691.916054895,-19857794.15685258,10500756.434580415,10509684.257742038,13950113.30824987,16567067.557563543,16568659.426281884,-19839560.024260644,-19305927.781244926,-19366530.112032786,-19363168.263410825,15182876.481243663,16128747.062565029,-17580920.951912362,18574224.76826074,14098780.48820429,18557092.698627654,18548554.493683815,18550179.758249395,11954121.442479238,14519356.656370355,18545192.645061854,11378076.473471284,-10715202.301644579,7918277.831565422,19986234.58532986,19667348.77200345,-11570180.518733237,16272037.51111413,11647035.495176913,-11929341.723828655,16420326.20479985,-16019486.98235143,18583019.00803341,5762820.795233425,-12049121.495922217,-11726072.333640138,-10891677.090399155,18406009.885723025,13579185.632977603,13586888.9417405,-19809804.324371602,11206021.0685012,-11781364.724717155,-7999351.816710162,13984666.878192104,-19217272.938777164,-19796601.83276352,-7955291.562254186,18571230.273958404,-11707815.93715004,-11711155.521873841,14067577.634934934,-11638797.852858212,12942772.10411246,-9680710.273702689,17873346.12227721,-1513978.4706357587,-19727394.505337343,18364176.02108291,-15816250.988010151,-8995449.752277454,-11493859.875845369,-19244512.81817428,-19280658.256834853,18633290.890075654,-8865016.704914976,-8865261.60779472,16415327.95966323,9190147.54167489,-2844146.1980736633,-7347954.684384244,15808937.297465034,9176510.904052714,19271262.891811904,-19741765.851598755,19942452.629600868,19981191.812396925,19936541.56463974,19914021.631652266,19918296.30009873,19928181.470881168,19881972.75025288,10977715.924833277,19894440.53322173,-3441764.884397353,-19336852.3357873,-13991487.056038685,-10790098.055050293,16407992.005219955,14013721.265289148,19892637.157470874,18761953.95753452,18476820.213816624,17667805.814476512,-7327650.009263551,-8566435.566709256,3519710.791850803,-12501768.809385827,-19472684.37845325,15801156.065058582,-3821998.8690999374,13518193.683971971,-11567976.39281553,-11244292.709435929,19886113.83531039,14187557.782111922,-19460851.116581924,17088142.96201778,16548621.9179391,-7908771.147051676,11670746.546715882,16496580.055993244,-8188695.138600441,16683596.80052594,12732912.600068979,-19839693.6076496,15759032.769742409,19902288.557322655,-9193943.53631094,6013690.399685146,-7884425.574415187,19388493.4475663,-19629867.499453355,14230438.049965493,13734621.037972253,-6779412.649055758,10705350.526709374,9611892.564494286,-14047807.293370048,17958216.102058005,17931254.52138787,17948063.764497656,17957358.941978898,17937087.66270544,17973066.122129828,17956935.92791388,17962412.84686091,17959062.130188033,17961410.97144377,17953485.023699287,17195900.229105666,-12228357.008048467,17986146.162298035]],[\"mag\",[6.3,5.8,5.8,6.7,5.8,6.0,5.7,5.7,5.6,6.5,6.2,5.9,5.7,6.2,5.7,6.4,5.7,5.8,6.4,6.3,6.3,5.6,7.8,5.6,5.6,5.9,5.6,5.5,5.9,5.6,6.3,5.9,6.2,5.9,6.9,5.9,5.8,6.7,5.9,6.1,5.5,6.7,5.7,5.5,6.6,5.6,5.6,5.8,5.5,5.7,5.6,5.7,5.5,5.7,5.5,5.6,5.6,5.8,5.5,5.8,5.7,5.5,6.6,5.8,5.8,6.3,5.6,6.1,5.5,5.5,6.3,5.5,6.3,5.9,6.1,6.1,6.2,5.5,5.8,5.9,5.8,5.5,5.6,5.8,6.0,5.6,5.9,6.3,5.6,5.6,5.6,6.2,6.3,5.5,7.2,6.1,7.0,5.5,5.5,5.7,6.1,5.5,5.5,5.5,5.5,5.5,5.5,5.64,5.8,5.5,5.8,5.9,6.1,5.6,6.1,5.6,6.1,5.9,5.8,5.6,5.7,5.5,5.8,5.6,5.6,5.8,5.8,5.6,5.6,6.0,6.3,5.8,5.7,6.0,5.9,5.7,5.6,6.1,5.9,5.6,5.5,6.2,5.9,5.5,5.7,6.3,5.9,6.5,6.0,6.6,7.8,5.7,5.5,6.5,6.9,5.5,5.5,5.8,5.5,5.6,5.8,6.0,5.8,5.5]],[\"year\",[2016.0,2016.0,2016.0,2016.0,2016.0,2016.0,2016.0,2016.0,2016.0,2016.0,2016.0,2016.0,2016.0,2016.0,2016.0,2016.0,2016.0,2016.0,2016.0,2016.0,2016.0,2016.0,2016.0,2016.0,2016.0,2016.0,2016.0,2016.0,2016.0,2016.0,2016.0,2016.0,2016.0,2016.0,2016.0,2016.0,2016.0,2016.0,2016.0,2016.0,2016.0,2016.0,2016.0,2016.0,2016.0,2016.0,2016.0,2016.0,2016.0,2016.0,2016.0,2016.0,2016.0,2016.0,2016.0,2016.0,2016.0,2016.0,2016.0,2016.0,2016.0,2016.0,2016.0,2016.0,2016.0,2016.0,2016.0,2016.0,2016.0,2016.0,2016.0,2016.0,2016.0,2016.0,2016.0,2016.0,2016.0,2016.0,2016.0,2016.0,2016.0,2016.0,2016.0,2016.0,2016.0,2016.0,2016.0,2016.0,2016.0,2016.0,2016.0,2016.0,2016.0,2016.0,2016.0,2016.0,2016.0,2016.0,2016.0,2016.0,2016.0,2016.0,2016.0,2016.0,2016.0,2016.0,2016.0,2016.0,2016.0,2016.0,2016.0,2016.0,2016.0,2016.0,2016.0,2016.0,2016.0,2016.0,2016.0,2016.0,2016.0,2016.0,2016.0,2016.0,2016.0,2016.0,2016.0,2016.0,2016.0,2016.0,2016.0,2016.0,2016.0,2016.0,2016.0,2016.0,2016.0,2016.0,2016.0,2016.0,2016.0,2016.0,2016.0,2016.0,2016.0,2016.0,2016.0,2016.0,2016.0,2016.0,2016.0,2016.0,2016.0,2016.0,2016.0,2016.0,2016.0,2016.0,2016.0,2016.0,2016.0,2016.0,2016.0,2016.0]],[\"mag_s\",[25.2,23.2,23.2,26.8,23.2,24.0,22.8,22.8,22.4,26.0,24.8,23.6,22.8,24.8,22.8,25.6,22.8,23.2,25.6,25.2,25.2,22.4,31.2,22.4,22.4,23.6,22.4,22.0,23.6,22.4,25.2,23.6,24.8,23.6,27.6,23.6,23.2,26.8,23.6,24.4,22.0,26.8,22.8,22.0,26.4,22.4,22.4,23.2,22.0,22.8,22.4,22.8,22.0,22.8,22.0,22.4,22.4,23.2,22.0,23.2,22.8,22.0,26.4,23.2,23.2,25.2,22.4,24.4,22.0,22.0,25.2,22.0,25.2,23.6,24.4,24.4,24.8,22.0,23.2,23.6,23.2,22.0,22.4,23.2,24.0,22.4,23.6,25.2,22.4,22.4,22.4,24.8,25.2,22.0,28.8,24.4,28.0,22.0,22.0,22.8,24.4,22.0,22.0,22.0,22.0,22.0,22.0,22.56,23.2,22.0,23.2,23.6,24.4,22.4,24.4,22.4,24.4,23.6,23.2,22.4,22.8,22.0,23.2,22.4,22.4,23.2,23.2,22.4,22.4,24.0,25.2,23.2,22.8,24.0,23.6,22.8,22.4,24.4,23.6,22.4,22.0,24.8,23.6,22.0,22.8,25.2,23.6,26.0,24.0,26.4,31.2,22.8,22.0,26.0,27.6,22.0,22.0,23.2,22.0,22.4,23.2,24.0,23.2,22.0]]]}}},\"view\":{\"type\":\"object\",\"name\":\"CDSView\",\"id\":\"p1232\",\"attributes\":{\"filter\":{\"type\":\"object\",\"name\":\"AllIndices\",\"id\":\"p1233\"}}},\"glyph\":{\"type\":\"object\",\"name\":\"Circle\",\"id\":\"p1228\",\"attributes\":{\"x\":{\"type\":\"field\",\"field\":\"lon\"},\"y\":{\"type\":\"field\",\"field\":\"lat\"},\"size\":{\"type\":\"field\",\"field\":\"mag_s\"},\"line_color\":{\"type\":\"value\",\"value\":\"#1f77b4\"},\"fill_color\":{\"type\":\"value\",\"value\":\"#cc0000\"},\"fill_alpha\":{\"type\":\"value\",\"value\":0.7}}},\"nonselection_glyph\":{\"type\":\"object\",\"name\":\"Circle\",\"id\":\"p1229\",\"attributes\":{\"x\":{\"type\":\"field\",\"field\":\"lon\"},\"y\":{\"type\":\"field\",\"field\":\"lat\"},\"size\":{\"type\":\"field\",\"field\":\"mag_s\"},\"line_color\":{\"type\":\"value\",\"value\":\"#1f77b4\"},\"line_alpha\":{\"type\":\"value\",\"value\":0.1},\"fill_color\":{\"type\":\"value\",\"value\":\"#cc0000\"},\"fill_alpha\":{\"type\":\"value\",\"value\":0.1},\"hatch_alpha\":{\"type\":\"value\",\"value\":0.1}}},\"muted_glyph\":{\"type\":\"object\",\"name\":\"Circle\",\"id\":\"p1230\",\"attributes\":{\"x\":{\"type\":\"field\",\"field\":\"lon\"},\"y\":{\"type\":\"field\",\"field\":\"lat\"},\"size\":{\"type\":\"field\",\"field\":\"mag_s\"},\"line_color\":{\"type\":\"value\",\"value\":\"#1f77b4\"},\"line_alpha\":{\"type\":\"value\",\"value\":0.2},\"fill_color\":{\"type\":\"value\",\"value\":\"#cc0000\"},\"fill_alpha\":{\"type\":\"value\",\"value\":0.2},\"hatch_alpha\":{\"type\":\"value\",\"value\":0.2}}}}},{\"type\":\"object\",\"name\":\"GlyphRenderer\",\"id\":\"p1242\",\"attributes\":{\"data_source\":{\"type\":\"object\",\"name\":\"ColumnDataSource\",\"id\":\"p1190\",\"attributes\":{\"selected\":{\"type\":\"object\",\"name\":\"Selection\",\"id\":\"p1191\",\"attributes\":{\"indices\":[],\"line_indices\":[]}},\"selection_policy\":{\"type\":\"object\",\"name\":\"UnionRenderers\",\"id\":\"p1192\"},\"data\":{\"type\":\"map\",\"entries\":[[\"pred_lat\",[-4305644.878725946,-545572.9963252052,-2662437.544199333,2755248.2180776442,-5365811.401172721,-2198935.6254887776,-2201815.0661135376,-2169151.5511257183,-2151981.0195756736,-2022267.689426525,-2130721.2189970976,-2549699.865701337,-694543.9332678925,-7232331.040247741,12673256.347779717,499019.2775873914,1653476.4320984208,-1131687.975289045,-2610385.9209709303,-2291994.7871158165,-587136.108265621,3372.9807282539505,-2110306.486492369,-1702145.7202415739,-2114300.813983417,-1533175.837365457,369430.8808398337,-1523097.209169454,2255613.0303128827,5251466.08195597,5249092.034354799,-1158542.31074942,314783.38479557785,-696727.5869158688,-751615.0630744306,1355850.2420601917,-3515612.666032386,-1663110.5734038544,78148.23778704347,1358742.0221909478,1697280.2399914016,384206.4656621807,2899247.571116649,1108390.3548526065,-2736515.995592676,-1686526.5676896854,-2188094.3838645956,-2423170.738547443,-942997.9000432289,-2663406.851823695,-2033417.1551428244,-2109578.1952632125,4518380.554022869,-5588992.228074327,-7820139.622008823,8306487.562006566,4525320.617361077,-817948.6770221533,1099802.996351176,-7397288.521822361,-668525.4304657294,-698418.5745860382,5088588.534926192,-1691850.9498408462,-8433232.08722776,-3570322.1306225546,1618757.24354095,685451.8444193258,-2393392.991688738,-1766434.174267657,6635262.103856747,-1293287.889404825,-908799.531326025,-948748.992832175,-339539.992015826,6938469.688544394,7747885.474860748,2963540.901167296,34353.36095726692,6922941.295510339,-2593172.612202951,-7482427.682112884,6654349.953489209,4269774.326043047,-2157361.3814672176,1540382.0671977927,1547853.8366059961,-6832047.59130031,1464599.6400086829,632818.3313257238,636331.0777585702,857123.4469409954,862313.1988759948,638680.4740663961,-2064241.1614338474,-2664133.870717765,-822977.1091850322,-1504450.120204938,1973247.8774015973,-2047816.2328304106,-301988.9644560258,-4340474.349688632,-2337314.354431834,-3900003.6645173165,-3897255.305117063,-3900282.5196553133,-7337411.688928481,6658187.08326438,-1866135.711318369,-3924408.758540344,-3912532.1501572262,613680.5528100671,-1081459.7614575624,3608746.6061610063,8359970.740134858,8361875.379767513,8350300.101798156,8348464.775425542,-1312938.1458496503,4792667.472756803,4790503.900218573,-8586207.569116628,6625734.82365355,6629257.565175177,6752243.306047916,2808339.2316463753,6627150.819317838,-1641809.9026616956,6756972.061558729,-7641276.689954517,-7637796.156257059,-7675664.015505834,-3208248.7246229313,1450445.4558200159,4546886.706747683,-2371464.574741726,3151660.834632129,-448095.1517515751,1049075.6774900411,1977857.613992557,1926809.1237635878,5453657.620247199,-310681.9021402735,-1121049.0407249308,6858557.903920932,-2549170.4076041034,7104842.120234905,-143870.3768323784,-4487249.0510882195,-8100499.685198234,2164321.5495230677,7176067.416283686,-527676.4522642265,-8997805.451620065,-453675.0399595397,-1902394.1145143113,-7227922.704199101,1610771.2655774383,-929517.8827989912,-3697894.4979751343,4711592.3876203345,-2075577.6191125002,1591959.3923035788,1678726.4619239368,1726499.241972048,-3569999.0833416884,-7445379.231640741,-9036901.844784355,1266349.5260567088,-2764708.0832564547,-2361950.752767476,1541814.3773614864,-2207988.437418792,-5047525.047991203,-1736970.3674071126,-1066974.4236178973,-2220022.200725581,-2850083.1727469866,5434235.246962346,-3543498.6991029233,-3649032.4471866395,-509717.04716724897,3994117.608229388,-31715.053620725674,-3169524.199447897,-3178313.99124862,-4232681.143815502,5922688.114774268,1246500.756029532,-745752.8974622741,-2578074.42083684,-7572383.258442905,1230893.4115588807,-4321997.7203316195,-6357337.283314072,-4217157.9086806,4990992.382834879,-532580.2680479435,45619.11627917563,-2318066.2695521857,-2317341.8919830867,7280814.093520289,7254582.226507023,-1852960.1451625917,-7754111.940643026,-1969234.135804802,4497391.699737972,4429256.6953345,-2043834.993375725,34464.6820680013,4871567.652741578,3110671.5547305616,-396363.01566563087,1505010.8360824403,7227731.923012483,5800306.867275992,-3317861.212150935,681981.0936987327,-1145282.3105185104,-5989276.000660639,-605897.2791313904,-376534.060890135,-372999.13958976517,3920896.384432669,5512343.6078667715,6873195.893977935,6885703.918075628,-2876874.679370592,1574962.2867086118,-1839328.3396986248,-3534591.685046523,-419776.828952932,-1200527.5166430902,-7355095.6786795445,-1665850.7073915948,3334180.5471230606,-123795.04571138619,-698004.2220956333,-2032972.4655502085,-5985748.279869394,-161708.8821725821,-129028.0895611599,8062469.851229396,7771982.62055044,1576029.3031772126,5061494.911955777,-7912625.714267072,-1832961.9011957513,3221629.9168965113,1691758.742954441,1709872.5242152764,1698536.8710225923,1735030.4984869228,5128275.333156286,7787187.344932034,2747669.8187303916,1678530.6267919843,2118248.9355914155,-7448440.212338019,1815089.6939157222,-703995.8215343215,-2101533.516183289,-3739915.568881679,1718917.152009302,1701303.9921897436,2102014.9316169075,-6569926.986643506,4576798.589796728,-2129686.461762279,-566748.298184276,-681600.442976885,2698450.1605495107,4925775.566875482,1745701.721099107,1877309.0836236048,844230.1342541707,1725356.5830811297,-695092.6385978509,-2702494.352232406,4914743.655082393,3349465.5891309045,438911.39930979925,1512186.7203117542,-2557126.0721197636,106415.23801256623,4509494.443295251,4452482.453741789,-4206130.0392036885,-2153793.9305472,-8799329.294446291,6871116.152136846,-2104551.359970118,-7220161.650973685,-7219284.962370067,-3631956.9676027764,1831095.2137202795,-2735164.9224374145,-2720870.1036247457,-2343223.557681384,-26527.511136182584,-620133.7559040728,3289163.7310350225,-6862547.445647728,-805503.2306815294,-541126.3941315995,22972492.920816742,23017578.89083119,23070653.714063987,-961120.3823463281,-2475197.087909239,-2442723.714941221,-1746464.1334434794,-426236.4080493929,-419832.6093060029,-417177.49998489686,-425488.90432073775,-2478875.5770178144,-2469363.43797136,-2488321.031005311,-2480205.777766392,-2490671.2143681957,2114911.7816435685,-1726072.1813098392,-2420053.3593098465,-1707473.4933615183,-2113725.1115881503,1308391.019937781,-2472753.18361226,-2000220.328516855,-472794.39156972774,-2496656.043696367,3831869.552869018,-5081425.444171707,-1316405.7714694205,4151779.3925998537,4570289.9003546275,1064073.4976731613,-2054574.397347699,-2111410.720620923,1471113.6276090278,-8187111.827621816,4310739.577394617,-2456660.792872055,3792263.2916084253,3482140.0594611526,-330287.73264516547,274464.949188219,-2468081.975861971,-2451922.130950162,-2416088.7546149213,-2430626.024760267,-2449780.5835856874,-1657447.0457099949,-6795732.894736507,-4380114.846842927,3140736.139320978,-2347731.0651551904,-509784.05228970014,11972630.390174912,-2954956.4261257593,-1621239.7221826883,5653346.910651668,-751603.8537432499,-488869.975569843,-120254.43798601728,3599857.9663209543,-684209.0685570824,-6237394.496044554,-52320.747453207616,-3861757.15764775,-1566014.8139201794,-70121.559796827,1132049.8215287544,-3575065.421551152,1120201.224843237,-1818009.4917290597,1129381.2901968637,-2371952.904337748,-1612529.117119659,-2238506.885499229,3598666.3855736377,3610366.9396063318,-7211722.819822231,-2418106.7702445276,-836403.7278979729,-1959937.7578399326,-8316409.16625335,-2494688.855133488,3582901.595867437,3412595.806500549,7143535.427905174,-1731128.1413604217,-3234457.453569088,454601.3348356274,-7670127.402271534,-6999959.447355698,-605248.7137534146]],[\"pred_long\",[5780687.573505744,-8501191.21315532,19952716.286652006,10243363.50796821,-8293491.307233229,19597996.729239237,19587020.627447024,19613102.784139886,19624201.33737198,18604102.919589657,19620806.092902783,-7546904.878329982,16417053.411770526,-15123699.039937956,-10287657.533354852,13649673.134547904,16067855.301101107,17925454.77591754,-7770467.811690112,5192709.155084753,11435127.712502839,13923507.949950278,19618557.43918876,-19288127.794667084,19602182.34209307,18537177.64172474,10961585.730617331,18525444.56739513,-8526405.077819996,1472400.640824471,1468348.6113595958,17959785.70687819,14272093.803420337,17273645.761475686,17098918.688726567,16281210.237155495,-19753988.731687855,18607910.046174783,-8869591.935986578,15699053.828102991,-6737656.708059201,-8312393.356769928,7042560.793341977,13965208.231201438,-7420468.200686982,-19634654.237557467,-7113838.66329691,19411291.67928076,3342979.968267402,-19904325.70400417,-19863671.825966466,18857978.150292795,15733306.835420081,-9005435.110601611,-15876597.283969184,-16993432.33925086,4278063.6909309,17337788.05207077,13970161.94854174,-14379951.258049939,16626890.651915848,11375438.201539483,15796480.646445265,18719775.002472945,16731252.674534539,-19761447.137571003,16164992.688767318,10275278.80597864,18931883.16023045,-19717030.66074449,19934649.133296255,12754285.942301288,17895008.895185582,12837731.032599926,15235864.558861258,19176073.595234573,18121265.76022291,-12247782.259191895,13422926.463751087,-3597701.22710057,2800330.846497431,-3339729.4391362383,-19634220.09154337,6727738.14142952,18877414.533385303,13461921.68137597,13462467.146880858,15547347.626049919,13955200.608979123,14159983.944242429,14148139.550422024,13893997.152940981,13899607.655276963,14170982.309932806,-19833604.431503203,-7538834.215247469,9258653.55630907,18545404.152094364,-6806329.70192957,-19855946.253305417,-8382747.274951275,-10956943.707851252,-19325252.84484664,-8018298.394043178,-8027849.60635324,-8021871.749697642,-14504840.594770912,19885512.71006011,-19330217.69413602,-8011596.960697423,-7992717.175058885,13922261.171653392,12451029.385482254,14629017.486750808,-15218643.43363554,-15217841.933301827,-15209492.971492331,-15215348.37670806,-1551548.7987784883,7953087.436336478,7950694.067284424,-4231921.761997088,-19704841.176502623,-19702080.45313095,-19880269.562043745,14061588.646330256,-19708436.796055246,18632289.01465851,-19868358.376528863,-2865719.9153894004,-2870606.8410352245,-2876918.6561632035,-19658409.81689275,-10025555.79228209,6368120.52642185,-7648873.53189662,14476454.124618625,16973784.44912585,13798462.765942194,-11724480.464921793,-10473828.249757523,16444048.388287898,13594113.576692982,18028581.15218843,-18553163.120602652,-19628954.67962885,-17921024.26018397,13406350.991571967,-7980449.767173465,-2921234.945448006,16234411.523226002,19026682.83859,16156499.011619791,17347361.528278995,-8945445.037013115,-19783221.22997017,-16323778.810434842,-10354349.040289104,11828697.772202456,-7988286.659325312,2934938.3747646576,18782715.042567465,-10382156.649089262,-10242417.292296467,-10817538.309530836,-19821136.648534358,-13887941.372641826,-17932690.542819105,-9646423.870538358,19993436.956384186,-19652576.675575186,-10126934.452547526,3839208.862376577,8976614.494435232,-8169236.491609777,7366010.705790913,-19617444.244280823,-19727572.61652261,16461325.17325901,-19777221.10941641,20029237.304623302,17035678.086006906,-4290754.112881334,-8960406.37657573,-19638350.044651803,-19616453.500812765,-8163681.649019193,-12531825.07190001,13873592.290278576,16446909.299201284,19269426.120213814,-3066028.2071228167,13890891.33914785,-11201334.517938806,18258144.206102323,-8155822.492969188,14656736.039958334,17055359.37197916,13579241.292722998,-19309590.192492027,-19299949.924589332,18773854.01110032,18797075.256879795,-8197088.628206255,-15741678.061127735,7400920.498103682,15761270.291507354,3051701.3886577226,18832207.68817415,13381003.543518338,15972988.831047077,14491972.06163521,14035684.600822661,-5490934.070919933,18846512.24274109,16817848.10642263,-7669278.394559028,13961133.937838405,17976171.935922958,11117154.71900093,16873975.3936806,16348847.95976149,16340409.942359356,11561107.980233584,9220782.665541198,-18818515.390806578,-18828678.860316005,-1513956.2067375998,13440615.130838137,-8179132.7943413,-8032792.191744462,11312598.348986682,-8300671.414389395,-14446186.355071936,-19271218.364015583,14237840.796103245,-1520679.9039815138,14254382.872435123,-19908444.52516352,17814458.11164757,16484190.196667952,11097228.530148936,-17104406.739622675,-3792777.5027667037,16318858.48894178,14363520.501208851,-2851237.2496371954,18699236.556421585,15562921.222811898,-10452822.261844832,-10497105.155282399,-10470811.491557026,-10523287.499516975,15906798.261821399,-3746156.9000224797,15844915.75688942,-10465579.475489743,16224448.428800004,-3157232.2659297455,-10590758.24288678,16572221.649987271,-1413334.5190095599,-8029040.724904728,-10527105.758051185,-10479995.349547472,-10963711.932891482,18104078.030844428,16103488.670104034,18823524.76789228,16456026.365497254,12581774.127418952,-12115011.502522757,-14118940.44798695,-10511754.800270792,-10584012.281744706,13886304.976127166,-10482978.71190073,17000879.61318493,-19685415.925359197,15845483.486292463,15643995.20795664,14304365.323801303,-5491635.38371193,-7627299.814580885,-2839637.7586965365,16032244.19599634,15704630.934591737,-1731262.9847151493,-19543906.58866279,17209826.297403906,19677846.199985255,-7764823.913506894,958304.9684429747,927981.539150887,-7304629.138567501,-10560390.285798375,-19577959.220896453,-19556986.628831,-19347572.402750693,13686642.337440351,16384136.238342956,14606319.44257806,1868063.5069510029,13700479.350145955,14592938.839784708,6028117.405691953,5923410.2926518,6144858.15568686,13245249.424495943,18829524.888446037,18804589.322508343,-19287994.211278133,14217825.551658614,14211881.090850255,14221254.191975046,14223180.019165771,18805669.121569037,18797242.236115985,18810967.929330796,18794114.158424694,18796396.207985956,-11862683.612741644,-19276995.84558776,18808697.011718616,-19301107.647293583,-19786471.75910133,-6810348.335547209,18774644.379484948,-19875772.254615694,15972632.608676542,-19968746.293326236,15744806.138819026,-9371976.797936622,-1571185.556954422,5116154.741266219,16133622.856261773,-9404994.158905908,-19815515.014249295,-19093797.359589268,15997913.265035696,-1903663.4801066918,14391383.769754406,18758402.86577821,15645943.299045524,10573548.249610139,-8872942.652659455,14265381.238125501,18776581.338624753,18768288.036560655,18766718.431740474,18776425.491337646,18791709.65742356,-19486309.884126347,15551076.828991493,19760311.67876491,14511408.444727717,19207922.10155053,17057140.48383185,364526.8045516536,-1543366.8162051828,-8478025.62712124,16286175.086444875,14447221.626336314,16008065.60259604,-2608471.704115224,6379386.058890129,16437035.260367919,11891749.131787766,-8940079.43755688,-19900696.688604306,18968629.72414131,13766669.919371633,15609185.603185581,-19869683.078469306,15605556.58778572,-19360374.14419192,15607170.720402226,-19338555.52399644,18639658.36494903,-7910262.828228306,6376324.772893313,6378406.4473711485,240761.79468769205,18871904.218591034,12041907.992918814,-19763306.17306725,-16822913.143253725,-12725977.395792559,14702844.573044907,15879447.062933493,17878344.36741383,-19250691.049913306,8238176.652258052,14114409.744711664,-15826770.679890113,-13070077.073783645,16791877.269220557]],[\"pred_mag\",[5.826981872366586,5.877490345464774,5.895554354662961,5.874109285317706,5.838816337734223,5.96628093737766,5.8972669939534486,5.903318725977232,5.9669568450185535,5.9972455788473695,5.90401166230081,5.877192587659317,5.870372226083125,5.797517878869393,5.864451706731068,5.919782837190876,5.909379986724231,5.972426209299035,5.866787557885646,5.84853659029466,5.934746664017501,5.8529506756582315,5.90401166230081,5.861175973021434,5.90401166230081,5.993689221482037,5.901292618409611,5.995143097558725,5.952390061042302,5.890552943492489,5.869391578021647,5.888335820937136,5.8529506756582315,5.870098530744065,5.923681456933654,5.912388999499899,5.925936060570068,5.910664833274253,5.883151020652072,5.912779723448539,5.869036392162036,5.882383869559627,5.912639512059893,5.934540991417352,5.879310517189394,5.877072744705761,5.889227109529293,5.884875428603904,5.904953103390266,5.835657679169669,5.831853857924947,5.907123955067847,5.861120075492348,5.814975460601167,5.872792912233395,5.867438240381135,5.870700735473475,5.974470172841852,5.934540991417352,5.797517878869393,5.880188945651592,5.88505424210189,5.863914764706466,5.943233919161794,5.899931679168121,5.925936060570068,5.860757944942369,5.870153595460687,5.9131561068693035,5.839446003579036,5.958041128678003,5.887657868263856,5.936691711904784,5.846552423013476,5.859838002383944,5.956149319051483,5.964952178383616,5.964901147626382,5.8549400431648255,5.856276022230188,5.912101197720244,5.924292741712509,5.946164482271408,5.929747915247824,5.907123955067847,5.901724073043771,5.936771378403143,5.900688500308541,5.896908922330523,5.934540991417352,5.934540991417352,5.901650911310967,5.894320242443376,5.894320242443376,5.849530104938881,5.868905487415724,5.862419054315974,5.995143097558725,5.933188427721219,5.831853857924947,5.947396859406856,5.799919803535156,5.905865580307681,5.934927420349907,5.934927420349907,5.89903331938216,5.797517878869393,5.958041128678003,5.827356507003575,5.934927420349907,5.89903331938216,5.928123427568602,5.886227408397308,5.925562622222468,5.881005401558861,5.926119354492744,5.926119354492744,5.881005401558861,5.859041650286821,5.9351750244947885,5.875501119174654,5.936190534689468,5.96212063208098,5.96212063208098,5.963552516179214,5.896935222965292,5.96212063208098,5.928333877119539,5.963552516179214,5.936190534689468,5.831364894110201,5.936190534689468,5.833988071597612,5.9478977618548425,5.891862100944319,5.86674444946174,5.904778248970544,5.927620399412293,5.884080087228649,5.8613129494614515,5.890817106791384,5.861088283873331,5.8921702940204765,5.888335820937136,5.860588349885145,5.831763904730862,5.9683683720673795,5.934182698515996,5.8405662051026255,5.8252351764461965,5.859379960041383,5.947416786675264,5.9246673929303375,5.89700452370095,5.878743793858581,5.839446003579036,5.797517878869393,5.869497023952616,5.893558077264899,5.89903331938216,5.941761431936422,5.98875192343465,5.869497023952616,5.887022399027499,5.967187366848071,5.847204615477091,5.805126611924263,5.796382615564694,5.878939425542951,5.8862993687675065,5.847171061887051,5.870033564286483,5.9122059629640535,5.831789736262288,5.8757426208406525,5.857611190420272,5.798481481526833,5.844212707293725,5.858328849969722,5.925936060570068,5.891795556644379,5.8811413779687625,5.8575115661612305,5.951273043865563,5.901217094323968,5.901217094323968,5.948205929121837,5.9654118043459,5.908604193445746,5.866047941268471,5.944714608628688,5.81877757407279,5.904239591198114,5.799919803535156,5.918461983682475,5.830697362115112,6.020680687906902,5.8753111750796805,5.8549400431648255,5.905865580307681,5.817603236673704,5.951781388922897,5.940363194613981,5.877107974310418,5.796382615564694,5.832191186296563,5.918289277270818,5.891862100944319,5.922551876803626,5.8549400431648255,5.941198905481704,5.93717556012636,5.932391042994453,5.860854783292894,5.940363194613981,5.858328849969722,5.870283412101797,5.850331873794659,5.887082372543329,5.841352642480002,5.970751058502495,5.9278039976594465,5.9278039976594465,5.905728616131829,5.9351750244947885,5.939362381997734,5.939362381997734,5.82265603778222,5.8929316803923175,5.877107974310418,5.850432026859213,5.920419812189206,5.871361230698984,5.797517878869393,5.861175973021434,5.898045595783587,5.867336596349285,5.920966126350005,5.841320993270663,5.918311054534064,5.932275218270407,5.861377183662934,5.867438240381135,5.856276022230188,5.951504809217172,5.920261631038485,5.938904448613871,5.918258888126669,5.931063341648481,5.888275847421307,5.890944198656505,5.946156705644243,5.946156705644243,5.871528232311982,5.856276022230188,5.861335800172293,5.946108977610302,5.919199076667328,5.835224350933696,5.890944198656505,5.969665994316161,5.829767588735587,5.934927420349907,5.869497023952616,5.946156705644243,5.881680575211719,5.919154920006052,5.973800956527046,5.907822867654773,5.933270873061145,5.913857591075901,5.862833043998158,5.958303506661652,5.888275847421307,5.869497023952616,5.901650911310967,5.888275847421307,5.927620399412293,5.834128901768415,5.866533566570039,5.90457573719155,5.902163268448628,5.860854783292894,5.866787557885646,5.865345731564984,5.927954629711162,5.862485428962114,5.822437317270927,5.798481481526833,5.89700452370095,5.855786078165796,5.86000882372037,5.8439484762892775,5.8244627359367716,5.880688441875467,5.887022399027499,5.89049694704294,5.7952889212719105,5.798431204444321,5.8549400431648255,5.919037315392747,5.93717556012636,5.8244627359367716,5.916501422246453,5.859037237907482,5.7962431542672315,5.7962431542672315,5.7962431542672315,5.846552423013476,5.975878103552856,5.903415643106719,5.833185334237694,5.899500962888068,5.899500962888068,5.899500962888068,5.932391042994453,5.983778656039044,5.983778656039044,5.903415643106719,5.903415643106719,5.902377665788245,5.862833043998158,5.833185334237694,5.903415643106719,5.842003940792052,5.849530104938881,5.8555144677018385,5.903415643106719,5.831853857924947,5.880041149245732,5.8335030407600845,5.922181227843127,5.814975460601167,5.859041650286821,5.936334322689458,5.941198905481704,5.951273043865563,5.838645934133626,5.798431204444321,5.859528140338207,5.831364894110201,5.906468993870814,5.903415643106719,5.859866627098541,5.890350796612145,5.881536918902162,5.902129509119286,5.983778656039044,5.983778656039044,5.9165001447798415,5.903415643106719,5.903415643106719,5.877072744705761,5.900688500308541,5.940982013918362,5.93717556012636,5.863844421236668,5.879887929574956,5.85937255302966,5.82265603778222,5.948659292887046,5.949265456828582,5.851658628220401,5.880041149245732,5.865345731564984,5.896226703191951,5.871625674476933,5.8207079798655315,5.951273043865563,5.80736162196301,5.934180327100512,5.928123427568602,5.925609085383198,5.915847308336822,5.9348608769931825,5.8543778730317575,5.92902218523407,5.817603236673704,5.928333877119539,5.950822463892043,5.929747915247824,5.891862100944319,5.927164932449268,5.975878103552856,5.846552423013476,5.849530104938881,5.796382615564694,5.791057881142159,5.904778248970544,5.912041275560247,5.859930582434183,5.82872186047334,5.819901245457091,5.9372549053417565,5.796382615564694,5.805126611924263,5.878935497257785]],[\"year\",[2017,2017,2017,2017,2017,2017,2017,2017,2017,2017,2017,2017,2017,2017,2017,2017,2017,2017,2017,2017,2017,2017,2017,2017,2017,2017,2017,2017,2017,2017,2017,2017,2017,2017,2017,2017,2017,2017,2017,2017,2017,2017,2017,2017,2017,2017,2017,2017,2017,2017,2017,2017,2017,2017,2017,2017,2017,2017,2017,2017,2017,2017,2017,2017,2017,2017,2017,2017,2017,2017,2017,2017,2017,2017,2017,2017,2017,2017,2017,2017,2017,2017,2017,2017,2017,2017,2017,2017,2017,2017,2017,2017,2017,2017,2017,2017,2017,2017,2017,2017,2017,2017,2017,2017,2017,2017,2017,2017,2017,2017,2017,2017,2017,2017,2017,2017,2017,2017,2017,2017,2017,2017,2017,2017,2017,2017,2017,2017,2017,2017,2017,2017,2017,2017,2017,2017,2017,2017,2017,2017,2017,2017,2017,2017,2017,2017,2017,2017,2017,2017,2017,2017,2017,2017,2017,2017,2017,2017,2017,2017,2017,2017,2017,2017,2017,2017,2017,2017,2017,2017,2017,2017,2017,2017,2017,2017,2017,2017,2017,2017,2017,2017,2017,2017,2017,2017,2017,2017,2017,2017,2017,2017,2017,2017,2017,2017,2017,2017,2017,2017,2017,2017,2017,2017,2017,2017,2017,2017,2017,2017,2017,2017,2017,2017,2017,2017,2017,2017,2017,2017,2017,2017,2017,2017,2017,2017,2017,2017,2017,2017,2017,2017,2017,2017,2017,2017,2017,2017,2017,2017,2017,2017,2017,2017,2017,2017,2017,2017,2017,2017,2017,2017,2017,2017,2017,2017,2017,2017,2017,2017,2017,2017,2017,2017,2017,2017,2017,2017,2017,2017,2017,2017,2017,2017,2017,2017,2017,2017,2017,2017,2017,2017,2017,2017,2017,2017,2017,2017,2017,2017,2017,2017,2017,2017,2017,2017,2017,2017,2017,2017,2017,2017,2017,2017,2017,2017,2017,2017,2017,2017,2017,2017,2017,2017,2017,2017,2017,2017,2017,2017,2017,2017,2017,2017,2017,2017,2017,2017,2017,2017,2017,2017,2017,2017,2017,2017,2017,2017,2017,2017,2017,2017,2017,2017,2017,2017,2017,2017,2017,2017,2017,2017,2017,2017,2017,2017,2017,2017,2017,2017,2017,2017,2017,2017,2017,2017,2017,2017,2017,2017,2017,2017,2017,2017,2017,2017,2017,2017,2017,2017,2017,2017,2017,2017,2017,2017,2017,2017,2017,2017,2017,2017,2017,2017,2017,2017,2017]],[\"pred_mag_s\",[23.307927489466344,23.509961381859096,23.582217418651844,23.496437141270825,23.355265350936893,23.86512374951064,23.589067975813794,23.613274903908927,23.867827380074214,23.988982315389478,23.61604664920324,23.508770350637267,23.4814889043325,23.190071515477573,23.457806826924273,23.679131348763505,23.637519946896923,23.88970483719614,23.467150231542583,23.39414636117864,23.738986656070004,23.411802702632926,23.61604664920324,23.444703892085737,23.61604664920324,23.974756885928148,23.605170473638445,23.9805723902349,23.80956024416921,23.562211773969956,23.477566312086587,23.553343283748543,23.411802702632926,23.48039412297626,23.694725827734615,23.649555997999595,23.703744242280273,23.64265933309701,23.532604082608287,23.651118893794155,23.476145568648143,23.529535478238508,23.65055804823957,23.738163965669408,23.517242068757575,23.508290978823045,23.556908438117173,23.539501714415614,23.619812413561064,23.342630716678677,23.327415431699787,23.62849582027139,23.444480301969392,23.25990184240467,23.49117164893358,23.46975296152454,23.4828029418939,23.89788069136741,23.738163965669408,23.190071515477573,23.52075578260637,23.54021696840756,23.455659058825866,23.772935676647176,23.599726716672485,23.703744242280273,23.443031779769477,23.48061438184275,23.652624427477214,23.357784014316145,23.832164514712012,23.550631473055425,23.746766847619135,23.386209692053903,23.439352009535774,23.82459727620593,23.859808713534463,23.859604590505526,23.419760172659302,23.42510408892075,23.648404790880974,23.697170966850035,23.784657929085633,23.718991660991296,23.62849582027139,23.606896292175083,23.74708551361257,23.602754001234164,23.58763568932209,23.738163965669408,23.738163965669408,23.60660364524387,23.577280969773504,23.577280969773504,23.398120419755525,23.475621949662894,23.449676217263896,23.9805723902349,23.732753710884875,23.327415431699787,23.789587437627425,23.199679214140623,23.623462321230726,23.739709681399628,23.739709681399628,23.59613327752864,23.190071515477573,23.832164514712012,23.3094260280143,23.739709681399628,23.59613327752864,23.71249371027441,23.54490963358923,23.702250488889874,23.524021606235443,23.704477417970978,23.704477417970978,23.524021606235443,23.436166601147285,23.740700097979154,23.502004476698616,23.74476213875787,23.84848252832392,23.84848252832392,23.854210064716856,23.587740891861166,23.84848252832392,23.713335508478156,23.854210064716856,23.74476213875787,23.325459576440803,23.74476213875787,23.335952286390448,23.79159104741937,23.567448403777277,23.46697779784696,23.619112995882176,23.71048159764917,23.536320348914597,23.445251797845806,23.563268427165536,23.444353135493323,23.568681176081906,23.553343283748543,23.44235339954058,23.32705561892345,23.873473488269518,23.736730794063984,23.362264820410502,23.300940705784786,23.437519840165532,23.789667146701056,23.69866957172135,23.5880180948038,23.514975175434323,23.357784014316145,23.190071515477573,23.477988095810463,23.574232309059596,23.59613327752864,23.76704572774569,23.9550076937386,23.477988095810463,23.548089596109996,23.868749467392284,23.388818461908365,23.22050644769705,23.185530462258775,23.515757702171804,23.545197475070026,23.388684247548206,23.48013425714593,23.648823851856214,23.327158945049153,23.50297048336261,23.430444761681088,23.193925926107333,23.3768508291749,23.43331539987889,23.703744242280273,23.567182226577515,23.52456551187505,23.430046264644922,23.805092175462253,23.604868377295873,23.604868377295873,23.792823716487348,23.8616472173836,23.634416773782984,23.464191765073885,23.778858434514753,23.27511029629116,23.616958364792456,23.199679214140623,23.6738479347299,23.322789448460448,24.082722751627607,23.501244700318722,23.419760172659302,23.623462321230726,23.270412946694815,23.807125555691588,23.761452778455926,23.50843189724167,23.185530462258775,23.328764745186252,23.673157109083274,23.567448403777277,23.690207507214502,23.419760172659302,23.764795621926815,23.74870224050544,23.729564171977813,23.443419133171577,23.761452778455926,23.43331539987889,23.481133648407187,23.401327495178634,23.548329490173316,23.36541056992001,23.88300423400998,23.711215990637786,23.711215990637786,23.622914464527316,23.740700097979154,23.757449527990936,23.757449527990936,23.29062415112888,23.57172672156927,23.50843189724167,23.401728107436853,23.681679248756826,23.485444922795935,23.190071515477573,23.444703892085737,23.592182383134347,23.46934638539714,23.68386450540002,23.36528397308265,23.673244218136254,23.729100873081627,23.445508734651735,23.46975296152454,23.42510408892075,23.80601923686869,23.68104652415394,23.755617794455485,23.673035552506676,23.724253366593924,23.553103389685226,23.56377679462602,23.78462682257697,23.78462682257697,23.486112929247927,23.42510408892075,23.445343200689173,23.784435910441207,23.676796306669313,23.340897403734783,23.56377679462602,23.878663977264644,23.319070354942347,23.739709681399628,23.477988095810463,23.78462682257697,23.526722300846878,23.676619680024206,23.895203826108183,23.631291470619093,23.73308349224458,23.655430364303605,23.451332175992633,23.83321402664661,23.553103389685226,23.477988095810463,23.60660364524387,23.553103389685226,23.71048159764917,23.33651560707366,23.466134266280157,23.6183029487662,23.60865307379451,23.443419133171577,23.467150231542583,23.461382926259937,23.711818518844648,23.449941715848457,23.289749269083707,23.193925926107333,23.5880180948038,23.423144312663183,23.44003529488148,23.37579390515711,23.297850943747086,23.522753767501868,23.548089596109996,23.56198778817176,23.181155685087642,23.193724817777284,23.419760172659302,23.676149261570988,23.74870224050544,23.297850943747086,23.666005688985813,23.436148951629928,23.184972617068926,23.184972617068926,23.184972617068926,23.386209692053903,23.903512414211423,23.613662572426875,23.332741336950775,23.59800385155227,23.59800385155227,23.59800385155227,23.729564171977813,23.935114624156174,23.935114624156174,23.613662572426875,23.613662572426875,23.60951066315298,23.451332175992633,23.332741336950775,23.613662572426875,23.36801576316821,23.398120419755525,23.422057870807354,23.613662572426875,23.327415431699787,23.520164596982926,23.334012163040338,23.688724911372507,23.25990184240467,23.436166601147285,23.74533729075783,23.764795621926815,23.805092175462253,23.354583736534504,23.193724817777284,23.438112561352828,23.325459576440803,23.625875975483257,23.613662572426875,23.439466508394165,23.56140318644858,23.526147675608648,23.608518036477143,23.935114624156174,23.935114624156174,23.666000579119366,23.613662572426875,23.613662572426875,23.508290978823045,23.602754001234164,23.763928055673446,23.74870224050544,23.455377684946672,23.519551718299823,23.43749021211864,23.29062415112888,23.794637171548185,23.797061827314327,23.406634512881602,23.520164596982926,23.461382926259937,23.584906812767805,23.48650269790773,23.282831919462126,23.805092175462253,23.22944648785204,23.736721308402046,23.71249371027441,23.702436341532792,23.66338923334729,23.73944350797273,23.41751149212703,23.71608874093628,23.270412946694815,23.713335508478156,23.80328985556817,23.718991660991296,23.567448403777277,23.708659729797073,23.903512414211423,23.386209692053903,23.398120419755525,23.185530462258775,23.164231524568635,23.619112995882176,23.648165102240988,23.439722329736732,23.31488744189336,23.279604981828363,23.749019621367026,23.185530462258775,23.22050644769705,23.51574198903114]]]}}},\"view\":{\"type\":\"object\",\"name\":\"CDSView\",\"id\":\"p1243\",\"attributes\":{\"filter\":{\"type\":\"object\",\"name\":\"AllIndices\",\"id\":\"p1244\"}}},\"glyph\":{\"type\":\"object\",\"name\":\"Circle\",\"id\":\"p1239\",\"attributes\":{\"x\":{\"type\":\"field\",\"field\":\"pred_long\"},\"y\":{\"type\":\"field\",\"field\":\"pred_lat\"},\"size\":{\"type\":\"field\",\"field\":\"pred_mag_s\"},\"line_color\":{\"type\":\"value\",\"value\":\"#1f77b4\"},\"fill_color\":{\"type\":\"value\",\"value\":\"#ccff33\"},\"fill_alpha\":{\"type\":\"value\",\"value\":7.0}}},\"nonselection_glyph\":{\"type\":\"object\",\"name\":\"Circle\",\"id\":\"p1240\",\"attributes\":{\"x\":{\"type\":\"field\",\"field\":\"pred_long\"},\"y\":{\"type\":\"field\",\"field\":\"pred_lat\"},\"size\":{\"type\":\"field\",\"field\":\"pred_mag_s\"},\"line_color\":{\"type\":\"value\",\"value\":\"#1f77b4\"},\"line_alpha\":{\"type\":\"value\",\"value\":0.1},\"fill_color\":{\"type\":\"value\",\"value\":\"#ccff33\"},\"fill_alpha\":{\"type\":\"value\",\"value\":0.1},\"hatch_alpha\":{\"type\":\"value\",\"value\":0.1}}},\"muted_glyph\":{\"type\":\"object\",\"name\":\"Circle\",\"id\":\"p1241\",\"attributes\":{\"x\":{\"type\":\"field\",\"field\":\"pred_long\"},\"y\":{\"type\":\"field\",\"field\":\"pred_lat\"},\"size\":{\"type\":\"field\",\"field\":\"pred_mag_s\"},\"line_color\":{\"type\":\"value\",\"value\":\"#1f77b4\"},\"line_alpha\":{\"type\":\"value\",\"value\":0.2},\"fill_color\":{\"type\":\"value\",\"value\":\"#ccff33\"},\"fill_alpha\":{\"type\":\"value\",\"value\":0.2},\"hatch_alpha\":{\"type\":\"value\",\"value\":0.2}}}}},{\"type\":\"object\",\"name\":\"TileRenderer\",\"id\":\"p1247\",\"attributes\":{\"tile_source\":{\"type\":\"object\",\"name\":\"WMTSTileSource\",\"id\":\"p1246\",\"attributes\":{\"url\":\"https://a.basemaps.cartocdn.com/light_all/{z}/{x}/{y}.png\",\"max_zoom\":20,\"attribution\":\"&copy; <a href=\\\"https://www.openstreetmap.org/copyright\\\">OpenStreetMap</a> contributors &copy; <a href=\\\"https://carto.com/attributions\\\">CARTO</a>\"}}}}],\"toolbar\":{\"type\":\"object\",\"name\":\"Toolbar\",\"id\":\"p1202\",\"attributes\":{\"tools\":[{\"id\":\"p1217\"},{\"id\":\"p1218\"},{\"id\":\"p1219\"},{\"type\":\"object\",\"name\":\"SaveTool\",\"id\":\"p1221\"},{\"id\":\"p1222\"},{\"id\":\"p1223\"},{\"id\":\"p1224\"}]}},\"toolbar_location\":null,\"left\":[{\"type\":\"object\",\"name\":\"LinearAxis\",\"id\":\"p1212\",\"attributes\":{\"visible\":false,\"ticker\":{\"type\":\"object\",\"name\":\"BasicTicker\",\"id\":\"p1213\",\"attributes\":{\"mantissas\":[1,2,5]}},\"formatter\":{\"type\":\"object\",\"name\":\"BasicTickFormatter\",\"id\":\"p1214\"},\"axis_label_standoff\":10,\"axis_label_text_color\":\"#E0E0E0\",\"axis_label_text_font\":\"Helvetica\",\"axis_label_text_font_size\":\"1.25em\",\"axis_label_text_font_style\":\"normal\",\"major_label_policy\":{\"type\":\"object\",\"name\":\"AllLabels\",\"id\":\"p1215\"},\"major_label_text_color\":\"#E0E0E0\",\"major_label_text_font\":\"Helvetica\",\"major_label_text_font_size\":\"1.025em\",\"axis_line_color\":\"#E0E0E0\",\"axis_line_alpha\":0,\"major_tick_line_color\":\"#E0E0E0\",\"major_tick_line_alpha\":0,\"minor_tick_line_color\":\"#E0E0E0\",\"minor_tick_line_alpha\":0}}],\"below\":[{\"type\":\"object\",\"name\":\"LinearAxis\",\"id\":\"p1207\",\"attributes\":{\"visible\":false,\"ticker\":{\"type\":\"object\",\"name\":\"BasicTicker\",\"id\":\"p1208\",\"attributes\":{\"mantissas\":[1,2,5]}},\"formatter\":{\"type\":\"object\",\"name\":\"BasicTickFormatter\",\"id\":\"p1209\"},\"axis_label_standoff\":10,\"axis_label_text_color\":\"#E0E0E0\",\"axis_label_text_font\":\"Helvetica\",\"axis_label_text_font_size\":\"1.25em\",\"axis_label_text_font_style\":\"normal\",\"major_label_policy\":{\"type\":\"object\",\"name\":\"AllLabels\",\"id\":\"p1210\"},\"major_label_text_color\":\"#E0E0E0\",\"major_label_text_font\":\"Helvetica\",\"major_label_text_font_size\":\"1.025em\",\"axis_line_color\":\"#E0E0E0\",\"axis_line_alpha\":0,\"major_tick_line_color\":\"#E0E0E0\",\"major_tick_line_alpha\":0,\"minor_tick_line_color\":\"#E0E0E0\",\"minor_tick_line_alpha\":0}}],\"center\":[{\"type\":\"object\",\"name\":\"Grid\",\"id\":\"p1211\",\"attributes\":{\"axis\":{\"id\":\"p1207\"},\"grid_line_color\":null,\"grid_line_alpha\":0.25}},{\"type\":\"object\",\"name\":\"Grid\",\"id\":\"p1216\",\"attributes\":{\"dimension\":1,\"axis\":{\"id\":\"p1212\"},\"grid_line_color\":null,\"grid_line_alpha\":0.25}},{\"type\":\"object\",\"name\":\"Legend\",\"id\":\"p1234\",\"attributes\":{\"location\":\"bottom_right\",\"border_line_alpha\":0,\"background_fill_color\":\"black\",\"background_fill_alpha\":0.8,\"click_policy\":\"hide\",\"label_text_color\":\"white\",\"label_text_font\":\"Helvetica\",\"label_text_font_size\":\"1.025em\",\"label_standoff\":8,\"glyph_width\":15,\"spacing\":8,\"items\":[{\"type\":\"object\",\"name\":\"LegendItem\",\"id\":\"p1235\",\"attributes\":{\"label\":{\"type\":\"value\",\"value\":\"Quakes 2016\"},\"renderers\":[{\"id\":\"p1231\"}]}},{\"type\":\"object\",\"name\":\"LegendItem\",\"id\":\"p1245\",\"attributes\":{\"label\":{\"type\":\"value\",\"value\":\"Predicted Quakes 2017\"},\"renderers\":[{\"id\":\"p1242\"}]}}]}}],\"background_fill_color\":\"#20262B\",\"border_fill_color\":\"#15191C\"}},0,0],[{\"type\":\"object\",\"name\":\"Figure\",\"id\":\"p1253\",\"attributes\":{\"width\":1150,\"height\":400,\"x_range\":{\"type\":\"object\",\"name\":\"DataRange1d\",\"id\":\"p1255\"},\"y_range\":{\"type\":\"object\",\"name\":\"Range1d\",\"id\":\"p1263\",\"attributes\":{\"end\":460}},\"x_scale\":{\"type\":\"object\",\"name\":\"LinearScale\",\"id\":\"p1264\"},\"y_scale\":{\"type\":\"object\",\"name\":\"LinearScale\",\"id\":\"p1265\"},\"title\":{\"type\":\"object\",\"name\":\"Title\",\"id\":\"p1256\",\"attributes\":{\"text\":\"Frequency of Earthquakes by Year\",\"text_color\":\"#E0E0E0\",\"text_font\":\"serif\",\"text_font_size\":\"20pt\",\"align\":\"center\"}},\"outline_line_color\":\"#E0E0E0\",\"outline_line_alpha\":0.25,\"renderers\":[{\"type\":\"object\",\"name\":\"GlyphRenderer\",\"id\":\"p1290\",\"attributes\":{\"data_source\":{\"type\":\"object\",\"name\":\"ColumnDataSource\",\"id\":\"p1250\",\"attributes\":{\"selected\":{\"type\":\"object\",\"name\":\"Selection\",\"id\":\"p1251\",\"attributes\":{\"indices\":[],\"line_indices\":[]}},\"selection_policy\":{\"type\":\"object\",\"name\":\"UnionRenderers\",\"id\":\"p1252\"},\"data\":{\"type\":\"map\",\"entries\":[[\"yrs\",[1990,1975,1977,2003,2007,1974,2015,2006,1978,2013,1988,1997,1994,1968,2014,1973,1979,1971,1966,2004,1991,1967,1969,1982,1989,1996,1998,1965,1985,1970,2012,1987,2009,2016,1995,1980,2001,1972,1992,1983,2005,1984,2000,1981,2010,1986,2011,1976,2008,1999,2002,1993]],[\"numQuakes\",[196,150,148,187,211,147,175,176,158,202,196,183,215,106,198,144,118,148,98,227,168,103,114,135,177,242,154,156,210,142,182,213,228,164,205,120,157,178,190,177,230,161,213,117,211,175,360,173,214,170,182,197]]]}}},\"view\":{\"type\":\"object\",\"name\":\"CDSView\",\"id\":\"p1291\",\"attributes\":{\"filter\":{\"type\":\"object\",\"name\":\"AllIndices\",\"id\":\"p1292\"}}},\"glyph\":{\"type\":\"object\",\"name\":\"VBar\",\"id\":\"p1287\",\"attributes\":{\"x\":{\"type\":\"field\",\"field\":\"yrs\"},\"width\":{\"type\":\"value\",\"value\":0.75},\"top\":{\"type\":\"field\",\"field\":\"numQuakes\"},\"line_color\":{\"type\":\"value\",\"value\":\"#cc0000\"},\"fill_color\":{\"type\":\"value\",\"value\":\"#cc0000\"},\"hatch_color\":{\"type\":\"value\",\"value\":\"#cc0000\"}}},\"nonselection_glyph\":{\"type\":\"object\",\"name\":\"VBar\",\"id\":\"p1288\",\"attributes\":{\"x\":{\"type\":\"field\",\"field\":\"yrs\"},\"width\":{\"type\":\"value\",\"value\":0.75},\"top\":{\"type\":\"field\",\"field\":\"numQuakes\"},\"line_color\":{\"type\":\"value\",\"value\":\"#cc0000\"},\"line_alpha\":{\"type\":\"value\",\"value\":0.1},\"fill_color\":{\"type\":\"value\",\"value\":\"#cc0000\"},\"fill_alpha\":{\"type\":\"value\",\"value\":0.1},\"hatch_color\":{\"type\":\"value\",\"value\":\"#cc0000\"},\"hatch_alpha\":{\"type\":\"value\",\"value\":0.1}}},\"muted_glyph\":{\"type\":\"object\",\"name\":\"VBar\",\"id\":\"p1289\",\"attributes\":{\"x\":{\"type\":\"field\",\"field\":\"yrs\"},\"width\":{\"type\":\"value\",\"value\":0.75},\"top\":{\"type\":\"field\",\"field\":\"numQuakes\"},\"line_color\":{\"type\":\"value\",\"value\":\"#cc0000\"},\"line_alpha\":{\"type\":\"value\",\"value\":0.2},\"fill_color\":{\"type\":\"value\",\"value\":\"#cc0000\"},\"fill_alpha\":{\"type\":\"value\",\"value\":0.2},\"hatch_color\":{\"type\":\"value\",\"value\":\"#cc0000\"},\"hatch_alpha\":{\"type\":\"value\",\"value\":0.2}}}}}],\"toolbar\":{\"type\":\"object\",\"name\":\"Toolbar\",\"id\":\"p1262\",\"attributes\":{\"tools\":[{\"id\":\"p1276\"},{\"id\":\"p1277\"},{\"id\":\"p1278\"},{\"type\":\"object\",\"name\":\"SaveTool\",\"id\":\"p1280\"},{\"id\":\"p1281\"},{\"id\":\"p1282\"},{\"id\":\"p1283\"}]}},\"toolbar_location\":null,\"left\":[{\"type\":\"object\",\"name\":\"LinearAxis\",\"id\":\"p1271\",\"attributes\":{\"ticker\":{\"type\":\"object\",\"name\":\"BasicTicker\",\"id\":\"p1272\",\"attributes\":{\"mantissas\":[1,2,5]}},\"formatter\":{\"type\":\"object\",\"name\":\"BasicTickFormatter\",\"id\":\"p1273\"},\"axis_label\":\"Number of Occurrences\",\"axis_label_standoff\":10,\"axis_label_text_color\":\"#E0E0E0\",\"axis_label_text_font\":\"Helvetica\",\"axis_label_text_font_size\":\"14pt\",\"axis_label_text_font_style\":\"bold\",\"major_label_policy\":{\"type\":\"object\",\"name\":\"AllLabels\",\"id\":\"p1274\"},\"major_label_text_color\":\"#E0E0E0\",\"major_label_text_font\":\"Helvetica\",\"major_label_text_font_size\":\"12pt\",\"axis_line_color\":\"#E0E0E0\",\"axis_line_alpha\":0,\"major_tick_line_color\":\"#E0E0E0\",\"major_tick_line_alpha\":0,\"minor_tick_line_color\":\"#E0E0E0\",\"minor_tick_line_alpha\":0}}],\"below\":[{\"type\":\"object\",\"name\":\"LinearAxis\",\"id\":\"p1266\",\"attributes\":{\"ticker\":{\"type\":\"object\",\"name\":\"BasicTicker\",\"id\":\"p1267\",\"attributes\":{\"num_minor_ticks\":2,\"mantissas\":[1,2,5]}},\"formatter\":{\"type\":\"object\",\"name\":\"BasicTickFormatter\",\"id\":\"p1268\"},\"axis_label\":\"Years\",\"axis_label_standoff\":10,\"axis_label_text_color\":\"#E0E0E0\",\"axis_label_text_font\":\"Helvetica\",\"axis_label_text_font_size\":\"14pt\",\"axis_label_text_font_style\":\"bold\",\"major_label_policy\":{\"type\":\"object\",\"name\":\"AllLabels\",\"id\":\"p1269\"},\"major_label_text_color\":\"#E0E0E0\",\"major_label_text_font\":\"Helvetica\",\"major_label_text_font_size\":\"12pt\",\"axis_line_color\":\"#E0E0E0\",\"axis_line_alpha\":0,\"major_tick_line_color\":\"#E0E0E0\",\"major_tick_line_alpha\":0,\"minor_tick_line_color\":\"#E0E0E0\",\"minor_tick_line_alpha\":0}}],\"center\":[{\"type\":\"object\",\"name\":\"Grid\",\"id\":\"p1270\",\"attributes\":{\"axis\":{\"id\":\"p1266\"},\"grid_line_color\":\"#E0E0E0\",\"grid_line_alpha\":0.25}},{\"type\":\"object\",\"name\":\"Grid\",\"id\":\"p1275\",\"attributes\":{\"dimension\":1,\"axis\":{\"id\":\"p1271\"},\"grid_line_color\":\"#E0E0E0\",\"grid_line_alpha\":0.25}},{\"type\":\"object\",\"name\":\"Legend\",\"id\":\"p1293\",\"attributes\":{\"location\":\"top_left\",\"border_line_alpha\":0,\"background_fill_color\":\"#20262B\",\"background_fill_alpha\":0.25,\"label_text_color\":\"#E0E0E0\",\"label_text_font\":\"Helvetica\",\"label_text_font_size\":\"1.025em\",\"label_standoff\":8,\"glyph_width\":15,\"spacing\":8,\"items\":[{\"type\":\"object\",\"name\":\"LegendItem\",\"id\":\"p1294\",\"attributes\":{\"label\":{\"type\":\"value\",\"value\":\"Year\"},\"renderers\":[{\"id\":\"p1290\"}]}}]}}],\"background_fill_color\":\"#20262B\",\"border_fill_color\":\"#15191C\"}},1,0],[{\"type\":\"object\",\"name\":\"Figure\",\"id\":\"p1299\",\"attributes\":{\"width\":1150,\"height\":400,\"x_range\":{\"type\":\"object\",\"name\":\"DataRange1d\",\"id\":\"p1301\"},\"y_range\":{\"type\":\"object\",\"name\":\"Range1d\",\"id\":\"p1309\",\"attributes\":{\"start\":5,\"end\":10.1}},\"x_scale\":{\"type\":\"object\",\"name\":\"LinearScale\",\"id\":\"p1310\"},\"y_scale\":{\"type\":\"object\",\"name\":\"LinearScale\",\"id\":\"p1311\"},\"title\":{\"type\":\"object\",\"name\":\"Title\",\"id\":\"p1302\",\"attributes\":{\"text\":\"Maximum and Average Magnitude by Year\",\"text_color\":\"#E0E0E0\",\"text_font\":\"serif\",\"text_font_size\":\"20pt\",\"align\":\"center\"}},\"outline_line_color\":\"#E0E0E0\",\"outline_line_alpha\":0.25,\"renderers\":[{\"type\":\"object\",\"name\":\"GlyphRenderer\",\"id\":\"p1336\",\"attributes\":{\"data_source\":{\"type\":\"object\",\"name\":\"ColumnDataSource\",\"id\":\"p1296\",\"attributes\":{\"selected\":{\"type\":\"object\",\"name\":\"Selection\",\"id\":\"p1297\",\"attributes\":{\"indices\":[],\"line_indices\":[]}},\"selection_policy\":{\"type\":\"object\",\"name\":\"UnionRenderers\",\"id\":\"p1298\"},\"data\":{\"type\":\"map\",\"entries\":[[\"yrs\",[1990,1975,1977,2003,2007,1974,2015,2006,1978,2013,1988,1997,1994,1968,2014,1973,1979,1971,1966,2004,1991,1967,1969,1982,1989,1996,1998,1965,1985,1970,2012,1987,2009,2016,1995,1980,2001,1972,1992,1983,2005,1984,2000,1981,2010,1986,2011,1976,2008,1999,2002,1993]],[\"avg_mag\",[5.9,5.8,5.8,5.9,5.9,5.9,5.8,5.8,5.8,5.9,5.9,5.8,5.9,6.1,5.9,5.8,5.8,6.0,6.1,5.9,5.9,6.0,6.0,5.8,5.8,5.9,5.9,6.0,5.9,6.0,5.9,5.9,5.9,5.9,5.9,5.8,5.9,5.9,5.9,5.9,5.9,5.8,5.9,5.8,5.9,5.8,5.9,5.8,5.9,5.9,5.9,5.9]],[\"max_mag\",[7.6,7.8,7.6,7.6,8.4,7.6,7.5,8.0,7.7,8.0,7.8,7.8,8.3,7.6,8.2,7.4,7.9,7.8,7.7,7.5,7.1,7.2,7.5,7.1,7.4,7.9,7.5,8.7,8.0,7.4,8.6,7.6,7.8,7.8,8.0,7.5,7.6,8.0,7.8,7.4,7.6,7.6,7.9,7.7,7.8,8.0,9.1,7.5,7.9,7.4,7.9,7.8]]]}}},\"view\":{\"type\":\"object\",\"name\":\"CDSView\",\"id\":\"p1337\",\"attributes\":{\"filter\":{\"type\":\"object\",\"name\":\"AllIndices\",\"id\":\"p1338\"}}},\"glyph\":{\"type\":\"object\",\"name\":\"Line\",\"id\":\"p1333\",\"attributes\":{\"x\":{\"type\":\"field\",\"field\":\"yrs\"},\"y\":{\"type\":\"field\",\"field\":\"max_mag\"},\"line_color\":\"#cc0000\",\"line_width\":2}},\"nonselection_glyph\":{\"type\":\"object\",\"name\":\"Line\",\"id\":\"p1334\",\"attributes\":{\"x\":{\"type\":\"field\",\"field\":\"yrs\"},\"y\":{\"type\":\"field\",\"field\":\"max_mag\"},\"line_color\":\"#cc0000\",\"line_alpha\":0.1,\"line_width\":2}},\"muted_glyph\":{\"type\":\"object\",\"name\":\"Line\",\"id\":\"p1335\",\"attributes\":{\"x\":{\"type\":\"field\",\"field\":\"yrs\"},\"y\":{\"type\":\"field\",\"field\":\"max_mag\"},\"line_color\":\"#cc0000\",\"line_alpha\":0.2,\"line_width\":2}}}},{\"type\":\"object\",\"name\":\"GlyphRenderer\",\"id\":\"p1347\",\"attributes\":{\"data_source\":{\"id\":\"p1296\"},\"view\":{\"type\":\"object\",\"name\":\"CDSView\",\"id\":\"p1348\",\"attributes\":{\"filter\":{\"type\":\"object\",\"name\":\"AllIndices\",\"id\":\"p1349\"}}},\"glyph\":{\"type\":\"object\",\"name\":\"Circle\",\"id\":\"p1344\",\"attributes\":{\"x\":{\"type\":\"field\",\"field\":\"yrs\"},\"y\":{\"type\":\"field\",\"field\":\"max_mag\"},\"size\":{\"type\":\"value\",\"value\":8},\"line_color\":{\"type\":\"value\",\"value\":\"#cc0000\"},\"fill_color\":{\"type\":\"value\",\"value\":\"#cc0000\"},\"hatch_color\":{\"type\":\"value\",\"value\":\"#cc0000\"}}},\"nonselection_glyph\":{\"type\":\"object\",\"name\":\"Circle\",\"id\":\"p1345\",\"attributes\":{\"x\":{\"type\":\"field\",\"field\":\"yrs\"},\"y\":{\"type\":\"field\",\"field\":\"max_mag\"},\"size\":{\"type\":\"value\",\"value\":8},\"line_color\":{\"type\":\"value\",\"value\":\"#cc0000\"},\"line_alpha\":{\"type\":\"value\",\"value\":0.1},\"fill_color\":{\"type\":\"value\",\"value\":\"#cc0000\"},\"fill_alpha\":{\"type\":\"value\",\"value\":0.1},\"hatch_color\":{\"type\":\"value\",\"value\":\"#cc0000\"},\"hatch_alpha\":{\"type\":\"value\",\"value\":0.1}}},\"muted_glyph\":{\"type\":\"object\",\"name\":\"Circle\",\"id\":\"p1346\",\"attributes\":{\"x\":{\"type\":\"field\",\"field\":\"yrs\"},\"y\":{\"type\":\"field\",\"field\":\"max_mag\"},\"size\":{\"type\":\"value\",\"value\":8},\"line_color\":{\"type\":\"value\",\"value\":\"#cc0000\"},\"line_alpha\":{\"type\":\"value\",\"value\":0.2},\"fill_color\":{\"type\":\"value\",\"value\":\"#cc0000\"},\"fill_alpha\":{\"type\":\"value\",\"value\":0.2},\"hatch_color\":{\"type\":\"value\",\"value\":\"#cc0000\"},\"hatch_alpha\":{\"type\":\"value\",\"value\":0.2}}}}},{\"type\":\"object\",\"name\":\"GlyphRenderer\",\"id\":\"p1356\",\"attributes\":{\"data_source\":{\"id\":\"p1296\"},\"view\":{\"type\":\"object\",\"name\":\"CDSView\",\"id\":\"p1357\",\"attributes\":{\"filter\":{\"type\":\"object\",\"name\":\"AllIndices\",\"id\":\"p1358\"}}},\"glyph\":{\"type\":\"object\",\"name\":\"Line\",\"id\":\"p1353\",\"attributes\":{\"x\":{\"type\":\"field\",\"field\":\"yrs\"},\"y\":{\"type\":\"field\",\"field\":\"avg_mag\"},\"line_color\":\"yellow\",\"line_width\":2}},\"nonselection_glyph\":{\"type\":\"object\",\"name\":\"Line\",\"id\":\"p1354\",\"attributes\":{\"x\":{\"type\":\"field\",\"field\":\"yrs\"},\"y\":{\"type\":\"field\",\"field\":\"avg_mag\"},\"line_color\":\"yellow\",\"line_alpha\":0.1,\"line_width\":2}},\"muted_glyph\":{\"type\":\"object\",\"name\":\"Line\",\"id\":\"p1355\",\"attributes\":{\"x\":{\"type\":\"field\",\"field\":\"yrs\"},\"y\":{\"type\":\"field\",\"field\":\"avg_mag\"},\"line_color\":\"yellow\",\"line_alpha\":0.2,\"line_width\":2}}}},{\"type\":\"object\",\"name\":\"GlyphRenderer\",\"id\":\"p1366\",\"attributes\":{\"data_source\":{\"id\":\"p1296\"},\"view\":{\"type\":\"object\",\"name\":\"CDSView\",\"id\":\"p1367\",\"attributes\":{\"filter\":{\"type\":\"object\",\"name\":\"AllIndices\",\"id\":\"p1368\"}}},\"glyph\":{\"type\":\"object\",\"name\":\"Circle\",\"id\":\"p1363\",\"attributes\":{\"x\":{\"type\":\"field\",\"field\":\"yrs\"},\"y\":{\"type\":\"field\",\"field\":\"avg_mag\"},\"size\":{\"type\":\"value\",\"value\":8},\"line_color\":{\"type\":\"value\",\"value\":\"yellow\"},\"fill_color\":{\"type\":\"value\",\"value\":\"yellow\"},\"hatch_color\":{\"type\":\"value\",\"value\":\"yellow\"}}},\"nonselection_glyph\":{\"type\":\"object\",\"name\":\"Circle\",\"id\":\"p1364\",\"attributes\":{\"x\":{\"type\":\"field\",\"field\":\"yrs\"},\"y\":{\"type\":\"field\",\"field\":\"avg_mag\"},\"size\":{\"type\":\"value\",\"value\":8},\"line_color\":{\"type\":\"value\",\"value\":\"yellow\"},\"line_alpha\":{\"type\":\"value\",\"value\":0.1},\"fill_color\":{\"type\":\"value\",\"value\":\"yellow\"},\"fill_alpha\":{\"type\":\"value\",\"value\":0.1},\"hatch_color\":{\"type\":\"value\",\"value\":\"yellow\"},\"hatch_alpha\":{\"type\":\"value\",\"value\":0.1}}},\"muted_glyph\":{\"type\":\"object\",\"name\":\"Circle\",\"id\":\"p1365\",\"attributes\":{\"x\":{\"type\":\"field\",\"field\":\"yrs\"},\"y\":{\"type\":\"field\",\"field\":\"avg_mag\"},\"size\":{\"type\":\"value\",\"value\":8},\"line_color\":{\"type\":\"value\",\"value\":\"yellow\"},\"line_alpha\":{\"type\":\"value\",\"value\":0.2},\"fill_color\":{\"type\":\"value\",\"value\":\"yellow\"},\"fill_alpha\":{\"type\":\"value\",\"value\":0.2},\"hatch_color\":{\"type\":\"value\",\"value\":\"yellow\"},\"hatch_alpha\":{\"type\":\"value\",\"value\":0.2}}}}}],\"toolbar\":{\"type\":\"object\",\"name\":\"Toolbar\",\"id\":\"p1308\",\"attributes\":{\"tools\":[{\"id\":\"p1322\"},{\"id\":\"p1323\"},{\"id\":\"p1324\"},{\"type\":\"object\",\"name\":\"SaveTool\",\"id\":\"p1326\"},{\"id\":\"p1327\"},{\"id\":\"p1328\"},{\"id\":\"p1329\"}]}},\"toolbar_location\":null,\"left\":[{\"type\":\"object\",\"name\":\"LinearAxis\",\"id\":\"p1317\",\"attributes\":{\"ticker\":{\"type\":\"object\",\"name\":\"BasicTicker\",\"id\":\"p1318\",\"attributes\":{\"mantissas\":[1,2,5]}},\"formatter\":{\"type\":\"object\",\"name\":\"BasicTickFormatter\",\"id\":\"p1319\"},\"axis_label\":\"Magnitude\",\"axis_label_standoff\":10,\"axis_label_text_color\":\"#E0E0E0\",\"axis_label_text_font\":\"Helvetica\",\"axis_label_text_font_size\":\"14pt\",\"axis_label_text_font_style\":\"bold\",\"major_label_policy\":{\"type\":\"object\",\"name\":\"AllLabels\",\"id\":\"p1320\"},\"major_label_text_color\":\"#E0E0E0\",\"major_label_text_font\":\"Helvetica\",\"major_label_text_font_size\":\"12pt\",\"axis_line_color\":\"#E0E0E0\",\"axis_line_alpha\":0,\"major_tick_line_color\":\"#E0E0E0\",\"major_tick_line_alpha\":0,\"minor_tick_line_color\":\"#E0E0E0\",\"minor_tick_line_alpha\":0}}],\"below\":[{\"type\":\"object\",\"name\":\"LinearAxis\",\"id\":\"p1312\",\"attributes\":{\"ticker\":{\"type\":\"object\",\"name\":\"BasicTicker\",\"id\":\"p1313\",\"attributes\":{\"num_minor_ticks\":2,\"mantissas\":[1,2,5]}},\"formatter\":{\"type\":\"object\",\"name\":\"BasicTickFormatter\",\"id\":\"p1314\"},\"axis_label\":\"Years\",\"axis_label_standoff\":10,\"axis_label_text_color\":\"#E0E0E0\",\"axis_label_text_font\":\"Helvetica\",\"axis_label_text_font_size\":\"14pt\",\"axis_label_text_font_style\":\"bold\",\"major_label_policy\":{\"type\":\"object\",\"name\":\"AllLabels\",\"id\":\"p1315\"},\"major_label_text_color\":\"#E0E0E0\",\"major_label_text_font\":\"Helvetica\",\"major_label_text_font_size\":\"12pt\",\"axis_line_color\":\"#E0E0E0\",\"axis_line_alpha\":0,\"major_tick_line_color\":\"#E0E0E0\",\"major_tick_line_alpha\":0,\"minor_tick_line_color\":\"#E0E0E0\",\"minor_tick_line_alpha\":0}}],\"center\":[{\"type\":\"object\",\"name\":\"Grid\",\"id\":\"p1316\",\"attributes\":{\"axis\":{\"id\":\"p1312\"},\"grid_line_color\":\"#E0E0E0\",\"grid_line_alpha\":0.25}},{\"type\":\"object\",\"name\":\"Grid\",\"id\":\"p1321\",\"attributes\":{\"dimension\":1,\"axis\":{\"id\":\"p1317\"},\"grid_line_color\":\"#E0E0E0\",\"grid_line_alpha\":0.25}},{\"type\":\"object\",\"name\":\"Legend\",\"id\":\"p1339\",\"attributes\":{\"location\":\"top_left\",\"border_line_alpha\":0,\"background_fill_color\":\"#20262B\",\"background_fill_alpha\":0.25,\"label_text_color\":\"#E0E0E0\",\"label_text_font\":\"Helvetica\",\"label_text_font_size\":\"1.025em\",\"label_standoff\":8,\"glyph_width\":15,\"spacing\":8,\"items\":[{\"type\":\"object\",\"name\":\"LegendItem\",\"id\":\"p1340\",\"attributes\":{\"label\":{\"type\":\"value\",\"value\":\"Max Magnitude\"},\"renderers\":[{\"id\":\"p1336\"}]}},{\"type\":\"object\",\"name\":\"LegendItem\",\"id\":\"p1359\",\"attributes\":{\"label\":{\"type\":\"value\",\"value\":\"Avg Magnitude\"},\"renderers\":[{\"id\":\"p1356\"}]}}]}}],\"background_fill_color\":\"#20262B\",\"border_fill_color\":\"#15191C\"}},1,1]]}}]}};\n",
       "  const render_items = [{\"docid\":\"95876b8f-1825-4eb1-8881-cd2ce6a9e49d\",\"roots\":{\"p1377\":\"cfaa3c7a-e0f2-42eb-8322-2254fe3f5e9d\"},\"root_ids\":[\"p1377\"]}];\n",
       "  root.Bokeh.embed.embed_items_notebook(docs_json, render_items);\n",
       "  }\n",
       "  if (root.Bokeh !== undefined) {\n",
       "    embed_document(root);\n",
       "  } else {\n",
       "    let attempts = 0;\n",
       "    const timer = setInterval(function(root) {\n",
       "      if (root.Bokeh !== undefined) {\n",
       "        clearInterval(timer);\n",
       "        embed_document(root);\n",
       "      } else {\n",
       "        attempts++;\n",
       "        if (attempts > 100) {\n",
       "          clearInterval(timer);\n",
       "          console.log(\"Bokeh: ERROR: Unable to run BokehJS code because BokehJS library is missing\");\n",
       "        }\n",
       "      }\n",
       "    }, 10, root)\n",
       "  }\n",
       "})(window);"
      ],
      "application/vnd.bokehjs_exec.v0+json": ""
     },
     "metadata": {
      "application/vnd.bokehjs_exec.v0+json": {
       "id": "p1377"
      }
     },
     "output_type": "display_data"
    }
   ],
   "source": [
    "# Build the grid plot\n",
    "from bokeh.layouts import gridplot\n",
    "\n",
    "# Create individual plots\n",
    "map_plot = plotMap()\n",
    "bar_plot = plotBar()\n",
    "magnitude_plot = plotMagnitude()\n",
    "\n",
    "# Make the grid\n",
    "grid = gridplot([[map_plot], [bar_plot, magnitude_plot]])\n",
    "\n",
    "# Show the grid\n",
    "show(grid)\n"
   ]
  },
  {
   "cell_type": "code",
   "execution_count": null,
   "id": "14ca4807",
   "metadata": {},
   "outputs": [],
   "source": []
  }
 ],
 "metadata": {
  "kernelspec": {
   "display_name": "Python 3 (ipykernel)",
   "language": "python",
   "name": "python3"
  },
  "language_info": {
   "codemirror_mode": {
    "name": "ipython",
    "version": 3
   },
   "file_extension": ".py",
   "mimetype": "text/x-python",
   "name": "python",
   "nbconvert_exporter": "python",
   "pygments_lexer": "ipython3",
   "version": "3.11.5"
  }
 },
 "nbformat": 4,
 "nbformat_minor": 5
}
